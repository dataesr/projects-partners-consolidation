{
 "cells": [
  {
   "cell_type": "markdown",
   "id": "02598747",
   "metadata": {},
   "source": [
    "# Traitement des données de financements "
   ]
  },
  {
   "cell_type": "code",
   "execution_count": 1,
   "id": "a59f7608",
   "metadata": {},
   "outputs": [],
   "source": [
    "#importer les packages\n",
    "import pandas as pd\n",
    "import numpy as np\n",
    "from project.server.main.utils import replace_all,get_scanR_structure,get_id\n",
    "from project.server.main.cached_data_handler import get_structure, get_person\n",
    "from project.server.main.features_into_dictionnary import persons, projects, address\n",
    "from project.server.main.id_from_orcid import orcid_to_idref\n",
    "from tqdm import tqdm\n",
    "import pprint as pp\n",
    "tqdm.pandas()\n",
    "from project.server.main.my_pickle import load_cache,write_cache\n",
    "import os\n",
    "from dotenv import load_dotenv\n",
    "import requests\n",
    "\n",
    "load_dotenv()\n",
    "\n",
    "Authorization = os.getenv('Authorization_access_185.XX')\n",
    "Authorization_ORCID = os.getenv('Authorization_cluster_BSO_ORCID')\n",
    "url_cluster = os.getenv('url_cluster')"
   ]
  },
  {
   "cell_type": "code",
   "execution_count": 2,
   "id": "b60621a0",
   "metadata": {},
   "outputs": [],
   "source": [
    "sources=pd.read_json('sources.json')"
   ]
  },
  {
   "cell_type": "code",
   "execution_count": 3,
   "id": "95e2a545",
   "metadata": {},
   "outputs": [
    {
     "data": {
      "text/plain": [
       "'ANSES'"
      ]
     },
     "execution_count": 3,
     "metadata": {},
     "output_type": "execute_result"
    }
   ],
   "source": [
    "source=list(sources.keys())[1]\n",
    "source"
   ]
  },
  {
   "cell_type": "code",
   "execution_count": 4,
   "id": "7fad3e27",
   "metadata": {},
   "outputs": [
    {
     "name": "stdout",
     "output_type": "stream",
     "text": [
      "969 data in cache\n",
      "0 data in cache\n",
      "0 data in cache\n"
     ]
    }
   ],
   "source": [
    "#cache structures, personnes et orcid avec differentes sources de donnees\n",
    "cached_data = {}\n",
    "try:\n",
    "    cached_data = load_cache(cached_data,f\"./DATA/{source}/caches/cached_{source.lower()}_data.pkl\")\n",
    "except:\n",
    "    write_cache(cached_data,f\"./DATA/{source}/caches/cached_{source.lower()}_data.pkl\")\n",
    "    \n",
    "cached_data_persons = {}\n",
    "try:\n",
    "    cached_data_persons = load_cache(cached_data_persons,f\"./DATA/{source}/caches/cached_{source.lower()}_data_persons.pkl\")\n",
    "except:\n",
    "    write_cache(cached_data_persons,f\"./DATA/{source}/caches/cached_{source.lower()}_data_persons.pkl\")\n",
    "    \n",
    "cached_data_orcid = {}\n",
    "try:\n",
    "    cached_data_orcid = load_cache(cached_data_orcid,f\"./DATA/{source}/caches/cached_{source.lower()}_data_orcid.pkl\")\n",
    "except:\n",
    "    write_cache(cached_data_orcid,f\"./DATA/{source}/caches/cached_{source.lower()}_data_orcid.pkl\")"
   ]
  },
  {
   "cell_type": "markdown",
   "id": "6bcfb200",
   "metadata": {},
   "source": [
    "# Données partenaires"
   ]
  },
  {
   "cell_type": "code",
   "execution_count": 5,
   "id": "3c82fbd0",
   "metadata": {},
   "outputs": [],
   "source": [
    "# amener les partenaires depuis le site \n",
    "if source=='ANR':\n",
    "    page_partenaires_10 = requests.get(sources[source]['url_partners']).json()\n",
    "    colonnes_partenaires_10 = page_partenaires_10['columns']\n",
    "    donnees_partenaires_10 = page_partenaires_10['data']\n",
    "    df_partenaires=pd.DataFrame(data=donnees_partenaires_10,columns=colonnes_partenaires_10)\n",
    "elif source=='ANSES':\n",
    "    df_from_anses=pd.read_excel(sources[source]['url_partners'])\n",
    "    df=df_from_anses.iloc[1:,:]\n",
    "    df.columns=list(df_from_anses.iloc[0,:])\n",
    "    dict_equipe={list(df_from_anses.columns)[k].replace('Équipe 10 ','Équipe 10').replace('Équipe13','Équipe 13'):k for k in range (len(list(df_from_anses.columns))) if list(df_from_anses.columns)[k].find('Équipe')>=0}\n",
    "    list_df=[]\n",
    "    number=3\n",
    "    for n in range(1,len(dict_equipe)+1):\n",
    "        equipe_n=pd.concat([df.iloc[:,0:3],df.iloc[:,number:number+6]], axis=1)\n",
    "        list_df.append(equipe_n)\n",
    "        number+=6\n",
    "    df_partenaires=pd.concat([list_df[k].dropna(subset=[sources[source]['nom'], sources[source]['prenom'],sources[source]['nom_structure'], sources[source]['nom'], 'Pays'], how='all') for k in range(len(list_df))])\n",
    "    \n",
    "elif source=='IRESP':\n",
    "    df_partenaires1=pd.read_csv(sources[source]['url_partners1'] ,sep=\";\", encoding='UTF-8')\n",
    "    df_partenaires2=pd.read_csv(sources[source]['url_partners2'] ,sep=\";\", encoding='UTF-8')\n",
    "    df_partenaires=pd.concat([df_partenaires1,df_partenaires2])\n",
    "elif source=='ADEME':\n",
    "    df_partenaires=pd.read_csv(sources[source]['url_partners'] ,sep=\",\", encoding='ISO-8859-1', on_bad_lines='skip')\n",
    "else:    \n",
    "    df_partenaires=pd.read_csv(sources[source]['url_partners'] ,sep=\";\", encoding='ISO-8859-1')\n",
    "\n",
    "df_partenaires=df_partenaires.reset_index()\n",
    "del df_partenaires['index']"
   ]
  },
  {
   "cell_type": "markdown",
   "id": "230e93cc",
   "metadata": {},
   "source": [
    "# Matcher établissement"
   ]
  },
  {
   "cell_type": "code",
   "execution_count": 6,
   "id": "eca75cf4",
   "metadata": {},
   "outputs": [],
   "source": [
    "id_struct=df_partenaires\n",
    "id_struct[f\"{sources[source]['nom_structure']}2\"]=id_struct.loc[:,sources[source]['nom_structure']].apply(lambda x: replace_all(str(x).lower().replace(\" d e\",\" d'e\").replace(\" d a\",\" d'a\").replace(\" d i\",\" d'i\").replace(\" d o\",\" d'o\").replace(\" d u\",\" d'u\").replace(\" d y\",\" d'y\").replace(\" d h\",\" d'h\").replace(\" l e\",\" l'e\").replace(\" l a\",\" l'a\").replace(\" l i\",\" l'i\").replace(\" l o\",\" l'o\").replace(\" l u\",\" l'u\").replace(\" l y\",\" l'y\").replace(\" l h\",\" l'h\")))\n",
    "id_struct=id_struct.drop_duplicates(subset=[f\"{sources[source]['nom_structure']}2\"])"
   ]
  },
  {
   "cell_type": "code",
   "execution_count": 7,
   "id": "cc0b7e40",
   "metadata": {},
   "outputs": [
    {
     "name": "stderr",
     "output_type": "stream",
     "text": [
      "100%|██████████| 965/965 [00:03<00:00, 279.42it/s]\n"
     ]
    }
   ],
   "source": [
    "id_struct.progress_apply(lambda row: get_structure(row,source,cached_data,sources[source]['nom_structure'],sources[source]['ville'],sources[source]['pays'],sources[source]['code_projet'],False), axis=1) \n",
    "write_cache(cached_data,f\"./DATA/{source}/caches/cached_{source}_data.pkl\")"
   ]
  },
  {
   "cell_type": "code",
   "execution_count": 8,
   "id": "84ae48b2",
   "metadata": {},
   "outputs": [
    {
     "data": {
      "text/plain": [
       "970"
      ]
     },
     "execution_count": 8,
     "metadata": {},
     "output_type": "execute_result"
    }
   ],
   "source": [
    "len(cached_data)"
   ]
  },
  {
   "cell_type": "code",
   "execution_count": 9,
   "id": "feeebfff",
   "metadata": {},
   "outputs": [
    {
     "name": "stderr",
     "output_type": "stream",
     "text": [
      "C:\\Users\\haallat\\AppData\\Local\\Temp\\ipykernel_12088\\3780844401.py:1: SettingWithCopyWarning: \n",
      "A value is trying to be set on a copy of a slice from a DataFrame.\n",
      "Try using .loc[row_indexer,col_indexer] = value instead\n",
      "\n",
      "See the caveats in the documentation: https://pandas.pydata.org/pandas-docs/stable/user_guide/indexing.html#returning-a-view-versus-a-copy\n",
      "  id_struct['id_structure_matcher']=id_struct.loc[:,sources[source]['nom_structure']].apply(lambda x: cached_data[x])\n"
     ]
    }
   ],
   "source": [
    "id_struct['id_structure_matcher']=id_struct.loc[:,sources[source]['nom_structure']].apply(lambda x: cached_data[x])"
   ]
  },
  {
   "cell_type": "code",
   "execution_count": 10,
   "id": "0a6033b7",
   "metadata": {},
   "outputs": [
    {
     "data": {
      "text/html": [
       "<div>\n",
       "<style scoped>\n",
       "    .dataframe tbody tr th:only-of-type {\n",
       "        vertical-align: middle;\n",
       "    }\n",
       "\n",
       "    .dataframe tbody tr th {\n",
       "        vertical-align: top;\n",
       "    }\n",
       "\n",
       "    .dataframe thead th {\n",
       "        text-align: right;\n",
       "    }\n",
       "</style>\n",
       "<table border=\"1\" class=\"dataframe\">\n",
       "  <thead>\n",
       "    <tr style=\"text-align: right;\">\n",
       "      <th></th>\n",
       "      <th>Code convention</th>\n",
       "      <th>code convention homogénéisé</th>\n",
       "      <th>Acronyme</th>\n",
       "      <th>Nom Responsable Scientifique</th>\n",
       "      <th>Prénom Responsable Scientifique</th>\n",
       "      <th>Organisme</th>\n",
       "      <th>CP</th>\n",
       "      <th>Ville</th>\n",
       "      <th>Pays</th>\n",
       "      <th>Organisme2</th>\n",
       "      <th>id_structure_matcher</th>\n",
       "    </tr>\n",
       "  </thead>\n",
       "  <tbody>\n",
       "    <tr>\n",
       "      <th>0</th>\n",
       "      <td>2006/1/2</td>\n",
       "      <td>ANSES-06-EST-002</td>\n",
       "      <td>PAISIM</td>\n",
       "      <td>Bard</td>\n",
       "      <td>Denis</td>\n",
       "      <td>LERES (Laboratoire d’Étude et de Recherche en ...</td>\n",
       "      <td>35403</td>\n",
       "      <td>Rennes</td>\n",
       "      <td>France</td>\n",
       "      <td>lereboratoireurechercheenvironnementante</td>\n",
       "      <td>None</td>\n",
       "    </tr>\n",
       "    <tr>\n",
       "      <th>1</th>\n",
       "      <td>2006/1/3</td>\n",
       "      <td>ANSES-06-EST-003</td>\n",
       "      <td>NaN</td>\n",
       "      <td>Droz</td>\n",
       "      <td>Olivier</td>\n",
       "      <td>IST Institut universitaire romand de Santé au ...</td>\n",
       "      <td>NaN</td>\n",
       "      <td>Lausanne</td>\n",
       "      <td>Suisse</td>\n",
       "      <td>itintitutuniveritaireromandanteautravail</td>\n",
       "      <td>None</td>\n",
       "    </tr>\n",
       "    <tr>\n",
       "      <th>2</th>\n",
       "      <td>2006/1/6</td>\n",
       "      <td>ANSES-06-EST-006</td>\n",
       "      <td>NaN</td>\n",
       "      <td>Frimat</td>\n",
       "      <td>Paul</td>\n",
       "      <td>Faculté de Médecine - Université Lille 2 - Lab...</td>\n",
       "      <td>59037</td>\n",
       "      <td>Lille</td>\n",
       "      <td>France</td>\n",
       "      <td>facultemecineuniveritelle2boratoiremecineantea...</td>\n",
       "      <td>[199814194S]</td>\n",
       "    </tr>\n",
       "    <tr>\n",
       "      <th>3</th>\n",
       "      <td>2006/1/7</td>\n",
       "      <td>ANSES-06-EST-007</td>\n",
       "      <td>NaN</td>\n",
       "      <td>Sauvain</td>\n",
       "      <td>Jean-Jacques</td>\n",
       "      <td>Groupe Particule et santé - Pôle Santé des Tra...</td>\n",
       "      <td>NaN</td>\n",
       "      <td>Lausanne</td>\n",
       "      <td>Suisse</td>\n",
       "      <td>groupeiculeantepoleantravailleur</td>\n",
       "      <td>None</td>\n",
       "    </tr>\n",
       "    <tr>\n",
       "      <th>4</th>\n",
       "      <td>2006/1/8</td>\n",
       "      <td>ANSES-06-EST-008</td>\n",
       "      <td>CATHY</td>\n",
       "      <td>Guénel</td>\n",
       "      <td>Pascal</td>\n",
       "      <td>U754 - Epidémiologie environnementale des cancers</td>\n",
       "      <td>94807</td>\n",
       "      <td>Villejuif</td>\n",
       "      <td>France</td>\n",
       "      <td>u754epimiologieenvironnementalecancer</td>\n",
       "      <td>[200616425G]</td>\n",
       "    </tr>\n",
       "    <tr>\n",
       "      <th>...</th>\n",
       "      <td>...</td>\n",
       "      <td>...</td>\n",
       "      <td>...</td>\n",
       "      <td>...</td>\n",
       "      <td>...</td>\n",
       "      <td>...</td>\n",
       "      <td>...</td>\n",
       "      <td>...</td>\n",
       "      <td>...</td>\n",
       "      <td>...</td>\n",
       "      <td>...</td>\n",
       "    </tr>\n",
       "    <tr>\n",
       "      <th>1727</th>\n",
       "      <td>EST/2017/2 RF/15</td>\n",
       "      <td>ANSES-17-RF-15</td>\n",
       "      <td>Coriolis</td>\n",
       "      <td>Conil</td>\n",
       "      <td>Emmanuelle</td>\n",
       "      <td>Agence nationale des fréquences</td>\n",
       "      <td>94704</td>\n",
       "      <td>Maisons-Alfort</td>\n",
       "      <td>France</td>\n",
       "      <td>agencenationalefrequence</td>\n",
       "      <td>None</td>\n",
       "    </tr>\n",
       "    <tr>\n",
       "      <th>1729</th>\n",
       "      <td>EST-2009/1/101</td>\n",
       "      <td>ANSES-09-EST-101</td>\n",
       "      <td>MB2PROF</td>\n",
       "      <td>Ghaleh-Marzban</td>\n",
       "      <td>Bijan</td>\n",
       "      <td>Plateforme des ressources biologiques</td>\n",
       "      <td>94000</td>\n",
       "      <td>Créteil</td>\n",
       "      <td>France</td>\n",
       "      <td>plateformereourcebiologique</td>\n",
       "      <td>None</td>\n",
       "    </tr>\n",
       "    <tr>\n",
       "      <th>1731</th>\n",
       "      <td>2020/01/245</td>\n",
       "      <td>ANSES-20-EST-245</td>\n",
       "      <td>PESTINTER</td>\n",
       "      <td>Bec</td>\n",
       "      <td>Alexandre</td>\n",
       "      <td>63178</td>\n",
       "      <td>Aubière</td>\n",
       "      <td>France</td>\n",
       "      <td>NaN</td>\n",
       "      <td>63178</td>\n",
       "      <td>None</td>\n",
       "    </tr>\n",
       "    <tr>\n",
       "      <th>1732</th>\n",
       "      <td>EST-2009/1/101</td>\n",
       "      <td>ANSES-09-EST-101</td>\n",
       "      <td>MB2PROF</td>\n",
       "      <td>Montagne</td>\n",
       "      <td>Olivier</td>\n",
       "      <td>Centre d'investigation Clinique 006 Créteil</td>\n",
       "      <td>94000</td>\n",
       "      <td>Créteil</td>\n",
       "      <td>France</td>\n",
       "      <td>centrenvigationclinique006creil</td>\n",
       "      <td>None</td>\n",
       "    </tr>\n",
       "    <tr>\n",
       "      <th>1735</th>\n",
       "      <td>EST-2009/1/101</td>\n",
       "      <td>ANSES-09-EST-101</td>\n",
       "      <td>MB2PROF</td>\n",
       "      <td>Boczkowski</td>\n",
       "      <td>Jorge</td>\n",
       "      <td>Université Paris 12 - Faculté de Médecine</td>\n",
       "      <td>94000</td>\n",
       "      <td>Créteil</td>\n",
       "      <td>France</td>\n",
       "      <td>univeritepari12facultemecine</td>\n",
       "      <td>None</td>\n",
       "    </tr>\n",
       "  </tbody>\n",
       "</table>\n",
       "<p>965 rows × 11 columns</p>\n",
       "</div>"
      ],
      "text/plain": [
       "       Code convention code convention homogénéisé   Acronyme  \\\n",
       "0             2006/1/2            ANSES-06-EST-002     PAISIM   \n",
       "1             2006/1/3            ANSES-06-EST-003        NaN   \n",
       "2             2006/1/6            ANSES-06-EST-006        NaN   \n",
       "3             2006/1/7            ANSES-06-EST-007        NaN   \n",
       "4             2006/1/8            ANSES-06-EST-008      CATHY   \n",
       "...                ...                         ...        ...   \n",
       "1727  EST/2017/2 RF/15              ANSES-17-RF-15   Coriolis   \n",
       "1729    EST-2009/1/101            ANSES-09-EST-101    MB2PROF   \n",
       "1731       2020/01/245            ANSES-20-EST-245  PESTINTER   \n",
       "1732    EST-2009/1/101            ANSES-09-EST-101    MB2PROF   \n",
       "1735    EST-2009/1/101            ANSES-09-EST-101    MB2PROF   \n",
       "\n",
       "     Nom Responsable Scientifique Prénom Responsable Scientifique  \\\n",
       "0                            Bard                          Denis    \n",
       "1                            Droz                        Olivier    \n",
       "2                          Frimat                           Paul    \n",
       "3                         Sauvain                    Jean-Jacques   \n",
       "4                          Guénel                         Pascal    \n",
       "...                           ...                             ...   \n",
       "1727                        Conil                      Emmanuelle   \n",
       "1729               Ghaleh-Marzban                           Bijan   \n",
       "1731                          Bec                       Alexandre   \n",
       "1732                     Montagne                         Olivier   \n",
       "1735                   Boczkowski                           Jorge   \n",
       "\n",
       "                                              Organisme      CP   \\\n",
       "0     LERES (Laboratoire d’Étude et de Recherche en ...    35403   \n",
       "1     IST Institut universitaire romand de Santé au ...      NaN   \n",
       "2     Faculté de Médecine - Université Lille 2 - Lab...    59037   \n",
       "3     Groupe Particule et santé - Pôle Santé des Tra...      NaN   \n",
       "4     U754 - Epidémiologie environnementale des cancers    94807   \n",
       "...                                                 ...      ...   \n",
       "1727                    Agence nationale des fréquences    94704   \n",
       "1729              Plateforme des ressources biologiques    94000   \n",
       "1731                                              63178  Aubière   \n",
       "1732        Centre d'investigation Clinique 006 Créteil    94000   \n",
       "1735          Université Paris 12 - Faculté de Médecine    94000   \n",
       "\n",
       "               Ville    Pays  \\\n",
       "0             Rennes  France   \n",
       "1           Lausanne  Suisse   \n",
       "2              Lille  France   \n",
       "3           Lausanne  Suisse   \n",
       "4          Villejuif  France   \n",
       "...              ...     ...   \n",
       "1727  Maisons-Alfort  France   \n",
       "1729         Créteil  France   \n",
       "1731          France     NaN   \n",
       "1732         Créteil  France   \n",
       "1735         Créteil  France   \n",
       "\n",
       "                                             Organisme2 id_structure_matcher  \n",
       "0              lereboratoireurechercheenvironnementante                 None  \n",
       "1              itintitutuniveritaireromandanteautravail                 None  \n",
       "2     facultemecineuniveritelle2boratoiremecineantea...         [199814194S]  \n",
       "3                      groupeiculeantepoleantravailleur                 None  \n",
       "4                 u754epimiologieenvironnementalecancer         [200616425G]  \n",
       "...                                                 ...                  ...  \n",
       "1727                           agencenationalefrequence                 None  \n",
       "1729                        plateformereourcebiologique                 None  \n",
       "1731                                              63178                 None  \n",
       "1732                    centrenvigationclinique006creil                 None  \n",
       "1735                       univeritepari12facultemecine                 None  \n",
       "\n",
       "[965 rows x 11 columns]"
      ]
     },
     "execution_count": 10,
     "metadata": {},
     "output_type": "execute_result"
    }
   ],
   "source": [
    "id_struct"
   ]
  },
  {
   "cell_type": "code",
   "execution_count": 11,
   "id": "d968cf8c",
   "metadata": {},
   "outputs": [],
   "source": [
    "id_struct=id_struct.reset_index()\n",
    "del id_struct['index']\n",
    "id_struct.to_excel(f\"./DATA/{source}/df_partenaires.xlsx\")\n",
    "id_struct.to_json(f\"./DATA/{source}/df_partenaires.json\")"
   ]
  },
  {
   "cell_type": "code",
   "execution_count": 12,
   "id": "5f3afeca",
   "metadata": {},
   "outputs": [
    {
     "data": {
      "text/html": [
       "<div>\n",
       "<style scoped>\n",
       "    .dataframe tbody tr th:only-of-type {\n",
       "        vertical-align: middle;\n",
       "    }\n",
       "\n",
       "    .dataframe tbody tr th {\n",
       "        vertical-align: top;\n",
       "    }\n",
       "\n",
       "    .dataframe thead th {\n",
       "        text-align: right;\n",
       "    }\n",
       "</style>\n",
       "<table border=\"1\" class=\"dataframe\">\n",
       "  <thead>\n",
       "    <tr style=\"text-align: right;\">\n",
       "      <th></th>\n",
       "      <th>Code convention</th>\n",
       "      <th>code convention homogénéisé</th>\n",
       "      <th>Acronyme</th>\n",
       "      <th>Nom Responsable Scientifique</th>\n",
       "      <th>Prénom Responsable Scientifique</th>\n",
       "      <th>Organisme</th>\n",
       "      <th>CP</th>\n",
       "      <th>Ville</th>\n",
       "      <th>Pays</th>\n",
       "      <th>Organisme2</th>\n",
       "      <th>id_structure_matcher</th>\n",
       "    </tr>\n",
       "  </thead>\n",
       "  <tbody>\n",
       "    <tr>\n",
       "      <th>0</th>\n",
       "      <td>2006/1/2</td>\n",
       "      <td>ANSES-06-EST-002</td>\n",
       "      <td>PAISIM</td>\n",
       "      <td>Bard</td>\n",
       "      <td>Denis</td>\n",
       "      <td>LERES (Laboratoire d’Étude et de Recherche en ...</td>\n",
       "      <td>35403</td>\n",
       "      <td>Rennes</td>\n",
       "      <td>France</td>\n",
       "      <td>lereboratoireurechercheenvironnementante</td>\n",
       "      <td>None</td>\n",
       "    </tr>\n",
       "    <tr>\n",
       "      <th>1</th>\n",
       "      <td>2006/1/3</td>\n",
       "      <td>ANSES-06-EST-003</td>\n",
       "      <td>NaN</td>\n",
       "      <td>Droz</td>\n",
       "      <td>Olivier</td>\n",
       "      <td>IST Institut universitaire romand de Santé au ...</td>\n",
       "      <td>NaN</td>\n",
       "      <td>Lausanne</td>\n",
       "      <td>Suisse</td>\n",
       "      <td>itintitutuniveritaireromandanteautravail</td>\n",
       "      <td>None</td>\n",
       "    </tr>\n",
       "    <tr>\n",
       "      <th>2</th>\n",
       "      <td>2006/1/6</td>\n",
       "      <td>ANSES-06-EST-006</td>\n",
       "      <td>NaN</td>\n",
       "      <td>Frimat</td>\n",
       "      <td>Paul</td>\n",
       "      <td>Faculté de Médecine - Université Lille 2 - Lab...</td>\n",
       "      <td>59037</td>\n",
       "      <td>Lille</td>\n",
       "      <td>France</td>\n",
       "      <td>facultemecineuniveritelle2boratoiremecineantea...</td>\n",
       "      <td>[199814194S]</td>\n",
       "    </tr>\n",
       "    <tr>\n",
       "      <th>3</th>\n",
       "      <td>2006/1/7</td>\n",
       "      <td>ANSES-06-EST-007</td>\n",
       "      <td>NaN</td>\n",
       "      <td>Sauvain</td>\n",
       "      <td>Jean-Jacques</td>\n",
       "      <td>Groupe Particule et santé - Pôle Santé des Tra...</td>\n",
       "      <td>NaN</td>\n",
       "      <td>Lausanne</td>\n",
       "      <td>Suisse</td>\n",
       "      <td>groupeiculeantepoleantravailleur</td>\n",
       "      <td>None</td>\n",
       "    </tr>\n",
       "    <tr>\n",
       "      <th>4</th>\n",
       "      <td>2006/1/8</td>\n",
       "      <td>ANSES-06-EST-008</td>\n",
       "      <td>CATHY</td>\n",
       "      <td>Guénel</td>\n",
       "      <td>Pascal</td>\n",
       "      <td>U754 - Epidémiologie environnementale des cancers</td>\n",
       "      <td>94807</td>\n",
       "      <td>Villejuif</td>\n",
       "      <td>France</td>\n",
       "      <td>u754epimiologieenvironnementalecancer</td>\n",
       "      <td>[200616425G]</td>\n",
       "    </tr>\n",
       "    <tr>\n",
       "      <th>...</th>\n",
       "      <td>...</td>\n",
       "      <td>...</td>\n",
       "      <td>...</td>\n",
       "      <td>...</td>\n",
       "      <td>...</td>\n",
       "      <td>...</td>\n",
       "      <td>...</td>\n",
       "      <td>...</td>\n",
       "      <td>...</td>\n",
       "      <td>...</td>\n",
       "      <td>...</td>\n",
       "    </tr>\n",
       "    <tr>\n",
       "      <th>1732</th>\n",
       "      <td>EST-2009/1/101</td>\n",
       "      <td>ANSES-09-EST-101</td>\n",
       "      <td>MB2PROF</td>\n",
       "      <td>Montagne</td>\n",
       "      <td>Olivier</td>\n",
       "      <td>Centre d'investigation Clinique 006 Créteil</td>\n",
       "      <td>94000</td>\n",
       "      <td>Créteil</td>\n",
       "      <td>France</td>\n",
       "      <td>centrenvigationclinique006creil</td>\n",
       "      <td>None</td>\n",
       "    </tr>\n",
       "    <tr>\n",
       "      <th>1733</th>\n",
       "      <td>2013/01/216</td>\n",
       "      <td>ANSES-13-EST-216</td>\n",
       "      <td>PATER</td>\n",
       "      <td>Malherbe</td>\n",
       "      <td>Laure</td>\n",
       "      <td>Ineris</td>\n",
       "      <td>60550</td>\n",
       "      <td>Verneuil-en-Halatte</td>\n",
       "      <td>France</td>\n",
       "      <td>ineri</td>\n",
       "      <td>None</td>\n",
       "    </tr>\n",
       "    <tr>\n",
       "      <th>1734</th>\n",
       "      <td>EST-2009/1/101</td>\n",
       "      <td>ANSES-09-EST-101</td>\n",
       "      <td>MB2PROF</td>\n",
       "      <td>Paradis</td>\n",
       "      <td>Valérie</td>\n",
       "      <td>NaN</td>\n",
       "      <td>92110</td>\n",
       "      <td>Clichy</td>\n",
       "      <td>France</td>\n",
       "      <td>nan</td>\n",
       "      <td>None</td>\n",
       "    </tr>\n",
       "    <tr>\n",
       "      <th>1735</th>\n",
       "      <td>EST-2009/1/101</td>\n",
       "      <td>ANSES-09-EST-101</td>\n",
       "      <td>MB2PROF</td>\n",
       "      <td>Boczkowski</td>\n",
       "      <td>Jorge</td>\n",
       "      <td>Université Paris 12 - Faculté de Médecine</td>\n",
       "      <td>94000</td>\n",
       "      <td>Créteil</td>\n",
       "      <td>France</td>\n",
       "      <td>univeritepari12facultemecine</td>\n",
       "      <td>None</td>\n",
       "    </tr>\n",
       "    <tr>\n",
       "      <th>1736</th>\n",
       "      <td>EST-2009/1/101</td>\n",
       "      <td>ANSES-09-EST-101</td>\n",
       "      <td>MB2PROF</td>\n",
       "      <td>Gueant</td>\n",
       "      <td>Jean-Louis</td>\n",
       "      <td>Faculté de Médecine</td>\n",
       "      <td>54505</td>\n",
       "      <td>Vandoeuvre-lès-Nancy</td>\n",
       "      <td>France</td>\n",
       "      <td>facultemecine</td>\n",
       "      <td>None</td>\n",
       "    </tr>\n",
       "  </tbody>\n",
       "</table>\n",
       "<p>1737 rows × 11 columns</p>\n",
       "</div>"
      ],
      "text/plain": [
       "     Code convention code convention homogénéisé Acronyme  \\\n",
       "0           2006/1/2            ANSES-06-EST-002   PAISIM   \n",
       "1           2006/1/3            ANSES-06-EST-003      NaN   \n",
       "2           2006/1/6            ANSES-06-EST-006      NaN   \n",
       "3           2006/1/7            ANSES-06-EST-007      NaN   \n",
       "4           2006/1/8            ANSES-06-EST-008    CATHY   \n",
       "...              ...                         ...      ...   \n",
       "1732  EST-2009/1/101            ANSES-09-EST-101  MB2PROF   \n",
       "1733     2013/01/216            ANSES-13-EST-216    PATER   \n",
       "1734  EST-2009/1/101            ANSES-09-EST-101  MB2PROF   \n",
       "1735  EST-2009/1/101            ANSES-09-EST-101  MB2PROF   \n",
       "1736  EST-2009/1/101            ANSES-09-EST-101  MB2PROF   \n",
       "\n",
       "     Nom Responsable Scientifique Prénom Responsable Scientifique  \\\n",
       "0                            Bard                          Denis    \n",
       "1                            Droz                        Olivier    \n",
       "2                          Frimat                           Paul    \n",
       "3                         Sauvain                    Jean-Jacques   \n",
       "4                          Guénel                         Pascal    \n",
       "...                           ...                             ...   \n",
       "1732                     Montagne                         Olivier   \n",
       "1733                     Malherbe                           Laure   \n",
       "1734                      Paradis                         Valérie   \n",
       "1735                   Boczkowski                           Jorge   \n",
       "1736                       Gueant                      Jean-Louis   \n",
       "\n",
       "                                              Organisme    CP   \\\n",
       "0     LERES (Laboratoire d’Étude et de Recherche en ...  35403   \n",
       "1     IST Institut universitaire romand de Santé au ...    NaN   \n",
       "2     Faculté de Médecine - Université Lille 2 - Lab...  59037   \n",
       "3     Groupe Particule et santé - Pôle Santé des Tra...    NaN   \n",
       "4     U754 - Epidémiologie environnementale des cancers  94807   \n",
       "...                                                 ...    ...   \n",
       "1732        Centre d'investigation Clinique 006 Créteil  94000   \n",
       "1733                                             Ineris  60550   \n",
       "1734                                                NaN  92110   \n",
       "1735          Université Paris 12 - Faculté de Médecine  94000   \n",
       "1736                                Faculté de Médecine  54505   \n",
       "\n",
       "                     Ville    Pays  \\\n",
       "0                   Rennes  France   \n",
       "1                 Lausanne  Suisse   \n",
       "2                    Lille  France   \n",
       "3                 Lausanne  Suisse   \n",
       "4                Villejuif  France   \n",
       "...                    ...     ...   \n",
       "1732               Créteil  France   \n",
       "1733   Verneuil-en-Halatte  France   \n",
       "1734                Clichy  France   \n",
       "1735               Créteil  France   \n",
       "1736  Vandoeuvre-lès-Nancy  France   \n",
       "\n",
       "                                             Organisme2 id_structure_matcher  \n",
       "0              lereboratoireurechercheenvironnementante                 None  \n",
       "1              itintitutuniveritaireromandanteautravail                 None  \n",
       "2     facultemecineuniveritelle2boratoiremecineantea...         [199814194S]  \n",
       "3                      groupeiculeantepoleantravailleur                 None  \n",
       "4                 u754epimiologieenvironnementalecancer         [200616425G]  \n",
       "...                                                 ...                  ...  \n",
       "1732                    centrenvigationclinique006creil                 None  \n",
       "1733                                              ineri                 None  \n",
       "1734                                                nan                 None  \n",
       "1735                       univeritepari12facultemecine                 None  \n",
       "1736                                      facultemecine                 None  \n",
       "\n",
       "[1737 rows x 11 columns]"
      ]
     },
     "execution_count": 12,
     "metadata": {},
     "output_type": "execute_result"
    }
   ],
   "source": [
    "id_struct=pd.read_json(f\"./DATA/{source}/df_partenaires.json\")\n",
    "id_struct=id_struct[[sources[source]['nom_structure'],'id_structure_matcher']]\n",
    "id_struct[f\"{sources[source]['nom_structure']}2\"]=id_struct.loc[:,sources[source]['nom_structure']].apply(lambda x: replace_all(str(x).lower().replace(\" d e\",\" d'e\").replace(\" d a\",\" d'a\").replace(\" d i\",\" d'i\").replace(\" d o\",\" d'o\").replace(\" d u\",\" d'u\").replace(\" d y\",\" d'y\").replace(\" d h\",\" d'h\").replace(\" l e\",\" l'e\").replace(\" l a\",\" l'a\").replace(\" l i\",\" l'i\").replace(\" l o\",\" l'o\").replace(\" l u\",\" l'u\").replace(\" l y\",\" l'y\").replace(\" l h\",\" l'h\")))\n",
    "\n",
    "df_partenaires[f\"{sources[source]['nom_structure']}2\"]=df_partenaires.loc[:,sources[source]['nom_structure']].apply(lambda x: replace_all(str(x).lower().replace(\" d e\",\" d'e\").replace(\" d a\",\" d'a\").replace(\" d i\",\" d'i\").replace(\" d o\",\" d'o\").replace(\" d u\",\" d'u\").replace(\" d y\",\" d'y\").replace(\" d h\",\" d'h\").replace(\" l e\",\" l'e\").replace(\" l a\",\" l'a\").replace(\" l i\",\" l'i\").replace(\" l o\",\" l'o\").replace(\" l u\",\" l'u\").replace(\" l y\",\" l'y\").replace(\" l h\",\" l'h\")))\n",
    "df_partenaires_struct=pd.merge(df_partenaires,id_struct[[f\"{sources[source]['nom_structure']}2\",'id_structure_matcher']], on=f\"{sources[source]['nom_structure']}2\", how='left')\n",
    "df_partenaires_struct"
   ]
  },
  {
   "cell_type": "code",
   "execution_count": 13,
   "id": "d5f9b64f",
   "metadata": {},
   "outputs": [
    {
     "name": "stderr",
     "output_type": "stream",
     "text": [
      "C:\\Users\\haallat\\AppData\\Local\\Temp\\ipykernel_12088\\450009379.py:14: SettingWithCopyWarning: \n",
      "A value is trying to be set on a copy of a slice from a DataFrame.\n",
      "Try using .loc[row_indexer,col_indexer] = value instead\n",
      "\n",
      "See the caveats in the documentation: https://pandas.pydata.org/pandas-docs/stable/user_guide/indexing.html#returning-a-view-versus-a-copy\n",
      "  scanR_nettoye[f\"{sources[source]['nom_structure']}2\"]=scanR_nettoye.loc[:,'nom_struct'].apply(lambda x: replace_all(str(x).lower()))\n"
     ]
    }
   ],
   "source": [
    "#compléter les données avec scanR\n",
    "url_scanr='https://storage.gra.cloud.ovh.net/v1/AUTH_32c5d10cb0fe4519b957064a111717e3/scanR/projects.json'\n",
    "requete_scanR = requests.get(url_scanr)\n",
    "page_scanR= requete_scanR.json()\n",
    "df_scanR=pd.DataFrame(page_scanR)\n",
    "scanR=df_scanR.explode('participants').loc[:,['id','participants']]\n",
    "scanR=scanR.rename(columns={'id':'id_anr'})\n",
    "scanR['index']=[x for x in range(len(scanR))]\n",
    "scanR=scanR.set_index('index')\n",
    "scanR['id_structure_scanr']=scanR['participants'].apply(lambda x: x.get(str('structure')) if isinstance(x, dict) else None )\n",
    "scanR['nom_struct']=scanR['participants'].apply(lambda x: get_scanR_structure(x))\n",
    "del scanR['participants']\n",
    "scanR_nettoye=scanR.drop_duplicates(subset='nom_struct')\n",
    "scanR_nettoye[f\"{sources[source]['nom_structure']}2\"]=scanR_nettoye.loc[:,'nom_struct'].apply(lambda x: replace_all(str(x).lower()))\n",
    "scanR_nettoye=scanR_nettoye[['id_structure_scanr',f\"{sources[source]['nom_structure']}2\"]]\n",
    "scanR_nettoye=scanR_nettoye.drop_duplicates(subset=f\"{sources[source]['nom_structure']}2\")"
   ]
  },
  {
   "cell_type": "code",
   "execution_count": 14,
   "id": "ed71b425",
   "metadata": {},
   "outputs": [
    {
     "data": {
      "text/html": [
       "<div>\n",
       "<style scoped>\n",
       "    .dataframe tbody tr th:only-of-type {\n",
       "        vertical-align: middle;\n",
       "    }\n",
       "\n",
       "    .dataframe tbody tr th {\n",
       "        vertical-align: top;\n",
       "    }\n",
       "\n",
       "    .dataframe thead th {\n",
       "        text-align: right;\n",
       "    }\n",
       "</style>\n",
       "<table border=\"1\" class=\"dataframe\">\n",
       "  <thead>\n",
       "    <tr style=\"text-align: right;\">\n",
       "      <th></th>\n",
       "      <th>Code convention</th>\n",
       "      <th>code convention homogénéisé</th>\n",
       "      <th>Acronyme</th>\n",
       "      <th>Nom Responsable Scientifique</th>\n",
       "      <th>Prénom Responsable Scientifique</th>\n",
       "      <th>Organisme</th>\n",
       "      <th>CP</th>\n",
       "      <th>Ville</th>\n",
       "      <th>Pays</th>\n",
       "      <th>Organisme2</th>\n",
       "      <th>id_structure_matcher</th>\n",
       "      <th>id_structure_scanr</th>\n",
       "    </tr>\n",
       "  </thead>\n",
       "  <tbody>\n",
       "    <tr>\n",
       "      <th>0</th>\n",
       "      <td>2006/1/2</td>\n",
       "      <td>ANSES-06-EST-002</td>\n",
       "      <td>PAISIM</td>\n",
       "      <td>Bard</td>\n",
       "      <td>Denis</td>\n",
       "      <td>LERES (Laboratoire d’Étude et de Recherche en ...</td>\n",
       "      <td>35403</td>\n",
       "      <td>Rennes</td>\n",
       "      <td>France</td>\n",
       "      <td>lereboratoireurechercheenvironnementante</td>\n",
       "      <td>None</td>\n",
       "      <td>NaN</td>\n",
       "    </tr>\n",
       "    <tr>\n",
       "      <th>1</th>\n",
       "      <td>2006/1/3</td>\n",
       "      <td>ANSES-06-EST-003</td>\n",
       "      <td>NaN</td>\n",
       "      <td>Droz</td>\n",
       "      <td>Olivier</td>\n",
       "      <td>IST Institut universitaire romand de Santé au ...</td>\n",
       "      <td>NaN</td>\n",
       "      <td>Lausanne</td>\n",
       "      <td>Suisse</td>\n",
       "      <td>itintitutuniveritaireromandanteautravail</td>\n",
       "      <td>None</td>\n",
       "      <td>NaN</td>\n",
       "    </tr>\n",
       "    <tr>\n",
       "      <th>2</th>\n",
       "      <td>2006/1/6</td>\n",
       "      <td>ANSES-06-EST-006</td>\n",
       "      <td>NaN</td>\n",
       "      <td>Frimat</td>\n",
       "      <td>Paul</td>\n",
       "      <td>Faculté de Médecine - Université Lille 2 - Lab...</td>\n",
       "      <td>59037</td>\n",
       "      <td>Lille</td>\n",
       "      <td>France</td>\n",
       "      <td>facultemecineuniveritelle2boratoiremecineantea...</td>\n",
       "      <td>[199814194S]</td>\n",
       "      <td>NaN</td>\n",
       "    </tr>\n",
       "    <tr>\n",
       "      <th>3</th>\n",
       "      <td>2006/1/7</td>\n",
       "      <td>ANSES-06-EST-007</td>\n",
       "      <td>NaN</td>\n",
       "      <td>Sauvain</td>\n",
       "      <td>Jean-Jacques</td>\n",
       "      <td>Groupe Particule et santé - Pôle Santé des Tra...</td>\n",
       "      <td>NaN</td>\n",
       "      <td>Lausanne</td>\n",
       "      <td>Suisse</td>\n",
       "      <td>groupeiculeantepoleantravailleur</td>\n",
       "      <td>None</td>\n",
       "      <td>NaN</td>\n",
       "    </tr>\n",
       "    <tr>\n",
       "      <th>4</th>\n",
       "      <td>2006/1/8</td>\n",
       "      <td>ANSES-06-EST-008</td>\n",
       "      <td>CATHY</td>\n",
       "      <td>Guénel</td>\n",
       "      <td>Pascal</td>\n",
       "      <td>U754 - Epidémiologie environnementale des cancers</td>\n",
       "      <td>94807</td>\n",
       "      <td>Villejuif</td>\n",
       "      <td>France</td>\n",
       "      <td>u754epimiologieenvironnementalecancer</td>\n",
       "      <td>[200616425G]</td>\n",
       "      <td>NaN</td>\n",
       "    </tr>\n",
       "    <tr>\n",
       "      <th>...</th>\n",
       "      <td>...</td>\n",
       "      <td>...</td>\n",
       "      <td>...</td>\n",
       "      <td>...</td>\n",
       "      <td>...</td>\n",
       "      <td>...</td>\n",
       "      <td>...</td>\n",
       "      <td>...</td>\n",
       "      <td>...</td>\n",
       "      <td>...</td>\n",
       "      <td>...</td>\n",
       "      <td>...</td>\n",
       "    </tr>\n",
       "    <tr>\n",
       "      <th>1732</th>\n",
       "      <td>EST-2009/1/101</td>\n",
       "      <td>ANSES-09-EST-101</td>\n",
       "      <td>MB2PROF</td>\n",
       "      <td>Montagne</td>\n",
       "      <td>Olivier</td>\n",
       "      <td>Centre d'investigation Clinique 006 Créteil</td>\n",
       "      <td>94000</td>\n",
       "      <td>Créteil</td>\n",
       "      <td>France</td>\n",
       "      <td>centrenvigationclinique006creil</td>\n",
       "      <td>None</td>\n",
       "      <td>NaN</td>\n",
       "    </tr>\n",
       "    <tr>\n",
       "      <th>1733</th>\n",
       "      <td>2013/01/216</td>\n",
       "      <td>ANSES-13-EST-216</td>\n",
       "      <td>PATER</td>\n",
       "      <td>Malherbe</td>\n",
       "      <td>Laure</td>\n",
       "      <td>Ineris</td>\n",
       "      <td>60550</td>\n",
       "      <td>Verneuil-en-Halatte</td>\n",
       "      <td>France</td>\n",
       "      <td>ineri</td>\n",
       "      <td>None</td>\n",
       "      <td>NaN</td>\n",
       "    </tr>\n",
       "    <tr>\n",
       "      <th>1734</th>\n",
       "      <td>EST-2009/1/101</td>\n",
       "      <td>ANSES-09-EST-101</td>\n",
       "      <td>MB2PROF</td>\n",
       "      <td>Paradis</td>\n",
       "      <td>Valérie</td>\n",
       "      <td>NaN</td>\n",
       "      <td>92110</td>\n",
       "      <td>Clichy</td>\n",
       "      <td>France</td>\n",
       "      <td>nan</td>\n",
       "      <td>NaN</td>\n",
       "      <td>NaN</td>\n",
       "    </tr>\n",
       "    <tr>\n",
       "      <th>1735</th>\n",
       "      <td>EST-2009/1/101</td>\n",
       "      <td>ANSES-09-EST-101</td>\n",
       "      <td>MB2PROF</td>\n",
       "      <td>Boczkowski</td>\n",
       "      <td>Jorge</td>\n",
       "      <td>Université Paris 12 - Faculté de Médecine</td>\n",
       "      <td>94000</td>\n",
       "      <td>Créteil</td>\n",
       "      <td>France</td>\n",
       "      <td>univeritepari12facultemecine</td>\n",
       "      <td>None</td>\n",
       "      <td>NaN</td>\n",
       "    </tr>\n",
       "    <tr>\n",
       "      <th>1736</th>\n",
       "      <td>EST-2009/1/101</td>\n",
       "      <td>ANSES-09-EST-101</td>\n",
       "      <td>MB2PROF</td>\n",
       "      <td>Gueant</td>\n",
       "      <td>Jean-Louis</td>\n",
       "      <td>Faculté de Médecine</td>\n",
       "      <td>54505</td>\n",
       "      <td>Vandoeuvre-lès-Nancy</td>\n",
       "      <td>France</td>\n",
       "      <td>facultemecine</td>\n",
       "      <td>None</td>\n",
       "      <td>NaN</td>\n",
       "    </tr>\n",
       "  </tbody>\n",
       "</table>\n",
       "<p>1737 rows × 12 columns</p>\n",
       "</div>"
      ],
      "text/plain": [
       "     Code convention code convention homogénéisé Acronyme  \\\n",
       "0           2006/1/2            ANSES-06-EST-002   PAISIM   \n",
       "1           2006/1/3            ANSES-06-EST-003      NaN   \n",
       "2           2006/1/6            ANSES-06-EST-006      NaN   \n",
       "3           2006/1/7            ANSES-06-EST-007      NaN   \n",
       "4           2006/1/8            ANSES-06-EST-008    CATHY   \n",
       "...              ...                         ...      ...   \n",
       "1732  EST-2009/1/101            ANSES-09-EST-101  MB2PROF   \n",
       "1733     2013/01/216            ANSES-13-EST-216    PATER   \n",
       "1734  EST-2009/1/101            ANSES-09-EST-101  MB2PROF   \n",
       "1735  EST-2009/1/101            ANSES-09-EST-101  MB2PROF   \n",
       "1736  EST-2009/1/101            ANSES-09-EST-101  MB2PROF   \n",
       "\n",
       "     Nom Responsable Scientifique Prénom Responsable Scientifique  \\\n",
       "0                            Bard                          Denis    \n",
       "1                            Droz                        Olivier    \n",
       "2                          Frimat                           Paul    \n",
       "3                         Sauvain                    Jean-Jacques   \n",
       "4                          Guénel                         Pascal    \n",
       "...                           ...                             ...   \n",
       "1732                     Montagne                         Olivier   \n",
       "1733                     Malherbe                           Laure   \n",
       "1734                      Paradis                         Valérie   \n",
       "1735                   Boczkowski                           Jorge   \n",
       "1736                       Gueant                      Jean-Louis   \n",
       "\n",
       "                                              Organisme    CP   \\\n",
       "0     LERES (Laboratoire d’Étude et de Recherche en ...  35403   \n",
       "1     IST Institut universitaire romand de Santé au ...    NaN   \n",
       "2     Faculté de Médecine - Université Lille 2 - Lab...  59037   \n",
       "3     Groupe Particule et santé - Pôle Santé des Tra...    NaN   \n",
       "4     U754 - Epidémiologie environnementale des cancers  94807   \n",
       "...                                                 ...    ...   \n",
       "1732        Centre d'investigation Clinique 006 Créteil  94000   \n",
       "1733                                             Ineris  60550   \n",
       "1734                                                NaN  92110   \n",
       "1735          Université Paris 12 - Faculté de Médecine  94000   \n",
       "1736                                Faculté de Médecine  54505   \n",
       "\n",
       "                     Ville    Pays  \\\n",
       "0                   Rennes  France   \n",
       "1                 Lausanne  Suisse   \n",
       "2                    Lille  France   \n",
       "3                 Lausanne  Suisse   \n",
       "4                Villejuif  France   \n",
       "...                    ...     ...   \n",
       "1732               Créteil  France   \n",
       "1733   Verneuil-en-Halatte  France   \n",
       "1734                Clichy  France   \n",
       "1735               Créteil  France   \n",
       "1736  Vandoeuvre-lès-Nancy  France   \n",
       "\n",
       "                                             Organisme2 id_structure_matcher  \\\n",
       "0              lereboratoireurechercheenvironnementante                 None   \n",
       "1              itintitutuniveritaireromandanteautravail                 None   \n",
       "2     facultemecineuniveritelle2boratoiremecineantea...         [199814194S]   \n",
       "3                      groupeiculeantepoleantravailleur                 None   \n",
       "4                 u754epimiologieenvironnementalecancer         [200616425G]   \n",
       "...                                                 ...                  ...   \n",
       "1732                    centrenvigationclinique006creil                 None   \n",
       "1733                                              ineri                 None   \n",
       "1734                                                nan                  NaN   \n",
       "1735                       univeritepari12facultemecine                 None   \n",
       "1736                                      facultemecine                 None   \n",
       "\n",
       "     id_structure_scanr  \n",
       "0                   NaN  \n",
       "1                   NaN  \n",
       "2                   NaN  \n",
       "3                   NaN  \n",
       "4                   NaN  \n",
       "...                 ...  \n",
       "1732                NaN  \n",
       "1733                NaN  \n",
       "1734                NaN  \n",
       "1735                NaN  \n",
       "1736                NaN  \n",
       "\n",
       "[1737 rows x 12 columns]"
      ]
     },
     "execution_count": 14,
     "metadata": {},
     "output_type": "execute_result"
    }
   ],
   "source": [
    "df_partenaires_struct=pd.merge(df_partenaires_struct,scanR_nettoye, on=f\"{sources[source]['nom_structure']}2\", how='left')\n",
    "df_partenaires_struct"
   ]
  },
  {
   "cell_type": "code",
   "execution_count": 15,
   "id": "89dbba33",
   "metadata": {},
   "outputs": [
    {
     "name": "stderr",
     "output_type": "stream",
     "text": [
      "c:\\Users\\haallat\\Anaconda3\\lib\\site-packages\\openpyxl\\worksheet\\_reader.py:329: UserWarning: Unknown extension is not supported and will be removed\n",
      "  warn(msg)\n"
     ]
    },
    {
     "data": {
      "text/html": [
       "<div>\n",
       "<style scoped>\n",
       "    .dataframe tbody tr th:only-of-type {\n",
       "        vertical-align: middle;\n",
       "    }\n",
       "\n",
       "    .dataframe tbody tr th {\n",
       "        vertical-align: top;\n",
       "    }\n",
       "\n",
       "    .dataframe thead th {\n",
       "        text-align: right;\n",
       "    }\n",
       "</style>\n",
       "<table border=\"1\" class=\"dataframe\">\n",
       "  <thead>\n",
       "    <tr style=\"text-align: right;\">\n",
       "      <th></th>\n",
       "      <th>Code convention</th>\n",
       "      <th>code convention homogénéisé</th>\n",
       "      <th>Acronyme</th>\n",
       "      <th>Nom Responsable Scientifique</th>\n",
       "      <th>Prénom Responsable Scientifique</th>\n",
       "      <th>Organisme</th>\n",
       "      <th>CP</th>\n",
       "      <th>Ville</th>\n",
       "      <th>Pays</th>\n",
       "      <th>Organisme2</th>\n",
       "      <th>id_structure_matcher</th>\n",
       "      <th>id_structure_scanr</th>\n",
       "      <th>code</th>\n",
       "    </tr>\n",
       "  </thead>\n",
       "  <tbody>\n",
       "    <tr>\n",
       "      <th>0</th>\n",
       "      <td>2006/1/2</td>\n",
       "      <td>ANSES-06-EST-002</td>\n",
       "      <td>PAISIM</td>\n",
       "      <td>Bard</td>\n",
       "      <td>Denis</td>\n",
       "      <td>LERES (Laboratoire d’Étude et de Recherche en ...</td>\n",
       "      <td>35403</td>\n",
       "      <td>Rennes</td>\n",
       "      <td>France</td>\n",
       "      <td>lereboratoireurechercheenvironnementante</td>\n",
       "      <td>None</td>\n",
       "      <td>NaN</td>\n",
       "      <td>201222588E</td>\n",
       "    </tr>\n",
       "    <tr>\n",
       "      <th>1</th>\n",
       "      <td>2006/1/3</td>\n",
       "      <td>ANSES-06-EST-003</td>\n",
       "      <td>NaN</td>\n",
       "      <td>Droz</td>\n",
       "      <td>Olivier</td>\n",
       "      <td>IST Institut universitaire romand de Santé au ...</td>\n",
       "      <td>NaN</td>\n",
       "      <td>Lausanne</td>\n",
       "      <td>Suisse</td>\n",
       "      <td>itintitutuniveritaireromandanteautravail</td>\n",
       "      <td>None</td>\n",
       "      <td>NaN</td>\n",
       "      <td>04mcdza51</td>\n",
       "    </tr>\n",
       "    <tr>\n",
       "      <th>2</th>\n",
       "      <td>2006/1/6</td>\n",
       "      <td>ANSES-06-EST-006</td>\n",
       "      <td>NaN</td>\n",
       "      <td>Frimat</td>\n",
       "      <td>Paul</td>\n",
       "      <td>Faculté de Médecine - Université Lille 2 - Lab...</td>\n",
       "      <td>59037</td>\n",
       "      <td>Lille</td>\n",
       "      <td>France</td>\n",
       "      <td>facultemecineuniveritelle2boratoiremecineantea...</td>\n",
       "      <td>[199814194S]</td>\n",
       "      <td>NaN</td>\n",
       "      <td>NaN</td>\n",
       "    </tr>\n",
       "    <tr>\n",
       "      <th>3</th>\n",
       "      <td>2006/1/7</td>\n",
       "      <td>ANSES-06-EST-007</td>\n",
       "      <td>NaN</td>\n",
       "      <td>Sauvain</td>\n",
       "      <td>Jean-Jacques</td>\n",
       "      <td>Groupe Particule et santé - Pôle Santé des Tra...</td>\n",
       "      <td>NaN</td>\n",
       "      <td>Lausanne</td>\n",
       "      <td>Suisse</td>\n",
       "      <td>groupeiculeantepoleantravailleur</td>\n",
       "      <td>None</td>\n",
       "      <td>NaN</td>\n",
       "      <td>04mcdza51</td>\n",
       "    </tr>\n",
       "    <tr>\n",
       "      <th>4</th>\n",
       "      <td>2006/1/8</td>\n",
       "      <td>ANSES-06-EST-008</td>\n",
       "      <td>CATHY</td>\n",
       "      <td>Guénel</td>\n",
       "      <td>Pascal</td>\n",
       "      <td>U754 - Epidémiologie environnementale des cancers</td>\n",
       "      <td>94807</td>\n",
       "      <td>Villejuif</td>\n",
       "      <td>France</td>\n",
       "      <td>u754epimiologieenvironnementalecancer</td>\n",
       "      <td>[200616425G]</td>\n",
       "      <td>NaN</td>\n",
       "      <td>NaN</td>\n",
       "    </tr>\n",
       "    <tr>\n",
       "      <th>...</th>\n",
       "      <td>...</td>\n",
       "      <td>...</td>\n",
       "      <td>...</td>\n",
       "      <td>...</td>\n",
       "      <td>...</td>\n",
       "      <td>...</td>\n",
       "      <td>...</td>\n",
       "      <td>...</td>\n",
       "      <td>...</td>\n",
       "      <td>...</td>\n",
       "      <td>...</td>\n",
       "      <td>...</td>\n",
       "      <td>...</td>\n",
       "    </tr>\n",
       "    <tr>\n",
       "      <th>1732</th>\n",
       "      <td>EST-2009/1/101</td>\n",
       "      <td>ANSES-09-EST-101</td>\n",
       "      <td>MB2PROF</td>\n",
       "      <td>Montagne</td>\n",
       "      <td>Olivier</td>\n",
       "      <td>Centre d'investigation Clinique 006 Créteil</td>\n",
       "      <td>94000</td>\n",
       "      <td>Créteil</td>\n",
       "      <td>France</td>\n",
       "      <td>centrenvigationclinique006creil</td>\n",
       "      <td>None</td>\n",
       "      <td>NaN</td>\n",
       "      <td>200120111K</td>\n",
       "    </tr>\n",
       "    <tr>\n",
       "      <th>1733</th>\n",
       "      <td>2013/01/216</td>\n",
       "      <td>ANSES-13-EST-216</td>\n",
       "      <td>PATER</td>\n",
       "      <td>Malherbe</td>\n",
       "      <td>Laure</td>\n",
       "      <td>Ineris</td>\n",
       "      <td>60550</td>\n",
       "      <td>Verneuil-en-Halatte</td>\n",
       "      <td>France</td>\n",
       "      <td>ineri</td>\n",
       "      <td>None</td>\n",
       "      <td>None</td>\n",
       "      <td>0602098E</td>\n",
       "    </tr>\n",
       "    <tr>\n",
       "      <th>1734</th>\n",
       "      <td>EST-2009/1/101</td>\n",
       "      <td>ANSES-09-EST-101</td>\n",
       "      <td>MB2PROF</td>\n",
       "      <td>Paradis</td>\n",
       "      <td>Valérie</td>\n",
       "      <td>NaN</td>\n",
       "      <td>92110</td>\n",
       "      <td>Clichy</td>\n",
       "      <td>France</td>\n",
       "      <td>nan</td>\n",
       "      <td>NaN</td>\n",
       "      <td>NaN</td>\n",
       "      <td>x</td>\n",
       "    </tr>\n",
       "    <tr>\n",
       "      <th>1735</th>\n",
       "      <td>EST-2009/1/101</td>\n",
       "      <td>ANSES-09-EST-101</td>\n",
       "      <td>MB2PROF</td>\n",
       "      <td>Boczkowski</td>\n",
       "      <td>Jorge</td>\n",
       "      <td>Université Paris 12 - Faculté de Médecine</td>\n",
       "      <td>94000</td>\n",
       "      <td>Créteil</td>\n",
       "      <td>France</td>\n",
       "      <td>univeritepari12facultemecine</td>\n",
       "      <td>None</td>\n",
       "      <td>NaN</td>\n",
       "      <td>vb71K</td>\n",
       "    </tr>\n",
       "    <tr>\n",
       "      <th>1736</th>\n",
       "      <td>EST-2009/1/101</td>\n",
       "      <td>ANSES-09-EST-101</td>\n",
       "      <td>MB2PROF</td>\n",
       "      <td>Gueant</td>\n",
       "      <td>Jean-Louis</td>\n",
       "      <td>Faculté de Médecine</td>\n",
       "      <td>54505</td>\n",
       "      <td>Vandoeuvre-lès-Nancy</td>\n",
       "      <td>France</td>\n",
       "      <td>facultemecine</td>\n",
       "      <td>None</td>\n",
       "      <td>NaN</td>\n",
       "      <td>vb71K</td>\n",
       "    </tr>\n",
       "  </tbody>\n",
       "</table>\n",
       "<p>1737 rows × 13 columns</p>\n",
       "</div>"
      ],
      "text/plain": [
       "     Code convention code convention homogénéisé Acronyme  \\\n",
       "0           2006/1/2            ANSES-06-EST-002   PAISIM   \n",
       "1           2006/1/3            ANSES-06-EST-003      NaN   \n",
       "2           2006/1/6            ANSES-06-EST-006      NaN   \n",
       "3           2006/1/7            ANSES-06-EST-007      NaN   \n",
       "4           2006/1/8            ANSES-06-EST-008    CATHY   \n",
       "...              ...                         ...      ...   \n",
       "1732  EST-2009/1/101            ANSES-09-EST-101  MB2PROF   \n",
       "1733     2013/01/216            ANSES-13-EST-216    PATER   \n",
       "1734  EST-2009/1/101            ANSES-09-EST-101  MB2PROF   \n",
       "1735  EST-2009/1/101            ANSES-09-EST-101  MB2PROF   \n",
       "1736  EST-2009/1/101            ANSES-09-EST-101  MB2PROF   \n",
       "\n",
       "     Nom Responsable Scientifique Prénom Responsable Scientifique  \\\n",
       "0                            Bard                          Denis    \n",
       "1                            Droz                        Olivier    \n",
       "2                          Frimat                           Paul    \n",
       "3                         Sauvain                    Jean-Jacques   \n",
       "4                          Guénel                         Pascal    \n",
       "...                           ...                             ...   \n",
       "1732                     Montagne                         Olivier   \n",
       "1733                     Malherbe                           Laure   \n",
       "1734                      Paradis                         Valérie   \n",
       "1735                   Boczkowski                           Jorge   \n",
       "1736                       Gueant                      Jean-Louis   \n",
       "\n",
       "                                              Organisme    CP   \\\n",
       "0     LERES (Laboratoire d’Étude et de Recherche en ...  35403   \n",
       "1     IST Institut universitaire romand de Santé au ...    NaN   \n",
       "2     Faculté de Médecine - Université Lille 2 - Lab...  59037   \n",
       "3     Groupe Particule et santé - Pôle Santé des Tra...    NaN   \n",
       "4     U754 - Epidémiologie environnementale des cancers  94807   \n",
       "...                                                 ...    ...   \n",
       "1732        Centre d'investigation Clinique 006 Créteil  94000   \n",
       "1733                                             Ineris  60550   \n",
       "1734                                                NaN  92110   \n",
       "1735          Université Paris 12 - Faculté de Médecine  94000   \n",
       "1736                                Faculté de Médecine  54505   \n",
       "\n",
       "                     Ville    Pays  \\\n",
       "0                   Rennes  France   \n",
       "1                 Lausanne  Suisse   \n",
       "2                    Lille  France   \n",
       "3                 Lausanne  Suisse   \n",
       "4                Villejuif  France   \n",
       "...                    ...     ...   \n",
       "1732               Créteil  France   \n",
       "1733   Verneuil-en-Halatte  France   \n",
       "1734                Clichy  France   \n",
       "1735               Créteil  France   \n",
       "1736  Vandoeuvre-lès-Nancy  France   \n",
       "\n",
       "                                             Organisme2 id_structure_matcher  \\\n",
       "0              lereboratoireurechercheenvironnementante                 None   \n",
       "1              itintitutuniveritaireromandanteautravail                 None   \n",
       "2     facultemecineuniveritelle2boratoiremecineantea...         [199814194S]   \n",
       "3                      groupeiculeantepoleantravailleur                 None   \n",
       "4                 u754epimiologieenvironnementalecancer         [200616425G]   \n",
       "...                                                 ...                  ...   \n",
       "1732                    centrenvigationclinique006creil                 None   \n",
       "1733                                              ineri                 None   \n",
       "1734                                                nan                  NaN   \n",
       "1735                       univeritepari12facultemecine                 None   \n",
       "1736                                      facultemecine                 None   \n",
       "\n",
       "     id_structure_scanr        code  \n",
       "0                   NaN  201222588E  \n",
       "1                   NaN   04mcdza51  \n",
       "2                   NaN         NaN  \n",
       "3                   NaN   04mcdza51  \n",
       "4                   NaN         NaN  \n",
       "...                 ...         ...  \n",
       "1732                NaN  200120111K  \n",
       "1733               None    0602098E  \n",
       "1734                NaN           x  \n",
       "1735                NaN       vb71K  \n",
       "1736                NaN       vb71K  \n",
       "\n",
       "[1737 rows x 13 columns]"
      ]
     },
     "execution_count": 15,
     "metadata": {},
     "output_type": "execute_result"
    }
   ],
   "source": [
    "#######fichier avec les identifiants structures rettrouvés à la main par Emmanuel ==> 'code'\n",
    "scanr_structures=pd.read_excel('scanr_partenaires_non_identifies.xlsx')\n",
    "scanr_structures[f\"{sources[source]['nom_structure']}2\"]=scanr_structures.loc[:,'Nom'].apply(lambda x: replace_all(str(x).lower().replace(\" d e\",\" d'e\").replace(\" d a\",\" d'a\").replace(\" d i\",\" d'i\").replace(\" d o\",\" d'o\").replace(\" d u\",\" d'u\").replace(\" d y\",\" d'y\").replace(\" d h\",\" d'h\").replace(\" l e\",\" l'e\").replace(\" l a\",\" l'a\").replace(\" l i\",\" l'i\").replace(\" l o\",\" l'o\").replace(\" l u\",\" l'u\").replace(\" l y\",\" l'y\").replace(\" l h\",\" l'h\")))\n",
    "scanr_structures=scanr_structures[[f\"{sources[source]['nom_structure']}2\",'code']]\n",
    "scanr_structures=scanr_structures.dropna().drop_duplicates(subset=f\"{sources[source]['nom_structure']}2\")\n",
    "df_partenaires_complet=pd.merge(df_partenaires_struct,scanr_structures, on=f\"{sources[source]['nom_structure']}2\", how='left')\n",
    "df_partenaires_complet"
   ]
  },
  {
   "cell_type": "code",
   "execution_count": 16,
   "id": "03c18c20",
   "metadata": {},
   "outputs": [],
   "source": [
    "if 'finess' in list(df_partenaires.columns):\n",
    "    finess_siret=pd.read_json(\"finess_siret-siege.json\")\n",
    "    df_partenaires_complet=pd.merge(df_partenaires_complet,finess_siret,how='left', on='finess')"
   ]
  },
  {
   "cell_type": "code",
   "execution_count": 17,
   "id": "f8c8d110",
   "metadata": {},
   "outputs": [
    {
     "data": {
      "text/html": [
       "<div>\n",
       "<style scoped>\n",
       "    .dataframe tbody tr th:only-of-type {\n",
       "        vertical-align: middle;\n",
       "    }\n",
       "\n",
       "    .dataframe tbody tr th {\n",
       "        vertical-align: top;\n",
       "    }\n",
       "\n",
       "    .dataframe thead th {\n",
       "        text-align: right;\n",
       "    }\n",
       "</style>\n",
       "<table border=\"1\" class=\"dataframe\">\n",
       "  <thead>\n",
       "    <tr style=\"text-align: right;\">\n",
       "      <th></th>\n",
       "      <th>id_structure_matcher</th>\n",
       "      <th>id_structure_scanr</th>\n",
       "      <th>code</th>\n",
       "    </tr>\n",
       "  </thead>\n",
       "  <tbody>\n",
       "    <tr>\n",
       "      <th>0</th>\n",
       "      <td>None</td>\n",
       "      <td>NaN</td>\n",
       "      <td>201222588E</td>\n",
       "    </tr>\n",
       "    <tr>\n",
       "      <th>1</th>\n",
       "      <td>None</td>\n",
       "      <td>NaN</td>\n",
       "      <td>04mcdza51</td>\n",
       "    </tr>\n",
       "    <tr>\n",
       "      <th>2</th>\n",
       "      <td>[199814194S]</td>\n",
       "      <td>NaN</td>\n",
       "      <td>NaN</td>\n",
       "    </tr>\n",
       "    <tr>\n",
       "      <th>3</th>\n",
       "      <td>None</td>\n",
       "      <td>NaN</td>\n",
       "      <td>04mcdza51</td>\n",
       "    </tr>\n",
       "    <tr>\n",
       "      <th>4</th>\n",
       "      <td>[200616425G]</td>\n",
       "      <td>NaN</td>\n",
       "      <td>NaN</td>\n",
       "    </tr>\n",
       "    <tr>\n",
       "      <th>...</th>\n",
       "      <td>...</td>\n",
       "      <td>...</td>\n",
       "      <td>...</td>\n",
       "    </tr>\n",
       "    <tr>\n",
       "      <th>1732</th>\n",
       "      <td>None</td>\n",
       "      <td>None</td>\n",
       "      <td>200120111K</td>\n",
       "    </tr>\n",
       "    <tr>\n",
       "      <th>1733</th>\n",
       "      <td>None</td>\n",
       "      <td>None</td>\n",
       "      <td>0602098E</td>\n",
       "    </tr>\n",
       "    <tr>\n",
       "      <th>1734</th>\n",
       "      <td>None</td>\n",
       "      <td>None</td>\n",
       "      <td>x</td>\n",
       "    </tr>\n",
       "    <tr>\n",
       "      <th>1735</th>\n",
       "      <td>None</td>\n",
       "      <td>None</td>\n",
       "      <td>vb71K</td>\n",
       "    </tr>\n",
       "    <tr>\n",
       "      <th>1736</th>\n",
       "      <td>None</td>\n",
       "      <td>None</td>\n",
       "      <td>vb71K</td>\n",
       "    </tr>\n",
       "  </tbody>\n",
       "</table>\n",
       "<p>1737 rows × 3 columns</p>\n",
       "</div>"
      ],
      "text/plain": [
       "     id_structure_matcher id_structure_scanr        code\n",
       "0                    None                NaN  201222588E\n",
       "1                    None                NaN   04mcdza51\n",
       "2            [199814194S]                NaN         NaN\n",
       "3                    None                NaN   04mcdza51\n",
       "4            [200616425G]                NaN         NaN\n",
       "...                   ...                ...         ...\n",
       "1732                 None               None  200120111K\n",
       "1733                 None               None    0602098E\n",
       "1734                 None               None           x\n",
       "1735                 None               None       vb71K\n",
       "1736                 None               None       vb71K\n",
       "\n",
       "[1737 rows x 3 columns]"
      ]
     },
     "execution_count": 17,
     "metadata": {},
     "output_type": "execute_result"
    }
   ],
   "source": [
    "df_partenaires_complet[sources[source]['identifiants_preferes_structure']]"
   ]
  },
  {
   "cell_type": "code",
   "execution_count": 18,
   "id": "a67832c4",
   "metadata": {},
   "outputs": [
    {
     "data": {
      "text/plain": [
       "Index(['Code convention', 'code convention homogénéisé', 'Acronyme',\n",
       "       'Nom Responsable Scientifique', 'Prénom Responsable Scientifique',\n",
       "       'Organisme', 'CP ', 'Ville', 'Pays', 'Organisme2',\n",
       "       'id_structure_matcher', 'id_structure_scanr', 'code'],\n",
       "      dtype='object')"
      ]
     },
     "execution_count": 18,
     "metadata": {},
     "output_type": "execute_result"
    }
   ],
   "source": [
    "df_partenaires_complet.columns"
   ]
  },
  {
   "cell_type": "code",
   "execution_count": 19,
   "id": "744c95bb",
   "metadata": {},
   "outputs": [
    {
     "data": {
      "text/html": [
       "<div>\n",
       "<style scoped>\n",
       "    .dataframe tbody tr th:only-of-type {\n",
       "        vertical-align: middle;\n",
       "    }\n",
       "\n",
       "    .dataframe tbody tr th {\n",
       "        vertical-align: top;\n",
       "    }\n",
       "\n",
       "    .dataframe thead th {\n",
       "        text-align: right;\n",
       "    }\n",
       "</style>\n",
       "<table border=\"1\" class=\"dataframe\">\n",
       "  <thead>\n",
       "    <tr style=\"text-align: right;\">\n",
       "      <th></th>\n",
       "      <th>Code convention</th>\n",
       "      <th>code convention homogénéisé</th>\n",
       "      <th>Acronyme</th>\n",
       "      <th>Nom Responsable Scientifique</th>\n",
       "      <th>Prénom Responsable Scientifique</th>\n",
       "      <th>Organisme</th>\n",
       "      <th>CP</th>\n",
       "      <th>Ville</th>\n",
       "      <th>Pays</th>\n",
       "      <th>Organisme2</th>\n",
       "      <th>id_structure_matcher</th>\n",
       "      <th>id_structure_scanr</th>\n",
       "      <th>code</th>\n",
       "      <th>id_structure</th>\n",
       "    </tr>\n",
       "  </thead>\n",
       "  <tbody>\n",
       "    <tr>\n",
       "      <th>0</th>\n",
       "      <td>2006/1/2</td>\n",
       "      <td>ANSES-06-EST-002</td>\n",
       "      <td>PAISIM</td>\n",
       "      <td>Bard</td>\n",
       "      <td>Denis</td>\n",
       "      <td>LERES (Laboratoire d’Étude et de Recherche en ...</td>\n",
       "      <td>35403</td>\n",
       "      <td>Rennes</td>\n",
       "      <td>France</td>\n",
       "      <td>lereboratoireurechercheenvironnementante</td>\n",
       "      <td>None</td>\n",
       "      <td>NaN</td>\n",
       "      <td>201222588E</td>\n",
       "      <td>201222588E</td>\n",
       "    </tr>\n",
       "    <tr>\n",
       "      <th>1</th>\n",
       "      <td>2006/1/3</td>\n",
       "      <td>ANSES-06-EST-003</td>\n",
       "      <td>NaN</td>\n",
       "      <td>Droz</td>\n",
       "      <td>Olivier</td>\n",
       "      <td>IST Institut universitaire romand de Santé au ...</td>\n",
       "      <td>NaN</td>\n",
       "      <td>Lausanne</td>\n",
       "      <td>Suisse</td>\n",
       "      <td>itintitutuniveritaireromandanteautravail</td>\n",
       "      <td>None</td>\n",
       "      <td>NaN</td>\n",
       "      <td>04mcdza51</td>\n",
       "      <td>04mcdza51</td>\n",
       "    </tr>\n",
       "    <tr>\n",
       "      <th>2</th>\n",
       "      <td>2006/1/6</td>\n",
       "      <td>ANSES-06-EST-006</td>\n",
       "      <td>NaN</td>\n",
       "      <td>Frimat</td>\n",
       "      <td>Paul</td>\n",
       "      <td>Faculté de Médecine - Université Lille 2 - Lab...</td>\n",
       "      <td>59037</td>\n",
       "      <td>Lille</td>\n",
       "      <td>France</td>\n",
       "      <td>facultemecineuniveritelle2boratoiremecineantea...</td>\n",
       "      <td>[199814194S]</td>\n",
       "      <td>NaN</td>\n",
       "      <td>NaN</td>\n",
       "      <td>[199814194S]</td>\n",
       "    </tr>\n",
       "    <tr>\n",
       "      <th>3</th>\n",
       "      <td>2006/1/7</td>\n",
       "      <td>ANSES-06-EST-007</td>\n",
       "      <td>NaN</td>\n",
       "      <td>Sauvain</td>\n",
       "      <td>Jean-Jacques</td>\n",
       "      <td>Groupe Particule et santé - Pôle Santé des Tra...</td>\n",
       "      <td>NaN</td>\n",
       "      <td>Lausanne</td>\n",
       "      <td>Suisse</td>\n",
       "      <td>groupeiculeantepoleantravailleur</td>\n",
       "      <td>None</td>\n",
       "      <td>NaN</td>\n",
       "      <td>04mcdza51</td>\n",
       "      <td>04mcdza51</td>\n",
       "    </tr>\n",
       "    <tr>\n",
       "      <th>4</th>\n",
       "      <td>2006/1/8</td>\n",
       "      <td>ANSES-06-EST-008</td>\n",
       "      <td>CATHY</td>\n",
       "      <td>Guénel</td>\n",
       "      <td>Pascal</td>\n",
       "      <td>U754 - Epidémiologie environnementale des cancers</td>\n",
       "      <td>94807</td>\n",
       "      <td>Villejuif</td>\n",
       "      <td>France</td>\n",
       "      <td>u754epimiologieenvironnementalecancer</td>\n",
       "      <td>[200616425G]</td>\n",
       "      <td>NaN</td>\n",
       "      <td>NaN</td>\n",
       "      <td>[200616425G]</td>\n",
       "    </tr>\n",
       "    <tr>\n",
       "      <th>...</th>\n",
       "      <td>...</td>\n",
       "      <td>...</td>\n",
       "      <td>...</td>\n",
       "      <td>...</td>\n",
       "      <td>...</td>\n",
       "      <td>...</td>\n",
       "      <td>...</td>\n",
       "      <td>...</td>\n",
       "      <td>...</td>\n",
       "      <td>...</td>\n",
       "      <td>...</td>\n",
       "      <td>...</td>\n",
       "      <td>...</td>\n",
       "      <td>...</td>\n",
       "    </tr>\n",
       "    <tr>\n",
       "      <th>1732</th>\n",
       "      <td>EST-2009/1/101</td>\n",
       "      <td>ANSES-09-EST-101</td>\n",
       "      <td>MB2PROF</td>\n",
       "      <td>Montagne</td>\n",
       "      <td>Olivier</td>\n",
       "      <td>Centre d'investigation Clinique 006 Créteil</td>\n",
       "      <td>94000</td>\n",
       "      <td>Créteil</td>\n",
       "      <td>France</td>\n",
       "      <td>centrenvigationclinique006creil</td>\n",
       "      <td>None</td>\n",
       "      <td>NaN</td>\n",
       "      <td>200120111K</td>\n",
       "      <td>200120111K</td>\n",
       "    </tr>\n",
       "    <tr>\n",
       "      <th>1733</th>\n",
       "      <td>2013/01/216</td>\n",
       "      <td>ANSES-13-EST-216</td>\n",
       "      <td>PATER</td>\n",
       "      <td>Malherbe</td>\n",
       "      <td>Laure</td>\n",
       "      <td>Ineris</td>\n",
       "      <td>60550</td>\n",
       "      <td>Verneuil-en-Halatte</td>\n",
       "      <td>France</td>\n",
       "      <td>ineri</td>\n",
       "      <td>None</td>\n",
       "      <td>None</td>\n",
       "      <td>0602098E</td>\n",
       "      <td>0602098E</td>\n",
       "    </tr>\n",
       "    <tr>\n",
       "      <th>1734</th>\n",
       "      <td>EST-2009/1/101</td>\n",
       "      <td>ANSES-09-EST-101</td>\n",
       "      <td>MB2PROF</td>\n",
       "      <td>Paradis</td>\n",
       "      <td>Valérie</td>\n",
       "      <td>NaN</td>\n",
       "      <td>92110</td>\n",
       "      <td>Clichy</td>\n",
       "      <td>France</td>\n",
       "      <td>nan</td>\n",
       "      <td>NaN</td>\n",
       "      <td>NaN</td>\n",
       "      <td>x</td>\n",
       "      <td>x</td>\n",
       "    </tr>\n",
       "    <tr>\n",
       "      <th>1735</th>\n",
       "      <td>EST-2009/1/101</td>\n",
       "      <td>ANSES-09-EST-101</td>\n",
       "      <td>MB2PROF</td>\n",
       "      <td>Boczkowski</td>\n",
       "      <td>Jorge</td>\n",
       "      <td>Université Paris 12 - Faculté de Médecine</td>\n",
       "      <td>94000</td>\n",
       "      <td>Créteil</td>\n",
       "      <td>France</td>\n",
       "      <td>univeritepari12facultemecine</td>\n",
       "      <td>None</td>\n",
       "      <td>NaN</td>\n",
       "      <td>vb71K</td>\n",
       "      <td>vb71K</td>\n",
       "    </tr>\n",
       "    <tr>\n",
       "      <th>1736</th>\n",
       "      <td>EST-2009/1/101</td>\n",
       "      <td>ANSES-09-EST-101</td>\n",
       "      <td>MB2PROF</td>\n",
       "      <td>Gueant</td>\n",
       "      <td>Jean-Louis</td>\n",
       "      <td>Faculté de Médecine</td>\n",
       "      <td>54505</td>\n",
       "      <td>Vandoeuvre-lès-Nancy</td>\n",
       "      <td>France</td>\n",
       "      <td>facultemecine</td>\n",
       "      <td>None</td>\n",
       "      <td>NaN</td>\n",
       "      <td>vb71K</td>\n",
       "      <td>vb71K</td>\n",
       "    </tr>\n",
       "  </tbody>\n",
       "</table>\n",
       "<p>1737 rows × 14 columns</p>\n",
       "</div>"
      ],
      "text/plain": [
       "     Code convention code convention homogénéisé Acronyme  \\\n",
       "0           2006/1/2            ANSES-06-EST-002   PAISIM   \n",
       "1           2006/1/3            ANSES-06-EST-003      NaN   \n",
       "2           2006/1/6            ANSES-06-EST-006      NaN   \n",
       "3           2006/1/7            ANSES-06-EST-007      NaN   \n",
       "4           2006/1/8            ANSES-06-EST-008    CATHY   \n",
       "...              ...                         ...      ...   \n",
       "1732  EST-2009/1/101            ANSES-09-EST-101  MB2PROF   \n",
       "1733     2013/01/216            ANSES-13-EST-216    PATER   \n",
       "1734  EST-2009/1/101            ANSES-09-EST-101  MB2PROF   \n",
       "1735  EST-2009/1/101            ANSES-09-EST-101  MB2PROF   \n",
       "1736  EST-2009/1/101            ANSES-09-EST-101  MB2PROF   \n",
       "\n",
       "     Nom Responsable Scientifique Prénom Responsable Scientifique  \\\n",
       "0                            Bard                          Denis    \n",
       "1                            Droz                        Olivier    \n",
       "2                          Frimat                           Paul    \n",
       "3                         Sauvain                    Jean-Jacques   \n",
       "4                          Guénel                         Pascal    \n",
       "...                           ...                             ...   \n",
       "1732                     Montagne                         Olivier   \n",
       "1733                     Malherbe                           Laure   \n",
       "1734                      Paradis                         Valérie   \n",
       "1735                   Boczkowski                           Jorge   \n",
       "1736                       Gueant                      Jean-Louis   \n",
       "\n",
       "                                              Organisme    CP   \\\n",
       "0     LERES (Laboratoire d’Étude et de Recherche en ...  35403   \n",
       "1     IST Institut universitaire romand de Santé au ...    NaN   \n",
       "2     Faculté de Médecine - Université Lille 2 - Lab...  59037   \n",
       "3     Groupe Particule et santé - Pôle Santé des Tra...    NaN   \n",
       "4     U754 - Epidémiologie environnementale des cancers  94807   \n",
       "...                                                 ...    ...   \n",
       "1732        Centre d'investigation Clinique 006 Créteil  94000   \n",
       "1733                                             Ineris  60550   \n",
       "1734                                                NaN  92110   \n",
       "1735          Université Paris 12 - Faculté de Médecine  94000   \n",
       "1736                                Faculté de Médecine  54505   \n",
       "\n",
       "                     Ville    Pays  \\\n",
       "0                   Rennes  France   \n",
       "1                 Lausanne  Suisse   \n",
       "2                    Lille  France   \n",
       "3                 Lausanne  Suisse   \n",
       "4                Villejuif  France   \n",
       "...                    ...     ...   \n",
       "1732               Créteil  France   \n",
       "1733   Verneuil-en-Halatte  France   \n",
       "1734                Clichy  France   \n",
       "1735               Créteil  France   \n",
       "1736  Vandoeuvre-lès-Nancy  France   \n",
       "\n",
       "                                             Organisme2 id_structure_matcher  \\\n",
       "0              lereboratoireurechercheenvironnementante                 None   \n",
       "1              itintitutuniveritaireromandanteautravail                 None   \n",
       "2     facultemecineuniveritelle2boratoiremecineantea...         [199814194S]   \n",
       "3                      groupeiculeantepoleantravailleur                 None   \n",
       "4                 u754epimiologieenvironnementalecancer         [200616425G]   \n",
       "...                                                 ...                  ...   \n",
       "1732                    centrenvigationclinique006creil                 None   \n",
       "1733                                              ineri                 None   \n",
       "1734                                                nan                  NaN   \n",
       "1735                       univeritepari12facultemecine                 None   \n",
       "1736                                      facultemecine                 None   \n",
       "\n",
       "     id_structure_scanr        code  id_structure  \n",
       "0                   NaN  201222588E    201222588E  \n",
       "1                   NaN   04mcdza51     04mcdza51  \n",
       "2                   NaN         NaN  [199814194S]  \n",
       "3                   NaN   04mcdza51     04mcdza51  \n",
       "4                   NaN         NaN  [200616425G]  \n",
       "...                 ...         ...           ...  \n",
       "1732                NaN  200120111K    200120111K  \n",
       "1733               None    0602098E      0602098E  \n",
       "1734                NaN           x             x  \n",
       "1735                NaN       vb71K         vb71K  \n",
       "1736                NaN       vb71K         vb71K  \n",
       "\n",
       "[1737 rows x 14 columns]"
      ]
     },
     "execution_count": 19,
     "metadata": {},
     "output_type": "execute_result"
    }
   ],
   "source": [
    "df_partenaires_complet['id_structure']=df_partenaires_complet.apply(lambda row: get_id(row,sources[source]['identifiants_preferes_structure']), axis=1)\n",
    "df_partenaires_complet"
   ]
  },
  {
   "cell_type": "code",
   "execution_count": 20,
   "id": "18b49f3a",
   "metadata": {},
   "outputs": [
    {
     "data": {
      "text/html": [
       "<div>\n",
       "<style scoped>\n",
       "    .dataframe tbody tr th:only-of-type {\n",
       "        vertical-align: middle;\n",
       "    }\n",
       "\n",
       "    .dataframe tbody tr th {\n",
       "        vertical-align: top;\n",
       "    }\n",
       "\n",
       "    .dataframe thead th {\n",
       "        text-align: right;\n",
       "    }\n",
       "</style>\n",
       "<table border=\"1\" class=\"dataframe\">\n",
       "  <thead>\n",
       "    <tr style=\"text-align: right;\">\n",
       "      <th></th>\n",
       "      <th>Code convention</th>\n",
       "      <th>code convention homogénéisé</th>\n",
       "      <th>Acronyme</th>\n",
       "      <th>Nom Responsable Scientifique</th>\n",
       "      <th>Prénom Responsable Scientifique</th>\n",
       "      <th>Organisme</th>\n",
       "      <th>CP</th>\n",
       "      <th>Ville</th>\n",
       "      <th>Pays</th>\n",
       "      <th>Organisme2</th>\n",
       "      <th>id_structure_matcher</th>\n",
       "      <th>id_structure_scanr</th>\n",
       "      <th>code</th>\n",
       "      <th>id_structure</th>\n",
       "    </tr>\n",
       "  </thead>\n",
       "  <tbody>\n",
       "    <tr>\n",
       "      <th>1504</th>\n",
       "      <td>EST-2012/2/044 (RF)</td>\n",
       "      <td>ANSES-12-EST-044</td>\n",
       "      <td>ACTe</td>\n",
       "      <td>Peyman</td>\n",
       "      <td>Azadeh</td>\n",
       "      <td>Health Protection Agency\\nCentre for Radiation...</td>\n",
       "      <td>NaN</td>\n",
       "      <td>NaN</td>\n",
       "      <td>Grande Bretagne</td>\n",
       "      <td>healthprotectionagency\\ncentreradiationchemica...</td>\n",
       "      <td>None</td>\n",
       "      <td>NaN</td>\n",
       "      <td>NaN</td>\n",
       "      <td>None</td>\n",
       "    </tr>\n",
       "  </tbody>\n",
       "</table>\n",
       "</div>"
      ],
      "text/plain": [
       "          Code convention code convention homogénéisé Acronyme  \\\n",
       "1504  EST-2012/2/044 (RF)            ANSES-12-EST-044     ACTe   \n",
       "\n",
       "     Nom Responsable Scientifique Prénom Responsable Scientifique  \\\n",
       "1504                       Peyman                          Azadeh   \n",
       "\n",
       "                                              Organisme  CP  Ville  \\\n",
       "1504  Health Protection Agency\\nCentre for Radiation...  NaN   NaN   \n",
       "\n",
       "                 Pays                                         Organisme2  \\\n",
       "1504  Grande Bretagne  healthprotectionagency\\ncentreradiationchemica...   \n",
       "\n",
       "     id_structure_matcher id_structure_scanr code id_structure  \n",
       "1504                 None                NaN  NaN         None  "
      ]
     },
     "execution_count": 20,
     "metadata": {},
     "output_type": "execute_result"
    }
   ],
   "source": [
    "#df_partenaires_complet[pd.isna(df_partenaires_complet.id_structure)]\n",
    "df_partenaires_complet.loc[(pd.isna(df_partenaires_complet['id_structure']))|(str(df_partenaires_complet['id_structure'])=='None')|(str(df_partenaires_complet['id_structure'])=='nan')]"
   ]
  },
  {
   "cell_type": "code",
   "execution_count": 21,
   "id": "583f5ec8",
   "metadata": {},
   "outputs": [],
   "source": [
    "#df_partenaires_complet.to_excel(f\"./DATA/{source}/df_partenaires_id_structures.xlsx\")\n",
    "df_partenaires_complet.to_json(f\"./DATA/{source}/df_partners_id_structures.json\")"
   ]
  },
  {
   "cell_type": "code",
   "execution_count": 23,
   "id": "1c690f9a",
   "metadata": {},
   "outputs": [],
   "source": [
    "df_partenaires_complet=pd.read_json(f\"./DATA/{source}/df_partners_id_structures.json\")"
   ]
  },
  {
   "cell_type": "code",
   "execution_count": 24,
   "id": "ec322580",
   "metadata": {},
   "outputs": [],
   "source": [
    "########récupération des structures sans identifiants pour les donner à Emmanuel\n",
    "identifiants_a_remplir=df_partenaires_complet.loc[(pd.isna(df_partenaires_complet['id_structure']))|(str(df_partenaires_complet['id_structure'])=='None')|(str(df_partenaires_complet['id_structure'])=='nan')]\n",
    "identifiants_a_remplir\n",
    "identifiants_a_remplir=identifiants_a_remplir.drop_duplicates(subset=f\"{sources[source]['nom_structure']}2\")\n",
    "identifiants_a_remplir=identifiants_a_remplir.reset_index()\n",
    "del identifiants_a_remplir['index']"
   ]
  },
  {
   "cell_type": "code",
   "execution_count": 25,
   "id": "51ae89d6",
   "metadata": {},
   "outputs": [
    {
     "data": {
      "text/html": [
       "<div>\n",
       "<style scoped>\n",
       "    .dataframe tbody tr th:only-of-type {\n",
       "        vertical-align: middle;\n",
       "    }\n",
       "\n",
       "    .dataframe tbody tr th {\n",
       "        vertical-align: top;\n",
       "    }\n",
       "\n",
       "    .dataframe thead th {\n",
       "        text-align: right;\n",
       "    }\n",
       "</style>\n",
       "<table border=\"1\" class=\"dataframe\">\n",
       "  <thead>\n",
       "    <tr style=\"text-align: right;\">\n",
       "      <th></th>\n",
       "      <th>Organisme</th>\n",
       "      <th>Ville</th>\n",
       "      <th>Pays</th>\n",
       "    </tr>\n",
       "  </thead>\n",
       "  <tbody>\n",
       "    <tr>\n",
       "      <th>0</th>\n",
       "      <td>Health Protection Agency\\nCentre for Radiation...</td>\n",
       "      <td>None</td>\n",
       "      <td>Grande Bretagne</td>\n",
       "    </tr>\n",
       "  </tbody>\n",
       "</table>\n",
       "</div>"
      ],
      "text/plain": [
       "                                           Organisme Ville             Pays\n",
       "0  Health Protection Agency\\nCentre for Radiation...  None  Grande Bretagne"
      ]
     },
     "execution_count": 25,
     "metadata": {},
     "output_type": "execute_result"
    }
   ],
   "source": [
    "if sources[source]['ville'] in list(identifiants_a_remplir.columns) and sources[source]['pays'] in list(identifiants_a_remplir.columns) and sources[source]['adresse'] not in list(identifiants_a_remplir.columns):\n",
    "    identifiants_a_remplir=identifiants_a_remplir[[sources[source]['nom_structure'],sources[source]['ville'],sources[source]['pays']]]\n",
    "elif sources[source]['ville'] in list(identifiants_a_remplir.columns) and sources[source]['pays'] in list(identifiants_a_remplir.columns) and sources[source]['adresse'] in list(identifiants_a_remplir.columns):\n",
    "    identifiants_a_remplir=identifiants_a_remplir[[sources[source]['nom_structure'],sources[source]['adresse'],sources[source]['ville'],sources[source]['pays']]]\n",
    "elif sources[source]['region'] in list(identifiants_a_remplir.columns):\n",
    "    identifiants_a_remplir=identifiants_a_remplir[[sources[source]['nom_structure'],sources[source]['region']]]\n",
    "elif sources[source]['ville'] in list(identifiants_a_remplir.columns) and sources[source]['pays'] not in list(identifiants_a_remplir.columns):\n",
    "    identifiants_a_remplir=identifiants_a_remplir[[sources[source]['nom_structure'],sources[source]['ville']]]\n",
    "identifiants_a_remplir"
   ]
  },
  {
   "cell_type": "code",
   "execution_count": 26,
   "id": "90b660db",
   "metadata": {},
   "outputs": [],
   "source": [
    "identifiants_a_remplir.to_excel(f\"./structures_manquantes/partenaires_non_identifies_{source}.xlsx\", index=False)"
   ]
  },
  {
   "cell_type": "markdown",
   "id": "55b3e1da",
   "metadata": {},
   "source": [
    "# Matcher des chercheurs"
   ]
  },
  {
   "cell_type": "code",
   "execution_count": 27,
   "id": "89e9d1dd",
   "metadata": {},
   "outputs": [],
   "source": [
    "df_partenaires=pd.read_json(f\"./DATA/{source}/df_partners_id_structures.json\")"
   ]
  },
  {
   "cell_type": "code",
   "execution_count": null,
   "id": "ba8ba43e",
   "metadata": {},
   "outputs": [
    {
     "name": "stderr",
     "output_type": "stream",
     "text": [
      "  0%|          | 6/1737 [00:00<02:28, 11.67it/s]c:\\Users\\haallat\\Anaconda3\\lib\\site-packages\\bs4\\builder\\__init__.py:545: XMLParsedAsHTMLWarning: It looks like you're parsing an XML document using an HTML parser. If this really is an HTML document (maybe it's XHTML?), you can ignore or filter this warning. If it's XML, you should know that using an XML parser will be more reliable. To parse this document as XML, make sure you have the lxml package installed, and pass the keyword argument `features=\"xml\"` into the BeautifulSoup constructor.\n",
      "  warnings.warn(\n",
      "  1%|          | 20/1737 [00:03<12:59,  2.20it/s]"
     ]
    },
    {
     "name": "stdout",
     "output_type": "stream",
     "text": [
      "no exact fullname match for Morin Jean-Paul vs ['trevanian', 'trevanian']\n"
     ]
    },
    {
     "name": "stderr",
     "output_type": "stream",
     "text": [
      "  1%|▏         | 25/1737 [00:05<10:02,  2.84it/s]"
     ]
    },
    {
     "name": "stdout",
     "output_type": "stream",
     "text": [
      "no exact fullname match for Clavel Jacqueline vs ['jacqueline clavel marinacce', 'clavel marinacce jacqueline']\n"
     ]
    },
    {
     "name": "stderr",
     "output_type": "stream",
     "text": [
      "  2%|▏         | 27/1737 [00:05<07:20,  3.88it/s]"
     ]
    },
    {
     "name": "stdout",
     "output_type": "stream",
     "text": [
      "no exact fullname match for Gilot-Fromont Emmanuelle vs ['emmanuelle fromont', 'fromont emmanuelle']\n"
     ]
    },
    {
     "name": "stderr",
     "output_type": "stream",
     "text": [
      "  2%|▏         | 30/1737 [00:05<06:26,  4.41it/s]"
     ]
    },
    {
     "name": "stdout",
     "output_type": "stream",
     "text": [
      "no exact fullname match for Schneider Dominique vs ['dominique jung schneider', 'jung schneider dominique']\n"
     ]
    },
    {
     "name": "stderr",
     "output_type": "stream",
     "text": [
      "  2%|▏         | 35/1737 [00:07<06:57,  4.08it/s]"
     ]
    },
    {
     "name": "stdout",
     "output_type": "stream",
     "text": [
      "no exact fullname match for Forestier Christiane vs ['christiane nativel forestier', 'nativel forestier christiane']\n"
     ]
    },
    {
     "name": "stderr",
     "output_type": "stream",
     "text": [
      "  2%|▏         | 37/1737 [00:08<06:02,  4.69it/s]"
     ]
    },
    {
     "name": "stdout",
     "output_type": "stream",
     "text": [
      "no exact fullname match for Paris Christophe vs ['jean christophe paris', 'paris jean christophe']\n",
      "no exact fullname match for Paris Christophe vs ['christophe de paris', 'christophe de paris']\n",
      "no exact fullname match for Paris Christophe vs ['jean christophe paris', 'paris jean christophe']\n"
     ]
    },
    {
     "name": "stderr",
     "output_type": "stream",
     "text": [
      "  2%|▏         | 38/1737 [00:09<12:25,  2.28it/s]"
     ]
    },
    {
     "name": "stdout",
     "output_type": "stream",
     "text": [
      "no exact fullname match for Paris Christophe vs ['jean christophe coffin', 'coffin jean christophe']\n",
      "no exact fullname match for Paris Christophe vs ['christophe greffet', 'greffet christophe']\n",
      "no exact fullname match for Paris Christophe vs ['christophe de beaumont du repaire', 'beaumont du repaire christophe de']\n"
     ]
    },
    {
     "name": "stderr",
     "output_type": "stream",
     "text": [
      "  2%|▏         | 40/1737 [00:09<08:49,  3.21it/s]"
     ]
    },
    {
     "name": "stdout",
     "output_type": "stream",
     "text": [
      "no exact fullname match for Bénédetti Marc vs ['jean marc benedetti', 'benedetti jean marc']\n",
      "no exact fullname match for Bénédetti Marc vs ['jean marc benedetti', 'benedetti jean marc']\n"
     ]
    },
    {
     "name": "stderr",
     "output_type": "stream",
     "text": [
      "  3%|▎         | 57/1737 [00:12<05:58,  4.68it/s]"
     ]
    },
    {
     "name": "stdout",
     "output_type": "stream",
     "text": [
      "no exact fullname match for Fenet Hélène vs ['helene buisson fenet', 'buisson fenet helene']\n"
     ]
    },
    {
     "name": "stderr",
     "output_type": "stream",
     "text": [
      "  3%|▎         | 60/1737 [00:13<05:43,  4.89it/s]"
     ]
    },
    {
     "name": "stdout",
     "output_type": "stream",
     "text": [
      "no exact fullname match for Baeza Armelle vs ['armelle baeza squiban', 'baeza squiban armelle']\n"
     ]
    },
    {
     "name": "stderr",
     "output_type": "stream",
     "text": [
      "  4%|▍         | 68/1737 [00:14<04:44,  5.86it/s]"
     ]
    },
    {
     "name": "stdout",
     "output_type": "stream",
     "text": [
      "skipping birth date 1817-01-01T00:00:00\n"
     ]
    },
    {
     "name": "stderr",
     "output_type": "stream",
     "text": [
      "  4%|▍         | 70/1737 [00:15<04:47,  5.80it/s]"
     ]
    },
    {
     "name": "stdout",
     "output_type": "stream",
     "text": [
      "no exact fullname match for Krishnan Kannan vs ['kannan m  krishnan', 'krishnan kannan m']\n",
      "no exact fullname match for Carrière Marie vs ['marie j  carriere', 'carriere marie j']\n",
      "no exact fullname match for Carrière Marie vs ['anne marie carriere', 'carriere anne marie']\n",
      "no exact fullname match for Carrière Marie vs ['lucien eugene marie carriere', 'carriere lucien eugene marie']\n",
      "no exact fullname match for Carrière Marie vs ['jean marie carriere', 'carriere jean marie']\n",
      "no exact fullname match for Carrière Marie vs ['marie vigier carriere', 'vigier carriere marie']\n",
      "no exact fullname match for Carrière Marie vs ['martin barthelemy carriere', 'carriere martin barthelemy']\n"
     ]
    },
    {
     "name": "stderr",
     "output_type": "stream",
     "text": [
      "  4%|▍         | 72/1737 [00:16<08:29,  3.27it/s]"
     ]
    },
    {
     "name": "stdout",
     "output_type": "stream",
     "text": [
      "no exact fullname match for Carrière Marie vs ['jean marie carriere', 'carriere jean marie']\n",
      "no exact fullname match for Carrière Marie vs ['marie joseph henri carriere', 'carriere marie joseph henri']\n"
     ]
    },
    {
     "name": "stderr",
     "output_type": "stream",
     "text": [
      "  4%|▍         | 74/1737 [00:16<07:05,  3.91it/s]"
     ]
    },
    {
     "name": "stdout",
     "output_type": "stream",
     "text": [
      "no exact fullname match for Zmirou Denis vs ['denis zmirou navier', 'zmirou navier denis']\n"
     ]
    },
    {
     "name": "stderr",
     "output_type": "stream",
     "text": [
      "  6%|▌         | 104/1737 [00:21<04:37,  5.88it/s]"
     ]
    },
    {
     "name": "stdout",
     "output_type": "stream",
     "text": [
      "no exact fullname match for Le Moual Nicole vs ['nicole lincot le moual', 'lincot le moual nicole']\n"
     ]
    },
    {
     "name": "stderr",
     "output_type": "stream",
     "text": [
      "  6%|▌         | 108/1737 [00:22<04:51,  5.60it/s]"
     ]
    },
    {
     "name": "stdout",
     "output_type": "stream",
     "text": [
      "no exact fullname match for Raherison Chantal vs ['chantal raherison semjen', 'raherison semjen chantal']\n",
      "no exact fullname match for Pons Françoise vs ['francoise pons lebeau', 'pons lebeau francoise']\n"
     ]
    },
    {
     "name": "stderr",
     "output_type": "stream",
     "text": [
      "  6%|▋         | 109/1737 [00:23<09:41,  2.80it/s]"
     ]
    },
    {
     "name": "stdout",
     "output_type": "stream",
     "text": [
      "no exact fullname match for Pons Françoise vs ['francoise bernard pons', 'bernard pons francoise']\n",
      "no exact fullname match for Pons Françoise vs ['anne francoise pons', 'pons anne francoise']\n"
     ]
    },
    {
     "name": "stderr",
     "output_type": "stream",
     "text": [
      "  6%|▋         | 110/1737 [00:23<09:00,  3.01it/s]"
     ]
    },
    {
     "name": "stdout",
     "output_type": "stream",
     "text": [
      "no exact fullname match for Calvez Marcel vs ['marcel le calvez', 'le calvez marcel']\n"
     ]
    },
    {
     "name": "stderr",
     "output_type": "stream",
     "text": [
      "  7%|▋         | 117/1737 [00:25<05:50,  4.62it/s]"
     ]
    },
    {
     "name": "stdout",
     "output_type": "stream",
     "text": [
      "no exact fullname match for Paris Christophe vs ['jean christophe paris', 'paris jean christophe']\n",
      "no exact fullname match for Paris Christophe vs ['christophe de paris', 'christophe de paris']\n",
      "no exact fullname match for Paris Christophe vs ['jean christophe paris', 'paris jean christophe']\n",
      "no exact fullname match for Paris Christophe vs ['jean christophe coffin', 'coffin jean christophe']\n",
      "no exact fullname match for Paris Christophe vs ['christophe greffet', 'greffet christophe']\n"
     ]
    },
    {
     "name": "stderr",
     "output_type": "stream",
     "text": [
      "  7%|▋         | 118/1737 [00:26<11:31,  2.34it/s]"
     ]
    },
    {
     "name": "stdout",
     "output_type": "stream",
     "text": [
      "no exact fullname match for Paris Christophe vs ['christophe de beaumont du repaire', 'beaumont du repaire christophe de']\n"
     ]
    },
    {
     "name": "stderr",
     "output_type": "stream",
     "text": [
      "  7%|▋         | 127/1737 [00:27<04:47,  5.59it/s]"
     ]
    },
    {
     "name": "stdout",
     "output_type": "stream",
     "text": [
      "no exact fullname match for Bernard Louis vs ['louis bernard robitaille', 'robitaille louis bernard']\n",
      "no exact fullname match for Bernard Louis vs ['bernard louis dumont', 'dumont bernard louis']\n",
      "no exact fullname match for Bernard Louis vs ['bernard louis roques', 'roques bernard louis']\n"
     ]
    },
    {
     "name": "stderr",
     "output_type": "stream",
     "text": [
      "  7%|▋         | 129/1737 [00:28<08:42,  3.08it/s]"
     ]
    },
    {
     "name": "stdout",
     "output_type": "stream",
     "text": [
      "no exact fullname match for Bernard Louis vs ['bernard louis pasquier', 'pasquier bernard louis']\n"
     ]
    },
    {
     "name": "stderr",
     "output_type": "stream",
     "text": [
      "  8%|▊         | 133/1737 [00:29<05:48,  4.61it/s]"
     ]
    },
    {
     "name": "stdout",
     "output_type": "stream",
     "text": [
      "no exact fullname match for Garric Jeanne vs ['marie jeanne garric', 'garric marie jeanne']\n"
     ]
    },
    {
     "name": "stderr",
     "output_type": "stream",
     "text": [
      "  8%|▊         | 134/1737 [00:29<06:34,  4.07it/s]"
     ]
    },
    {
     "name": "stdout",
     "output_type": "stream",
     "text": [
      "no exact fullname match for Rose Jerome vs ['jerome c  rose', 'rose jerome c']\n",
      "no exact fullname match for Rose Jerome vs ['jerome g  rose', 'rose jerome g']\n"
     ]
    },
    {
     "name": "stderr",
     "output_type": "stream",
     "text": [
      "  9%|▊         | 151/1737 [00:32<04:54,  5.38it/s]"
     ]
    },
    {
     "name": "stdout",
     "output_type": "stream",
     "text": [
      "skipping birth date 1890-01-01T00:00:00\n",
      "no exact fullname match for Lepage Nadege vs ['nadege lepage druetto', 'lepage druetto nadege']\n"
     ]
    },
    {
     "name": "stderr",
     "output_type": "stream",
     "text": [
      "  9%|▉         | 154/1737 [00:33<06:48,  3.87it/s]"
     ]
    },
    {
     "name": "stdout",
     "output_type": "stream",
     "text": [
      "no exact fullname match for Allemand Isabelle vs ['isabelle meutelet allemand', 'meutelet allemand isabelle']\n",
      "no exact fullname match for Allemand Isabelle vs ['isabelle martine', 'martine isabelle']\n"
     ]
    },
    {
     "name": "stderr",
     "output_type": "stream",
     "text": [
      "  9%|▉         | 157/1737 [00:33<05:56,  4.44it/s]"
     ]
    },
    {
     "name": "stdout",
     "output_type": "stream",
     "text": [
      "no exact fullname match for Thomas Olivier vs ['olivier paul thomas', 'thomas olivier paul']\n"
     ]
    },
    {
     "name": "stderr",
     "output_type": "stream",
     "text": [
      "  9%|▉         | 162/1737 [00:35<05:50,  4.49it/s]"
     ]
    },
    {
     "name": "stdout",
     "output_type": "stream",
     "text": [
      "no exact fullname match for Bertrand Xavier vs ['bertrand xavier soret', 'soret bertrand xavier']\n",
      "no exact fullname match for Bertrand Xavier vs ['bertrand delafosse', 'delafosse bertrand']\n",
      "no exact fullname match for Bertrand Xavier vs ['francois xavier bernard bertrand lesage', 'lesage francois xavier bernard bertrand']\n"
     ]
    },
    {
     "name": "stderr",
     "output_type": "stream",
     "text": [
      "  9%|▉         | 163/1737 [00:36<10:02,  2.61it/s]"
     ]
    },
    {
     "name": "stdout",
     "output_type": "stream",
     "text": [
      "no exact fullname match for Bertrand Xavier vs ['etienne bertaud du chazaud', 'bertaud du chazaud etienne']\n"
     ]
    },
    {
     "name": "stderr",
     "output_type": "stream",
     "text": [
      " 10%|█         | 175/1737 [00:39<07:57,  3.27it/s]"
     ]
    },
    {
     "name": "stdout",
     "output_type": "stream",
     "text": [
      "no exact fullname match for Morin Jean-Paul vs ['trevanian', 'trevanian']\n"
     ]
    },
    {
     "name": "stderr",
     "output_type": "stream",
     "text": [
      " 11%|█         | 186/1737 [00:40<03:43,  6.95it/s]"
     ]
    },
    {
     "name": "stdout",
     "output_type": "stream",
     "text": [
      "no exact fullname match for Langouet Sophie vs ['sophie langouet prigent', 'langouet prigent sophie']\n"
     ]
    },
    {
     "name": "stderr",
     "output_type": "stream",
     "text": [
      " 11%|█         | 194/1737 [00:42<03:59,  6.43it/s]"
     ]
    },
    {
     "name": "stdout",
     "output_type": "stream",
     "text": [
      "no exact fullname match for Petit Audrey vs ['audrey petit trigg', 'petit trigg audrey']\n",
      "no exact fullname match for Petit Audrey vs ['audrey petit bessy', 'petit bessy audrey']\n",
      "no exact fullname match for Petit Audrey vs ['marie audrey barrat petit', 'barrat petit marie audrey']\n"
     ]
    },
    {
     "name": "stderr",
     "output_type": "stream",
     "text": [
      " 11%|█         | 195/1737 [00:43<10:35,  2.43it/s]"
     ]
    },
    {
     "name": "stdout",
     "output_type": "stream",
     "text": [
      "no exact fullname match for Petit Audrey vs ['audrey francoise petit', 'petit audrey francoise']\n"
     ]
    },
    {
     "name": "stderr",
     "output_type": "stream",
     "text": [
      " 11%|█▏        | 197/1737 [00:43<09:36,  2.67it/s]"
     ]
    },
    {
     "name": "stdout",
     "output_type": "stream",
     "text": [
      "no exact fullname match for Hamel Jean-François vs ['jean francois hamel broza', 'hamel broza jean francois']\n"
     ]
    },
    {
     "name": "stderr",
     "output_type": "stream",
     "text": [
      " 12%|█▏        | 201/1737 [00:45<08:09,  3.14it/s]"
     ]
    },
    {
     "name": "stdout",
     "output_type": "stream",
     "text": [
      "no exact fullname match for Schmich Isabelle vs ['isabelle schmich yamane', 'schmich yamane isabelle']\n"
     ]
    },
    {
     "name": "stderr",
     "output_type": "stream",
     "text": [
      " 12%|█▏        | 207/1737 [00:46<06:43,  3.79it/s]"
     ]
    },
    {
     "name": "stdout",
     "output_type": "stream",
     "text": [
      "no exact fullname match for Legrand Emilie vs ['emilie legrand collin', 'legrand collin emilie']\n",
      "no exact fullname match for Legrand Emilie vs ['emilie legrand pluquet', 'legrand pluquet emilie']\n"
     ]
    },
    {
     "name": "stderr",
     "output_type": "stream",
     "text": [
      " 12%|█▏        | 216/1737 [00:48<05:52,  4.31it/s]"
     ]
    },
    {
     "name": "stdout",
     "output_type": "stream",
     "text": [
      "no exact fullname match for Bouvier Ghislaine vs ['ghislaine briot', 'briot ghislaine']\n"
     ]
    },
    {
     "name": "stderr",
     "output_type": "stream",
     "text": [
      " 13%|█▎        | 219/1737 [00:49<08:04,  3.13it/s]"
     ]
    },
    {
     "name": "stdout",
     "output_type": "stream",
     "text": [
      "no exact fullname match for Mir Luis vs ['luis jerez mir', 'jerez mir luis']\n",
      "no exact fullname match for Mir Luis vs ['luis m  mir', 'm  mir luis']\n"
     ]
    },
    {
     "name": "stderr",
     "output_type": "stream",
     "text": [
      " 13%|█▎        | 226/1737 [00:51<05:28,  4.60it/s]"
     ]
    },
    {
     "name": "stdout",
     "output_type": "stream",
     "text": [
      "no exact fullname match for Poinsignon Anne vs ['anne chantal mazingue desailly', 'mazingue desailly anne chantal']\n"
     ]
    },
    {
     "name": "stderr",
     "output_type": "stream",
     "text": [
      " 13%|█▎        | 230/1737 [00:51<05:41,  4.42it/s]"
     ]
    },
    {
     "name": "stdout",
     "output_type": "stream",
     "text": [
      "no exact fullname match for Luce Danièle vs ['daniele luce alet', 'alet daniele luce']\n"
     ]
    },
    {
     "name": "stderr",
     "output_type": "stream",
     "text": [
      " 13%|█▎        | 233/1737 [00:52<05:51,  4.28it/s]"
     ]
    },
    {
     "name": "stdout",
     "output_type": "stream",
     "text": [
      "no exact fullname match for Morin Didier vs ['gilles andre didier morin', 'morin gilles andre didier']\n",
      "no exact fullname match for Langouet Sophie vs ['sophie langouet prigent', 'langouet prigent sophie']\n"
     ]
    },
    {
     "name": "stderr",
     "output_type": "stream",
     "text": [
      " 14%|█▎        | 236/1737 [00:53<06:13,  4.02it/s]"
     ]
    },
    {
     "name": "stdout",
     "output_type": "stream",
     "text": [
      "skipping Animateur à Radio-Canada, docteur en sémiologie, journaliste (en 2003)\n"
     ]
    },
    {
     "name": "stderr",
     "output_type": "stream",
     "text": [
      " 14%|█▎        | 237/1737 [00:54<09:07,  2.74it/s]"
     ]
    },
    {
     "name": "stdout",
     "output_type": "stream",
     "text": [
      "no exact fullname match for Auger Jacques vs ['jean jacques  auger', 'auger jean jacques']\n"
     ]
    },
    {
     "name": "stderr",
     "output_type": "stream",
     "text": [
      " 14%|█▎        | 238/1737 [00:54<09:06,  2.74it/s]"
     ]
    },
    {
     "name": "stdout",
     "output_type": "stream",
     "text": [
      "skipping birth date 1890-01-01T00:00:00\n"
     ]
    },
    {
     "name": "stderr",
     "output_type": "stream",
     "text": [
      " 14%|█▍        | 239/1737 [00:54<09:57,  2.51it/s]"
     ]
    },
    {
     "name": "stdout",
     "output_type": "stream",
     "text": [
      "no exact fullname match for Riviere Emmanuel vs ['marie emmanuel riviere', 'riviere marie emmanuel']\n"
     ]
    },
    {
     "name": "stderr",
     "output_type": "stream",
     "text": [
      " 14%|█▍        | 247/1737 [00:56<04:56,  5.03it/s]"
     ]
    },
    {
     "name": "stdout",
     "output_type": "stream",
     "text": [
      "no exact fullname match for Lacour Brigitte vs ['brigitte lacour schillig', 'lacour schillig brigitte']\n"
     ]
    },
    {
     "name": "stderr",
     "output_type": "stream",
     "text": [
      " 14%|█▍        | 251/1737 [00:56<03:34,  6.93it/s]"
     ]
    },
    {
     "name": "stdout",
     "output_type": "stream",
     "text": [
      "no exact fullname match for De Sèze René vs ['rene de seze', 'seze rene de']\n"
     ]
    },
    {
     "name": "stderr",
     "output_type": "stream",
     "text": [
      " 15%|█▍        | 259/1737 [00:57<03:46,  6.53it/s]"
     ]
    },
    {
     "name": "stdout",
     "output_type": "stream",
     "text": [
      "no exact fullname match for Fournier Thierry vs ['thierry fournier', 'fournier  thierry']\n"
     ]
    },
    {
     "name": "stderr",
     "output_type": "stream",
     "text": [
      " 15%|█▌        | 267/1737 [01:00<06:31,  3.76it/s]"
     ]
    },
    {
     "name": "stdout",
     "output_type": "stream",
     "text": [
      "no exact fullname match for Garrigou Alain vs ['alain garrigou torchy', 'garrigou torchy alain']\n",
      "no exact fullname match for Maître Anne vs ['anne le maitre', 'le maitre anne']\n",
      "no exact fullname match for Maître Anne vs ['anne le maitre', 'le maitre anne']\n",
      "no exact fullname match for Maître Anne vs ['marie anne prioux maitre', 'prioux maitre marie anne']\n",
      "no exact fullname match for Maître Anne vs ['anne marie peau', 'peau anne marie']\n",
      "no exact fullname match for Maître Anne vs ['anne laure bourdel', 'bourdel anne laure']\n",
      "no exact fullname match for Maître Anne vs ['anne waugh', 'waugh anne']\n"
     ]
    },
    {
     "name": "stderr",
     "output_type": "stream",
     "text": [
      " 15%|█▌        | 268/1737 [01:01<11:22,  2.15it/s]"
     ]
    },
    {
     "name": "stdout",
     "output_type": "stream",
     "text": [
      "no exact fullname match for Maître Anne vs ['anne claire prince', 'prince anne claire']\n",
      "no exact fullname match for Maître Anne vs ['anne sophie ledonne', 'ledonne anne sophie']\n"
     ]
    },
    {
     "name": "stderr",
     "output_type": "stream",
     "text": [
      " 16%|█▌        | 273/1737 [01:02<05:26,  4.48it/s]"
     ]
    },
    {
     "name": "stdout",
     "output_type": "stream",
     "text": [
      "no exact fullname match for Schroeder Henri vs ['henri christian schroeder', 'schroeder henri christian']\n"
     ]
    },
    {
     "name": "stderr",
     "output_type": "stream",
     "text": [
      " 16%|█▌        | 275/1737 [01:02<05:51,  4.16it/s]"
     ]
    },
    {
     "name": "stdout",
     "output_type": "stream",
     "text": [
      "no exact fullname match for Perrin Anne vs ['anne perrin khelissa', 'perrin khelissa anne']\n",
      "no exact fullname match for Perrin Anne vs ['anne marie perrin', 'perrin anne marie']\n"
     ]
    },
    {
     "name": "stderr",
     "output_type": "stream",
     "text": [
      " 16%|█▌        | 277/1737 [01:04<09:34,  2.54it/s]"
     ]
    },
    {
     "name": "stdout",
     "output_type": "stream",
     "text": [
      "no exact fullname match for Perrin Anne vs ['anne gaelle perrin', 'perrin anne gaelle']\n"
     ]
    },
    {
     "name": "stderr",
     "output_type": "stream",
     "text": [
      " 16%|█▌        | 280/1737 [01:05<07:35,  3.20it/s]"
     ]
    },
    {
     "name": "stdout",
     "output_type": "stream",
     "text": [
      "no exact fullname match for Bories Serge vs ['serge charles bories', 'bories serge charles']\n",
      "no exact fullname match for Pons Françoise vs ['francoise pons lebeau', 'pons lebeau francoise']\n"
     ]
    },
    {
     "name": "stderr",
     "output_type": "stream",
     "text": [
      " 16%|█▌        | 281/1737 [01:05<11:04,  2.19it/s]"
     ]
    },
    {
     "name": "stdout",
     "output_type": "stream",
     "text": [
      "no exact fullname match for Pons Françoise vs ['francoise bernard pons', 'bernard pons francoise']\n",
      "no exact fullname match for Pons Françoise vs ['anne francoise pons', 'pons anne francoise']\n"
     ]
    },
    {
     "name": "stderr",
     "output_type": "stream",
     "text": [
      " 16%|█▌        | 282/1737 [01:06<09:13,  2.63it/s]"
     ]
    },
    {
     "name": "stdout",
     "output_type": "stream",
     "text": [
      "no exact fullname match for Guzylack Laurence vs ['laurence piriou guzylack', 'piriou guzylack laurence']\n",
      "no exact fullname match for Martin Perrine vs ['perrine j  martin', 'martin perrine j']\n"
     ]
    },
    {
     "name": "stderr",
     "output_type": "stream",
     "text": [
      " 16%|█▋        | 283/1737 [01:06<11:54,  2.04it/s]"
     ]
    },
    {
     "name": "stdout",
     "output_type": "stream",
     "text": [
      "no exact fullname match for Martin Perrine vs ['perrine saint martin', 'saint martin perrine']\n",
      "no exact fullname match for Barthélémy Philippe vs ['charles philippe barthelemy', 'barthelemy charles philippe']\n"
     ]
    },
    {
     "name": "stderr",
     "output_type": "stream",
     "text": [
      " 17%|█▋        | 287/1737 [01:08<09:47,  2.47it/s]"
     ]
    },
    {
     "name": "stdout",
     "output_type": "stream",
     "text": [
      "no exact fullname match for Gomez Elena vs ['elena lopez gomez', 'lopez gomez elena']\n",
      "no exact fullname match for Gomez Elena vs ['elena gomez ugarte', 'gomez ugarte elena']\n",
      "no exact fullname match for Gomez Elena vs ['elena gomez perez', 'gomez perez elena']\n",
      "no exact fullname match for Gomez Elena vs ['elena merino gomez', 'merino gomez elena']\n",
      "no exact fullname match for Gomez Elena vs ['elena vasquez gomez', 'vasquez gomez elena']\n",
      "no exact fullname match for Gomez Elena vs ['elena gomez diaz', 'gomez diaz elena']\n",
      "no exact fullname match for Gomez Elena vs ['rieser elena gomez', 'elena gomez rieser']\n",
      "no exact fullname match for Gomez Elena vs ['elena gomez rieser', 'gomez rieser elena']\n",
      "no exact fullname match for Gomez Elena vs ['maria elena gomez moreno', 'gomez moreno maria elena']\n"
     ]
    },
    {
     "name": "stderr",
     "output_type": "stream",
     "text": [
      " 17%|█▋        | 290/1737 [01:09<09:38,  2.50it/s]"
     ]
    },
    {
     "name": "stdout",
     "output_type": "stream",
     "text": [
      "no exact fullname match for Gomez Elena vs ['maria elena gomez hernandez', 'gomez hernandez maria elena']\n"
     ]
    },
    {
     "name": "stderr",
     "output_type": "stream",
     "text": [
      " 17%|█▋        | 295/1737 [01:10<04:37,  5.19it/s]"
     ]
    },
    {
     "name": "stdout",
     "output_type": "stream",
     "text": [
      "no exact fullname match for Etienne Manuel vs ['arnaud manuel etienne', 'etienne arnaud manuel']\n",
      "no exact fullname match for Etienne Manuel vs ['marie andree manuel etienne', 'manuel etienne marie andree']\n"
     ]
    },
    {
     "name": "stderr",
     "output_type": "stream",
     "text": [
      " 17%|█▋        | 298/1737 [01:10<04:50,  4.95it/s]"
     ]
    },
    {
     "name": "stdout",
     "output_type": "stream",
     "text": [
      "no exact fullname match for Etienne Manuel vs ['etienne gougere', 'gougere etienne']\n",
      "no exact fullname match for Suarez Guillaume vs ['guillaume asuarez', 'asuarez guillaume']\n"
     ]
    },
    {
     "name": "stderr",
     "output_type": "stream",
     "text": [
      " 17%|█▋        | 300/1737 [01:11<04:49,  4.96it/s]"
     ]
    },
    {
     "name": "stdout",
     "output_type": "stream",
     "text": [
      "no exact fullname match for Lecomte Catherine vs ['catherine lecomte lapp', 'lecomte lapp catherine']\n",
      "no exact fullname match for Lecomte Catherine vs ['anne catherine lecomte', 'lecomte anne catherine']\n"
     ]
    },
    {
     "name": "stderr",
     "output_type": "stream",
     "text": [
      " 17%|█▋        | 302/1737 [01:12<07:51,  3.04it/s]"
     ]
    },
    {
     "name": "stdout",
     "output_type": "stream",
     "text": [
      "no exact fullname match for Lecomte Catherine vs ['catherine deslandes', 'deslandes catherine']\n",
      "no exact fullname match for Lecomte Catherine vs ['catherine lecomte pradines', 'lecomte pradines catherine']\n"
     ]
    },
    {
     "name": "stderr",
     "output_type": "stream",
     "text": [
      " 18%|█▊        | 314/1737 [01:14<04:37,  5.14it/s]"
     ]
    },
    {
     "name": "stdout",
     "output_type": "stream",
     "text": [
      "no exact fullname match for Tarrade Anne vs ['anne couturier tarrade', 'couturier tarrade anne']\n"
     ]
    },
    {
     "name": "stderr",
     "output_type": "stream",
     "text": [
      " 18%|█▊        | 318/1737 [01:15<07:03,  3.35it/s]"
     ]
    },
    {
     "name": "stdout",
     "output_type": "stream",
     "text": [
      "no exact fullname match for Moreau Christophe vs ['jean christophe moreau', 'moreau jean christophe']\n"
     ]
    },
    {
     "name": "stderr",
     "output_type": "stream",
     "text": [
      " 18%|█▊        | 319/1737 [01:16<11:09,  2.12it/s]"
     ]
    },
    {
     "name": "stdout",
     "output_type": "stream",
     "text": [
      "no exact fullname match for Moreau Christophe vs ['jean christophe moreau', 'moreau jean christophe']\n",
      "no exact fullname match for Moreau Christophe vs ['louis mathurin moreau christophe', 'moreau christophe louis mathurin']\n",
      "no exact fullname match for Moreau Christophe vs ['jean christophe moreau', 'moreau jean christophe']\n"
     ]
    },
    {
     "name": "stderr",
     "output_type": "stream",
     "text": [
      " 20%|█▉        | 346/1737 [01:21<07:53,  2.94it/s]"
     ]
    },
    {
     "name": "stdout",
     "output_type": "stream",
     "text": [
      "no exact fullname match for Chevalier Nicolas vs ['nicolas chevalier roch', 'chevalier roch nicolas']\n",
      "skipping birth date 1562-01-01T00:00:00\n"
     ]
    },
    {
     "name": "stderr",
     "output_type": "stream",
     "text": [
      " 20%|██        | 356/1737 [01:23<04:58,  4.63it/s]"
     ]
    },
    {
     "name": "stdout",
     "output_type": "stream",
     "text": [
      "no exact fullname match for Paris Christophe vs ['jean christophe paris', 'paris jean christophe']\n",
      "no exact fullname match for Paris Christophe vs ['christophe de paris', 'christophe de paris']\n",
      "no exact fullname match for Paris Christophe vs ['jean christophe paris', 'paris jean christophe']\n"
     ]
    },
    {
     "name": "stderr",
     "output_type": "stream",
     "text": [
      " 21%|██        | 357/1737 [01:24<09:40,  2.38it/s]"
     ]
    },
    {
     "name": "stdout",
     "output_type": "stream",
     "text": [
      "no exact fullname match for Paris Christophe vs ['jean christophe coffin', 'coffin jean christophe']\n",
      "no exact fullname match for Paris Christophe vs ['christophe greffet', 'greffet christophe']\n",
      "no exact fullname match for Paris Christophe vs ['christophe de beaumont du repaire', 'beaumont du repaire christophe de']\n"
     ]
    },
    {
     "name": "stderr",
     "output_type": "stream",
     "text": [
      " 21%|██        | 362/1737 [01:25<08:09,  2.81it/s]"
     ]
    },
    {
     "name": "stdout",
     "output_type": "stream",
     "text": [
      "no exact fullname match for Petit Fabienne vs ['fabienne arias petit', 'arias petit fabienne']\n",
      "no exact fullname match for Petit Fabienne vs ['fabienne petit jean', 'petit jean fabienne']\n"
     ]
    },
    {
     "name": "stderr",
     "output_type": "stream",
     "text": [
      " 21%|██        | 369/1737 [01:26<04:38,  4.91it/s]"
     ]
    },
    {
     "name": "stdout",
     "output_type": "stream",
     "text": [
      "no exact fullname match for Bories Serge vs ['serge charles bories', 'bories serge charles']\n"
     ]
    },
    {
     "name": "stderr",
     "output_type": "stream",
     "text": [
      " 21%|██▏       | 372/1737 [01:27<05:14,  4.34it/s]"
     ]
    },
    {
     "name": "stdout",
     "output_type": "stream",
     "text": [
      "no exact fullname match for Chatel Amélie vs ['marie louise amelie chatel', 'chatel marie louise amelie']\n"
     ]
    },
    {
     "name": "stderr",
     "output_type": "stream",
     "text": [
      " 22%|██▏       | 374/1737 [01:28<07:08,  3.18it/s]"
     ]
    },
    {
     "name": "stdout",
     "output_type": "stream",
     "text": [
      "no exact fullname match for Merlin Christophe vs ['antoine merlin', 'merlin antoine']\n",
      "no exact fullname match for Merlin Christophe vs ['paul christophe elisabeth merlin', 'merlin paul christophe elisabeth']\n"
     ]
    },
    {
     "name": "stderr",
     "output_type": "stream",
     "text": [
      " 22%|██▏       | 382/1737 [01:29<05:19,  4.24it/s]"
     ]
    },
    {
     "name": "stdout",
     "output_type": "stream",
     "text": [
      "no exact fullname match for Reynaud Stéphane vs ['stephane denis reynaud', 'reynaud stephane denis']\n"
     ]
    },
    {
     "name": "stderr",
     "output_type": "stream",
     "text": [
      " 22%|██▏       | 384/1737 [01:30<04:51,  4.65it/s]"
     ]
    },
    {
     "name": "stdout",
     "output_type": "stream",
     "text": [
      "no exact fullname match for Lecureur Valérie vs ['valerie lecureur rolland', 'lecureur rolland valerie']\n"
     ]
    },
    {
     "name": "stderr",
     "output_type": "stream",
     "text": [
      " 23%|██▎       | 402/1737 [01:32<02:48,  7.90it/s]"
     ]
    },
    {
     "name": "stdout",
     "output_type": "stream",
     "text": [
      "no exact fullname match for Arnaud-Cormos Delia vs ['liliana delia arnaud cormos', 'arnaud cormos liliana delia']\n"
     ]
    },
    {
     "name": "stderr",
     "output_type": "stream",
     "text": [
      " 23%|██▎       | 407/1737 [01:33<03:22,  6.58it/s]"
     ]
    },
    {
     "name": "stdout",
     "output_type": "stream",
     "text": [
      "no exact fullname match for Bontempi Bruno vs ['bruno bontempi junior', 'bontempi junior bruno']\n"
     ]
    },
    {
     "name": "stderr",
     "output_type": "stream",
     "text": [
      " 24%|██▍       | 417/1737 [01:34<02:42,  8.11it/s]"
     ]
    },
    {
     "name": "stdout",
     "output_type": "stream",
     "text": [
      "no exact fullname match for Villanueva Cristina vs ['cristina ferreiro villanueva', 'ferreiro villanueva cristina']\n",
      "no exact fullname match for Villanueva Cristina vs ['cristina lopez villanueva', 'lopez villanueva cristina']\n",
      "no exact fullname match for Hicks David vs ['david hicks lillard', 'lillard david hicks']\n",
      "no exact fullname match for Hicks David vs ['david l  hicks', 'hicks david l']\n",
      "no exact fullname match for Hicks David vs ['s  david hicks', 'hicks s  david']\n",
      "no exact fullname match for Hicks David vs ['david w  hicks', 'hicks david w']\n"
     ]
    },
    {
     "name": "stderr",
     "output_type": "stream",
     "text": [
      " 24%|██▍       | 418/1737 [01:35<06:16,  3.50it/s]"
     ]
    },
    {
     "name": "stdout",
     "output_type": "stream",
     "text": [
      "no exact fullname match for Hicks David vs ['david m  hicks', 'hicks david m']\n",
      "no exact fullname match for Hicks David vs ['david trevor hicks', 'hicks david trevor']\n"
     ]
    },
    {
     "name": "stderr",
     "output_type": "stream",
     "text": [
      " 24%|██▍       | 419/1737 [01:36<07:42,  2.85it/s]"
     ]
    },
    {
     "name": "stdout",
     "output_type": "stream",
     "text": [
      "no exact fullname match for David Jean-Philippe vs ['jean philippe tricoit', 'tricoit jean philippe']\n"
     ]
    },
    {
     "name": "stderr",
     "output_type": "stream",
     "text": [
      " 25%|██▍       | 434/1737 [01:39<05:08,  4.23it/s]"
     ]
    },
    {
     "name": "stdout",
     "output_type": "stream",
     "text": [
      "no exact fullname match for Deniaud Aurélien vs ['aurelien patrick sylvain deniaud', 'deniaud aurelien patrick sylvain']\n"
     ]
    },
    {
     "name": "stderr",
     "output_type": "stream",
     "text": [
      " 25%|██▌       | 435/1737 [01:39<04:54,  4.43it/s]"
     ]
    },
    {
     "name": "stdout",
     "output_type": "stream",
     "text": [
      "no exact fullname match for Boyer Laurent vs ['lisette laurent boyer', 'laurent boyer lisette']\n"
     ]
    },
    {
     "name": "stderr",
     "output_type": "stream",
     "text": [
      " 25%|██▌       | 437/1737 [01:40<08:12,  2.64it/s]"
     ]
    },
    {
     "name": "stdout",
     "output_type": "stream",
     "text": [
      "skipping death date 1994-01-01T00:00:00\n"
     ]
    },
    {
     "name": "stderr",
     "output_type": "stream",
     "text": [
      " 26%|██▌       | 449/1737 [01:42<03:15,  6.60it/s]"
     ]
    },
    {
     "name": "stdout",
     "output_type": "stream",
     "text": [
      "no exact fullname match for Boizet-Bonhoure Brigitte vs ['brigitte boizet', 'boizet brigitte']\n"
     ]
    },
    {
     "name": "stderr",
     "output_type": "stream",
     "text": [
      " 26%|██▌       | 453/1737 [01:43<03:41,  5.79it/s]"
     ]
    },
    {
     "name": "stdout",
     "output_type": "stream",
     "text": [
      "no exact fullname match for Dumas Orianne vs ['orianne dumas milne edwards', 'dumas milne edwards orianne']\n"
     ]
    },
    {
     "name": "stderr",
     "output_type": "stream",
     "text": [
      " 27%|██▋       | 467/1737 [01:45<03:55,  5.40it/s]"
     ]
    },
    {
     "name": "stdout",
     "output_type": "stream",
     "text": [
      "no exact fullname match for Cuvillier Virginie vs ['virginie cuvillier hot', 'cuvillier hot virginie']\n"
     ]
    },
    {
     "name": "stderr",
     "output_type": "stream",
     "text": [
      " 27%|██▋       | 468/1737 [01:46<08:28,  2.50it/s]"
     ]
    },
    {
     "name": "stdout",
     "output_type": "stream",
     "text": [
      "no exact fullname match for Gautier Mathieu vs ['mathieu gauthier', 'gauthier mathieu']\n",
      "no exact fullname match for Gautier Mathieu vs ['matthieu gaultier', 'gaultier matthieu']\n"
     ]
    },
    {
     "name": "stderr",
     "output_type": "stream",
     "text": [
      " 27%|██▋       | 472/1737 [01:47<04:48,  4.38it/s]"
     ]
    },
    {
     "name": "stdout",
     "output_type": "stream",
     "text": [
      "no exact fullname match for Thany Steeve vs ['steeve herve thany', 'thany steeve herve']\n"
     ]
    },
    {
     "name": "stderr",
     "output_type": "stream",
     "text": [
      " 28%|██▊       | 481/1737 [01:48<02:10,  9.65it/s]"
     ]
    },
    {
     "name": "stdout",
     "output_type": "stream",
     "text": [
      "no exact fullname match for De Seze René vs ['rene de seze', 'seze rene de']\n"
     ]
    },
    {
     "name": "stderr",
     "output_type": "stream",
     "text": [
      " 28%|██▊       | 493/1737 [01:49<01:57, 10.61it/s]"
     ]
    },
    {
     "name": "stdout",
     "output_type": "stream",
     "text": [
      "no exact fullname match for Jean Didier vs ['didier jean nenert', 'nenert didier jean']\n",
      "no exact fullname match for Jean Didier vs ['jean didier blanchet', 'blanchet jean didier']\n",
      "no exact fullname match for Jean Didier vs ['jean didier pinguet', 'pinguet jean didier']\n",
      "no exact fullname match for Jean Didier vs ['jean didier bagot', 'bagot jean didier']\n",
      "no exact fullname match for Jean Didier vs ['jean didier chastelain', 'chastelain jean didier']\n",
      "no exact fullname match for Jean Didier vs ['jean sauveur didier', 'didier jean sauveur']\n",
      "no exact fullname match for Jean Didier vs ['jean didier mbele', 'mbele jean didier']\n",
      "no exact fullname match for Jean Didier vs ['jean didier rosi', 'rosi jean didier']\n"
     ]
    },
    {
     "name": "stderr",
     "output_type": "stream",
     "text": [
      " 30%|██▉       | 517/1737 [01:53<03:10,  6.39it/s]"
     ]
    },
    {
     "name": "stdout",
     "output_type": "stream",
     "text": [
      "no exact fullname match for Marchi Nicola vs ['nicola de marchi', 'de marchi nicola']\n"
     ]
    },
    {
     "name": "stderr",
     "output_type": "stream",
     "text": [
      " 31%|███       | 532/1737 [01:55<03:19,  6.03it/s]"
     ]
    },
    {
     "name": "stdout",
     "output_type": "stream",
     "text": [
      "no exact fullname match for Bellanger Anne vs ['anne wassila bellanger', 'bellanger anne wassila']\n",
      "no exact fullname match for Bellanger Anne vs ['anne pauline bellanger', 'bellanger anne pauline']\n",
      "no exact fullname match for Bellanger Anne vs ['anne sophie bellanger dujardin', 'bellanger dujardin anne sophie']\n"
     ]
    },
    {
     "name": "stderr",
     "output_type": "stream",
     "text": [
      " 31%|███       | 539/1737 [01:57<03:15,  6.11it/s]"
     ]
    },
    {
     "name": "stdout",
     "output_type": "stream",
     "text": [
      "no exact fullname match for Clerget-Froidevaux Marie vs ['marie stephanie clerget froidevaux', 'clerget froidevaux marie stephanie']\n"
     ]
    },
    {
     "name": "stderr",
     "output_type": "stream",
     "text": [
      " 31%|███▏      | 547/1737 [01:58<02:25,  8.16it/s]"
     ]
    },
    {
     "name": "stdout",
     "output_type": "stream",
     "text": [
      "no exact fullname match for Radoi Loredana vs ['loredana radoi pervilhac', 'radoi pervilhac loredana']\n"
     ]
    },
    {
     "name": "stderr",
     "output_type": "stream",
     "text": [
      " 32%|███▏      | 552/1737 [01:59<03:32,  5.57it/s]"
     ]
    },
    {
     "name": "stdout",
     "output_type": "stream",
     "text": [
      "no exact fullname match for Merlin Christophe vs ['antoine merlin', 'merlin antoine']\n",
      "no exact fullname match for Merlin Christophe vs ['paul christophe elisabeth merlin', 'merlin paul christophe elisabeth']\n"
     ]
    },
    {
     "name": "stderr",
     "output_type": "stream",
     "text": [
      " 32%|███▏      | 553/1737 [02:00<06:35,  2.99it/s]"
     ]
    },
    {
     "name": "stdout",
     "output_type": "stream",
     "text": [
      "no exact fullname match for Bonnet Sarah vs ['sarah lasage bonnet', 'lasage bonnet sarah']\n",
      "no exact fullname match for Bonnet Sarah vs ['sarah ariey bonnet', 'ariey bonnet sarah']\n",
      "no exact fullname match for Bonnet Sarah vs ['sarah ducrot bonnet', 'ducrot bonnet sarah']\n"
     ]
    },
    {
     "name": "stderr",
     "output_type": "stream",
     "text": [
      " 32%|███▏      | 564/1737 [02:01<02:21,  8.27it/s]"
     ]
    },
    {
     "name": "stdout",
     "output_type": "stream",
     "text": [
      "no exact fullname match for Degli Esposti Davide Davide vs ['davide degli esposti', 'degli esposti davide']\n"
     ]
    },
    {
     "name": "stderr",
     "output_type": "stream",
     "text": [
      " 34%|███▍      | 597/1737 [02:05<03:44,  5.08it/s]"
     ]
    },
    {
     "name": "stdout",
     "output_type": "stream",
     "text": [
      "no exact fullname match for Juillerat Lucienne vs ['lucienne juillerat jeanneret gris', 'juillerat jeanneret gris lucienne']\n"
     ]
    },
    {
     "name": "stderr",
     "output_type": "stream",
     "text": [
      " 35%|███▍      | 601/1737 [02:06<03:08,  6.03it/s]"
     ]
    },
    {
     "name": "stdout",
     "output_type": "stream",
     "text": [
      "no exact fullname match for Gratacap-Cavallier Bénédicte vs ['benedicte gratacap', 'gratacap benedicte']\n"
     ]
    },
    {
     "name": "stderr",
     "output_type": "stream",
     "text": [
      " 35%|███▌      | 609/1737 [02:08<04:15,  4.42it/s]"
     ]
    },
    {
     "name": "stdout",
     "output_type": "stream",
     "text": [
      "no exact fullname match for SCHNEIDER Dominique vs ['dominique jung schneider', 'jung schneider dominique']\n"
     ]
    },
    {
     "name": "stderr",
     "output_type": "stream",
     "text": [
      " 35%|███▌      | 610/1737 [02:09<07:32,  2.49it/s]"
     ]
    },
    {
     "name": "stdout",
     "output_type": "stream",
     "text": [
      "no exact fullname match for HEINRICH Joachim vs ['heinrich joachim jaeck', 'jaeck heinrich joachim']\n",
      "no exact fullname match for HEINRICH Joachim vs ['heinrich joachim robe', 'robe heinrich joachim']\n",
      "no exact fullname match for HEINRICH Joachim vs ['joachim heinrich knoll', 'knoll joachim heinrich']\n",
      "no exact fullname match for HEINRICH Joachim vs ['joachim heinrich von ledebur', 'ledebur joachim heinrich von']\n",
      "no exact fullname match for HEINRICH Joachim vs ['joachim thies', 'thies joachim']\n",
      "no exact fullname match for HEINRICH Joachim vs ['joachim brinck', 'brinck joachim']\n"
     ]
    },
    {
     "name": "stderr",
     "output_type": "stream",
     "text": [
      " 35%|███▌      | 611/1737 [02:10<10:42,  1.75it/s]"
     ]
    },
    {
     "name": "stdout",
     "output_type": "stream",
     "text": [
      "skipping birth date 1860-01-30T00:00:00\n",
      "no exact fullname match for HEINRICH Joachim vs ['joachim heinrich schmidt', 'schmidt joachim heinrich']\n",
      "no exact fullname match for HEINRICH Joachim vs ['joachim heinrich jaeck', 'jaeck joachim heinrich']\n"
     ]
    },
    {
     "name": "stderr",
     "output_type": "stream",
     "text": [
      " 35%|███▌      | 614/1737 [02:10<06:12,  3.01it/s]"
     ]
    },
    {
     "name": "stdout",
     "output_type": "stream",
     "text": [
      "no exact fullname match for PINEAU Charles vs ['charles henri pineau', 'pineau charles henri']\n",
      "skipping birth date 1877-01-01T00:00:00\n"
     ]
    },
    {
     "name": "stderr",
     "output_type": "stream",
     "text": [
      " 36%|███▌      | 623/1737 [02:13<07:16,  2.55it/s]"
     ]
    },
    {
     "name": "stdout",
     "output_type": "stream",
     "text": [
      "skipping death date 1628-05-21T00:00:00\n"
     ]
    },
    {
     "name": "stderr",
     "output_type": "stream",
     "text": [
      " 36%|███▌      | 624/1737 [02:13<07:21,  2.52it/s]"
     ]
    },
    {
     "name": "stdout",
     "output_type": "stream",
     "text": [
      "no exact fullname match for Bretin Philippe vs ['jean philippe bretin', 'bretin jean philippe']\n",
      "no exact fullname match for Bretin Philippe vs ['philippe marie bretin', 'bretin philippe marie']\n"
     ]
    },
    {
     "name": "stderr",
     "output_type": "stream",
     "text": [
      " 36%|███▌      | 627/1737 [02:14<05:02,  3.67it/s]"
     ]
    },
    {
     "name": "stdout",
     "output_type": "stream",
     "text": [
      "no exact fullname match for Bouvet Elisabeth vs ['elisabeth bouvet cador', 'bouvet cador elisabeth']\n",
      "no exact fullname match for Guillot Jacques vs ['jacques michel guillot', 'guillot jacques michel']\n"
     ]
    },
    {
     "name": "stderr",
     "output_type": "stream",
     "text": [
      " 36%|███▌      | 629/1737 [02:15<05:30,  3.36it/s]"
     ]
    },
    {
     "name": "stdout",
     "output_type": "stream",
     "text": [
      "no exact fullname match for Guillot Jacques vs ['jacques guillot de blancheville', 'guillot de blancheville jacques']\n"
     ]
    },
    {
     "name": "stderr",
     "output_type": "stream",
     "text": [
      " 36%|███▋      | 633/1737 [02:16<05:00,  3.67it/s]"
     ]
    },
    {
     "name": "stdout",
     "output_type": "stream",
     "text": [
      "no exact fullname match for Pean Michel vs ['rene michel  pean', 'pean rene michel']\n",
      "skipping birth date 1913-10-01T00:00:00\n",
      "no exact fullname match for Pean Michel vs ['jean michel pean', 'pean jean michel']\n"
     ]
    },
    {
     "name": "stderr",
     "output_type": "stream",
     "text": [
      " 37%|███▋      | 644/1737 [02:18<05:27,  3.34it/s]"
     ]
    },
    {
     "name": "stdout",
     "output_type": "stream",
     "text": [
      "no exact fullname match for Weber Christiane vs ['christiane weber klein', 'weber klein christiane']\n"
     ]
    },
    {
     "name": "stderr",
     "output_type": "stream",
     "text": [
      " 38%|███▊      | 663/1737 [02:21<03:21,  5.32it/s]"
     ]
    },
    {
     "name": "stdout",
     "output_type": "stream",
     "text": [
      "no exact fullname match for Dolez Patricia vs ['patricia i  dolez', 'dolez patricia i']\n"
     ]
    },
    {
     "name": "stderr",
     "output_type": "stream",
     "text": [
      " 39%|███▊      | 669/1737 [02:22<03:04,  5.80it/s]"
     ]
    },
    {
     "name": "stdout",
     "output_type": "stream",
     "text": [
      "no exact fullname match for Bernard Cécile vs ['cecile bernard calvet', 'bernard calvet cecile']\n"
     ]
    },
    {
     "name": "stderr",
     "output_type": "stream",
     "text": [
      " 39%|███▊      | 670/1737 [02:23<06:58,  2.55it/s]"
     ]
    },
    {
     "name": "stdout",
     "output_type": "stream",
     "text": [
      "no exact fullname match for Bernard Cécile vs ['cecile ollitraut bernard', 'ollitraut bernard cecile']\n"
     ]
    },
    {
     "name": "stderr",
     "output_type": "stream",
     "text": [
      " 39%|███▉      | 679/1737 [02:25<03:25,  5.16it/s]"
     ]
    },
    {
     "name": "stdout",
     "output_type": "stream",
     "text": [
      "no exact fullname match for Marquis Nathalie vs ['nathalie le marquis', 'le marquis nathalie']\n"
     ]
    },
    {
     "name": "stderr",
     "output_type": "stream",
     "text": [
      " 39%|███▉      | 682/1737 [02:25<03:21,  5.25it/s]"
     ]
    },
    {
     "name": "stdout",
     "output_type": "stream",
     "text": [
      "no exact fullname match for Andre Véronique vs ['veronique andre bochaton', 'andre bochaton veronique']\n",
      "no exact fullname match for Andre Véronique vs ['veronique andre elisabeth', 'andre elisabeth veronique']\n"
     ]
    },
    {
     "name": "stderr",
     "output_type": "stream",
     "text": [
      " 39%|███▉      | 683/1737 [02:26<07:46,  2.26it/s]"
     ]
    },
    {
     "name": "stdout",
     "output_type": "stream",
     "text": [
      "no exact fullname match for Andre Véronique vs ['veronique andre durupt', 'andre durupt veronique']\n"
     ]
    },
    {
     "name": "stderr",
     "output_type": "stream",
     "text": [
      " 39%|███▉      | 684/1737 [02:27<06:25,  2.73it/s]"
     ]
    },
    {
     "name": "stdout",
     "output_type": "stream",
     "text": [
      "no exact fullname match for Bousquet Philippe vs ['philippe jean bousquet', 'bousquet philippe jean']\n"
     ]
    },
    {
     "name": "stderr",
     "output_type": "stream",
     "text": [
      " 40%|███▉      | 688/1737 [02:28<04:49,  3.63it/s]"
     ]
    },
    {
     "name": "stdout",
     "output_type": "stream",
     "text": [
      "no exact fullname match for Durand Philippe vs ['claude philippe durand', 'durand claude philippe']\n"
     ]
    },
    {
     "name": "stderr",
     "output_type": "stream",
     "text": [
      " 40%|███▉      | 691/1737 [02:29<06:45,  2.58it/s]"
     ]
    },
    {
     "name": "stdout",
     "output_type": "stream",
     "text": [
      "no exact fullname match for Garrigou Alain vs ['alain garrigou torchy', 'garrigou torchy alain']\n"
     ]
    },
    {
     "name": "stderr",
     "output_type": "stream",
     "text": [
      " 40%|████      | 697/1737 [02:30<03:59,  4.35it/s]"
     ]
    },
    {
     "name": "stdout",
     "output_type": "stream",
     "text": [
      "no exact fullname match for Riviere Emmanuel vs ['marie emmanuel riviere', 'riviere marie emmanuel']\n"
     ]
    },
    {
     "name": "stderr",
     "output_type": "stream",
     "text": [
      " 40%|████      | 703/1737 [02:31<02:46,  6.22it/s]"
     ]
    },
    {
     "name": "stdout",
     "output_type": "stream",
     "text": [
      "no exact fullname match for Henry Emmanuel vs ['henry emmanuel delbousquet', 'emmanuel delbousquet henry']\n",
      "no exact fullname match for Henry Emmanuel vs ['henry emmanuel weiss', 'weiss henry emmanuel']\n",
      "no exact fullname match for Henry Emmanuel vs ['henry emmanuel thyebault', 'thyebault henry emmanuel']\n",
      "no exact fullname match for Henry Emmanuel vs ['emmanuel ossian henry', 'henry emmanuel ossian']\n",
      "no exact fullname match for Henry Emmanuel vs ['henry emmanuel marie aubin', 'aubin henry emmanuel marie']\n"
     ]
    },
    {
     "name": "stderr",
     "output_type": "stream",
     "text": [
      " 41%|████      | 704/1737 [02:32<06:29,  2.65it/s]"
     ]
    },
    {
     "name": "stdout",
     "output_type": "stream",
     "text": [
      "no exact fullname match for Henry Emmanuel vs ['daniel joseph henry emmanuel aubry', 'aubry daniel joseph henry emmanuel']\n"
     ]
    },
    {
     "name": "stderr",
     "output_type": "stream",
     "text": [
      " 41%|████      | 715/1737 [02:34<02:48,  6.08it/s]"
     ]
    },
    {
     "name": "stdout",
     "output_type": "stream",
     "text": [
      "skipping birth date 1910-05-21T00:00:00\n",
      "no exact fullname match for Martin Michèle vs ['michele guignard martin', 'guignard martin michele']\n"
     ]
    },
    {
     "name": "stderr",
     "output_type": "stream",
     "text": [
      " 41%|████▏     | 717/1737 [02:35<05:14,  3.24it/s]"
     ]
    },
    {
     "name": "stdout",
     "output_type": "stream",
     "text": [
      "no exact fullname match for Martin Michèle vs ['michele martin remy', 'martin remy michele']\n"
     ]
    },
    {
     "name": "stderr",
     "output_type": "stream",
     "text": [
      " 42%|████▏     | 724/1737 [02:36<02:57,  5.70it/s]"
     ]
    },
    {
     "name": "stdout",
     "output_type": "stream",
     "text": [
      "no exact fullname match for De Barbeyrac Bertille vs ['bertille de barbeyrac', 'barbeyrac bertille de']\n"
     ]
    },
    {
     "name": "stderr",
     "output_type": "stream",
     "text": [
      " 42%|████▏     | 729/1737 [02:37<02:55,  5.73it/s]"
     ]
    },
    {
     "name": "stdout",
     "output_type": "stream",
     "text": [
      "no exact fullname match for Roques Christine vs ['daniele roques georget', 'roques georget daniele']\n"
     ]
    },
    {
     "name": "stderr",
     "output_type": "stream",
     "text": [
      " 42%|████▏     | 736/1737 [02:38<02:08,  7.79it/s]"
     ]
    },
    {
     "name": "stdout",
     "output_type": "stream",
     "text": [
      "no exact fullname match for Forget-Leray Joëlle vs ['joelle leray forget', 'leray forget joelle']\n"
     ]
    },
    {
     "name": "stderr",
     "output_type": "stream",
     "text": [
      " 42%|████▏     | 738/1737 [02:38<02:40,  6.21it/s]"
     ]
    },
    {
     "name": "stdout",
     "output_type": "stream",
     "text": [
      "no exact fullname match for Lacour Stéphanie vs ['stephanie p  lacour', 'lacour stephanie p']\n"
     ]
    },
    {
     "name": "stderr",
     "output_type": "stream",
     "text": [
      " 43%|████▎     | 740/1737 [02:38<02:43,  6.10it/s]"
     ]
    },
    {
     "name": "stdout",
     "output_type": "stream",
     "text": [
      "no exact fullname match for Bloch Isabelle vs ['isabelle baladier bloch', 'baladier bloch isabelle']\n",
      "no exact fullname match for Bloch Isabelle vs ['isabelle sebban', 'sebban isabelle']\n",
      "no exact fullname match for Bloch Isabelle vs ['chantal cohen bacri', 'cohen bacri chantal']\n"
     ]
    },
    {
     "name": "stderr",
     "output_type": "stream",
     "text": [
      " 43%|████▎     | 748/1737 [02:40<03:08,  5.24it/s]"
     ]
    },
    {
     "name": "stdout",
     "output_type": "stream",
     "text": [
      "no exact fullname match for Krebs Tobias vs ['johann tobias krebs', 'krebs johann tobias']\n"
     ]
    },
    {
     "name": "stderr",
     "output_type": "stream",
     "text": [
      " 43%|████▎     | 750/1737 [02:41<04:06,  4.01it/s]"
     ]
    },
    {
     "name": "stdout",
     "output_type": "stream",
     "text": [
      "no exact fullname match for Garrigou Alain vs ['alain garrigou torchy', 'garrigou torchy alain']\n"
     ]
    },
    {
     "name": "stderr",
     "output_type": "stream",
     "text": [
      " 43%|████▎     | 754/1737 [02:41<03:05,  5.31it/s]"
     ]
    },
    {
     "name": "stdout",
     "output_type": "stream",
     "text": [
      "no exact fullname match for Bouchez Agnès vs ['marie agnes bouchez', 'bouchez marie agnes']\n"
     ]
    },
    {
     "name": "stderr",
     "output_type": "stream",
     "text": [
      " 44%|████▎     | 758/1737 [02:42<02:21,  6.92it/s]"
     ]
    },
    {
     "name": "stdout",
     "output_type": "stream",
     "text": [
      "no exact fullname match for De Sèze René vs ['rene de seze', 'seze rene de']\n"
     ]
    },
    {
     "name": "stderr",
     "output_type": "stream",
     "text": [
      " 44%|████▍     | 762/1737 [02:43<02:48,  5.79it/s]"
     ]
    },
    {
     "name": "stdout",
     "output_type": "stream",
     "text": [
      "no exact fullname match for Pierre Fabrice vs ['pierre fabrice lopez', 'lopez pierre fabrice']\n",
      "no exact fullname match for Pierre Fabrice vs ['fabrice pierre koebelin', 'koebelin fabrice pierre']\n",
      "no exact fullname match for Pierre Fabrice vs ['fabrice woittequand', 'woittequand fabrice']\n",
      "no exact fullname match for Pierre Fabrice vs ['fabrice detrez', 'detrez fabrice']\n",
      "no exact fullname match for Pierre Fabrice vs ['fabrice pinard saint pierre', 'pinard saint pierre fabrice']\n",
      "no exact fullname match for Pierre Fabrice vs ['fabrice pierre sabatier', 'sabatier fabrice pierre']\n"
     ]
    },
    {
     "name": "stderr",
     "output_type": "stream",
     "text": [
      " 45%|████▍     | 773/1737 [02:45<02:36,  6.17it/s]"
     ]
    },
    {
     "name": "stdout",
     "output_type": "stream",
     "text": [
      "no exact fullname match for Leveque Philippe vs ['jean philippe leveque', 'leveque jean philippe']\n"
     ]
    },
    {
     "name": "stderr",
     "output_type": "stream",
     "text": [
      " 45%|████▍     | 777/1737 [02:47<03:32,  4.51it/s]"
     ]
    },
    {
     "name": "stdout",
     "output_type": "stream",
     "text": [
      "no exact fullname match for Leveque Philippe vs ['philippe berenger leveque', 'berenger leveque philippe']\n",
      "no exact fullname match for Bourchis Déborah vs ['deborah bourc his', 'bourc his deborah']\n"
     ]
    },
    {
     "name": "stderr",
     "output_type": "stream",
     "text": [
      " 45%|████▍     | 778/1737 [02:47<03:47,  4.22it/s]"
     ]
    },
    {
     "name": "stdout",
     "output_type": "stream",
     "text": [
      "no exact fullname match for Laborie Anne vs ['anne laure laborie', 'laborie anne laure']\n"
     ]
    },
    {
     "name": "stderr",
     "output_type": "stream",
     "text": [
      " 45%|████▌     | 782/1737 [02:48<04:19,  3.68it/s]"
     ]
    },
    {
     "name": "stdout",
     "output_type": "stream",
     "text": [
      "no exact fullname match for Jay Thérese vs ['therese jay nowaczyk', 'jay nowaczyk therese']\n",
      "no exact fullname match for Jay Thérese vs ['marie therese jay', 'jay marie therese']\n"
     ]
    },
    {
     "name": "stderr",
     "output_type": "stream",
     "text": [
      " 45%|████▌     | 786/1737 [02:48<02:35,  6.10it/s]"
     ]
    },
    {
     "name": "stdout",
     "output_type": "stream",
     "text": [
      "no exact fullname match for De Sèze René vs ['rene de seze', 'seze rene de']\n",
      "no exact fullname match for De Sèze René vs ['rene de seze', 'seze rene de']\n"
     ]
    },
    {
     "name": "stderr",
     "output_type": "stream",
     "text": [
      " 45%|████▌     | 789/1737 [02:49<03:42,  4.27it/s]"
     ]
    },
    {
     "name": "stdout",
     "output_type": "stream",
     "text": [
      "no exact fullname match for David Jean Philippe vs ['jean philippe tricoit', 'tricoit jean philippe']\n",
      "no exact fullname match for David Jean Philippe vs ['jean cheri david philippe caubet', 'caubet jean cheri david philippe']\n"
     ]
    },
    {
     "name": "stderr",
     "output_type": "stream",
     "text": [
      " 45%|████▌     | 790/1737 [02:49<03:51,  4.09it/s]"
     ]
    },
    {
     "name": "stdout",
     "output_type": "stream",
     "text": [
      "no exact fullname match for Villena Isabelle vs ['isabelle bodart', 'bodart isabelle']\n",
      "no exact fullname match for Villena Isabelle vs ['isabelle coste villena', 'coste villena isabelle']\n",
      "no exact fullname match for Comte Gilles vs ['gilles francois graimberg de belleau', 'graimberg de belleau gilles francois']\n",
      "no exact fullname match for Comte Gilles vs ['louis gilles de maupeou d ableiges', 'maupeou d ableiges louis gilles de']\n"
     ]
    },
    {
     "name": "stderr",
     "output_type": "stream",
     "text": [
      " 46%|████▌     | 793/1737 [02:50<03:19,  4.73it/s]"
     ]
    },
    {
     "name": "stdout",
     "output_type": "stream",
     "text": [
      "no exact fullname match for Comte Gilles vs ['gilles charles porcher de lissonay', 'porcher de lissonay gilles charles']\n",
      "no exact fullname match for Boutet Elisa vs ['elisa boutet robinet', 'boutet robinet elisa']\n"
     ]
    },
    {
     "name": "stderr",
     "output_type": "stream",
     "text": [
      " 46%|████▌     | 796/1737 [02:51<03:50,  4.09it/s]"
     ]
    },
    {
     "name": "stdout",
     "output_type": "stream",
     "text": [
      "no exact fullname match for Leger Damien vs ['clement leger', 'leger clement']\n"
     ]
    },
    {
     "name": "stderr",
     "output_type": "stream",
     "text": [
      " 49%|████▉     | 848/1737 [02:59<05:13,  2.83it/s]"
     ]
    },
    {
     "name": "stdout",
     "output_type": "stream",
     "text": [
      "no exact fullname match for Dumont Laurent vs ['aristide dumont', 'dumont aristide']\n",
      "no exact fullname match for Dumont Laurent vs ['laurent angliviel de la beaumelle', 'la beaumelle laurent angliviel de']\n"
     ]
    },
    {
     "name": "stderr",
     "output_type": "stream",
     "text": [
      " 49%|████▉     | 852/1737 [03:00<02:43,  5.42it/s]"
     ]
    },
    {
     "name": "stdout",
     "output_type": "stream",
     "text": [
      "no exact fullname match for Sanz Guenhaël vs ['guenhael sanz', 'sanz  guenhael']\n"
     ]
    },
    {
     "name": "stderr",
     "output_type": "stream",
     "text": [
      " 49%|████▉     | 854/1737 [03:00<02:36,  5.66it/s]"
     ]
    },
    {
     "name": "stdout",
     "output_type": "stream",
     "text": [
      "no exact fullname match for Moret Leila vs ['leila moret majoube', 'moret majoube leila']\n"
     ]
    },
    {
     "name": "stderr",
     "output_type": "stream",
     "text": [
      " 50%|████▉     | 867/1737 [03:02<03:09,  4.60it/s]"
     ]
    },
    {
     "name": "stdout",
     "output_type": "stream",
     "text": [
      "no exact fullname match for Chanel Olivier vs ['olivier de crouy chanel', 'crouy chanel olivier de']\n"
     ]
    },
    {
     "name": "stderr",
     "output_type": "stream",
     "text": [
      " 51%|█████     | 879/1737 [03:03<01:30,  9.44it/s]"
     ]
    },
    {
     "name": "stdout",
     "output_type": "stream",
     "text": [
      "no exact fullname match for Walter Scott vs ['walter scott peterson', 'peterson walter scott']\n",
      "no exact fullname match for Walter Scott vs ['walter giorgio scott', 'scott walter giorgio']\n",
      "no exact fullname match for Walter Scott vs ['walter g  scott', 'scott walter g']\n",
      "no exact fullname match for Walter Scott vs ['walter scott polland', 'polland walter scott']\n",
      "no exact fullname match for Walter Scott vs ['walter n  scott', 'scott walter n']\n",
      "no exact fullname match for Walter Scott vs ['walter scott huxford', 'huxford walter scott']\n",
      "no exact fullname match for Walter Scott vs ['walter scott dalgleish', 'dalgleish walter scott']\n"
     ]
    },
    {
     "name": "stderr",
     "output_type": "stream",
     "text": [
      " 51%|█████     | 890/1737 [03:07<02:57,  4.78it/s]"
     ]
    },
    {
     "name": "stdout",
     "output_type": "stream",
     "text": [
      "no exact fullname match for Petit Fabienne vs ['fabienne arias petit', 'arias petit fabienne']\n",
      "no exact fullname match for Petit Fabienne vs ['fabienne petit jean', 'petit jean fabienne']\n"
     ]
    },
    {
     "name": "stderr",
     "output_type": "stream",
     "text": [
      " 51%|█████▏    | 894/1737 [03:07<02:09,  6.52it/s]"
     ]
    },
    {
     "name": "stdout",
     "output_type": "stream",
     "text": [
      "no exact fullname match for Léké Lokombe André vs ['andre leke', 'leke andre']\n"
     ]
    },
    {
     "name": "stderr",
     "output_type": "stream",
     "text": [
      " 52%|█████▏    | 905/1737 [03:09<02:07,  6.51it/s]"
     ]
    },
    {
     "name": "stdout",
     "output_type": "stream",
     "text": [
      "no exact fullname match for Ciocca Dominique vs ['dominique sage ciocca', 'sage ciocca dominique']\n"
     ]
    },
    {
     "name": "stderr",
     "output_type": "stream",
     "text": [
      " 52%|█████▏    | 907/1737 [03:09<02:29,  5.54it/s]"
     ]
    },
    {
     "name": "stdout",
     "output_type": "stream",
     "text": [
      "skipping death date 1561-09-05T00:00:00\n"
     ]
    },
    {
     "name": "stderr",
     "output_type": "stream",
     "text": [
      " 53%|█████▎    | 918/1737 [03:11<02:13,  6.14it/s]"
     ]
    },
    {
     "name": "stdout",
     "output_type": "stream",
     "text": [
      "no exact fullname match for Boulard Yves vs ['pierre yves boulard', 'boulard pierre yves']\n"
     ]
    },
    {
     "name": "stderr",
     "output_type": "stream",
     "text": [
      " 53%|█████▎    | 923/1737 [03:12<02:27,  5.51it/s]"
     ]
    },
    {
     "name": "stdout",
     "output_type": "stream",
     "text": [
      "no exact fullname match for Haddad Sami vs ['fuad sami haddad', 'haddad fuad sami']\n"
     ]
    },
    {
     "name": "stderr",
     "output_type": "stream",
     "text": [
      " 53%|█████▎    | 929/1737 [03:13<01:55,  7.00it/s]"
     ]
    },
    {
     "name": "stdout",
     "output_type": "stream",
     "text": [
      "no exact fullname match for Le Moual Nicole vs ['nicole lincot le moual', 'lincot le moual nicole']\n"
     ]
    },
    {
     "name": "stderr",
     "output_type": "stream",
     "text": [
      " 54%|█████▎    | 932/1737 [03:13<01:27,  9.19it/s]"
     ]
    },
    {
     "name": "stdout",
     "output_type": "stream",
     "text": [
      "no exact fullname match for Lévêque Philippe vs ['jean philippe leveque', 'leveque jean philippe']\n"
     ]
    },
    {
     "name": "stderr",
     "output_type": "stream",
     "text": [
      " 54%|█████▍    | 934/1737 [03:14<03:16,  4.09it/s]"
     ]
    },
    {
     "name": "stdout",
     "output_type": "stream",
     "text": [
      "no exact fullname match for Lévêque Philippe vs ['philippe berenger leveque', 'berenger leveque philippe']\n",
      "no exact fullname match for Maître Anne vs ['anne le maitre', 'le maitre anne']\n",
      "no exact fullname match for Maître Anne vs ['anne le maitre', 'le maitre anne']\n",
      "no exact fullname match for Maître Anne vs ['marie anne prioux maitre', 'prioux maitre marie anne']\n",
      "no exact fullname match for Maître Anne vs ['anne marie peau', 'peau anne marie']\n",
      "no exact fullname match for Maître Anne vs ['anne laure bourdel', 'bourdel anne laure']\n",
      "no exact fullname match for Maître Anne vs ['anne waugh', 'waugh anne']\n"
     ]
    },
    {
     "name": "stderr",
     "output_type": "stream",
     "text": [
      " 54%|█████▍    | 937/1737 [03:15<03:55,  3.40it/s]"
     ]
    },
    {
     "name": "stdout",
     "output_type": "stream",
     "text": [
      "no exact fullname match for Maître Anne vs ['anne claire prince', 'prince anne claire']\n",
      "no exact fullname match for Maître Anne vs ['anne sophie ledonne', 'ledonne anne sophie']\n"
     ]
    },
    {
     "name": "stderr",
     "output_type": "stream",
     "text": [
      " 54%|█████▍    | 944/1737 [03:15<01:58,  6.71it/s]"
     ]
    },
    {
     "name": "stdout",
     "output_type": "stream",
     "text": [
      "no exact fullname match for Sunyer Jordi vs ['jordi sunyer monfort', 'sunyer monfort jordi']\n"
     ]
    },
    {
     "name": "stderr",
     "output_type": "stream",
     "text": [
      " 55%|█████▍    | 949/1737 [03:17<02:24,  5.45it/s]"
     ]
    },
    {
     "name": "stdout",
     "output_type": "stream",
     "text": [
      "no exact fullname match for Chamel Véronique vs ['veronique mossuz', 'mossuz veronique']\n"
     ]
    },
    {
     "name": "stderr",
     "output_type": "stream",
     "text": [
      " 55%|█████▍    | 950/1737 [03:17<02:24,  5.45it/s]"
     ]
    },
    {
     "name": "stdout",
     "output_type": "stream",
     "text": [
      "no exact fullname match for Dumas Orianne vs ['orianne dumas milne edwards', 'dumas milne edwards orianne']\n"
     ]
    },
    {
     "name": "stderr",
     "output_type": "stream",
     "text": [
      " 55%|█████▍    | 952/1737 [03:17<02:07,  6.15it/s]"
     ]
    },
    {
     "name": "stdout",
     "output_type": "stream",
     "text": [
      "no exact fullname match for Santos Miguel vs ['miguel angel santos', 'santos miguel angel']\n",
      "no exact fullname match for Santos Miguel vs ['miguel dias santos', 'santos miguel dias']\n",
      "no exact fullname match for Santos Miguel vs ['miguel santos neves', 'neves miguel santos']\n",
      "no exact fullname match for Santos Miguel vs ['miguel de los santos', 'santos miguel de los']\n",
      "no exact fullname match for Santos Miguel vs ['miguel vidal santos', 'vidal santos miguel']\n",
      "no exact fullname match for Santos Miguel vs ['amandio miguel dos santos', 'santos amandio miguel dos']\n"
     ]
    },
    {
     "name": "stderr",
     "output_type": "stream",
     "text": [
      " 55%|█████▍    | 953/1737 [03:18<04:50,  2.69it/s]"
     ]
    },
    {
     "name": "stdout",
     "output_type": "stream",
     "text": [
      "no exact fullname match for Santos Miguel vs ['miguel calvo santos', 'calvo santos miguel']\n"
     ]
    },
    {
     "name": "stderr",
     "output_type": "stream",
     "text": [
      " 55%|█████▌    | 957/1737 [03:19<03:34,  3.63it/s]"
     ]
    },
    {
     "name": "stdout",
     "output_type": "stream",
     "text": [
      "no exact fullname match for Hubert Gilles vs ['gilles denoix', 'denoix gilles']\n"
     ]
    },
    {
     "name": "stderr",
     "output_type": "stream",
     "text": [
      " 55%|█████▌    | 958/1737 [03:20<04:48,  2.70it/s]"
     ]
    },
    {
     "name": "stdout",
     "output_type": "stream",
     "text": [
      "no exact fullname match for Hubert Gilles vs ['albert clement gilles hubert de scoville', 'scoville albert clement gilles hubert de']\n"
     ]
    },
    {
     "name": "stderr",
     "output_type": "stream",
     "text": [
      " 56%|█████▌    | 967/1737 [03:21<02:31,  5.08it/s]"
     ]
    },
    {
     "name": "stdout",
     "output_type": "stream",
     "text": [
      "no exact fullname match for Maesano Isabella Annesi vs ['isabella annesi maesano', 'annesi maesano isabella']\n"
     ]
    },
    {
     "name": "stderr",
     "output_type": "stream",
     "text": [
      " 56%|█████▌    | 968/1737 [03:22<02:31,  5.07it/s]"
     ]
    },
    {
     "name": "stdout",
     "output_type": "stream",
     "text": [
      "no exact fullname match for Leveque Philippe vs ['jean philippe leveque', 'leveque jean philippe']\n"
     ]
    },
    {
     "name": "stderr",
     "output_type": "stream",
     "text": [
      " 56%|█████▌    | 972/1737 [03:23<03:12,  3.97it/s]"
     ]
    },
    {
     "name": "stdout",
     "output_type": "stream",
     "text": [
      "no exact fullname match for Leveque Philippe vs ['philippe berenger leveque', 'berenger leveque philippe']\n"
     ]
    },
    {
     "name": "stderr",
     "output_type": "stream",
     "text": [
      " 57%|█████▋    | 991/1737 [03:27<02:30,  4.97it/s]"
     ]
    },
    {
     "name": "stdout",
     "output_type": "stream",
     "text": [
      "no exact fullname match for Humbert Bernard vs ['bernard gaspard', 'gaspard bernard']\n",
      "no exact fullname match for Humbert Bernard vs ['colette humbert', 'humbert colette']\n"
     ]
    },
    {
     "name": "stderr",
     "output_type": "stream",
     "text": [
      " 58%|█████▊    | 1006/1737 [03:29<01:23,  8.77it/s]"
     ]
    },
    {
     "name": "stdout",
     "output_type": "stream",
     "text": [
      "no exact fullname match for De Blay Frédéric vs ['frederic de blay', 'blay frederic de']\n"
     ]
    },
    {
     "name": "stderr",
     "output_type": "stream",
     "text": [
      " 58%|█████▊    | 1008/1737 [03:29<01:10, 10.40it/s]"
     ]
    },
    {
     "name": "stdout",
     "output_type": "stream",
     "text": [
      "no exact fullname match for Armengaud Jean vs ['jean baptiste armengaud', 'armengaud jean baptiste']\n",
      "no exact fullname match for Armengaud Jean vs ['jean pierre armengaud', 'armengaud jean pierre']\n",
      "no exact fullname match for Armengaud Jean vs ['jean hebert armengaud', 'armengaud jean hebert']\n"
     ]
    },
    {
     "name": "stderr",
     "output_type": "stream",
     "text": [
      " 58%|█████▊    | 1010/1737 [03:30<03:01,  4.00it/s]"
     ]
    },
    {
     "name": "stdout",
     "output_type": "stream",
     "text": [
      "no exact fullname match for Armengaud Jean vs ['gerard jean armengaud', 'armengaud gerard jean']\n",
      "no exact fullname match for Armengaud Jean vs ['jean pierre armengaud', 'armengaud jean pierre']\n",
      "no exact fullname match for Carriere Marie vs ['marie j  carriere', 'carriere marie j']\n",
      "no exact fullname match for Carriere Marie vs ['anne marie carriere', 'carriere anne marie']\n",
      "no exact fullname match for Carriere Marie vs ['lucien eugene marie carriere', 'carriere lucien eugene marie']\n",
      "no exact fullname match for Carriere Marie vs ['jean marie carriere', 'carriere jean marie']\n",
      "no exact fullname match for Carriere Marie vs ['marie vigier carriere', 'vigier carriere marie']\n",
      "no exact fullname match for Carriere Marie vs ['martin barthelemy carriere', 'carriere martin barthelemy']\n"
     ]
    },
    {
     "name": "stderr",
     "output_type": "stream",
     "text": [
      " 58%|█████▊    | 1011/1737 [03:31<04:36,  2.62it/s]"
     ]
    },
    {
     "name": "stdout",
     "output_type": "stream",
     "text": [
      "no exact fullname match for Carriere Marie vs ['jean marie carriere', 'carriere jean marie']\n",
      "no exact fullname match for Carriere Marie vs ['marie joseph henri carriere', 'carriere marie joseph henri']\n"
     ]
    },
    {
     "name": "stderr",
     "output_type": "stream",
     "text": [
      " 58%|█████▊    | 1012/1737 [03:31<04:23,  2.75it/s]"
     ]
    },
    {
     "name": "stdout",
     "output_type": "stream",
     "text": [
      "no exact fullname match for Rosin Christophe vs ['francois martinengo', 'martinengo francois']\n",
      "no exact fullname match for Maitre Anne vs ['anne le maitre', 'le maitre anne']\n",
      "no exact fullname match for Maitre Anne vs ['anne le maitre', 'le maitre anne']\n",
      "no exact fullname match for Maitre Anne vs ['marie anne prioux maitre', 'prioux maitre marie anne']\n",
      "no exact fullname match for Maitre Anne vs ['anne marie peau', 'peau anne marie']\n",
      "no exact fullname match for Maitre Anne vs ['anne laure bourdel', 'bourdel anne laure']\n"
     ]
    },
    {
     "name": "stderr",
     "output_type": "stream",
     "text": [
      " 58%|█████▊    | 1014/1737 [03:32<05:14,  2.30it/s]"
     ]
    },
    {
     "name": "stdout",
     "output_type": "stream",
     "text": [
      "no exact fullname match for Maitre Anne vs ['anne waugh', 'waugh anne']\n",
      "no exact fullname match for Maitre Anne vs ['anne claire prince', 'prince anne claire']\n",
      "no exact fullname match for Maitre Anne vs ['anne sophie ledonne', 'ledonne anne sophie']\n"
     ]
    },
    {
     "name": "stderr",
     "output_type": "stream",
     "text": [
      " 59%|█████▉    | 1022/1737 [03:34<02:20,  5.07it/s]"
     ]
    },
    {
     "name": "stdout",
     "output_type": "stream",
     "text": [
      "no exact fullname match for Gastaldi Emmanuelle vs ['emmanuelle gastaldi bouabid', 'gastaldi bouabid emmanuelle']\n",
      "no exact fullname match for Selmaoui-Folcher Nazha vs ['nazha selmaoui', 'selmaoui nazha']\n"
     ]
    },
    {
     "name": "stderr",
     "output_type": "stream",
     "text": [
      " 59%|█████▉    | 1026/1737 [03:34<02:43,  4.34it/s]"
     ]
    },
    {
     "name": "stdout",
     "output_type": "stream",
     "text": [
      "no exact fullname match for Baron Thierry vs ['thierry vieillard baron', 'vieillard baron thierry']\n",
      "no exact fullname match for Baron Thierry vs ['marc antoine thierry de ville d avray', 'thierry de ville d avray marc antoine']\n"
     ]
    },
    {
     "name": "stderr",
     "output_type": "stream",
     "text": [
      " 59%|█████▉    | 1027/1737 [03:35<02:34,  4.59it/s]"
     ]
    },
    {
     "name": "stdout",
     "output_type": "stream",
     "text": [
      "no exact fullname match for Pereira Anne vs ['anne catherine pereira miozzari', 'pereira miozzari anne catherine']\n",
      "no exact fullname match for Pereira Anne vs ['anne pereira de vasconcelos', 'pereira de vasconcelos anne']\n"
     ]
    },
    {
     "name": "stderr",
     "output_type": "stream",
     "text": [
      " 59%|█████▉    | 1029/1737 [03:35<02:43,  4.33it/s]"
     ]
    },
    {
     "name": "stdout",
     "output_type": "stream",
     "text": [
      "no exact fullname match for Pereira Anne vs ['anne pereira das neves', 'pereira das neves anne']\n",
      "no exact fullname match for Pereira Anne vs ['anne alice pereira baltazar', 'pereira baltazar anne alice']\n"
     ]
    },
    {
     "name": "stderr",
     "output_type": "stream",
     "text": [
      " 59%|█████▉    | 1032/1737 [03:35<01:56,  6.05it/s]"
     ]
    },
    {
     "name": "stdout",
     "output_type": "stream",
     "text": [
      "no exact fullname match for Leveque Philippe vs ['jean philippe leveque', 'leveque jean philippe']\n"
     ]
    },
    {
     "name": "stderr",
     "output_type": "stream",
     "text": [
      " 59%|█████▉    | 1033/1737 [03:37<04:12,  2.79it/s]"
     ]
    },
    {
     "name": "stdout",
     "output_type": "stream",
     "text": [
      "no exact fullname match for Leveque Philippe vs ['philippe berenger leveque', 'berenger leveque philippe']\n"
     ]
    },
    {
     "name": "stderr",
     "output_type": "stream",
     "text": [
      " 60%|█████▉    | 1038/1737 [03:38<03:58,  2.93it/s]"
     ]
    },
    {
     "name": "stdout",
     "output_type": "stream",
     "text": [
      "no exact fullname match for Roy Hervé vs ['herve le roy', 'le roy herve']\n",
      "no exact fullname match for Roy Hervé vs ['herve herri', 'herri herve']\n"
     ]
    },
    {
     "name": "stderr",
     "output_type": "stream",
     "text": [
      " 60%|██████    | 1049/1737 [03:40<02:09,  5.33it/s]"
     ]
    },
    {
     "name": "stdout",
     "output_type": "stream",
     "text": [
      "no exact fullname match for Marie Benjamin vs ['marie yvonne benjamin', 'benjamin marie yvonne']\n",
      "no exact fullname match for Marie Benjamin vs ['benjamin marie morineau', 'morineau benjamin marie']\n",
      "no exact fullname match for Marie Benjamin vs ['jean marie benjamin', 'benjamin jean marie']\n",
      "no exact fullname match for Marie Benjamin vs ['benjamin charles marie payraudeau', 'payraudeau benjamin charles marie']\n"
     ]
    },
    {
     "name": "stderr",
     "output_type": "stream",
     "text": [
      " 61%|██████    | 1051/1737 [03:41<04:07,  2.77it/s]"
     ]
    },
    {
     "name": "stdout",
     "output_type": "stream",
     "text": [
      "no exact fullname match for Marie Benjamin vs ['benjamin hautecouverture', 'hautecouverture benjamin']\n",
      "no exact fullname match for Marie Benjamin vs ['benjamin jacques marie casteigt', 'casteigt benjamin jacques marie']\n"
     ]
    },
    {
     "name": "stderr",
     "output_type": "stream",
     "text": [
      " 61%|██████    | 1052/1737 [03:41<03:36,  3.16it/s]"
     ]
    },
    {
     "name": "stdout",
     "output_type": "stream",
     "text": [
      "no exact fullname match for Tougne Rodet Laure vs ['laure tougne', 'tougne laure']\n"
     ]
    },
    {
     "name": "stderr",
     "output_type": "stream",
     "text": [
      " 61%|██████    | 1054/1737 [03:42<03:19,  3.43it/s]"
     ]
    },
    {
     "name": "stdout",
     "output_type": "stream",
     "text": [
      "no exact fullname match for Rose Jérôme vs ['jerome c  rose', 'rose jerome c']\n",
      "no exact fullname match for Rose Jérôme vs ['jerome g  rose', 'rose jerome g']\n"
     ]
    },
    {
     "name": "stderr",
     "output_type": "stream",
     "text": [
      " 61%|██████    | 1057/1737 [03:42<02:18,  4.92it/s]"
     ]
    },
    {
     "name": "stdout",
     "output_type": "stream",
     "text": [
      "no exact fullname match for De Nadaï Patricia vs ['patricia de nadai', 'nadai patricia de']\n",
      "no exact fullname match for Laurent François vs ['francois salacroup laurent', 'salacroup laurent francois']\n",
      "no exact fullname match for Laurent François vs ['laurent francois gely', 'gely laurent francois']\n"
     ]
    },
    {
     "name": "stderr",
     "output_type": "stream",
     "text": [
      " 61%|██████    | 1058/1737 [03:43<04:41,  2.41it/s]"
     ]
    },
    {
     "name": "stdout",
     "output_type": "stream",
     "text": [
      "no exact fullname match for Laurent François vs ['laurent francois apap', 'apap laurent francois']\n"
     ]
    },
    {
     "name": "stderr",
     "output_type": "stream",
     "text": [
      " 61%|██████    | 1062/1737 [03:45<03:40,  3.07it/s]"
     ]
    },
    {
     "name": "stdout",
     "output_type": "stream",
     "text": [
      "no exact fullname match for Boyer Laurent vs ['lisette laurent boyer', 'laurent boyer lisette']\n"
     ]
    },
    {
     "name": "stderr",
     "output_type": "stream",
     "text": [
      " 61%|██████    | 1063/1737 [03:46<06:03,  1.85it/s]"
     ]
    },
    {
     "name": "stdout",
     "output_type": "stream",
     "text": [
      "skipping death date 1994-01-01T00:00:00\n"
     ]
    },
    {
     "name": "stderr",
     "output_type": "stream",
     "text": [
      " 62%|██████▏   | 1078/1737 [03:48<02:20,  4.70it/s]"
     ]
    },
    {
     "name": "stdout",
     "output_type": "stream",
     "text": [
      "no exact fullname match for Duron Olivier vs ['henri olivier duron', 'duron henri olivier']\n",
      "no exact fullname match for Blanquet-Diot Stéphanie vs ['stephanie blanquet', 'blanquet stephanie']\n"
     ]
    },
    {
     "name": "stderr",
     "output_type": "stream",
     "text": [
      " 62%|██████▏   | 1080/1737 [03:49<02:43,  4.01it/s]"
     ]
    },
    {
     "name": "stdout",
     "output_type": "stream",
     "text": [
      "no exact fullname match for Chevallier Emmanuel vs ['pierre emmanuel chevallier chantepie', 'chevallier chantepie pierre emmanuel']\n"
     ]
    },
    {
     "name": "stderr",
     "output_type": "stream",
     "text": [
      " 63%|██████▎   | 1088/1737 [03:50<01:43,  6.25it/s]"
     ]
    },
    {
     "name": "stdout",
     "output_type": "stream",
     "text": [
      "no exact fullname match for Blanc Etienne vs ['etienne gregoire blanc', 'blanc etienne gregoire']\n"
     ]
    },
    {
     "name": "stderr",
     "output_type": "stream",
     "text": [
      " 63%|██████▎   | 1090/1737 [03:51<02:57,  3.64it/s]"
     ]
    },
    {
     "name": "stdout",
     "output_type": "stream",
     "text": [
      "skipping birth date 1805-01-01T00:00:00\n",
      "skipping death date 1980-10-12T00:00:00\n"
     ]
    },
    {
     "name": "stderr",
     "output_type": "stream",
     "text": [
      " 63%|██████▎   | 1093/1737 [03:52<02:41,  3.99it/s]"
     ]
    },
    {
     "name": "stdout",
     "output_type": "stream",
     "text": [
      "no exact fullname match for Artigas Joan vs ['joan marti i artigas', 'marti i artigas joan']\n",
      "no exact fullname match for Artigas Joan vs ['joan gardy artigas', 'gardy artigas joan']\n"
     ]
    },
    {
     "name": "stderr",
     "output_type": "stream",
     "text": [
      " 63%|██████▎   | 1101/1737 [03:53<01:50,  5.77it/s]"
     ]
    },
    {
     "name": "stdout",
     "output_type": "stream",
     "text": [
      "no exact fullname match for Guigon Elodie vs ['elodie guigon moreau', 'guigon moreau elodie']\n"
     ]
    },
    {
     "name": "stderr",
     "output_type": "stream",
     "text": [
      " 64%|██████▎   | 1103/1737 [03:54<01:51,  5.71it/s]"
     ]
    },
    {
     "name": "stdout",
     "output_type": "stream",
     "text": [
      "skipping Journaliste d'art, collaboratrice de revues d'art françaises et anglo-saxonnes\n"
     ]
    },
    {
     "name": "stderr",
     "output_type": "stream",
     "text": [
      " 64%|██████▍   | 1108/1737 [03:54<01:24,  7.44it/s]"
     ]
    },
    {
     "name": "stdout",
     "output_type": "stream",
     "text": [
      "no exact fullname match for Arnaud-Cormos Delia vs ['liliana delia arnaud cormos', 'arnaud cormos liliana delia']\n"
     ]
    },
    {
     "name": "stderr",
     "output_type": "stream",
     "text": [
      " 65%|██████▍   | 1122/1737 [03:57<01:58,  5.17it/s]"
     ]
    },
    {
     "name": "stdout",
     "output_type": "stream",
     "text": [
      "no exact fullname match for Villena Isabelle vs ['isabelle bodart', 'bodart isabelle']\n",
      "no exact fullname match for Villena Isabelle vs ['isabelle coste villena', 'coste villena isabelle']\n"
     ]
    },
    {
     "name": "stderr",
     "output_type": "stream",
     "text": [
      " 65%|██████▍   | 1123/1737 [03:58<03:47,  2.70it/s]"
     ]
    },
    {
     "name": "stdout",
     "output_type": "stream",
     "text": [
      "no exact fullname match for Bouchard Philippe vs ['jean philippe bouchard', 'bouchard jean philippe']\n",
      "no exact fullname match for Klein Gérard vs ['gerard klein hofmeijer', 'klein hofmeijer gerard']\n"
     ]
    },
    {
     "name": "stderr",
     "output_type": "stream",
     "text": [
      " 65%|██████▍   | 1126/1737 [04:00<04:17,  2.37it/s]"
     ]
    },
    {
     "name": "stdout",
     "output_type": "stream",
     "text": [
      "no exact fullname match for de Luze Amaury vs ['amaury de luze', 'luze amaury de']\n"
     ]
    },
    {
     "name": "stderr",
     "output_type": "stream",
     "text": [
      " 65%|██████▍   | 1127/1737 [04:00<03:39,  2.78it/s]"
     ]
    },
    {
     "name": "stdout",
     "output_type": "stream",
     "text": [
      "no exact fullname match for Benichou Jacques vs ['jean jacques benichou', 'benichou jean jacques']\n",
      "no exact fullname match for Benichou Jacques vs ['jean jacques benichou', 'benichou jean jacques']\n"
     ]
    },
    {
     "name": "stderr",
     "output_type": "stream",
     "text": [
      " 65%|██████▍   | 1128/1737 [04:01<04:47,  2.12it/s]"
     ]
    },
    {
     "name": "stdout",
     "output_type": "stream",
     "text": [
      "no exact fullname match for Benichou Jacques vs ['jean jacques benichou', 'benichou jean jacques']\n",
      "no exact fullname match for Benichou Jacques vs ['jean benichou', 'benichou jean']\n"
     ]
    },
    {
     "name": "stderr",
     "output_type": "stream",
     "text": [
      " 65%|██████▍   | 1129/1737 [04:01<03:59,  2.54it/s]"
     ]
    },
    {
     "name": "stdout",
     "output_type": "stream",
     "text": [
      "no exact fullname match for Remy Murielle vs ['murielle remy zolghadri', 'remy zolghadri murielle']\n"
     ]
    },
    {
     "name": "stderr",
     "output_type": "stream",
     "text": [
      " 66%|██████▌   | 1139/1737 [04:03<02:41,  3.70it/s]"
     ]
    },
    {
     "name": "stdout",
     "output_type": "stream",
     "text": [
      "no exact fullname match for Cachier Hélène vs ['helene cachier rivault', 'cachier rivault helene']\n"
     ]
    },
    {
     "name": "stderr",
     "output_type": "stream",
     "text": [
      " 66%|██████▌   | 1141/1737 [04:04<02:19,  4.28it/s]"
     ]
    },
    {
     "name": "stdout",
     "output_type": "stream",
     "text": [
      "no exact fullname match for Bernard Alfred vs ['p  alfred bernard', 'bernard p  alfred']\n",
      "no exact fullname match for Bernard Alfred vs ['bernard alfred marie grall', 'grall bernard alfred marie']\n",
      "no exact fullname match for Bernard Alfred vs ['bernard alfred hoh', 'hoh bernard alfred']\n",
      "skipping birth date 1873-06-28T00:00:00\n",
      "no exact fullname match for Bernard Alfred vs ['joseph bernard', 'bernard joseph']\n",
      "no exact fullname match for Bernard Alfred vs ['alfred valton', 'valton alfred']\n"
     ]
    },
    {
     "name": "stderr",
     "output_type": "stream",
     "text": [
      " 66%|██████▌   | 1142/1737 [04:05<04:58,  1.99it/s]"
     ]
    },
    {
     "name": "stdout",
     "output_type": "stream",
     "text": [
      "no exact fullname match for Bernard Alfred vs ['bernard alfred southgate', 'southgate bernard alfred']\n",
      "no exact fullname match for Bernard Alfred vs ['bernard alfred etcheverry', 'etcheverry bernard alfred']\n",
      "no exact fullname match for Benoit Etienne vs ['benoit cerexhe', 'cerexhe benoit']\n",
      "no exact fullname match for Benoit Etienne vs ['etienne antoine benoit rouard', 'rouard etienne antoine benoit']\n",
      "no exact fullname match for Benoit Etienne vs ['etienne benoit revolat', 'revolat etienne benoit']\n",
      "no exact fullname match for Benoit Etienne vs ['etienne coissard', 'coissard etienne']\n",
      "no exact fullname match for Benoit Etienne vs ['jean baptiste etienne benoit soreau', 'soreau jean baptiste etienne benoit']\n",
      "no exact fullname match for Benoit Etienne vs ['etienne jean benoit thevenin de tanlay', 'thevenin de tanlay etienne jean benoit']\n",
      "no exact fullname match for Benoit Etienne vs ['etienne agard dechamps', 'dechamps etienne agard']\n"
     ]
    },
    {
     "name": "stderr",
     "output_type": "stream",
     "text": [
      " 66%|██████▌   | 1144/1737 [04:06<05:36,  1.76it/s]"
     ]
    },
    {
     "name": "stdout",
     "output_type": "stream",
     "text": [
      "no exact fullname match for Benoit Etienne vs ['jacques etienne benoit pellier', 'pellier jacques etienne benoit']\n"
     ]
    },
    {
     "name": "stderr",
     "output_type": "stream",
     "text": [
      " 66%|██████▋   | 1151/1737 [04:07<01:54,  5.11it/s]"
     ]
    },
    {
     "name": "stdout",
     "output_type": "stream",
     "text": [
      "no exact fullname match for Cohen Richard vs ['richard baron cohen', 'cohen richard baron']\n",
      "no exact fullname match for Cohen Richard vs ['richard a cohen', 'cohen richard a']\n",
      "no exact fullname match for Cohen Richard vs ['richard e  cohen', 'cohen richard e']\n"
     ]
    },
    {
     "name": "stderr",
     "output_type": "stream",
     "text": [
      " 66%|██████▋   | 1153/1737 [04:09<03:19,  2.92it/s]"
     ]
    },
    {
     "name": "stdout",
     "output_type": "stream",
     "text": [
      "no exact fullname match for Cohen Richard vs ['richard m  cohen', 'cohen richard m']\n"
     ]
    },
    {
     "name": "stderr",
     "output_type": "stream",
     "text": [
      " 68%|██████▊   | 1183/1737 [04:13<01:10,  7.82it/s]"
     ]
    },
    {
     "name": "stdout",
     "output_type": "stream",
     "text": [
      "no exact fullname match for Lambert Olivier vs ['nathalie olivier lambert', 'olivier lambert nathalie']\n",
      "no exact fullname match for Lambert Olivier vs ['olivier foughali lambert', 'foughali lambert olivier']\n"
     ]
    },
    {
     "name": "stderr",
     "output_type": "stream",
     "text": [
      " 68%|██████▊   | 1189/1737 [04:15<02:26,  3.74it/s]"
     ]
    },
    {
     "name": "stdout",
     "output_type": "stream",
     "text": [
      "no exact fullname match for Carriere Marie vs ['marie j  carriere', 'carriere marie j']\n",
      "no exact fullname match for Carriere Marie vs ['anne marie carriere', 'carriere anne marie']\n",
      "no exact fullname match for Carriere Marie vs ['lucien eugene marie carriere', 'carriere lucien eugene marie']\n",
      "no exact fullname match for Carriere Marie vs ['jean marie carriere', 'carriere jean marie']\n",
      "no exact fullname match for Carriere Marie vs ['marie vigier carriere', 'vigier carriere marie']\n",
      "no exact fullname match for Carriere Marie vs ['martin barthelemy carriere', 'carriere martin barthelemy']\n",
      "no exact fullname match for Carriere Marie vs ['jean marie carriere', 'carriere jean marie']\n",
      "no exact fullname match for Carriere Marie vs ['marie joseph henri carriere', 'carriere marie joseph henri']\n"
     ]
    },
    {
     "name": "stderr",
     "output_type": "stream",
     "text": [
      " 69%|██████▉   | 1196/1737 [04:17<02:30,  3.60it/s]"
     ]
    },
    {
     "name": "stdout",
     "output_type": "stream",
     "text": [
      "skipping Animateur à Radio-Canada, docteur en sémiologie, journaliste (en 2003)\n"
     ]
    },
    {
     "name": "stderr",
     "output_type": "stream",
     "text": [
      " 70%|██████▉   | 1214/1737 [04:21<01:40,  5.19it/s]"
     ]
    },
    {
     "name": "stdout",
     "output_type": "stream",
     "text": [
      "no exact fullname match for Constant Samuel vs ['samuel de constant', 'constant samuel de']\n",
      "no exact fullname match for Constant Samuel vs ['samuel constant snellen van vollenhoven', 'snellen van vollenhoven samuel constant']\n",
      "no exact fullname match for Constant Samuel vs ['samuel victor constant', 'constant samuel victor']\n"
     ]
    },
    {
     "name": "stderr",
     "output_type": "stream",
     "text": [
      " 70%|███████   | 1217/1737 [04:21<01:28,  5.85it/s]"
     ]
    },
    {
     "name": "stdout",
     "output_type": "stream",
     "text": [
      "no exact fullname match for Croidieu Sophie vs ['sophie leydier croidieu', 'leydier croidieu sophie']\n"
     ]
    },
    {
     "name": "stderr",
     "output_type": "stream",
     "text": [
      " 70%|███████   | 1222/1737 [04:22<01:07,  7.65it/s]"
     ]
    },
    {
     "name": "stdout",
     "output_type": "stream",
     "text": [
      "no exact fullname match for Boutet Elisa vs ['elisa boutet robinet', 'boutet robinet elisa']\n"
     ]
    },
    {
     "name": "stderr",
     "output_type": "stream",
     "text": [
      " 71%|███████   | 1225/1737 [04:23<02:04,  4.11it/s]"
     ]
    },
    {
     "name": "stdout",
     "output_type": "stream",
     "text": [
      "no exact fullname match for Deloumeaux Jacqueline vs ['jacqueline deloumeaux tyndal', 'deloumeaux tyndal jacqueline']\n"
     ]
    },
    {
     "name": "stderr",
     "output_type": "stream",
     "text": [
      " 71%|███████   | 1227/1737 [04:23<01:39,  5.11it/s]"
     ]
    },
    {
     "name": "stdout",
     "output_type": "stream",
     "text": [
      "no exact fullname match for Jaillet Christele vs ['christele jaillet bartholome', 'jaillet bartholome christele']\n"
     ]
    },
    {
     "name": "stderr",
     "output_type": "stream",
     "text": [
      " 71%|███████▏  | 1240/1737 [04:25<00:48, 10.31it/s]"
     ]
    },
    {
     "name": "stdout",
     "output_type": "stream",
     "text": [
      "skipping birth date 1913-12-16T00:00:00\n",
      "skipping birth date 1755-01-01T00:00:00\n",
      "no exact fullname match for Adam René vs ['rene pierre adam', 'adam rene pierre']\n"
     ]
    },
    {
     "name": "stderr",
     "output_type": "stream",
     "text": [
      " 72%|███████▏  | 1244/1737 [04:27<01:42,  4.81it/s]"
     ]
    },
    {
     "name": "stdout",
     "output_type": "stream",
     "text": [
      "no exact fullname match for Adam René vs ['rene pierre adam', 'adam rene pierre']\n"
     ]
    },
    {
     "name": "stderr",
     "output_type": "stream",
     "text": [
      " 72%|███████▏  | 1252/1737 [04:27<00:59,  8.21it/s]"
     ]
    },
    {
     "name": "stdout",
     "output_type": "stream",
     "text": [
      "no exact fullname match for Carrière Marie vs ['marie j  carriere', 'carriere marie j']\n",
      "no exact fullname match for Carrière Marie vs ['anne marie carriere', 'carriere anne marie']\n",
      "no exact fullname match for Carrière Marie vs ['lucien eugene marie carriere', 'carriere lucien eugene marie']\n",
      "no exact fullname match for Carrière Marie vs ['jean marie carriere', 'carriere jean marie']\n",
      "no exact fullname match for Carrière Marie vs ['marie vigier carriere', 'vigier carriere marie']\n",
      "no exact fullname match for Carrière Marie vs ['martin barthelemy carriere', 'carriere martin barthelemy']\n",
      "no exact fullname match for Carrière Marie vs ['jean marie carriere', 'carriere jean marie']\n",
      "no exact fullname match for Carrière Marie vs ['marie joseph henri carriere', 'carriere marie joseph henri']\n"
     ]
    },
    {
     "name": "stderr",
     "output_type": "stream",
     "text": [
      " 72%|███████▏  | 1258/1737 [04:29<01:39,  4.80it/s]"
     ]
    },
    {
     "name": "stdout",
     "output_type": "stream",
     "text": [
      "no exact fullname match for Gil Sophie vs ['anne sophie gil', 'gil anne sophie']\n"
     ]
    },
    {
     "name": "stderr",
     "output_type": "stream",
     "text": [
      " 73%|███████▎  | 1266/1737 [04:30<01:00,  7.82it/s]"
     ]
    },
    {
     "name": "stdout",
     "output_type": "stream",
     "text": [
      "no exact fullname match for Leveque Philippe vs ['jean philippe leveque', 'leveque jean philippe']\n"
     ]
    },
    {
     "name": "stderr",
     "output_type": "stream",
     "text": [
      " 73%|███████▎  | 1268/1737 [04:31<02:01,  3.87it/s]"
     ]
    },
    {
     "name": "stdout",
     "output_type": "stream",
     "text": [
      "no exact fullname match for Leveque Philippe vs ['philippe berenger leveque', 'berenger leveque philippe']\n"
     ]
    },
    {
     "name": "stderr",
     "output_type": "stream",
     "text": [
      " 73%|███████▎  | 1276/1737 [04:33<01:30,  5.12it/s]"
     ]
    },
    {
     "name": "stdout",
     "output_type": "stream",
     "text": [
      "no exact fullname match for Zins Marie vs ['marie paule zins pawlas', 'zins pawlas marie paule']\n"
     ]
    },
    {
     "name": "stderr",
     "output_type": "stream",
     "text": [
      " 74%|███████▎  | 1279/1737 [04:33<01:32,  4.93it/s]"
     ]
    },
    {
     "name": "stdout",
     "output_type": "stream",
     "text": [
      "no exact fullname match for Toussaint Jean-Yves vs ['jean sadia', 'sadia jean']\n"
     ]
    },
    {
     "name": "stderr",
     "output_type": "stream",
     "text": [
      " 74%|███████▍  | 1287/1737 [04:34<00:55,  8.16it/s]"
     ]
    },
    {
     "name": "stdout",
     "output_type": "stream",
     "text": [
      "no exact fullname match for Chomienne Christine vs ['christine chomienne thomas', 'chomienne thomas christine']\n"
     ]
    },
    {
     "name": "stderr",
     "output_type": "stream",
     "text": [
      " 74%|███████▍  | 1289/1737 [04:35<01:02,  7.17it/s]"
     ]
    },
    {
     "name": "stdout",
     "output_type": "stream",
     "text": [
      "no exact fullname match for De Sèze René vs ['rene de seze', 'seze rene de']\n"
     ]
    },
    {
     "name": "stderr",
     "output_type": "stream",
     "text": [
      " 74%|███████▍  | 1290/1737 [04:35<01:06,  6.68it/s]"
     ]
    },
    {
     "name": "stdout",
     "output_type": "stream",
     "text": [
      "no exact fullname match for Anne Tallec vs ['anne guyonvarch tallec', 'guyonvarch tallec anne']\n",
      "no exact fullname match for Anne Tallec vs ['anne le tallec', 'le tallec anne']\n"
     ]
    },
    {
     "name": "stderr",
     "output_type": "stream",
     "text": [
      " 74%|███████▍  | 1291/1737 [04:35<01:49,  4.07it/s]"
     ]
    },
    {
     "name": "stdout",
     "output_type": "stream",
     "text": [
      "no exact fullname match for Anne Tallec vs ['anne le tallec', 'le tallec anne']\n",
      "no exact fullname match for Anne Tallec vs ['anne bernard le tallec', 'bernard le tallec anne']\n"
     ]
    },
    {
     "name": "stderr",
     "output_type": "stream",
     "text": [
      " 74%|███████▍  | 1294/1737 [04:36<01:32,  4.78it/s]"
     ]
    },
    {
     "name": "stdout",
     "output_type": "stream",
     "text": [
      "no exact fullname match for Véronique Chamel Mossuz vs ['veronique mossuz', 'mossuz veronique']\n"
     ]
    },
    {
     "name": "stderr",
     "output_type": "stream",
     "text": [
      " 75%|███████▌  | 1307/1737 [04:37<00:29, 14.48it/s]"
     ]
    },
    {
     "name": "stdout",
     "output_type": "stream",
     "text": [
      "no exact fullname match for Valdés-Lao Danièle vs ['daniele valdes', 'valdes daniele']\n"
     ]
    },
    {
     "name": "stderr",
     "output_type": "stream",
     "text": [
      " 75%|███████▌  | 1311/1737 [04:38<00:49,  8.53it/s]"
     ]
    },
    {
     "name": "stdout",
     "output_type": "stream",
     "text": [
      "no exact fullname match for None None vs ['laurent vecellio', 'vecellio laurent']\n"
     ]
    },
    {
     "name": "stderr",
     "output_type": "stream",
     "text": [
      " 76%|███████▌  | 1317/1737 [04:39<00:58,  7.24it/s]"
     ]
    },
    {
     "name": "stdout",
     "output_type": "stream",
     "text": [
      "no exact fullname match for LeBot Barbara vs ['barbara le bot', 'le bot barbara']\n"
     ]
    },
    {
     "name": "stderr",
     "output_type": "stream",
     "text": [
      " 76%|███████▌  | 1318/1737 [04:39<00:59,  7.00it/s]"
     ]
    },
    {
     "name": "stdout",
     "output_type": "stream",
     "text": [
      "no exact fullname match for Paris Christophe vs ['jean christophe paris', 'paris jean christophe']\n",
      "no exact fullname match for Paris Christophe vs ['christophe de paris', 'christophe de paris']\n",
      "no exact fullname match for Paris Christophe vs ['jean christophe paris', 'paris jean christophe']\n"
     ]
    },
    {
     "name": "stderr",
     "output_type": "stream",
     "text": [
      " 76%|███████▌  | 1319/1737 [04:40<02:16,  3.06it/s]"
     ]
    },
    {
     "name": "stdout",
     "output_type": "stream",
     "text": [
      "no exact fullname match for Paris Christophe vs ['jean christophe coffin', 'coffin jean christophe']\n",
      "no exact fullname match for Paris Christophe vs ['christophe greffet', 'greffet christophe']\n",
      "no exact fullname match for Paris Christophe vs ['christophe de beaumont du repaire', 'beaumont du repaire christophe de']\n"
     ]
    },
    {
     "name": "stderr",
     "output_type": "stream",
     "text": [
      " 76%|███████▋  | 1327/1737 [04:41<00:57,  7.11it/s]"
     ]
    },
    {
     "name": "stdout",
     "output_type": "stream",
     "text": [
      "no exact fullname match for Heude Barbara vs ['barbara l heude', 'l heude barbara']\n"
     ]
    },
    {
     "name": "stderr",
     "output_type": "stream",
     "text": [
      " 77%|███████▋  | 1340/1737 [04:44<01:28,  4.50it/s]"
     ]
    },
    {
     "name": "stdout",
     "output_type": "stream",
     "text": [
      "no exact fullname match for Nioche Pierre vs ['jean pierre nioche', 'nioche jean pierre']\n",
      "no exact fullname match for Nioche Pierre vs ['pierre claude nioche', 'nioche pierre claude']\n"
     ]
    },
    {
     "name": "stderr",
     "output_type": "stream",
     "text": [
      " 77%|███████▋  | 1342/1737 [04:44<01:43,  3.80it/s]"
     ]
    },
    {
     "name": "stdout",
     "output_type": "stream",
     "text": [
      "no exact fullname match for Rey Delphine vs ['delphine rey galtier', 'rey galtier delphine']\n"
     ]
    },
    {
     "name": "stderr",
     "output_type": "stream",
     "text": [
      " 78%|███████▊  | 1353/1737 [04:46<00:57,  6.62it/s]"
     ]
    },
    {
     "name": "stdout",
     "output_type": "stream",
     "text": [
      "no exact fullname match for Maiuri Maria Chiara vs ['chiara maiuri', 'maiuri chiara']\n"
     ]
    },
    {
     "name": "stderr",
     "output_type": "stream",
     "text": [
      " 78%|███████▊  | 1354/1737 [04:46<01:03,  5.99it/s]"
     ]
    },
    {
     "name": "stdout",
     "output_type": "stream",
     "text": [
      "no exact fullname match for Paris Christophe vs ['jean christophe paris', 'paris jean christophe']\n",
      "no exact fullname match for Paris Christophe vs ['christophe de paris', 'christophe de paris']\n",
      "no exact fullname match for Paris Christophe vs ['jean christophe paris', 'paris jean christophe']\n",
      "no exact fullname match for Paris Christophe vs ['jean christophe coffin', 'coffin jean christophe']\n",
      "no exact fullname match for Paris Christophe vs ['christophe greffet', 'greffet christophe']\n"
     ]
    },
    {
     "name": "stderr",
     "output_type": "stream",
     "text": [
      " 78%|███████▊  | 1357/1737 [04:47<01:44,  3.63it/s]"
     ]
    },
    {
     "name": "stdout",
     "output_type": "stream",
     "text": [
      "no exact fullname match for Paris Christophe vs ['christophe de beaumont du repaire', 'beaumont du repaire christophe de']\n"
     ]
    },
    {
     "name": "stderr",
     "output_type": "stream",
     "text": [
      " 79%|███████▊  | 1366/1737 [04:48<00:47,  7.82it/s]"
     ]
    },
    {
     "name": "stdout",
     "output_type": "stream",
     "text": [
      "no exact fullname match for Etienne Manuel vs ['arnaud manuel etienne', 'etienne arnaud manuel']\n"
     ]
    },
    {
     "name": "stderr",
     "output_type": "stream",
     "text": [
      " 79%|███████▊  | 1367/1737 [04:49<01:19,  4.68it/s]"
     ]
    },
    {
     "name": "stdout",
     "output_type": "stream",
     "text": [
      "no exact fullname match for Etienne Manuel vs ['marie andree manuel etienne', 'manuel etienne marie andree']\n",
      "no exact fullname match for Etienne Manuel vs ['etienne gougere', 'gougere etienne']\n"
     ]
    },
    {
     "name": "stderr",
     "output_type": "stream",
     "text": [
      " 79%|███████▉  | 1369/1737 [04:50<01:28,  4.15it/s]"
     ]
    },
    {
     "name": "stdout",
     "output_type": "stream",
     "text": [
      "no exact fullname match for Di Pietro Francesca vs ['piero della francesca', 'piero della francesca']\n"
     ]
    },
    {
     "name": "stderr",
     "output_type": "stream",
     "text": [
      " 79%|███████▉  | 1375/1737 [04:51<01:03,  5.73it/s]"
     ]
    },
    {
     "name": "stdout",
     "output_type": "stream",
     "text": [
      "no exact fullname match for Carriere Marie vs ['marie j  carriere', 'carriere marie j']\n",
      "no exact fullname match for Carriere Marie vs ['anne marie carriere', 'carriere anne marie']\n",
      "no exact fullname match for Carriere Marie vs ['lucien eugene marie carriere', 'carriere lucien eugene marie']\n",
      "no exact fullname match for Carriere Marie vs ['jean marie carriere', 'carriere jean marie']\n",
      "no exact fullname match for Carriere Marie vs ['marie vigier carriere', 'vigier carriere marie']\n",
      "no exact fullname match for Carriere Marie vs ['martin barthelemy carriere', 'carriere martin barthelemy']\n"
     ]
    },
    {
     "name": "stderr",
     "output_type": "stream",
     "text": [
      " 79%|███████▉  | 1376/1737 [04:52<02:16,  2.65it/s]"
     ]
    },
    {
     "name": "stdout",
     "output_type": "stream",
     "text": [
      "no exact fullname match for Carriere Marie vs ['jean marie carriere', 'carriere jean marie']\n",
      "no exact fullname match for Carriere Marie vs ['marie joseph henri carriere', 'carriere marie joseph henri']\n"
     ]
    },
    {
     "name": "stderr",
     "output_type": "stream",
     "text": [
      " 81%|████████  | 1401/1737 [04:55<00:45,  7.33it/s]"
     ]
    },
    {
     "name": "stdout",
     "output_type": "stream",
     "text": [
      "no exact fullname match for Pineau Charles vs ['charles henri pineau', 'pineau charles henri']\n",
      "skipping birth date 1877-01-01T00:00:00\n"
     ]
    },
    {
     "name": "stderr",
     "output_type": "stream",
     "text": [
      " 81%|████████  | 1404/1737 [04:56<01:21,  4.11it/s]"
     ]
    },
    {
     "name": "stdout",
     "output_type": "stream",
     "text": [
      "no exact fullname match for Mottet Nicolas vs ['nicolas mottet auselo', 'mottet auselo nicolas']\n"
     ]
    },
    {
     "name": "stderr",
     "output_type": "stream",
     "text": [
      " 82%|████████▏ | 1425/1737 [04:59<00:42,  7.37it/s]"
     ]
    },
    {
     "name": "stdout",
     "output_type": "stream",
     "text": [
      "no exact fullname match for Tourneux Pierre vs ['francois pierre tourneux', 'tourneux francois pierre']\n",
      "no exact fullname match for Tourneux Pierre vs ['pierre hubert tourneux', 'tourneux pierre hubert']\n"
     ]
    },
    {
     "name": "stderr",
     "output_type": "stream",
     "text": [
      " 82%|████████▏ | 1426/1737 [04:59<01:03,  4.92it/s]"
     ]
    },
    {
     "name": "stdout",
     "output_type": "stream",
     "text": [
      "no exact fullname match for Leveque Philippe vs ['jean philippe leveque', 'leveque jean philippe']\n"
     ]
    },
    {
     "name": "stderr",
     "output_type": "stream",
     "text": [
      " 82%|████████▏ | 1427/1737 [05:00<02:04,  2.49it/s]"
     ]
    },
    {
     "name": "stdout",
     "output_type": "stream",
     "text": [
      "no exact fullname match for Leveque Philippe vs ['philippe berenger leveque', 'berenger leveque philippe']\n"
     ]
    },
    {
     "name": "stderr",
     "output_type": "stream",
     "text": [
      " 82%|████████▏ | 1428/1737 [05:00<01:54,  2.70it/s]"
     ]
    },
    {
     "name": "stdout",
     "output_type": "stream",
     "text": [
      "skipping death date 1991-01-01T00:00:00\n"
     ]
    },
    {
     "name": "stderr",
     "output_type": "stream",
     "text": [
      " 83%|████████▎ | 1438/1737 [05:03<01:34,  3.17it/s]"
     ]
    },
    {
     "name": "stdout",
     "output_type": "stream",
     "text": [
      "no exact fullname match for Haddad Sami vs ['fuad sami haddad', 'haddad fuad sami']\n"
     ]
    },
    {
     "name": "stderr",
     "output_type": "stream",
     "text": [
      " 83%|████████▎ | 1447/1737 [05:05<00:53,  5.41it/s]"
     ]
    },
    {
     "name": "stdout",
     "output_type": "stream",
     "text": [
      "no exact fullname match for Suarez Guillaume vs ['guillaume asuarez', 'asuarez guillaume']\n"
     ]
    },
    {
     "name": "stderr",
     "output_type": "stream",
     "text": [
      " 84%|████████▍ | 1461/1737 [05:07<00:54,  5.05it/s]"
     ]
    },
    {
     "name": "stdout",
     "output_type": "stream",
     "text": [
      "no exact fullname match for Fleury Eric vs ['pierre eric fleury', 'fleury pierre eric']\n"
     ]
    },
    {
     "name": "stderr",
     "output_type": "stream",
     "text": [
      " 85%|████████▍ | 1468/1737 [05:09<00:53,  5.03it/s]"
     ]
    },
    {
     "name": "stdout",
     "output_type": "stream",
     "text": [
      "no exact fullname match for Sacco Paolo vs ['paolo di sacco', 'di sacco paolo']\n"
     ]
    },
    {
     "name": "stderr",
     "output_type": "stream",
     "text": [
      " 85%|████████▌ | 1480/1737 [05:11<00:40,  6.33it/s]"
     ]
    },
    {
     "name": "stdout",
     "output_type": "stream",
     "text": [
      "no exact fullname match for Peters Annette vs ['annette alvarez peters', 'alvarez peters annette']\n"
     ]
    },
    {
     "name": "stderr",
     "output_type": "stream",
     "text": [
      " 86%|████████▌ | 1488/1737 [05:12<00:30,  8.04it/s]"
     ]
    },
    {
     "name": "stdout",
     "output_type": "stream",
     "text": [
      "no exact fullname match for Guichaoua Marie vs ['marie roberte guichaoua', 'guichaoua marie roberte']\n",
      "no exact fullname match for Guichaoua Marie vs ['jean marie guichaoua', 'guichaoua jean marie']\n"
     ]
    },
    {
     "name": "stderr",
     "output_type": "stream",
     "text": [
      " 86%|████████▌ | 1492/1737 [05:13<00:33,  7.37it/s]"
     ]
    },
    {
     "name": "stdout",
     "output_type": "stream",
     "text": [
      "no exact fullname match for Baeza Armelle vs ['armelle baeza squiban', 'baeza squiban armelle']\n"
     ]
    },
    {
     "name": "stderr",
     "output_type": "stream",
     "text": [
      " 87%|████████▋ | 1513/1737 [05:14<00:18, 12.10it/s]"
     ]
    },
    {
     "name": "stdout",
     "output_type": "stream",
     "text": [
      "no exact fullname match for Carrière Marie vs ['marie j  carriere', 'carriere marie j']\n",
      "no exact fullname match for Carrière Marie vs ['anne marie carriere', 'carriere anne marie']\n",
      "no exact fullname match for Carrière Marie vs ['lucien eugene marie carriere', 'carriere lucien eugene marie']\n",
      "no exact fullname match for Carrière Marie vs ['jean marie carriere', 'carriere jean marie']\n",
      "no exact fullname match for Carrière Marie vs ['marie vigier carriere', 'vigier carriere marie']\n",
      "no exact fullname match for Carrière Marie vs ['martin barthelemy carriere', 'carriere martin barthelemy']\n",
      "no exact fullname match for Carrière Marie vs ['jean marie carriere', 'carriere jean marie']\n",
      "no exact fullname match for Carrière Marie vs ['marie joseph henri carriere', 'carriere marie joseph henri']\n"
     ]
    },
    {
     "name": "stderr",
     "output_type": "stream",
     "text": [
      " 87%|████████▋ | 1518/1737 [05:16<00:47,  4.60it/s]"
     ]
    },
    {
     "name": "stdout",
     "output_type": "stream",
     "text": [
      "no exact fullname match for Sylvestre Marie-Pierre vs ['marie pierre hill sylvestre', 'hill sylvestre marie pierre']\n"
     ]
    },
    {
     "name": "stderr",
     "output_type": "stream",
     "text": [
      " 88%|████████▊ | 1530/1737 [05:18<00:45,  4.51it/s]"
     ]
    },
    {
     "name": "stdout",
     "output_type": "stream",
     "text": [
      "no exact fullname match for Hue Sophie vs ['anne sophie hue', 'hue anne sophie']\n",
      "skipping birth date 1815-01-01T00:00:00\n",
      "no exact fullname match for Levêque Philippe vs ['jean philippe leveque', 'leveque jean philippe']\n"
     ]
    },
    {
     "name": "stderr",
     "output_type": "stream",
     "text": [
      " 88%|████████▊ | 1532/1737 [05:19<01:09,  2.94it/s]"
     ]
    },
    {
     "name": "stdout",
     "output_type": "stream",
     "text": [
      "no exact fullname match for Levêque Philippe vs ['philippe berenger leveque', 'berenger leveque philippe']\n"
     ]
    },
    {
     "name": "stderr",
     "output_type": "stream",
     "text": [
      " 89%|████████▉ | 1547/1737 [05:21<00:22,  8.53it/s]"
     ]
    },
    {
     "name": "stdout",
     "output_type": "stream",
     "text": [
      "no exact fullname match for Opatowski Lulla vs ['lulla opatowski mezrahi', 'opatowski mezrahi lulla']\n"
     ]
    },
    {
     "name": "stderr",
     "output_type": "stream",
     "text": [
      " 89%|████████▉ | 1549/1737 [05:22<00:28,  6.66it/s]"
     ]
    },
    {
     "name": "stdout",
     "output_type": "stream",
     "text": [
      "no exact fullname match for Bories Serge vs ['serge charles bories', 'bories serge charles']\n"
     ]
    },
    {
     "name": "stderr",
     "output_type": "stream",
     "text": [
      " 90%|████████▉ | 1557/1737 [05:23<00:37,  4.83it/s]"
     ]
    },
    {
     "name": "stdout",
     "output_type": "stream",
     "text": [
      "no exact fullname match for Nicole Florence vs ['nicole florence matip', 'matip nicole florence']\n"
     ]
    },
    {
     "name": "stderr",
     "output_type": "stream",
     "text": [
      " 90%|████████▉ | 1560/1737 [05:25<01:04,  2.73it/s]"
     ]
    },
    {
     "name": "stdout",
     "output_type": "stream",
     "text": [
      "no exact fullname match for Dufour Alain vs ['alain paul antoine dufour', 'dufour alain paul antoine']\n",
      "no exact fullname match for Lévêque Philippe vs ['jean philippe leveque', 'leveque jean philippe']\n"
     ]
    },
    {
     "name": "stderr",
     "output_type": "stream",
     "text": [
      " 90%|████████▉ | 1562/1737 [05:26<01:20,  2.18it/s]"
     ]
    },
    {
     "name": "stdout",
     "output_type": "stream",
     "text": [
      "no exact fullname match for Lévêque Philippe vs ['philippe berenger leveque', 'berenger leveque philippe']\n"
     ]
    },
    {
     "name": "stderr",
     "output_type": "stream",
     "text": [
      " 90%|█████████ | 1567/1737 [05:27<00:35,  4.82it/s]"
     ]
    },
    {
     "name": "stdout",
     "output_type": "stream",
     "text": [
      "no exact fullname match for Mandin Corinne vs ['corinne sawka', 'sawka corinne']\n"
     ]
    },
    {
     "name": "stderr",
     "output_type": "stream",
     "text": [
      " 91%|█████████ | 1581/1737 [05:30<00:38,  4.04it/s]"
     ]
    },
    {
     "name": "stdout",
     "output_type": "stream",
     "text": [
      "no exact fullname match for Leveque Philippe vs ['jean philippe leveque', 'leveque jean philippe']\n"
     ]
    },
    {
     "name": "stderr",
     "output_type": "stream",
     "text": [
      " 91%|█████████ | 1583/1737 [05:32<01:00,  2.53it/s]"
     ]
    },
    {
     "name": "stdout",
     "output_type": "stream",
     "text": [
      "no exact fullname match for Leveque Philippe vs ['philippe berenger leveque', 'berenger leveque philippe']\n"
     ]
    },
    {
     "name": "stderr",
     "output_type": "stream",
     "text": [
      " 92%|█████████▏| 1599/1737 [05:34<00:21,  6.29it/s]"
     ]
    },
    {
     "name": "stdout",
     "output_type": "stream",
     "text": [
      "no exact fullname match for Bion François vs ['jean francois bion', 'bion jean francois']\n",
      "no exact fullname match for Bion François vs ['pierre francois bernard bion', 'bion pierre francois bernard']\n"
     ]
    },
    {
     "name": "stderr",
     "output_type": "stream",
     "text": [
      " 92%|█████████▏| 1603/1737 [05:35<00:20,  6.41it/s]"
     ]
    },
    {
     "name": "stdout",
     "output_type": "stream",
     "text": [
      "no exact fullname match for Reynaud Stéphanie vs ['stephanie andree reynaud', 'reynaud stephanie andree']\n"
     ]
    },
    {
     "name": "stderr",
     "output_type": "stream",
     "text": [
      " 92%|█████████▏| 1605/1737 [05:35<00:32,  4.05it/s]"
     ]
    },
    {
     "name": "stdout",
     "output_type": "stream",
     "text": [
      "no exact fullname match for Villena Isabelle vs ['isabelle bodart', 'bodart isabelle']\n",
      "no exact fullname match for Villena Isabelle vs ['isabelle coste villena', 'coste villena isabelle']\n"
     ]
    },
    {
     "name": "stderr",
     "output_type": "stream",
     "text": [
      " 93%|█████████▎| 1617/1737 [05:38<00:32,  3.64it/s]"
     ]
    },
    {
     "name": "stdout",
     "output_type": "stream",
     "text": [
      "no exact fullname match for Mercier Thierry vs ['thierry le mercier', 'le mercier thierry']\n"
     ]
    },
    {
     "name": "stderr",
     "output_type": "stream",
     "text": [
      " 93%|█████████▎| 1620/1737 [05:38<00:28,  4.11it/s]"
     ]
    },
    {
     "name": "stdout",
     "output_type": "stream",
     "text": [
      "no exact fullname match for Blanc Marie-Thérèse vs ['marie therese blanc rouquette', 'blanc rouquette marie therese']\n",
      "no exact fullname match for Blanc Marie-Thérèse vs ['therese bentzon', 'bentzon therese']\n"
     ]
    },
    {
     "name": "stderr",
     "output_type": "stream",
     "text": [
      " 94%|█████████▍| 1631/1737 [05:40<00:25,  4.20it/s]"
     ]
    },
    {
     "name": "stdout",
     "output_type": "stream",
     "text": [
      "no exact fullname match for Huet Hélène vs ['marie helene huet', 'huet marie helene']\n"
     ]
    },
    {
     "name": "stderr",
     "output_type": "stream",
     "text": [
      " 94%|█████████▍| 1636/1737 [05:42<00:21,  4.61it/s]"
     ]
    },
    {
     "name": "stdout",
     "output_type": "stream",
     "text": [
      "no exact fullname match for Cazier Francine vs ['francine cazier dennin', 'cazier dennin francine']\n"
     ]
    },
    {
     "name": "stderr",
     "output_type": "stream",
     "text": [
      " 94%|█████████▍| 1637/1737 [05:42<00:21,  4.60it/s]"
     ]
    },
    {
     "name": "stdout",
     "output_type": "stream",
     "text": [
      "no exact fullname match for Paris Christophe vs ['jean christophe paris', 'paris jean christophe']\n",
      "no exact fullname match for Paris Christophe vs ['christophe de paris', 'christophe de paris']\n",
      "no exact fullname match for Paris Christophe vs ['jean christophe paris', 'paris jean christophe']\n"
     ]
    },
    {
     "name": "stderr",
     "output_type": "stream",
     "text": [
      " 94%|█████████▍| 1639/1737 [05:43<00:31,  3.07it/s]"
     ]
    },
    {
     "name": "stdout",
     "output_type": "stream",
     "text": [
      "no exact fullname match for Paris Christophe vs ['jean christophe coffin', 'coffin jean christophe']\n",
      "no exact fullname match for Paris Christophe vs ['christophe greffet', 'greffet christophe']\n",
      "no exact fullname match for Paris Christophe vs ['christophe de beaumont du repaire', 'beaumont du repaire christophe de']\n"
     ]
    },
    {
     "name": "stderr",
     "output_type": "stream",
     "text": [
      " 94%|█████████▍| 1641/1737 [05:43<00:25,  3.75it/s]"
     ]
    },
    {
     "name": "stdout",
     "output_type": "stream",
     "text": [
      "no exact fullname match for Paris Christophe vs ['jean christophe paris', 'paris jean christophe']\n",
      "no exact fullname match for Paris Christophe vs ['christophe de paris', 'christophe de paris']\n",
      "no exact fullname match for Paris Christophe vs ['jean christophe paris', 'paris jean christophe']\n",
      "no exact fullname match for Paris Christophe vs ['jean christophe coffin', 'coffin jean christophe']\n",
      "no exact fullname match for Paris Christophe vs ['christophe greffet', 'greffet christophe']\n"
     ]
    },
    {
     "name": "stderr",
     "output_type": "stream",
     "text": [
      " 95%|█████████▍| 1644/1737 [05:44<00:30,  3.08it/s]"
     ]
    },
    {
     "name": "stdout",
     "output_type": "stream",
     "text": [
      "no exact fullname match for Paris Christophe vs ['christophe de beaumont du repaire', 'beaumont du repaire christophe de']\n",
      "no exact fullname match for Lambert Pierre vs ['pierre join lambert', 'join lambert pierre']\n",
      "no exact fullname match for Lambert Pierre vs ['pierre jean lambert', 'lambert pierre jean']\n",
      "no exact fullname match for Lambert Pierre vs ['pierre andre lambert', 'lambert pierre andre']\n",
      "no exact fullname match for Lambert Pierre vs ['marie pierre lambert', 'lambert marie pierre']\n"
     ]
    },
    {
     "name": "stderr",
     "output_type": "stream",
     "text": [
      " 95%|█████████▍| 1647/1737 [05:46<00:32,  2.78it/s]"
     ]
    },
    {
     "name": "stdout",
     "output_type": "stream",
     "text": [
      "no exact fullname match for Lambert Pierre vs ['jean pierre lambert', 'lambert jean pierre']\n"
     ]
    },
    {
     "name": "stderr",
     "output_type": "stream",
     "text": [
      " 95%|█████████▍| 1650/1737 [05:46<00:23,  3.71it/s]"
     ]
    },
    {
     "name": "stdout",
     "output_type": "stream",
     "text": [
      "no exact fullname match for De Seze René vs ['rene de seze', 'seze rene de']\n",
      "no exact fullname match for Upegui Erika vs ['erika  upegui cardona', 'upegui cardona erika']\n"
     ]
    },
    {
     "name": "stderr",
     "output_type": "stream",
     "text": [
      " 96%|█████████▌| 1669/1737 [05:48<00:08,  7.90it/s]"
     ]
    },
    {
     "name": "stdout",
     "output_type": "stream",
     "text": [
      "no exact fullname match for Villena Isabelle vs ['isabelle bodart', 'bodart isabelle']\n",
      "no exact fullname match for Villena Isabelle vs ['isabelle coste villena', 'coste villena isabelle']\n"
     ]
    },
    {
     "name": "stderr",
     "output_type": "stream",
     "text": [
      " 97%|█████████▋| 1688/1737 [05:52<00:08,  5.92it/s]"
     ]
    },
    {
     "name": "stdout",
     "output_type": "stream",
     "text": [
      "skipping birth date 1715-01-03T00:00:00\n",
      "no exact fullname match for Rousset François vs ['jean francois rousset', 'rousset jean francois']\n",
      "no exact fullname match for Rousset François vs ['charles francois rousset', 'rousset charles francois']\n"
     ]
    },
    {
     "name": "stderr",
     "output_type": "stream",
     "text": [
      " 97%|█████████▋| 1689/1737 [05:53<00:19,  2.44it/s]"
     ]
    },
    {
     "name": "stdout",
     "output_type": "stream",
     "text": [
      "no exact fullname match for Rousset François vs ['henri rousset', 'rousset henri']\n"
     ]
    },
    {
     "name": "stderr",
     "output_type": "stream",
     "text": [
      " 97%|█████████▋| 1690/1737 [05:53<00:17,  2.67it/s]"
     ]
    },
    {
     "name": "stdout",
     "output_type": "stream",
     "text": [
      "no exact fullname match for Gromb Sophie vs ['sophie gromb monnoyeur', 'gromb monnoyeur sophie']\n"
     ]
    },
    {
     "name": "stderr",
     "output_type": "stream",
     "text": [
      " 97%|█████████▋| 1692/1737 [05:53<00:11,  3.97it/s]"
     ]
    },
    {
     "name": "stdout",
     "output_type": "stream",
     "text": [
      "no exact fullname match for De Gaudemaris Régis vs ['regis de gaudemaris', 'gaudemaris regis de']\n",
      "no exact fullname match for André Jean-Claude vs ['andre jean claude bichot', 'bichot andre jean claude']\n",
      "no exact fullname match for André Jean-Claude vs ['jean claude lapraz', 'lapraz jean claude']\n",
      "no exact fullname match for André Jean-Claude vs ['jean claude solere', 'solere jean claude']\n",
      "no exact fullname match for André Jean-Claude vs ['jean claude rolland', 'rolland jean claude']\n"
     ]
    },
    {
     "name": "stderr",
     "output_type": "stream",
     "text": [
      " 97%|█████████▋| 1693/1737 [05:54<00:19,  2.26it/s]"
     ]
    },
    {
     "name": "stdout",
     "output_type": "stream",
     "text": [
      "no exact fullname match for André Jean-Claude vs ['anthony jean claude andre turpin', 'turpin anthony jean claude andre']\n",
      "no exact fullname match for André Jean-Claude vs ['jean claude andre gonin', 'gonin jean claude andre']\n",
      "no exact fullname match for André Jean-Claude vs ['andre jean claude benoit gonin', 'benoit gonin andre jean claude']\n"
     ]
    },
    {
     "name": "stderr",
     "output_type": "stream",
     "text": [
      " 98%|█████████▊| 1696/1737 [05:54<00:10,  3.76it/s]"
     ]
    },
    {
     "name": "stdout",
     "output_type": "stream",
     "text": [
      "no exact fullname match for Canu Irina vs ['irina guseva canu', 'guseva canu irina']\n"
     ]
    },
    {
     "name": "stderr",
     "output_type": "stream",
     "text": [
      " 98%|█████████▊| 1701/1737 [05:55<00:05,  6.31it/s]"
     ]
    },
    {
     "name": "stdout",
     "output_type": "stream",
     "text": [
      "no exact fullname match for Mazet Paul vs ['jean paul mazet', 'mazet jean paul']\n"
     ]
    },
    {
     "name": "stderr",
     "output_type": "stream",
     "text": [
      " 98%|█████████▊| 1706/1737 [05:56<00:04,  6.57it/s]"
     ]
    },
    {
     "name": "stdout",
     "output_type": "stream",
     "text": [
      "no exact fullname match for Kuhn Pierre vs ['jean pierre kuhn', 'kuhn jean pierre']\n",
      "no exact fullname match for Kuhn Pierre vs ['pierre marie bohl kuhn', 'bohl kuhn pierre marie']\n",
      "no exact fullname match for Kuhn Pierre vs ['pierre mounier kuhn', 'mounier kuhn pierre']\n",
      "no exact fullname match for Kuhn Pierre vs ['pierre louis edmond mounier kuhn', 'mounier kuhn pierre louis edmond']\n"
     ]
    },
    {
     "name": "stderr",
     "output_type": "stream",
     "text": [
      " 98%|█████████▊| 1709/1737 [05:57<00:06,  4.09it/s]"
     ]
    },
    {
     "name": "stdout",
     "output_type": "stream",
     "text": [
      "no exact fullname match for Paris Christophe vs ['jean christophe paris', 'paris jean christophe']\n",
      "no exact fullname match for Paris Christophe vs ['christophe de paris', 'christophe de paris']\n",
      "no exact fullname match for Paris Christophe vs ['jean christophe paris', 'paris jean christophe']\n",
      "no exact fullname match for Paris Christophe vs ['jean christophe coffin', 'coffin jean christophe']\n",
      "no exact fullname match for Paris Christophe vs ['christophe greffet', 'greffet christophe']\n"
     ]
    },
    {
     "name": "stderr",
     "output_type": "stream",
     "text": [
      " 98%|█████████▊| 1710/1737 [05:58<00:10,  2.50it/s]"
     ]
    },
    {
     "name": "stdout",
     "output_type": "stream",
     "text": [
      "no exact fullname match for Paris Christophe vs ['christophe de beaumont du repaire', 'beaumont du repaire christophe de']\n"
     ]
    },
    {
     "name": "stderr",
     "output_type": "stream",
     "text": [
      " 99%|█████████▉| 1716/1737 [05:59<00:06,  3.06it/s]"
     ]
    },
    {
     "name": "stdout",
     "output_type": "stream",
     "text": [
      "no exact fullname match for Morel Christian vs ['christian morel de sarcus', 'morel de sarcus christian']\n"
     ]
    },
    {
     "name": "stderr",
     "output_type": "stream",
     "text": [
      " 99%|█████████▉| 1718/1737 [06:00<00:05,  3.58it/s]"
     ]
    },
    {
     "name": "stdout",
     "output_type": "stream",
     "text": [
      "no exact fullname match for Delus Claire vs ['claire lang', 'lang claire']\n",
      "no exact fullname match for Gascoin Géraldine vs ['geraldine gascoin lachambre', 'gascoin lachambre geraldine']\n"
     ]
    },
    {
     "name": "stderr",
     "output_type": "stream",
     "text": [
      " 99%|█████████▉| 1719/1737 [06:00<00:06,  2.87it/s]"
     ]
    },
    {
     "name": "stdout",
     "output_type": "stream",
     "text": [
      "no exact fullname match for Petit Fabienne vs ['fabienne arias petit', 'arias petit fabienne']\n",
      "no exact fullname match for Petit Fabienne vs ['fabienne petit jean', 'petit jean fabienne']\n"
     ]
    },
    {
     "name": "stderr",
     "output_type": "stream",
     "text": [
      "100%|█████████▉| 1731/1737 [06:02<00:01,  5.20it/s]"
     ]
    },
    {
     "name": "stdout",
     "output_type": "stream",
     "text": [
      "no exact fullname match for Ghaleh-Marzban Bijan vs ['bijan ghaleh', 'ghaleh bijan']\n"
     ]
    },
    {
     "name": "stderr",
     "output_type": "stream",
     "text": [
      "100%|██████████| 1737/1737 [06:03<00:00,  4.77it/s]\n"
     ]
    }
   ],
   "source": [
    "if len([x for x in ['nom', 'prenom'] if x in list(sources[source].keys())])==2:\n",
    "    df_partenaires['id_personne']=df_partenaires.progress_apply(lambda row: get_person(row, cached_data_persons,sources[source]['nom'],sources[source]['prenom']), axis=1)\n",
    "    #df_partenaires.to_excel(f\"./DATA/{source}/df_partners_id_personne.xlsx\")\n",
    "    df_partenaires.to_json(f\"./DATA/{source}/df_partners_id_person.json\")"
   ]
  },
  {
   "cell_type": "code",
   "execution_count": 29,
   "id": "2f5f4ece",
   "metadata": {},
   "outputs": [
    {
     "data": {
      "text/plain": [
       "800"
      ]
     },
     "execution_count": 29,
     "metadata": {},
     "output_type": "execute_result"
    }
   ],
   "source": [
    "len(cached_data_persons)"
   ]
  },
  {
   "cell_type": "code",
   "execution_count": 30,
   "id": "47ada687",
   "metadata": {},
   "outputs": [],
   "source": [
    "write_cache(cached_data_persons,f\"./DATA/{source}/caches/cached_{source.lower()}_data_persons.pkl\")"
   ]
  },
  {
   "cell_type": "code",
   "execution_count": 31,
   "id": "14039fb3",
   "metadata": {},
   "outputs": [
    {
     "name": "stderr",
     "output_type": "stream",
     "text": [
      "  1%|          | 14/1737 [00:00<01:40, 17.21it/s]c:\\Users\\haallat\\Anaconda3\\lib\\site-packages\\bs4\\builder\\__init__.py:545: XMLParsedAsHTMLWarning: It looks like you're parsing an XML document using an HTML parser. If this really is an HTML document (maybe it's XHTML?), you can ignore or filter this warning. If it's XML, you should know that using an XML parser will be more reliable. To parse this document as XML, make sure you have the lxml package installed, and pass the keyword argument `features=\"xml\"` into the BeautifulSoup constructor.\n",
      "  warnings.warn(\n",
      "  1%|          | 20/1737 [00:02<03:33,  8.03it/s]"
     ]
    },
    {
     "name": "stdout",
     "output_type": "stream",
     "text": [
      "no exact fullname match for Morin Jean-Paul vs ['trevanian', 'trevanian']\n"
     ]
    },
    {
     "name": "stderr",
     "output_type": "stream",
     "text": [
      "  2%|▏         | 27/1737 [00:03<04:15,  6.71it/s]"
     ]
    },
    {
     "name": "stdout",
     "output_type": "stream",
     "text": [
      "no exact fullname match for Gilot-Fromont Emmanuelle vs ['emmanuelle fromont', 'fromont emmanuelle']\n"
     ]
    },
    {
     "name": "stderr",
     "output_type": "stream",
     "text": [
      "  2%|▏         | 29/1737 [00:03<04:25,  6.42it/s]"
     ]
    },
    {
     "name": "stdout",
     "output_type": "stream",
     "text": [
      "no exact fullname match for Schneider Dominique vs ['dominique jung schneider', 'jung schneider dominique']\n"
     ]
    },
    {
     "name": "stderr",
     "output_type": "stream",
     "text": [
      "  2%|▏         | 31/1737 [00:04<06:24,  4.44it/s]"
     ]
    },
    {
     "name": "stdout",
     "output_type": "stream",
     "text": [
      "no exact fullname match for Paris Christophe vs ['jean christophe paris', 'paris jean christophe']\n",
      "no exact fullname match for Paris Christophe vs ['christophe de paris', 'christophe de paris']\n",
      "no exact fullname match for Paris Christophe vs ['jean christophe paris', 'paris jean christophe']\n"
     ]
    },
    {
     "name": "stderr",
     "output_type": "stream",
     "text": [
      "  2%|▏         | 38/1737 [00:05<05:01,  5.64it/s]"
     ]
    },
    {
     "name": "stdout",
     "output_type": "stream",
     "text": [
      "no exact fullname match for Paris Christophe vs ['jean christophe coffin', 'coffin jean christophe']\n",
      "no exact fullname match for Paris Christophe vs ['christophe greffet', 'greffet christophe']\n",
      "no exact fullname match for Paris Christophe vs ['christophe de beaumont du repaire', 'beaumont du repaire christophe de']\n",
      "no exact fullname match for Bénédetti Marc vs ['jean marc benedetti', 'benedetti jean marc']\n",
      "no exact fullname match for Bénédetti Marc vs ['jean marc benedetti', 'benedetti jean marc']\n"
     ]
    },
    {
     "name": "stderr",
     "output_type": "stream",
     "text": [
      "  3%|▎         | 60/1737 [00:06<01:53, 14.72it/s]"
     ]
    },
    {
     "name": "stdout",
     "output_type": "stream",
     "text": [
      "no exact fullname match for Baeza Armelle vs ['armelle baeza squiban', 'baeza squiban armelle']\n"
     ]
    },
    {
     "name": "stderr",
     "output_type": "stream",
     "text": [
      "  4%|▍         | 69/1737 [00:07<01:19, 20.92it/s]"
     ]
    },
    {
     "name": "stdout",
     "output_type": "stream",
     "text": [
      "no exact fullname match for Carrière Marie vs ['marie j  carriere', 'carriere marie j']\n",
      "no exact fullname match for Carrière Marie vs ['anne marie carriere', 'carriere anne marie']\n",
      "no exact fullname match for Carrière Marie vs ['lucien eugene marie carriere', 'carriere lucien eugene marie']\n",
      "no exact fullname match for Carrière Marie vs ['jean marie carriere', 'carriere jean marie']\n",
      "no exact fullname match for Carrière Marie vs ['marie vigier carriere', 'vigier carriere marie']\n",
      "no exact fullname match for Carrière Marie vs ['martin barthelemy carriere', 'carriere martin barthelemy']\n",
      "no exact fullname match for Carrière Marie vs ['jean marie carriere', 'carriere jean marie']\n",
      "no exact fullname match for Carrière Marie vs ['marie joseph henri carriere', 'carriere marie joseph henri']\n"
     ]
    },
    {
     "name": "stderr",
     "output_type": "stream",
     "text": [
      "  4%|▍         | 74/1737 [00:08<02:48,  9.84it/s]"
     ]
    },
    {
     "name": "stdout",
     "output_type": "stream",
     "text": [
      "no exact fullname match for Zmirou Denis vs ['denis zmirou navier', 'zmirou navier denis']\n"
     ]
    },
    {
     "name": "stderr",
     "output_type": "stream",
     "text": [
      "  6%|▌         | 104/1737 [00:09<01:17, 21.19it/s]"
     ]
    },
    {
     "name": "stdout",
     "output_type": "stream",
     "text": [
      "no exact fullname match for Le Moual Nicole vs ['nicole lincot le moual', 'lincot le moual nicole']\n"
     ]
    },
    {
     "name": "stderr",
     "output_type": "stream",
     "text": [
      "  6%|▌         | 107/1737 [00:09<01:36, 16.82it/s]"
     ]
    },
    {
     "name": "stdout",
     "output_type": "stream",
     "text": [
      "no exact fullname match for Raherison Chantal vs ['chantal raherison semjen', 'raherison semjen chantal']\n",
      "no exact fullname match for Pons Françoise vs ['francoise pons lebeau', 'pons lebeau francoise']\n"
     ]
    },
    {
     "name": "stderr",
     "output_type": "stream",
     "text": [
      "  6%|▋         | 110/1737 [00:10<03:14,  8.38it/s]"
     ]
    },
    {
     "name": "stdout",
     "output_type": "stream",
     "text": [
      "no exact fullname match for Pons Françoise vs ['francoise bernard pons', 'bernard pons francoise']\n",
      "no exact fullname match for Pons Françoise vs ['anne francoise pons', 'pons anne francoise']\n"
     ]
    },
    {
     "name": "stderr",
     "output_type": "stream",
     "text": [
      "  7%|▋         | 115/1737 [00:11<03:11,  8.49it/s]"
     ]
    },
    {
     "name": "stdout",
     "output_type": "stream",
     "text": [
      "no exact fullname match for Paris Christophe vs ['jean christophe paris', 'paris jean christophe']\n",
      "no exact fullname match for Paris Christophe vs ['christophe de paris', 'christophe de paris']\n",
      "no exact fullname match for Paris Christophe vs ['jean christophe paris', 'paris jean christophe']\n",
      "no exact fullname match for Paris Christophe vs ['jean christophe coffin', 'coffin jean christophe']\n",
      "no exact fullname match for Paris Christophe vs ['christophe greffet', 'greffet christophe']\n"
     ]
    },
    {
     "name": "stderr",
     "output_type": "stream",
     "text": [
      "  7%|▋         | 118/1737 [00:12<04:40,  5.78it/s]"
     ]
    },
    {
     "name": "stdout",
     "output_type": "stream",
     "text": [
      "no exact fullname match for Paris Christophe vs ['christophe de beaumont du repaire', 'beaumont du repaire christophe de']\n"
     ]
    },
    {
     "name": "stderr",
     "output_type": "stream",
     "text": [
      "  7%|▋         | 128/1737 [00:12<02:54,  9.22it/s]"
     ]
    },
    {
     "name": "stdout",
     "output_type": "stream",
     "text": [
      "no exact fullname match for Bernard Louis vs ['louis bernard robitaille', 'robitaille louis bernard']\n",
      "no exact fullname match for Bernard Louis vs ['bernard louis dumont', 'dumont bernard louis']\n",
      "no exact fullname match for Bernard Louis vs ['bernard louis roques', 'roques bernard louis']\n"
     ]
    },
    {
     "name": "stderr",
     "output_type": "stream",
     "text": [
      "  7%|▋         | 130/1737 [00:13<05:35,  4.79it/s]"
     ]
    },
    {
     "name": "stdout",
     "output_type": "stream",
     "text": [
      "no exact fullname match for Bernard Louis vs ['bernard louis pasquier', 'pasquier bernard louis']\n"
     ]
    },
    {
     "name": "stderr",
     "output_type": "stream",
     "text": [
      "  8%|▊         | 133/1737 [00:14<05:02,  5.30it/s]"
     ]
    },
    {
     "name": "stdout",
     "output_type": "stream",
     "text": [
      "no exact fullname match for Garric Jeanne vs ['marie jeanne garric', 'garric marie jeanne']\n"
     ]
    },
    {
     "name": "stderr",
     "output_type": "stream",
     "text": [
      "  9%|▉         | 152/1737 [00:15<02:04, 12.75it/s]"
     ]
    },
    {
     "name": "stdout",
     "output_type": "stream",
     "text": [
      "skipping birth date 1890-01-01T00:00:00\n",
      "no exact fullname match for Lepage Nadege vs ['nadege lepage druetto', 'lepage druetto nadege']\n"
     ]
    },
    {
     "name": "stderr",
     "output_type": "stream",
     "text": [
      "  9%|▉         | 154/1737 [00:16<03:45,  7.02it/s]"
     ]
    },
    {
     "name": "stdout",
     "output_type": "stream",
     "text": [
      "no exact fullname match for Allemand Isabelle vs ['isabelle meutelet allemand', 'meutelet allemand isabelle']\n",
      "no exact fullname match for Allemand Isabelle vs ['isabelle martine', 'martine isabelle']\n",
      "no exact fullname match for Thomas Olivier vs ['olivier paul thomas', 'thomas olivier paul']\n"
     ]
    },
    {
     "name": "stderr",
     "output_type": "stream",
     "text": [
      "  9%|▉         | 158/1737 [00:19<08:11,  3.21it/s]"
     ]
    },
    {
     "name": "stdout",
     "output_type": "stream",
     "text": [
      "no exact fullname match for Bertrand Xavier vs ['bertrand xavier soret', 'soret bertrand xavier']\n"
     ]
    },
    {
     "name": "stderr",
     "output_type": "stream",
     "text": [
      "  9%|▉         | 163/1737 [00:20<07:01,  3.73it/s]"
     ]
    },
    {
     "name": "stdout",
     "output_type": "stream",
     "text": [
      "no exact fullname match for Bertrand Xavier vs ['bertrand delafosse', 'delafosse bertrand']\n",
      "no exact fullname match for Bertrand Xavier vs ['francois xavier bernard bertrand lesage', 'lesage francois xavier bernard bertrand']\n",
      "no exact fullname match for Bertrand Xavier vs ['etienne bertaud du chazaud', 'bertaud du chazaud etienne']\n"
     ]
    },
    {
     "name": "stderr",
     "output_type": "stream",
     "text": [
      " 10%|█         | 179/1737 [00:21<03:24,  7.62it/s]"
     ]
    },
    {
     "name": "stdout",
     "output_type": "stream",
     "text": [
      "no exact fullname match for Morin Jean-Paul vs ['trevanian', 'trevanian']\n"
     ]
    },
    {
     "name": "stderr",
     "output_type": "stream",
     "text": [
      " 11%|█         | 186/1737 [00:21<02:30, 10.29it/s]"
     ]
    },
    {
     "name": "stdout",
     "output_type": "stream",
     "text": [
      "no exact fullname match for Langouet Sophie vs ['sophie langouet prigent', 'langouet prigent sophie']\n",
      "no exact fullname match for Petit Audrey vs ['audrey petit trigg', 'petit trigg audrey']\n",
      "no exact fullname match for Petit Audrey vs ['audrey petit bessy', 'petit bessy audrey']\n",
      "no exact fullname match for Petit Audrey vs ['marie audrey barrat petit', 'barrat petit marie audrey']\n"
     ]
    },
    {
     "name": "stderr",
     "output_type": "stream",
     "text": [
      " 11%|█         | 195/1737 [00:22<02:39,  9.68it/s]"
     ]
    },
    {
     "name": "stdout",
     "output_type": "stream",
     "text": [
      "no exact fullname match for Petit Audrey vs ['audrey francoise petit', 'petit audrey francoise']\n"
     ]
    },
    {
     "name": "stderr",
     "output_type": "stream",
     "text": [
      " 11%|█▏        | 197/1737 [00:23<03:16,  7.85it/s]"
     ]
    },
    {
     "name": "stdout",
     "output_type": "stream",
     "text": [
      "no exact fullname match for Hamel Jean-François vs ['jean francois hamel broza', 'hamel broza jean francois']\n"
     ]
    },
    {
     "name": "stderr",
     "output_type": "stream",
     "text": [
      " 12%|█▏        | 200/1737 [00:24<04:04,  6.29it/s]"
     ]
    },
    {
     "name": "stdout",
     "output_type": "stream",
     "text": [
      "no exact fullname match for Schmich Isabelle vs ['isabelle schmich yamane', 'schmich yamane isabelle']\n"
     ]
    },
    {
     "name": "stderr",
     "output_type": "stream",
     "text": [
      " 12%|█▏        | 206/1737 [00:24<03:31,  7.25it/s]"
     ]
    },
    {
     "name": "stdout",
     "output_type": "stream",
     "text": [
      "no exact fullname match for Legrand Emilie vs ['emilie legrand collin', 'legrand collin emilie']\n",
      "no exact fullname match for Legrand Emilie vs ['emilie legrand pluquet', 'legrand pluquet emilie']\n"
     ]
    },
    {
     "name": "stderr",
     "output_type": "stream",
     "text": [
      " 13%|█▎        | 220/1737 [00:26<02:39,  9.54it/s]"
     ]
    },
    {
     "name": "stdout",
     "output_type": "stream",
     "text": [
      "no exact fullname match for Mir Luis vs ['luis jerez mir', 'jerez mir luis']\n",
      "no exact fullname match for Mir Luis vs ['luis m  mir', 'm  mir luis']\n"
     ]
    },
    {
     "name": "stderr",
     "output_type": "stream",
     "text": [
      " 13%|█▎        | 231/1737 [00:26<02:02, 12.28it/s]"
     ]
    },
    {
     "name": "stdout",
     "output_type": "stream",
     "text": [
      "no exact fullname match for Morin Didier vs ['gilles andre didier morin', 'morin gilles andre didier']\n",
      "no exact fullname match for Langouet Sophie vs ['sophie langouet prigent', 'langouet prigent sophie']\n"
     ]
    },
    {
     "name": "stderr",
     "output_type": "stream",
     "text": [
      " 14%|█▎        | 236/1737 [00:27<02:18, 10.84it/s]"
     ]
    },
    {
     "name": "stdout",
     "output_type": "stream",
     "text": [
      "skipping Animateur à Radio-Canada, docteur en sémiologie, journaliste (en 2003)\n",
      "no exact fullname match for Auger Jacques vs ['jean jacques  auger', 'auger jean jacques']\n"
     ]
    },
    {
     "name": "stderr",
     "output_type": "stream",
     "text": [
      " 14%|█▎        | 238/1737 [00:28<04:02,  6.19it/s]"
     ]
    },
    {
     "name": "stdout",
     "output_type": "stream",
     "text": [
      "skipping birth date 1890-01-01T00:00:00\n",
      "no exact fullname match for Riviere Emmanuel vs ['marie emmanuel riviere', 'riviere marie emmanuel']\n"
     ]
    },
    {
     "name": "stderr",
     "output_type": "stream",
     "text": [
      " 14%|█▍        | 251/1737 [00:29<02:36,  9.48it/s]"
     ]
    },
    {
     "name": "stdout",
     "output_type": "stream",
     "text": [
      "no exact fullname match for De Sèze René vs ['rene de seze', 'seze rene de']\n"
     ]
    },
    {
     "name": "stderr",
     "output_type": "stream",
     "text": [
      " 15%|█▍        | 258/1737 [00:29<01:41, 14.63it/s]"
     ]
    },
    {
     "name": "stdout",
     "output_type": "stream",
     "text": [
      "no exact fullname match for Fournier Thierry vs ['thierry fournier', 'fournier  thierry']\n"
     ]
    },
    {
     "name": "stderr",
     "output_type": "stream",
     "text": [
      " 15%|█▌        | 267/1737 [00:31<03:26,  7.12it/s]"
     ]
    },
    {
     "name": "stdout",
     "output_type": "stream",
     "text": [
      "no exact fullname match for Garrigou Alain vs ['alain garrigou torchy', 'garrigou torchy alain']\n",
      "no exact fullname match for Maître Anne vs ['anne le maitre', 'le maitre anne']\n",
      "no exact fullname match for Maître Anne vs ['anne le maitre', 'le maitre anne']\n",
      "no exact fullname match for Maître Anne vs ['marie anne prioux maitre', 'prioux maitre marie anne']\n",
      "no exact fullname match for Maître Anne vs ['anne marie peau', 'peau anne marie']\n",
      "no exact fullname match for Maître Anne vs ['anne laure bourdel', 'bourdel anne laure']\n",
      "no exact fullname match for Maître Anne vs ['anne waugh', 'waugh anne']\n"
     ]
    },
    {
     "name": "stderr",
     "output_type": "stream",
     "text": [
      " 15%|█▌        | 269/1737 [00:32<05:11,  4.71it/s]"
     ]
    },
    {
     "name": "stdout",
     "output_type": "stream",
     "text": [
      "no exact fullname match for Maître Anne vs ['anne claire prince', 'prince anne claire']\n",
      "no exact fullname match for Maître Anne vs ['anne sophie ledonne', 'ledonne anne sophie']\n"
     ]
    },
    {
     "name": "stderr",
     "output_type": "stream",
     "text": [
      " 16%|█▌        | 274/1737 [00:33<03:47,  6.42it/s]"
     ]
    },
    {
     "name": "stdout",
     "output_type": "stream",
     "text": [
      "no exact fullname match for Perrin Anne vs ['anne perrin khelissa', 'perrin khelissa anne']\n",
      "no exact fullname match for Perrin Anne vs ['anne marie perrin', 'perrin anne marie']\n"
     ]
    },
    {
     "name": "stderr",
     "output_type": "stream",
     "text": [
      " 16%|█▌        | 276/1737 [00:34<05:29,  4.43it/s]"
     ]
    },
    {
     "name": "stdout",
     "output_type": "stream",
     "text": [
      "no exact fullname match for Perrin Anne vs ['anne gaelle perrin', 'perrin anne gaelle']\n"
     ]
    },
    {
     "name": "stderr",
     "output_type": "stream",
     "text": [
      " 16%|█▌        | 280/1737 [00:34<04:21,  5.58it/s]"
     ]
    },
    {
     "name": "stdout",
     "output_type": "stream",
     "text": [
      "no exact fullname match for Bories Serge vs ['serge charles bories', 'bories serge charles']\n",
      "no exact fullname match for Pons Françoise vs ['francoise pons lebeau', 'pons lebeau francoise']\n"
     ]
    },
    {
     "name": "stderr",
     "output_type": "stream",
     "text": [
      " 16%|█▌        | 281/1737 [00:35<06:04,  4.00it/s]"
     ]
    },
    {
     "name": "stdout",
     "output_type": "stream",
     "text": [
      "no exact fullname match for Pons Françoise vs ['francoise bernard pons', 'bernard pons francoise']\n",
      "no exact fullname match for Pons Françoise vs ['anne francoise pons', 'pons anne francoise']\n"
     ]
    },
    {
     "name": "stderr",
     "output_type": "stream",
     "text": [
      " 16%|█▌        | 282/1737 [00:35<05:48,  4.17it/s]"
     ]
    },
    {
     "name": "stdout",
     "output_type": "stream",
     "text": [
      "no exact fullname match for Guzylack Laurence vs ['laurence piriou guzylack', 'piriou guzylack laurence']\n",
      "no exact fullname match for Martin Perrine vs ['perrine j  martin', 'martin perrine j']\n"
     ]
    },
    {
     "name": "stderr",
     "output_type": "stream",
     "text": [
      " 16%|█▋        | 283/1737 [00:36<07:42,  3.14it/s]"
     ]
    },
    {
     "name": "stdout",
     "output_type": "stream",
     "text": [
      "no exact fullname match for Martin Perrine vs ['perrine saint martin', 'saint martin perrine']\n",
      "no exact fullname match for Barthélémy Philippe vs ['charles philippe barthelemy', 'barthelemy charles philippe']\n"
     ]
    },
    {
     "name": "stderr",
     "output_type": "stream",
     "text": [
      " 17%|█▋        | 287/1737 [00:37<07:59,  3.02it/s]"
     ]
    },
    {
     "name": "stdout",
     "output_type": "stream",
     "text": [
      "no exact fullname match for Gomez Elena vs ['elena lopez gomez', 'lopez gomez elena']\n",
      "no exact fullname match for Gomez Elena vs ['elena gomez ugarte', 'gomez ugarte elena']\n",
      "no exact fullname match for Gomez Elena vs ['elena gomez perez', 'gomez perez elena']\n",
      "no exact fullname match for Gomez Elena vs ['elena merino gomez', 'merino gomez elena']\n",
      "no exact fullname match for Gomez Elena vs ['elena vasquez gomez', 'vasquez gomez elena']\n",
      "no exact fullname match for Gomez Elena vs ['elena gomez diaz', 'gomez diaz elena']\n",
      "no exact fullname match for Gomez Elena vs ['rieser elena gomez', 'elena gomez rieser']\n",
      "no exact fullname match for Gomez Elena vs ['elena gomez rieser', 'gomez rieser elena']\n",
      "no exact fullname match for Gomez Elena vs ['maria elena gomez moreno', 'gomez moreno maria elena']\n"
     ]
    },
    {
     "name": "stderr",
     "output_type": "stream",
     "text": [
      " 17%|█▋        | 289/1737 [00:38<09:13,  2.62it/s]"
     ]
    },
    {
     "name": "stdout",
     "output_type": "stream",
     "text": [
      "no exact fullname match for Gomez Elena vs ['maria elena gomez hernandez', 'gomez hernandez maria elena']\n",
      "no exact fullname match for Etienne Manuel vs ['arnaud manuel etienne', 'etienne arnaud manuel']\n"
     ]
    },
    {
     "name": "stderr",
     "output_type": "stream",
     "text": [
      " 17%|█▋        | 296/1737 [00:39<04:47,  5.02it/s]"
     ]
    },
    {
     "name": "stdout",
     "output_type": "stream",
     "text": [
      "no exact fullname match for Etienne Manuel vs ['marie andree manuel etienne', 'manuel etienne marie andree']\n",
      "no exact fullname match for Etienne Manuel vs ['etienne gougere', 'gougere etienne']\n"
     ]
    },
    {
     "name": "stderr",
     "output_type": "stream",
     "text": [
      " 17%|█▋        | 298/1737 [00:39<04:17,  5.59it/s]"
     ]
    },
    {
     "name": "stdout",
     "output_type": "stream",
     "text": [
      "no exact fullname match for Suarez Guillaume vs ['guillaume asuarez', 'asuarez guillaume']\n",
      "no exact fullname match for Lecomte Catherine vs ['catherine lecomte lapp', 'lecomte lapp catherine']\n",
      "no exact fullname match for Lecomte Catherine vs ['anne catherine lecomte', 'lecomte anne catherine']\n"
     ]
    },
    {
     "name": "stderr",
     "output_type": "stream",
     "text": [
      " 17%|█▋        | 302/1737 [00:40<04:53,  4.88it/s]"
     ]
    },
    {
     "name": "stdout",
     "output_type": "stream",
     "text": [
      "no exact fullname match for Lecomte Catherine vs ['catherine deslandes', 'deslandes catherine']\n",
      "no exact fullname match for Lecomte Catherine vs ['catherine lecomte pradines', 'lecomte pradines catherine']\n"
     ]
    },
    {
     "name": "stderr",
     "output_type": "stream",
     "text": [
      " 18%|█▊        | 313/1737 [00:41<04:08,  5.74it/s]"
     ]
    },
    {
     "name": "stdout",
     "output_type": "stream",
     "text": [
      "no exact fullname match for Tarrade Anne vs ['anne couturier tarrade', 'couturier tarrade anne']\n"
     ]
    },
    {
     "name": "stderr",
     "output_type": "stream",
     "text": [
      " 18%|█▊        | 318/1737 [00:43<05:30,  4.29it/s]"
     ]
    },
    {
     "name": "stdout",
     "output_type": "stream",
     "text": [
      "no exact fullname match for Moreau Christophe vs ['jean christophe moreau', 'moreau jean christophe']\n",
      "no exact fullname match for Moreau Christophe vs ['jean christophe moreau', 'moreau jean christophe']\n",
      "no exact fullname match for Moreau Christophe vs ['louis mathurin moreau christophe', 'moreau christophe louis mathurin']\n"
     ]
    },
    {
     "name": "stderr",
     "output_type": "stream",
     "text": [
      " 18%|█▊        | 319/1737 [00:44<09:06,  2.60it/s]"
     ]
    },
    {
     "name": "stdout",
     "output_type": "stream",
     "text": [
      "no exact fullname match for Moreau Christophe vs ['jean christophe moreau', 'moreau jean christophe']\n"
     ]
    },
    {
     "name": "stderr",
     "output_type": "stream",
     "text": [
      " 20%|█▉        | 346/1737 [00:46<03:05,  7.50it/s]"
     ]
    },
    {
     "name": "stdout",
     "output_type": "stream",
     "text": [
      "no exact fullname match for Chevalier Nicolas vs ['nicolas chevalier roch', 'chevalier roch nicolas']\n",
      "skipping birth date 1562-01-01T00:00:00\n"
     ]
    },
    {
     "name": "stderr",
     "output_type": "stream",
     "text": [
      " 20%|██        | 355/1737 [00:47<02:20,  9.82it/s]"
     ]
    },
    {
     "name": "stdout",
     "output_type": "stream",
     "text": [
      "no exact fullname match for Paris Christophe vs ['jean christophe paris', 'paris jean christophe']\n",
      "no exact fullname match for Paris Christophe vs ['christophe de paris', 'christophe de paris']\n",
      "no exact fullname match for Paris Christophe vs ['jean christophe paris', 'paris jean christophe']\n"
     ]
    },
    {
     "name": "stderr",
     "output_type": "stream",
     "text": [
      " 21%|██        | 357/1737 [00:48<03:56,  5.83it/s]"
     ]
    },
    {
     "name": "stdout",
     "output_type": "stream",
     "text": [
      "no exact fullname match for Paris Christophe vs ['jean christophe coffin', 'coffin jean christophe']\n",
      "no exact fullname match for Paris Christophe vs ['christophe greffet', 'greffet christophe']\n",
      "no exact fullname match for Paris Christophe vs ['christophe de beaumont du repaire', 'beaumont du repaire christophe de']\n",
      "no exact fullname match for Petit Fabienne vs ['fabienne arias petit', 'arias petit fabienne']\n",
      "no exact fullname match for Petit Fabienne vs ['fabienne petit jean', 'petit jean fabienne']\n"
     ]
    },
    {
     "name": "stderr",
     "output_type": "stream",
     "text": [
      " 21%|██▏       | 370/1737 [00:50<03:10,  7.19it/s]"
     ]
    },
    {
     "name": "stdout",
     "output_type": "stream",
     "text": [
      "no exact fullname match for Bories Serge vs ['serge charles bories', 'bories serge charles']\n"
     ]
    },
    {
     "name": "stderr",
     "output_type": "stream",
     "text": [
      " 22%|██▏       | 374/1737 [00:50<03:47,  5.99it/s]"
     ]
    },
    {
     "name": "stdout",
     "output_type": "stream",
     "text": [
      "no exact fullname match for Merlin Christophe vs ['antoine merlin', 'merlin antoine']\n",
      "no exact fullname match for Merlin Christophe vs ['paul christophe elisabeth merlin', 'merlin paul christophe elisabeth']\n"
     ]
    },
    {
     "name": "stderr",
     "output_type": "stream",
     "text": [
      " 22%|██▏       | 384/1737 [00:51<02:40,  8.42it/s]"
     ]
    },
    {
     "name": "stdout",
     "output_type": "stream",
     "text": [
      "no exact fullname match for Reynaud Stéphane vs ['stephane denis reynaud', 'reynaud stephane denis']\n",
      "no exact fullname match for Lecureur Valérie vs ['valerie lecureur rolland', 'lecureur rolland valerie']\n"
     ]
    },
    {
     "name": "stderr",
     "output_type": "stream",
     "text": [
      " 23%|██▎       | 406/1737 [00:52<00:56, 23.60it/s]"
     ]
    },
    {
     "name": "stdout",
     "output_type": "stream",
     "text": [
      "no exact fullname match for Arnaud-Cormos Delia vs ['liliana delia arnaud cormos', 'arnaud cormos liliana delia']\n"
     ]
    },
    {
     "name": "stderr",
     "output_type": "stream",
     "text": [
      " 24%|██▍       | 417/1737 [00:52<00:57, 22.93it/s]"
     ]
    },
    {
     "name": "stdout",
     "output_type": "stream",
     "text": [
      "no exact fullname match for Villanueva Cristina vs ['cristina ferreiro villanueva', 'ferreiro villanueva cristina']\n",
      "no exact fullname match for Villanueva Cristina vs ['cristina lopez villanueva', 'lopez villanueva cristina']\n",
      "no exact fullname match for Hicks David vs ['david hicks lillard', 'lillard david hicks']\n",
      "no exact fullname match for Hicks David vs ['david l  hicks', 'hicks david l']\n",
      "no exact fullname match for Hicks David vs ['s  david hicks', 'hicks s  david']\n",
      "no exact fullname match for Hicks David vs ['david w  hicks', 'hicks david w']\n",
      "no exact fullname match for Hicks David vs ['david m  hicks', 'hicks david m']\n",
      "no exact fullname match for Hicks David vs ['david trevor hicks', 'hicks david trevor']\n",
      "no exact fullname match for David Jean-Philippe vs ['jean philippe tricoit', 'tricoit jean philippe']\n"
     ]
    },
    {
     "name": "stderr",
     "output_type": "stream",
     "text": [
      " 25%|██▍       | 434/1737 [00:56<02:44,  7.94it/s]"
     ]
    },
    {
     "name": "stdout",
     "output_type": "stream",
     "text": [
      "no exact fullname match for Deniaud Aurélien vs ['aurelien patrick sylvain deniaud', 'deniaud aurelien patrick sylvain']\n",
      "no exact fullname match for Boyer Laurent vs ['lisette laurent boyer', 'laurent boyer lisette']\n"
     ]
    },
    {
     "name": "stderr",
     "output_type": "stream",
     "text": [
      " 25%|██▌       | 436/1737 [00:57<04:43,  4.60it/s]"
     ]
    },
    {
     "name": "stdout",
     "output_type": "stream",
     "text": [
      "skipping death date 1994-01-01T00:00:00\n"
     ]
    },
    {
     "name": "stderr",
     "output_type": "stream",
     "text": [
      " 26%|██▌       | 452/1737 [00:58<01:47, 11.98it/s]"
     ]
    },
    {
     "name": "stdout",
     "output_type": "stream",
     "text": [
      "no exact fullname match for Boizet-Bonhoure Brigitte vs ['brigitte boizet', 'boizet brigitte']\n",
      "no exact fullname match for Dumas Orianne vs ['orianne dumas milne edwards', 'dumas milne edwards orianne']\n"
     ]
    },
    {
     "name": "stderr",
     "output_type": "stream",
     "text": [
      " 27%|██▋       | 466/1737 [00:59<01:43, 12.34it/s]"
     ]
    },
    {
     "name": "stdout",
     "output_type": "stream",
     "text": [
      "no exact fullname match for Cuvillier Virginie vs ['virginie cuvillier hot', 'cuvillier hot virginie']\n"
     ]
    },
    {
     "name": "stderr",
     "output_type": "stream",
     "text": [
      " 27%|██▋       | 468/1737 [01:00<04:05,  5.16it/s]"
     ]
    },
    {
     "name": "stdout",
     "output_type": "stream",
     "text": [
      "no exact fullname match for Gautier Mathieu vs ['mathieu gauthier', 'gauthier mathieu']\n",
      "no exact fullname match for Gautier Mathieu vs ['matthieu gaultier', 'gaultier matthieu']\n"
     ]
    },
    {
     "name": "stderr",
     "output_type": "stream",
     "text": [
      " 27%|██▋       | 472/1737 [01:01<03:06,  6.77it/s]"
     ]
    },
    {
     "name": "stdout",
     "output_type": "stream",
     "text": [
      "no exact fullname match for Thany Steeve vs ['steeve herve thany', 'thany steeve herve']\n"
     ]
    },
    {
     "name": "stderr",
     "output_type": "stream",
     "text": [
      " 28%|██▊       | 481/1737 [01:01<02:19,  9.01it/s]"
     ]
    },
    {
     "name": "stdout",
     "output_type": "stream",
     "text": [
      "no exact fullname match for De Seze René vs ['rene de seze', 'seze rene de']\n"
     ]
    },
    {
     "name": "stderr",
     "output_type": "stream",
     "text": [
      " 28%|██▊       | 493/1737 [01:03<01:53, 10.92it/s]"
     ]
    },
    {
     "name": "stdout",
     "output_type": "stream",
     "text": [
      "no exact fullname match for Jean Didier vs ['didier jean nenert', 'nenert didier jean']\n",
      "no exact fullname match for Jean Didier vs ['jean didier blanchet', 'blanchet jean didier']\n",
      "no exact fullname match for Jean Didier vs ['jean didier pinguet', 'pinguet jean didier']\n",
      "no exact fullname match for Jean Didier vs ['jean didier bagot', 'bagot jean didier']\n",
      "no exact fullname match for Jean Didier vs ['jean didier chastelain', 'chastelain jean didier']\n",
      "no exact fullname match for Jean Didier vs ['jean sauveur didier', 'didier jean sauveur']\n"
     ]
    },
    {
     "name": "stderr",
     "output_type": "stream",
     "text": [
      " 28%|██▊       | 495/1737 [01:04<04:46,  4.34it/s]"
     ]
    },
    {
     "name": "stdout",
     "output_type": "stream",
     "text": [
      "no exact fullname match for Jean Didier vs ['jean didier mbele', 'mbele jean didier']\n",
      "no exact fullname match for Jean Didier vs ['jean didier rosi', 'rosi jean didier']\n"
     ]
    },
    {
     "name": "stderr",
     "output_type": "stream",
     "text": [
      " 30%|██▉       | 517/1737 [01:06<02:26,  8.34it/s]"
     ]
    },
    {
     "name": "stdout",
     "output_type": "stream",
     "text": [
      "no exact fullname match for Marchi Nicola vs ['nicola de marchi', 'de marchi nicola']\n"
     ]
    },
    {
     "name": "stderr",
     "output_type": "stream",
     "text": [
      " 30%|███       | 529/1737 [01:07<01:59, 10.12it/s]"
     ]
    },
    {
     "name": "stdout",
     "output_type": "stream",
     "text": [
      "no exact fullname match for Bellanger Anne vs ['anne wassila bellanger', 'bellanger anne wassila']\n",
      "no exact fullname match for Bellanger Anne vs ['anne pauline bellanger', 'bellanger anne pauline']\n",
      "no exact fullname match for Bellanger Anne vs ['anne sophie bellanger dujardin', 'bellanger dujardin anne sophie']\n"
     ]
    },
    {
     "name": "stderr",
     "output_type": "stream",
     "text": [
      " 31%|███       | 539/1737 [01:08<02:09,  9.22it/s]"
     ]
    },
    {
     "name": "stdout",
     "output_type": "stream",
     "text": [
      "no exact fullname match for Clerget-Froidevaux Marie vs ['marie stephanie clerget froidevaux', 'clerget froidevaux marie stephanie']\n"
     ]
    },
    {
     "name": "stderr",
     "output_type": "stream",
     "text": [
      " 31%|███▏      | 547/1737 [01:09<01:39, 11.98it/s]"
     ]
    },
    {
     "name": "stdout",
     "output_type": "stream",
     "text": [
      "no exact fullname match for Radoi Loredana vs ['loredana radoi pervilhac', 'radoi pervilhac loredana']\n"
     ]
    },
    {
     "name": "stderr",
     "output_type": "stream",
     "text": [
      " 32%|███▏      | 551/1737 [01:09<01:44, 11.38it/s]"
     ]
    },
    {
     "name": "stdout",
     "output_type": "stream",
     "text": [
      "no exact fullname match for Merlin Christophe vs ['antoine merlin', 'merlin antoine']\n",
      "no exact fullname match for Merlin Christophe vs ['paul christophe elisabeth merlin', 'merlin paul christophe elisabeth']\n"
     ]
    },
    {
     "name": "stderr",
     "output_type": "stream",
     "text": [
      " 32%|███▏      | 553/1737 [01:11<05:40,  3.48it/s]"
     ]
    },
    {
     "name": "stdout",
     "output_type": "stream",
     "text": [
      "no exact fullname match for Bonnet Sarah vs ['sarah lasage bonnet', 'lasage bonnet sarah']\n",
      "no exact fullname match for Bonnet Sarah vs ['sarah ariey bonnet', 'ariey bonnet sarah']\n",
      "no exact fullname match for Bonnet Sarah vs ['sarah ducrot bonnet', 'ducrot bonnet sarah']\n"
     ]
    },
    {
     "name": "stderr",
     "output_type": "stream",
     "text": [
      " 32%|███▏      | 564/1737 [01:11<02:38,  7.40it/s]"
     ]
    },
    {
     "name": "stdout",
     "output_type": "stream",
     "text": [
      "no exact fullname match for Degli Esposti Davide Davide vs ['davide degli esposti', 'degli esposti davide']\n"
     ]
    },
    {
     "name": "stderr",
     "output_type": "stream",
     "text": [
      " 34%|███▍      | 597/1737 [01:14<00:54, 20.89it/s]"
     ]
    },
    {
     "name": "stdout",
     "output_type": "stream",
     "text": [
      "no exact fullname match for Juillerat Lucienne vs ['lucienne juillerat jeanneret gris', 'juillerat jeanneret gris lucienne']\n"
     ]
    },
    {
     "name": "stderr",
     "output_type": "stream",
     "text": [
      " 35%|███▍      | 602/1737 [01:15<01:16, 14.82it/s]"
     ]
    },
    {
     "name": "stdout",
     "output_type": "stream",
     "text": [
      "no exact fullname match for Gratacap-Cavallier Bénédicte vs ['benedicte gratacap', 'gratacap benedicte']\n"
     ]
    },
    {
     "name": "stderr",
     "output_type": "stream",
     "text": [
      " 35%|███▍      | 605/1737 [01:15<01:55,  9.82it/s]"
     ]
    },
    {
     "name": "stdout",
     "output_type": "stream",
     "text": [
      "no exact fullname match for SCHNEIDER Dominique vs ['dominique jung schneider', 'jung schneider dominique']\n"
     ]
    },
    {
     "name": "stderr",
     "output_type": "stream",
     "text": [
      " 36%|███▌      | 623/1737 [01:18<03:02,  6.11it/s]"
     ]
    },
    {
     "name": "stdout",
     "output_type": "stream",
     "text": [
      "skipping death date 1628-05-21T00:00:00\n",
      "no exact fullname match for Guillot Jacques vs ['jacques michel guillot', 'guillot jacques michel']\n"
     ]
    },
    {
     "name": "stderr",
     "output_type": "stream",
     "text": [
      " 36%|███▌      | 628/1737 [01:19<02:41,  6.88it/s]"
     ]
    },
    {
     "name": "stdout",
     "output_type": "stream",
     "text": [
      "no exact fullname match for Guillot Jacques vs ['jacques guillot de blancheville', 'guillot de blancheville jacques']\n"
     ]
    },
    {
     "name": "stderr",
     "output_type": "stream",
     "text": [
      " 36%|███▋      | 633/1737 [01:19<02:37,  7.02it/s]"
     ]
    },
    {
     "name": "stdout",
     "output_type": "stream",
     "text": [
      "no exact fullname match for Pean Michel vs ['rene michel  pean', 'pean rene michel']\n",
      "skipping birth date 1913-10-01T00:00:00\n",
      "no exact fullname match for Pean Michel vs ['jean michel pean', 'pean jean michel']\n"
     ]
    },
    {
     "name": "stderr",
     "output_type": "stream",
     "text": [
      " 37%|███▋      | 644/1737 [01:20<01:54,  9.55it/s]"
     ]
    },
    {
     "name": "stdout",
     "output_type": "stream",
     "text": [
      "no exact fullname match for Weber Christiane vs ['christiane weber klein', 'weber klein christiane']\n"
     ]
    },
    {
     "name": "stderr",
     "output_type": "stream",
     "text": [
      " 38%|███▊      | 664/1737 [01:22<01:16, 14.12it/s]"
     ]
    },
    {
     "name": "stdout",
     "output_type": "stream",
     "text": [
      "no exact fullname match for Dolez Patricia vs ['patricia i  dolez', 'dolez patricia i']\n",
      "no exact fullname match for Bernard Cécile vs ['cecile bernard calvet', 'bernard calvet cecile']\n"
     ]
    },
    {
     "name": "stderr",
     "output_type": "stream",
     "text": [
      " 39%|███▊      | 670/1737 [01:23<02:03,  8.62it/s]"
     ]
    },
    {
     "name": "stdout",
     "output_type": "stream",
     "text": [
      "no exact fullname match for Bernard Cécile vs ['cecile ollitraut bernard', 'ollitraut bernard cecile']\n"
     ]
    },
    {
     "name": "stderr",
     "output_type": "stream",
     "text": [
      " 39%|███▉      | 679/1737 [01:23<01:38, 10.75it/s]"
     ]
    },
    {
     "name": "stdout",
     "output_type": "stream",
     "text": [
      "no exact fullname match for Marquis Nathalie vs ['nathalie le marquis', 'le marquis nathalie']\n",
      "no exact fullname match for Andre Véronique vs ['veronique andre bochaton', 'andre bochaton veronique']\n",
      "no exact fullname match for Andre Véronique vs ['veronique andre elisabeth', 'andre elisabeth veronique']\n"
     ]
    },
    {
     "name": "stderr",
     "output_type": "stream",
     "text": [
      " 39%|███▉      | 683/1737 [01:25<02:40,  6.56it/s]"
     ]
    },
    {
     "name": "stdout",
     "output_type": "stream",
     "text": [
      "no exact fullname match for Andre Véronique vs ['veronique andre durupt', 'andre durupt veronique']\n",
      "no exact fullname match for Bousquet Philippe vs ['philippe jean bousquet', 'bousquet philippe jean']\n"
     ]
    },
    {
     "name": "stderr",
     "output_type": "stream",
     "text": [
      " 39%|███▉      | 685/1737 [01:25<03:26,  5.08it/s]"
     ]
    },
    {
     "name": "stdout",
     "output_type": "stream",
     "text": [
      "no exact fullname match for Durand Philippe vs ['claude philippe durand', 'durand claude philippe']\n"
     ]
    },
    {
     "name": "stderr",
     "output_type": "stream",
     "text": [
      " 40%|███▉      | 691/1737 [01:27<04:07,  4.23it/s]"
     ]
    },
    {
     "name": "stdout",
     "output_type": "stream",
     "text": [
      "no exact fullname match for Garrigou Alain vs ['alain garrigou torchy', 'garrigou torchy alain']\n"
     ]
    },
    {
     "name": "stderr",
     "output_type": "stream",
     "text": [
      " 40%|████      | 697/1737 [01:28<03:04,  5.62it/s]"
     ]
    },
    {
     "name": "stdout",
     "output_type": "stream",
     "text": [
      "no exact fullname match for Riviere Emmanuel vs ['marie emmanuel riviere', 'riviere marie emmanuel']\n",
      "no exact fullname match for Henry Emmanuel vs ['henry emmanuel delbousquet', 'emmanuel delbousquet henry']\n",
      "no exact fullname match for Henry Emmanuel vs ['henry emmanuel weiss', 'weiss henry emmanuel']\n",
      "no exact fullname match for Henry Emmanuel vs ['henry emmanuel thyebault', 'thyebault henry emmanuel']\n",
      "no exact fullname match for Henry Emmanuel vs ['emmanuel ossian henry', 'henry emmanuel ossian']\n",
      "no exact fullname match for Henry Emmanuel vs ['henry emmanuel marie aubin', 'aubin henry emmanuel marie']\n"
     ]
    },
    {
     "name": "stderr",
     "output_type": "stream",
     "text": [
      " 41%|████      | 704/1737 [01:29<02:57,  5.81it/s]"
     ]
    },
    {
     "name": "stdout",
     "output_type": "stream",
     "text": [
      "no exact fullname match for Henry Emmanuel vs ['daniel joseph henry emmanuel aubry', 'aubry daniel joseph henry emmanuel']\n"
     ]
    },
    {
     "name": "stderr",
     "output_type": "stream",
     "text": [
      " 41%|████      | 706/1737 [01:29<02:54,  5.90it/s]"
     ]
    },
    {
     "name": "stdout",
     "output_type": "stream",
     "text": [
      "no exact fullname match for Martin Michèle vs ['michele guignard martin', 'guignard martin michele']\n"
     ]
    },
    {
     "name": "stderr",
     "output_type": "stream",
     "text": [
      " 41%|████      | 716/1737 [01:30<02:19,  7.33it/s]"
     ]
    },
    {
     "name": "stdout",
     "output_type": "stream",
     "text": [
      "no exact fullname match for Martin Michèle vs ['michele martin remy', 'martin remy michele']\n"
     ]
    },
    {
     "name": "stderr",
     "output_type": "stream",
     "text": [
      " 42%|████▏     | 724/1737 [01:31<01:47,  9.44it/s]"
     ]
    },
    {
     "name": "stdout",
     "output_type": "stream",
     "text": [
      "no exact fullname match for De Barbeyrac Bertille vs ['bertille de barbeyrac', 'barbeyrac bertille de']\n"
     ]
    },
    {
     "name": "stderr",
     "output_type": "stream",
     "text": [
      " 42%|████▏     | 729/1737 [01:31<01:40, 10.02it/s]"
     ]
    },
    {
     "name": "stdout",
     "output_type": "stream",
     "text": [
      "no exact fullname match for Roques Christine vs ['daniele roques georget', 'roques georget daniele']\n"
     ]
    },
    {
     "name": "stderr",
     "output_type": "stream",
     "text": [
      " 42%|████▏     | 736/1737 [01:31<01:11, 14.05it/s]"
     ]
    },
    {
     "name": "stdout",
     "output_type": "stream",
     "text": [
      "no exact fullname match for Forget-Leray Joëlle vs ['joelle leray forget', 'leray forget joelle']\n"
     ]
    },
    {
     "name": "stderr",
     "output_type": "stream",
     "text": [
      " 42%|████▏     | 738/1737 [01:32<01:34, 10.59it/s]"
     ]
    },
    {
     "name": "stdout",
     "output_type": "stream",
     "text": [
      "no exact fullname match for Lacour Stéphanie vs ['stephanie p  lacour', 'lacour stephanie p']\n",
      "no exact fullname match for Bloch Isabelle vs ['isabelle baladier bloch', 'baladier bloch isabelle']\n",
      "no exact fullname match for Bloch Isabelle vs ['isabelle sebban', 'sebban isabelle']\n",
      "no exact fullname match for Bloch Isabelle vs ['chantal cohen bacri', 'cohen bacri chantal']\n"
     ]
    },
    {
     "name": "stderr",
     "output_type": "stream",
     "text": [
      " 43%|████▎     | 751/1737 [01:33<01:51,  8.84it/s]"
     ]
    },
    {
     "name": "stdout",
     "output_type": "stream",
     "text": [
      "no exact fullname match for Garrigou Alain vs ['alain garrigou torchy', 'garrigou torchy alain']\n"
     ]
    },
    {
     "name": "stderr",
     "output_type": "stream",
     "text": [
      " 44%|████▎     | 759/1737 [01:34<01:18, 12.42it/s]"
     ]
    },
    {
     "name": "stdout",
     "output_type": "stream",
     "text": [
      "no exact fullname match for De Sèze René vs ['rene de seze', 'seze rene de']\n",
      "no exact fullname match for Pierre Fabrice vs ['pierre fabrice lopez', 'lopez pierre fabrice']\n",
      "no exact fullname match for Pierre Fabrice vs ['fabrice pierre koebelin', 'koebelin fabrice pierre']\n",
      "no exact fullname match for Pierre Fabrice vs ['fabrice woittequand', 'woittequand fabrice']\n",
      "no exact fullname match for Pierre Fabrice vs ['fabrice detrez', 'detrez fabrice']\n",
      "no exact fullname match for Pierre Fabrice vs ['fabrice pinard saint pierre', 'pinard saint pierre fabrice']\n",
      "no exact fullname match for Pierre Fabrice vs ['fabrice pierre sabatier', 'sabatier fabrice pierre']\n"
     ]
    },
    {
     "name": "stderr",
     "output_type": "stream",
     "text": [
      " 44%|████▍     | 770/1737 [01:36<02:20,  6.91it/s]"
     ]
    },
    {
     "name": "stdout",
     "output_type": "stream",
     "text": [
      "no exact fullname match for Leveque Philippe vs ['jean philippe leveque', 'leveque jean philippe']\n"
     ]
    },
    {
     "name": "stderr",
     "output_type": "stream",
     "text": [
      " 45%|████▍     | 777/1737 [01:37<02:30,  6.39it/s]"
     ]
    },
    {
     "name": "stdout",
     "output_type": "stream",
     "text": [
      "no exact fullname match for Leveque Philippe vs ['philippe berenger leveque', 'berenger leveque philippe']\n",
      "no exact fullname match for Bourchis Déborah vs ['deborah bourc his', 'bourc his deborah']\n"
     ]
    },
    {
     "name": "stderr",
     "output_type": "stream",
     "text": [
      " 45%|████▌     | 787/1737 [01:38<01:25, 11.15it/s]"
     ]
    },
    {
     "name": "stdout",
     "output_type": "stream",
     "text": [
      "no exact fullname match for De Sèze René vs ['rene de seze', 'seze rene de']\n",
      "no exact fullname match for De Sèze René vs ['rene de seze', 'seze rene de']\n"
     ]
    },
    {
     "name": "stderr",
     "output_type": "stream",
     "text": [
      " 45%|████▌     | 789/1737 [01:38<02:12,  7.18it/s]"
     ]
    },
    {
     "name": "stdout",
     "output_type": "stream",
     "text": [
      "no exact fullname match for David Jean Philippe vs ['jean philippe tricoit', 'tricoit jean philippe']\n",
      "no exact fullname match for David Jean Philippe vs ['jean cheri david philippe caubet', 'caubet jean cheri david philippe']\n"
     ]
    },
    {
     "name": "stderr",
     "output_type": "stream",
     "text": [
      " 46%|████▌     | 791/1737 [01:39<02:10,  7.25it/s]"
     ]
    },
    {
     "name": "stdout",
     "output_type": "stream",
     "text": [
      "no exact fullname match for Villena Isabelle vs ['isabelle bodart', 'bodart isabelle']\n",
      "no exact fullname match for Villena Isabelle vs ['isabelle coste villena', 'coste villena isabelle']\n"
     ]
    },
    {
     "name": "stderr",
     "output_type": "stream",
     "text": [
      " 46%|████▌     | 793/1737 [01:39<01:59,  7.91it/s]"
     ]
    },
    {
     "name": "stdout",
     "output_type": "stream",
     "text": [
      "no exact fullname match for Boutet Elisa vs ['elisa boutet robinet', 'boutet robinet elisa']\n"
     ]
    },
    {
     "name": "stderr",
     "output_type": "stream",
     "text": [
      " 49%|████▉     | 850/1737 [01:42<01:06, 13.28it/s]"
     ]
    },
    {
     "name": "stdout",
     "output_type": "stream",
     "text": [
      "no exact fullname match for Dumont Laurent vs ['aristide dumont', 'dumont aristide']\n",
      "no exact fullname match for Dumont Laurent vs ['laurent angliviel de la beaumelle', 'la beaumelle laurent angliviel de']\n",
      "no exact fullname match for Sanz Guenhaël vs ['guenhael sanz', 'sanz  guenhael']\n"
     ]
    },
    {
     "name": "stderr",
     "output_type": "stream",
     "text": [
      " 49%|████▉     | 855/1737 [01:43<01:10, 12.47it/s]"
     ]
    },
    {
     "name": "stdout",
     "output_type": "stream",
     "text": [
      "no exact fullname match for Moret Leila vs ['leila moret majoube', 'moret majoube leila']\n"
     ]
    },
    {
     "name": "stderr",
     "output_type": "stream",
     "text": [
      " 50%|█████     | 869/1737 [01:44<01:09, 12.42it/s]"
     ]
    },
    {
     "name": "stdout",
     "output_type": "stream",
     "text": [
      "no exact fullname match for Chanel Olivier vs ['olivier de crouy chanel', 'crouy chanel olivier de']\n",
      "no exact fullname match for Walter Scott vs ['walter scott peterson', 'peterson walter scott']\n",
      "no exact fullname match for Walter Scott vs ['walter giorgio scott', 'scott walter giorgio']\n",
      "no exact fullname match for Walter Scott vs ['walter g  scott', 'scott walter g']\n",
      "no exact fullname match for Walter Scott vs ['walter scott polland', 'polland walter scott']\n",
      "no exact fullname match for Walter Scott vs ['walter n  scott', 'scott walter n']\n"
     ]
    },
    {
     "name": "stderr",
     "output_type": "stream",
     "text": [
      " 51%|█████     | 880/1737 [01:45<01:15, 11.34it/s]"
     ]
    },
    {
     "name": "stdout",
     "output_type": "stream",
     "text": [
      "no exact fullname match for Walter Scott vs ['walter scott huxford', 'huxford walter scott']\n",
      "no exact fullname match for Walter Scott vs ['walter scott dalgleish', 'dalgleish walter scott']\n"
     ]
    },
    {
     "name": "stderr",
     "output_type": "stream",
     "text": [
      " 51%|█████     | 882/1737 [01:45<01:23, 10.26it/s]"
     ]
    },
    {
     "name": "stdout",
     "output_type": "stream",
     "text": [
      "no exact fullname match for Petit Fabienne vs ['fabienne arias petit', 'arias petit fabienne']\n",
      "no exact fullname match for Petit Fabienne vs ['fabienne petit jean', 'petit jean fabienne']\n"
     ]
    },
    {
     "name": "stderr",
     "output_type": "stream",
     "text": [
      " 51%|█████▏    | 894/1737 [01:46<01:13, 11.50it/s]"
     ]
    },
    {
     "name": "stdout",
     "output_type": "stream",
     "text": [
      "no exact fullname match for Léké Lokombe André vs ['andre leke', 'leke andre']\n"
     ]
    },
    {
     "name": "stderr",
     "output_type": "stream",
     "text": [
      " 52%|█████▏    | 905/1737 [01:47<01:08, 12.15it/s]"
     ]
    },
    {
     "name": "stdout",
     "output_type": "stream",
     "text": [
      "no exact fullname match for Ciocca Dominique vs ['dominique sage ciocca', 'sage ciocca dominique']\n"
     ]
    },
    {
     "name": "stderr",
     "output_type": "stream",
     "text": [
      " 53%|█████▎    | 927/1737 [01:48<00:37, 21.41it/s]"
     ]
    },
    {
     "name": "stdout",
     "output_type": "stream",
     "text": [
      "no exact fullname match for Haddad Sami vs ['fuad sami haddad', 'haddad fuad sami']\n",
      "no exact fullname match for Le Moual Nicole vs ['nicole lincot le moual', 'lincot le moual nicole']\n",
      "no exact fullname match for Lévêque Philippe vs ['jean philippe leveque', 'leveque jean philippe']\n"
     ]
    },
    {
     "name": "stderr",
     "output_type": "stream",
     "text": [
      " 54%|█████▍    | 936/1737 [01:49<01:02, 12.89it/s]"
     ]
    },
    {
     "name": "stdout",
     "output_type": "stream",
     "text": [
      "no exact fullname match for Lévêque Philippe vs ['philippe berenger leveque', 'berenger leveque philippe']\n",
      "no exact fullname match for Maître Anne vs ['anne le maitre', 'le maitre anne']\n",
      "no exact fullname match for Maître Anne vs ['anne le maitre', 'le maitre anne']\n",
      "no exact fullname match for Maître Anne vs ['marie anne prioux maitre', 'prioux maitre marie anne']\n",
      "no exact fullname match for Maître Anne vs ['anne marie peau', 'peau anne marie']\n",
      "no exact fullname match for Maître Anne vs ['anne laure bourdel', 'bourdel anne laure']\n",
      "no exact fullname match for Maître Anne vs ['anne waugh', 'waugh anne']\n",
      "no exact fullname match for Maître Anne vs ['anne claire prince', 'prince anne claire']\n",
      "no exact fullname match for Maître Anne vs ['anne sophie ledonne', 'ledonne anne sophie']\n"
     ]
    },
    {
     "name": "stderr",
     "output_type": "stream",
     "text": [
      " 54%|█████▍    | 942/1737 [01:51<01:40,  7.91it/s]"
     ]
    },
    {
     "name": "stdout",
     "output_type": "stream",
     "text": [
      "no exact fullname match for Sunyer Jordi vs ['jordi sunyer monfort', 'sunyer monfort jordi']\n"
     ]
    },
    {
     "name": "stderr",
     "output_type": "stream",
     "text": [
      " 55%|█████▍    | 948/1737 [01:51<01:21,  9.74it/s]"
     ]
    },
    {
     "name": "stdout",
     "output_type": "stream",
     "text": [
      "no exact fullname match for Chamel Véronique vs ['veronique mossuz', 'mossuz veronique']\n"
     ]
    },
    {
     "name": "stderr",
     "output_type": "stream",
     "text": [
      " 55%|█████▍    | 952/1737 [01:51<01:11, 10.98it/s]"
     ]
    },
    {
     "name": "stdout",
     "output_type": "stream",
     "text": [
      "no exact fullname match for Dumas Orianne vs ['orianne dumas milne edwards', 'dumas milne edwards orianne']\n",
      "no exact fullname match for Santos Miguel vs ['miguel angel santos', 'santos miguel angel']\n",
      "no exact fullname match for Santos Miguel vs ['miguel dias santos', 'santos miguel dias']\n",
      "no exact fullname match for Santos Miguel vs ['miguel santos neves', 'neves miguel santos']\n",
      "no exact fullname match for Santos Miguel vs ['miguel de los santos', 'santos miguel de los']\n",
      "no exact fullname match for Santos Miguel vs ['miguel vidal santos', 'vidal santos miguel']\n",
      "no exact fullname match for Santos Miguel vs ['amandio miguel dos santos', 'santos amandio miguel dos']\n"
     ]
    },
    {
     "name": "stderr",
     "output_type": "stream",
     "text": [
      " 55%|█████▍    | 954/1737 [01:53<02:41,  4.86it/s]"
     ]
    },
    {
     "name": "stdout",
     "output_type": "stream",
     "text": [
      "no exact fullname match for Santos Miguel vs ['miguel calvo santos', 'calvo santos miguel']\n"
     ]
    },
    {
     "name": "stderr",
     "output_type": "stream",
     "text": [
      " 55%|█████▌    | 956/1737 [01:53<03:08,  4.15it/s]"
     ]
    },
    {
     "name": "stdout",
     "output_type": "stream",
     "text": [
      "no exact fullname match for Hubert Gilles vs ['gilles denoix', 'denoix gilles']\n"
     ]
    },
    {
     "name": "stderr",
     "output_type": "stream",
     "text": [
      " 55%|█████▌    | 958/1737 [01:54<03:26,  3.77it/s]"
     ]
    },
    {
     "name": "stdout",
     "output_type": "stream",
     "text": [
      "no exact fullname match for Hubert Gilles vs ['albert clement gilles hubert de scoville', 'scoville albert clement gilles hubert de']\n"
     ]
    },
    {
     "name": "stderr",
     "output_type": "stream",
     "text": [
      " 56%|█████▌    | 967/1737 [01:55<02:08,  5.98it/s]"
     ]
    },
    {
     "name": "stdout",
     "output_type": "stream",
     "text": [
      "no exact fullname match for Maesano Isabella Annesi vs ['isabella annesi maesano', 'annesi maesano isabella']\n",
      "no exact fullname match for Leveque Philippe vs ['jean philippe leveque', 'leveque jean philippe']\n"
     ]
    },
    {
     "name": "stderr",
     "output_type": "stream",
     "text": [
      " 56%|█████▌    | 971/1737 [01:56<02:50,  4.50it/s]"
     ]
    },
    {
     "name": "stdout",
     "output_type": "stream",
     "text": [
      "no exact fullname match for Leveque Philippe vs ['philippe berenger leveque', 'berenger leveque philippe']\n"
     ]
    },
    {
     "name": "stderr",
     "output_type": "stream",
     "text": [
      " 57%|█████▋    | 991/1737 [01:57<01:05, 11.46it/s]"
     ]
    },
    {
     "name": "stdout",
     "output_type": "stream",
     "text": [
      "no exact fullname match for Humbert Bernard vs ['bernard gaspard', 'gaspard bernard']\n",
      "no exact fullname match for Humbert Bernard vs ['colette humbert', 'humbert colette']\n"
     ]
    },
    {
     "name": "stderr",
     "output_type": "stream",
     "text": [
      " 58%|█████▊    | 1004/1737 [01:58<00:53, 13.74it/s]"
     ]
    },
    {
     "name": "stdout",
     "output_type": "stream",
     "text": [
      "no exact fullname match for De Blay Frédéric vs ['frederic de blay', 'blay frederic de']\n",
      "no exact fullname match for Armengaud Jean vs ['jean baptiste armengaud', 'armengaud jean baptiste']\n",
      "no exact fullname match for Armengaud Jean vs ['jean pierre armengaud', 'armengaud jean pierre']\n",
      "no exact fullname match for Armengaud Jean vs ['jean hebert armengaud', 'armengaud jean hebert']\n"
     ]
    },
    {
     "name": "stderr",
     "output_type": "stream",
     "text": [
      " 58%|█████▊    | 1010/1737 [01:59<01:22,  8.83it/s]"
     ]
    },
    {
     "name": "stdout",
     "output_type": "stream",
     "text": [
      "no exact fullname match for Armengaud Jean vs ['gerard jean armengaud', 'armengaud gerard jean']\n",
      "no exact fullname match for Armengaud Jean vs ['jean pierre armengaud', 'armengaud jean pierre']\n",
      "no exact fullname match for Carriere Marie vs ['marie j  carriere', 'carriere marie j']\n",
      "no exact fullname match for Carriere Marie vs ['anne marie carriere', 'carriere anne marie']\n",
      "no exact fullname match for Carriere Marie vs ['lucien eugene marie carriere', 'carriere lucien eugene marie']\n",
      "no exact fullname match for Carriere Marie vs ['jean marie carriere', 'carriere jean marie']\n",
      "no exact fullname match for Carriere Marie vs ['marie vigier carriere', 'vigier carriere marie']\n",
      "no exact fullname match for Carriere Marie vs ['martin barthelemy carriere', 'carriere martin barthelemy']\n"
     ]
    },
    {
     "name": "stderr",
     "output_type": "stream",
     "text": [
      " 58%|█████▊    | 1012/1737 [02:00<02:06,  5.75it/s]"
     ]
    },
    {
     "name": "stdout",
     "output_type": "stream",
     "text": [
      "no exact fullname match for Carriere Marie vs ['jean marie carriere', 'carriere jean marie']\n",
      "no exact fullname match for Carriere Marie vs ['marie joseph henri carriere', 'carriere marie joseph henri']\n",
      "no exact fullname match for Maitre Anne vs ['anne le maitre', 'le maitre anne']\n",
      "no exact fullname match for Maitre Anne vs ['anne le maitre', 'le maitre anne']\n",
      "no exact fullname match for Maitre Anne vs ['marie anne prioux maitre', 'prioux maitre marie anne']\n",
      "no exact fullname match for Maitre Anne vs ['anne marie peau', 'peau anne marie']\n",
      "no exact fullname match for Maitre Anne vs ['anne laure bourdel', 'bourdel anne laure']\n",
      "no exact fullname match for Maitre Anne vs ['anne waugh', 'waugh anne']\n"
     ]
    },
    {
     "name": "stderr",
     "output_type": "stream",
     "text": [
      " 58%|█████▊    | 1014/1737 [02:01<02:53,  4.18it/s]"
     ]
    },
    {
     "name": "stdout",
     "output_type": "stream",
     "text": [
      "no exact fullname match for Maitre Anne vs ['anne claire prince', 'prince anne claire']\n",
      "no exact fullname match for Maitre Anne vs ['anne sophie ledonne', 'ledonne anne sophie']\n"
     ]
    },
    {
     "name": "stderr",
     "output_type": "stream",
     "text": [
      " 59%|█████▉    | 1022/1737 [02:02<01:35,  7.51it/s]"
     ]
    },
    {
     "name": "stdout",
     "output_type": "stream",
     "text": [
      "no exact fullname match for Selmaoui-Folcher Nazha vs ['nazha selmaoui', 'selmaoui nazha']\n"
     ]
    },
    {
     "name": "stderr",
     "output_type": "stream",
     "text": [
      " 59%|█████▉    | 1026/1737 [02:02<01:36,  7.38it/s]"
     ]
    },
    {
     "name": "stdout",
     "output_type": "stream",
     "text": [
      "no exact fullname match for Baron Thierry vs ['thierry vieillard baron', 'vieillard baron thierry']\n",
      "no exact fullname match for Baron Thierry vs ['marc antoine thierry de ville d avray', 'thierry de ville d avray marc antoine']\n",
      "no exact fullname match for Pereira Anne vs ['anne catherine pereira miozzari', 'pereira miozzari anne catherine']\n",
      "no exact fullname match for Pereira Anne vs ['anne pereira de vasconcelos', 'pereira de vasconcelos anne']\n",
      "no exact fullname match for Pereira Anne vs ['anne pereira das neves', 'pereira das neves anne']\n"
     ]
    },
    {
     "name": "stderr",
     "output_type": "stream",
     "text": [
      " 59%|█████▉    | 1031/1737 [02:03<01:28,  8.00it/s]"
     ]
    },
    {
     "name": "stdout",
     "output_type": "stream",
     "text": [
      "no exact fullname match for Pereira Anne vs ['anne alice pereira baltazar', 'pereira baltazar anne alice']\n",
      "no exact fullname match for Leveque Philippe vs ['jean philippe leveque', 'leveque jean philippe']\n"
     ]
    },
    {
     "name": "stderr",
     "output_type": "stream",
     "text": [
      " 59%|█████▉    | 1033/1737 [02:04<02:29,  4.70it/s]"
     ]
    },
    {
     "name": "stdout",
     "output_type": "stream",
     "text": [
      "no exact fullname match for Leveque Philippe vs ['philippe berenger leveque', 'berenger leveque philippe']\n"
     ]
    },
    {
     "name": "stderr",
     "output_type": "stream",
     "text": [
      " 60%|█████▉    | 1039/1737 [02:05<02:32,  4.56it/s]"
     ]
    },
    {
     "name": "stdout",
     "output_type": "stream",
     "text": [
      "no exact fullname match for Roy Hervé vs ['herve le roy', 'le roy herve']\n",
      "no exact fullname match for Roy Hervé vs ['herve herri', 'herri herve']\n"
     ]
    },
    {
     "name": "stderr",
     "output_type": "stream",
     "text": [
      " 60%|█████▉    | 1041/1737 [02:05<02:26,  4.75it/s]"
     ]
    },
    {
     "name": "stdout",
     "output_type": "stream",
     "text": [
      "no exact fullname match for Marie Benjamin vs ['marie yvonne benjamin', 'benjamin marie yvonne']\n",
      "no exact fullname match for Marie Benjamin vs ['benjamin marie morineau', 'morineau benjamin marie']\n",
      "no exact fullname match for Marie Benjamin vs ['jean marie benjamin', 'benjamin jean marie']\n",
      "no exact fullname match for Marie Benjamin vs ['benjamin charles marie payraudeau', 'payraudeau benjamin charles marie']\n"
     ]
    },
    {
     "name": "stderr",
     "output_type": "stream",
     "text": [
      " 61%|██████    | 1051/1737 [02:07<01:41,  6.74it/s]"
     ]
    },
    {
     "name": "stdout",
     "output_type": "stream",
     "text": [
      "no exact fullname match for Marie Benjamin vs ['benjamin hautecouverture', 'hautecouverture benjamin']\n",
      "no exact fullname match for Marie Benjamin vs ['benjamin jacques marie casteigt', 'casteigt benjamin jacques marie']\n"
     ]
    },
    {
     "name": "stderr",
     "output_type": "stream",
     "text": [
      " 61%|██████    | 1057/1737 [02:07<01:14,  9.10it/s]"
     ]
    },
    {
     "name": "stdout",
     "output_type": "stream",
     "text": [
      "no exact fullname match for Tougne Rodet Laure vs ['laure tougne', 'tougne laure']\n",
      "no exact fullname match for De Nadaï Patricia vs ['patricia de nadai', 'nadai patricia de']\n",
      "no exact fullname match for Laurent François vs ['francois salacroup laurent', 'salacroup laurent francois']\n",
      "no exact fullname match for Laurent François vs ['laurent francois gely', 'gely laurent francois']\n",
      "no exact fullname match for Laurent François vs ['laurent francois apap', 'apap laurent francois']\n"
     ]
    },
    {
     "name": "stderr",
     "output_type": "stream",
     "text": [
      " 61%|██████    | 1061/1737 [02:09<02:35,  4.34it/s]"
     ]
    },
    {
     "name": "stdout",
     "output_type": "stream",
     "text": [
      "no exact fullname match for Boyer Laurent vs ['lisette laurent boyer', 'laurent boyer lisette']\n"
     ]
    },
    {
     "name": "stderr",
     "output_type": "stream",
     "text": [
      " 61%|██████    | 1063/1737 [02:10<03:24,  3.29it/s]"
     ]
    },
    {
     "name": "stdout",
     "output_type": "stream",
     "text": [
      "skipping death date 1994-01-01T00:00:00\n"
     ]
    },
    {
     "name": "stderr",
     "output_type": "stream",
     "text": [
      " 62%|██████▏   | 1077/1737 [02:11<01:24,  7.82it/s]"
     ]
    },
    {
     "name": "stdout",
     "output_type": "stream",
     "text": [
      "no exact fullname match for Duron Olivier vs ['henri olivier duron', 'duron henri olivier']\n",
      "no exact fullname match for Blanquet-Diot Stéphanie vs ['stephanie blanquet', 'blanquet stephanie']\n"
     ]
    },
    {
     "name": "stderr",
     "output_type": "stream",
     "text": [
      " 62%|██████▏   | 1079/1737 [02:12<01:50,  5.95it/s]"
     ]
    },
    {
     "name": "stdout",
     "output_type": "stream",
     "text": [
      "no exact fullname match for Chevallier Emmanuel vs ['pierre emmanuel chevallier chantepie', 'chevallier chantepie pierre emmanuel']\n"
     ]
    },
    {
     "name": "stderr",
     "output_type": "stream",
     "text": [
      " 63%|██████▎   | 1086/1737 [02:12<01:19,  8.18it/s]"
     ]
    },
    {
     "name": "stdout",
     "output_type": "stream",
     "text": [
      "no exact fullname match for Blanc Etienne vs ['etienne gregoire blanc', 'blanc etienne gregoire']\n"
     ]
    },
    {
     "name": "stderr",
     "output_type": "stream",
     "text": [
      " 63%|██████▎   | 1090/1737 [02:14<01:45,  6.13it/s]"
     ]
    },
    {
     "name": "stdout",
     "output_type": "stream",
     "text": [
      "skipping birth date 1805-01-01T00:00:00\n",
      "skipping death date 1980-10-12T00:00:00\n"
     ]
    },
    {
     "name": "stderr",
     "output_type": "stream",
     "text": [
      " 64%|██████▎   | 1103/1737 [02:15<01:02, 10.20it/s]"
     ]
    },
    {
     "name": "stdout",
     "output_type": "stream",
     "text": [
      "no exact fullname match for Guigon Elodie vs ['elodie guigon moreau', 'guigon moreau elodie']\n"
     ]
    },
    {
     "name": "stderr",
     "output_type": "stream",
     "text": [
      " 64%|██████▍   | 1108/1737 [02:15<00:58, 10.69it/s]"
     ]
    },
    {
     "name": "stdout",
     "output_type": "stream",
     "text": [
      "no exact fullname match for Arnaud-Cormos Delia vs ['liliana delia arnaud cormos', 'arnaud cormos liliana delia']\n"
     ]
    },
    {
     "name": "stderr",
     "output_type": "stream",
     "text": [
      " 65%|██████▍   | 1121/1737 [02:16<00:55, 11.02it/s]"
     ]
    },
    {
     "name": "stdout",
     "output_type": "stream",
     "text": [
      "no exact fullname match for Villena Isabelle vs ['isabelle bodart', 'bodart isabelle']\n",
      "no exact fullname match for Villena Isabelle vs ['isabelle coste villena', 'coste villena isabelle']\n"
     ]
    },
    {
     "name": "stderr",
     "output_type": "stream",
     "text": [
      " 65%|██████▍   | 1123/1737 [02:18<02:11,  4.68it/s]"
     ]
    },
    {
     "name": "stdout",
     "output_type": "stream",
     "text": [
      "no exact fullname match for Bouchard Philippe vs ['jean philippe bouchard', 'bouchard jean philippe']\n",
      "no exact fullname match for Klein Gérard vs ['gerard klein hofmeijer', 'klein hofmeijer gerard']\n"
     ]
    },
    {
     "name": "stderr",
     "output_type": "stream",
     "text": [
      " 65%|██████▍   | 1126/1737 [02:19<02:54,  3.51it/s]"
     ]
    },
    {
     "name": "stdout",
     "output_type": "stream",
     "text": [
      "no exact fullname match for de Luze Amaury vs ['amaury de luze', 'luze amaury de']\n",
      "no exact fullname match for Benichou Jacques vs ['jean jacques benichou', 'benichou jean jacques']\n",
      "no exact fullname match for Benichou Jacques vs ['jean jacques benichou', 'benichou jean jacques']\n"
     ]
    },
    {
     "name": "stderr",
     "output_type": "stream",
     "text": [
      " 65%|██████▍   | 1128/1737 [02:20<03:10,  3.20it/s]"
     ]
    },
    {
     "name": "stdout",
     "output_type": "stream",
     "text": [
      "no exact fullname match for Benichou Jacques vs ['jean jacques benichou', 'benichou jean jacques']\n",
      "no exact fullname match for Benichou Jacques vs ['jean benichou', 'benichou jean']\n"
     ]
    },
    {
     "name": "stderr",
     "output_type": "stream",
     "text": [
      " 65%|██████▍   | 1129/1737 [02:20<02:56,  3.45it/s]"
     ]
    },
    {
     "name": "stdout",
     "output_type": "stream",
     "text": [
      "no exact fullname match for Remy Murielle vs ['murielle remy zolghadri', 'remy zolghadri murielle']\n"
     ]
    },
    {
     "name": "stderr",
     "output_type": "stream",
     "text": [
      " 66%|██████▌   | 1138/1737 [02:21<01:22,  7.27it/s]"
     ]
    },
    {
     "name": "stdout",
     "output_type": "stream",
     "text": [
      "no exact fullname match for Bernard Alfred vs ['p  alfred bernard', 'bernard p  alfred']\n",
      "no exact fullname match for Bernard Alfred vs ['bernard alfred marie grall', 'grall bernard alfred marie']\n",
      "no exact fullname match for Bernard Alfred vs ['bernard alfred hoh', 'hoh bernard alfred']\n",
      "skipping birth date 1873-06-28T00:00:00\n",
      "no exact fullname match for Bernard Alfred vs ['joseph bernard', 'bernard joseph']\n",
      "no exact fullname match for Bernard Alfred vs ['alfred valton', 'valton alfred']\n",
      "no exact fullname match for Bernard Alfred vs ['bernard alfred southgate', 'southgate bernard alfred']\n"
     ]
    },
    {
     "name": "stderr",
     "output_type": "stream",
     "text": [
      " 66%|██████▌   | 1142/1737 [02:22<01:54,  5.20it/s]"
     ]
    },
    {
     "name": "stdout",
     "output_type": "stream",
     "text": [
      "no exact fullname match for Bernard Alfred vs ['bernard alfred etcheverry', 'etcheverry bernard alfred']\n",
      "no exact fullname match for Benoit Etienne vs ['benoit cerexhe', 'cerexhe benoit']\n",
      "no exact fullname match for Benoit Etienne vs ['etienne antoine benoit rouard', 'rouard etienne antoine benoit']\n",
      "no exact fullname match for Benoit Etienne vs ['etienne benoit revolat', 'revolat etienne benoit']\n",
      "no exact fullname match for Benoit Etienne vs ['etienne coissard', 'coissard etienne']\n",
      "no exact fullname match for Benoit Etienne vs ['jean baptiste etienne benoit soreau', 'soreau jean baptiste etienne benoit']\n",
      "no exact fullname match for Benoit Etienne vs ['etienne jean benoit thevenin de tanlay', 'thevenin de tanlay etienne jean benoit']\n",
      "no exact fullname match for Benoit Etienne vs ['etienne agard dechamps', 'dechamps etienne agard']\n"
     ]
    },
    {
     "name": "stderr",
     "output_type": "stream",
     "text": [
      " 66%|██████▌   | 1143/1737 [02:23<02:51,  3.46it/s]"
     ]
    },
    {
     "name": "stdout",
     "output_type": "stream",
     "text": [
      "no exact fullname match for Benoit Etienne vs ['jacques etienne benoit pellier', 'pellier jacques etienne benoit']\n"
     ]
    },
    {
     "name": "stderr",
     "output_type": "stream",
     "text": [
      " 66%|██████▋   | 1151/1737 [02:24<02:05,  4.68it/s]"
     ]
    },
    {
     "name": "stdout",
     "output_type": "stream",
     "text": [
      "no exact fullname match for Cohen Richard vs ['richard baron cohen', 'cohen richard baron']\n",
      "no exact fullname match for Cohen Richard vs ['richard a cohen', 'cohen richard a']\n",
      "no exact fullname match for Cohen Richard vs ['richard e  cohen', 'cohen richard e']\n"
     ]
    },
    {
     "name": "stderr",
     "output_type": "stream",
     "text": [
      " 67%|██████▋   | 1162/1737 [02:26<01:15,  7.64it/s]"
     ]
    },
    {
     "name": "stdout",
     "output_type": "stream",
     "text": [
      "no exact fullname match for Cohen Richard vs ['richard m  cohen', 'cohen richard m']\n"
     ]
    },
    {
     "name": "stderr",
     "output_type": "stream",
     "text": [
      " 67%|██████▋   | 1167/1737 [02:26<00:57,  9.94it/s]"
     ]
    },
    {
     "name": "stdout",
     "output_type": "stream",
     "text": [
      "no exact fullname match for Lambert Olivier vs ['nathalie olivier lambert', 'olivier lambert nathalie']\n",
      "no exact fullname match for Lambert Olivier vs ['olivier foughali lambert', 'foughali lambert olivier']\n"
     ]
    },
    {
     "name": "stderr",
     "output_type": "stream",
     "text": [
      " 68%|██████▊   | 1188/1737 [02:27<00:46, 11.90it/s]"
     ]
    },
    {
     "name": "stdout",
     "output_type": "stream",
     "text": [
      "no exact fullname match for Carriere Marie vs ['marie j  carriere', 'carriere marie j']\n",
      "no exact fullname match for Carriere Marie vs ['anne marie carriere', 'carriere anne marie']\n",
      "no exact fullname match for Carriere Marie vs ['lucien eugene marie carriere', 'carriere lucien eugene marie']\n",
      "no exact fullname match for Carriere Marie vs ['jean marie carriere', 'carriere jean marie']\n",
      "no exact fullname match for Carriere Marie vs ['marie vigier carriere', 'vigier carriere marie']\n",
      "no exact fullname match for Carriere Marie vs ['martin barthelemy carriere', 'carriere martin barthelemy']\n",
      "no exact fullname match for Carriere Marie vs ['jean marie carriere', 'carriere jean marie']\n",
      "no exact fullname match for Carriere Marie vs ['marie joseph henri carriere', 'carriere marie joseph henri']\n"
     ]
    },
    {
     "name": "stderr",
     "output_type": "stream",
     "text": [
      " 69%|██████▉   | 1197/1737 [02:29<01:05,  8.26it/s]"
     ]
    },
    {
     "name": "stdout",
     "output_type": "stream",
     "text": [
      "skipping Animateur à Radio-Canada, docteur en sémiologie, journaliste (en 2003)\n"
     ]
    },
    {
     "name": "stderr",
     "output_type": "stream",
     "text": [
      " 70%|██████▉   | 1214/1737 [02:31<00:52, 10.01it/s]"
     ]
    },
    {
     "name": "stdout",
     "output_type": "stream",
     "text": [
      "no exact fullname match for Constant Samuel vs ['samuel de constant', 'constant samuel de']\n",
      "no exact fullname match for Constant Samuel vs ['samuel constant snellen van vollenhoven', 'snellen van vollenhoven samuel constant']\n",
      "no exact fullname match for Constant Samuel vs ['samuel victor constant', 'constant samuel victor']\n"
     ]
    },
    {
     "name": "stderr",
     "output_type": "stream",
     "text": [
      " 70%|███████   | 1220/1737 [02:32<00:43, 11.77it/s]"
     ]
    },
    {
     "name": "stdout",
     "output_type": "stream",
     "text": [
      "no exact fullname match for Croidieu Sophie vs ['sophie leydier croidieu', 'leydier croidieu sophie']\n"
     ]
    },
    {
     "name": "stderr",
     "output_type": "stream",
     "text": [
      " 70%|███████   | 1222/1737 [02:32<00:49, 10.44it/s]"
     ]
    },
    {
     "name": "stdout",
     "output_type": "stream",
     "text": [
      "no exact fullname match for Boutet Elisa vs ['elisa boutet robinet', 'boutet robinet elisa']\n"
     ]
    },
    {
     "name": "stderr",
     "output_type": "stream",
     "text": [
      " 71%|███████   | 1226/1737 [02:33<01:02,  8.19it/s]"
     ]
    },
    {
     "name": "stdout",
     "output_type": "stream",
     "text": [
      "no exact fullname match for Jaillet Christele vs ['christele jaillet bartholome', 'jaillet bartholome christele']\n"
     ]
    },
    {
     "name": "stderr",
     "output_type": "stream",
     "text": [
      " 71%|███████▏  | 1241/1737 [02:34<00:40, 12.28it/s]"
     ]
    },
    {
     "name": "stdout",
     "output_type": "stream",
     "text": [
      "skipping birth date 1913-12-16T00:00:00\n",
      "skipping birth date 1755-01-01T00:00:00\n",
      "no exact fullname match for Adam René vs ['rene pierre adam', 'adam rene pierre']\n"
     ]
    },
    {
     "name": "stderr",
     "output_type": "stream",
     "text": [
      " 72%|███████▏  | 1243/1737 [02:34<00:57,  8.59it/s]"
     ]
    },
    {
     "name": "stdout",
     "output_type": "stream",
     "text": [
      "no exact fullname match for Adam René vs ['rene pierre adam', 'adam rene pierre']\n"
     ]
    },
    {
     "name": "stderr",
     "output_type": "stream",
     "text": [
      " 72%|███████▏  | 1246/1737 [02:35<01:05,  7.46it/s]"
     ]
    },
    {
     "name": "stdout",
     "output_type": "stream",
     "text": [
      "no exact fullname match for Carrière Marie vs ['marie j  carriere', 'carriere marie j']\n",
      "no exact fullname match for Carrière Marie vs ['anne marie carriere', 'carriere anne marie']\n",
      "no exact fullname match for Carrière Marie vs ['lucien eugene marie carriere', 'carriere lucien eugene marie']\n",
      "no exact fullname match for Carrière Marie vs ['jean marie carriere', 'carriere jean marie']\n",
      "no exact fullname match for Carrière Marie vs ['marie vigier carriere', 'vigier carriere marie']\n",
      "no exact fullname match for Carrière Marie vs ['martin barthelemy carriere', 'carriere martin barthelemy']\n"
     ]
    },
    {
     "name": "stderr",
     "output_type": "stream",
     "text": [
      " 72%|███████▏  | 1253/1737 [02:36<01:09,  6.93it/s]"
     ]
    },
    {
     "name": "stdout",
     "output_type": "stream",
     "text": [
      "no exact fullname match for Carrière Marie vs ['jean marie carriere', 'carriere jean marie']\n",
      "no exact fullname match for Carrière Marie vs ['marie joseph henri carriere', 'carriere marie joseph henri']\n"
     ]
    },
    {
     "name": "stderr",
     "output_type": "stream",
     "text": [
      " 73%|███████▎  | 1266/1737 [02:37<00:37, 12.67it/s]"
     ]
    },
    {
     "name": "stdout",
     "output_type": "stream",
     "text": [
      "no exact fullname match for Gil Sophie vs ['anne sophie gil', 'gil anne sophie']\n",
      "no exact fullname match for Leveque Philippe vs ['jean philippe leveque', 'leveque jean philippe']\n"
     ]
    },
    {
     "name": "stderr",
     "output_type": "stream",
     "text": [
      " 73%|███████▎  | 1272/1737 [02:38<00:54,  8.49it/s]"
     ]
    },
    {
     "name": "stdout",
     "output_type": "stream",
     "text": [
      "no exact fullname match for Leveque Philippe vs ['philippe berenger leveque', 'berenger leveque philippe']\n"
     ]
    },
    {
     "name": "stderr",
     "output_type": "stream",
     "text": [
      " 74%|███████▍  | 1287/1737 [02:39<00:36, 12.43it/s]"
     ]
    },
    {
     "name": "stdout",
     "output_type": "stream",
     "text": [
      "no exact fullname match for Chomienne Christine vs ['christine chomienne thomas', 'chomienne thomas christine']\n"
     ]
    },
    {
     "name": "stderr",
     "output_type": "stream",
     "text": [
      " 74%|███████▍  | 1294/1737 [02:39<00:28, 15.30it/s]"
     ]
    },
    {
     "name": "stdout",
     "output_type": "stream",
     "text": [
      "no exact fullname match for De Sèze René vs ['rene de seze', 'seze rene de']\n",
      "no exact fullname match for Véronique Chamel Mossuz vs ['veronique mossuz', 'mossuz veronique']\n"
     ]
    },
    {
     "name": "stderr",
     "output_type": "stream",
     "text": [
      " 75%|███████▌  | 1311/1737 [02:40<00:17, 24.62it/s]"
     ]
    },
    {
     "name": "stdout",
     "output_type": "stream",
     "text": [
      "no exact fullname match for Valdés-Lao Danièle vs ['daniele valdes', 'valdes daniele']\n",
      "no exact fullname match for None None vs ['laurent vecellio', 'vecellio laurent']\n"
     ]
    },
    {
     "name": "stderr",
     "output_type": "stream",
     "text": [
      " 76%|███████▌  | 1317/1737 [02:41<00:33, 12.58it/s]"
     ]
    },
    {
     "name": "stdout",
     "output_type": "stream",
     "text": [
      "no exact fullname match for LeBot Barbara vs ['barbara le bot', 'le bot barbara']\n",
      "no exact fullname match for Paris Christophe vs ['jean christophe paris', 'paris jean christophe']\n",
      "no exact fullname match for Paris Christophe vs ['christophe de paris', 'christophe de paris']\n",
      "no exact fullname match for Paris Christophe vs ['jean christophe paris', 'paris jean christophe']\n",
      "no exact fullname match for Paris Christophe vs ['jean christophe coffin', 'coffin jean christophe']\n",
      "no exact fullname match for Paris Christophe vs ['christophe greffet', 'greffet christophe']\n"
     ]
    },
    {
     "name": "stderr",
     "output_type": "stream",
     "text": [
      " 76%|███████▌  | 1319/1737 [02:42<01:02,  6.69it/s]"
     ]
    },
    {
     "name": "stdout",
     "output_type": "stream",
     "text": [
      "no exact fullname match for Paris Christophe vs ['christophe de beaumont du repaire', 'beaumont du repaire christophe de']\n"
     ]
    },
    {
     "name": "stderr",
     "output_type": "stream",
     "text": [
      " 78%|███████▊  | 1353/1737 [02:44<00:24, 15.58it/s]"
     ]
    },
    {
     "name": "stdout",
     "output_type": "stream",
     "text": [
      "no exact fullname match for Maiuri Maria Chiara vs ['chiara maiuri', 'maiuri chiara']\n",
      "no exact fullname match for Paris Christophe vs ['jean christophe paris', 'paris jean christophe']\n",
      "no exact fullname match for Paris Christophe vs ['christophe de paris', 'christophe de paris']\n",
      "no exact fullname match for Paris Christophe vs ['jean christophe paris', 'paris jean christophe']\n",
      "no exact fullname match for Paris Christophe vs ['jean christophe coffin', 'coffin jean christophe']\n"
     ]
    },
    {
     "name": "stderr",
     "output_type": "stream",
     "text": [
      " 78%|███████▊  | 1356/1737 [02:45<00:47,  8.08it/s]"
     ]
    },
    {
     "name": "stdout",
     "output_type": "stream",
     "text": [
      "no exact fullname match for Paris Christophe vs ['christophe greffet', 'greffet christophe']\n",
      "no exact fullname match for Paris Christophe vs ['christophe de beaumont du repaire', 'beaumont du repaire christophe de']\n"
     ]
    },
    {
     "name": "stderr",
     "output_type": "stream",
     "text": [
      " 78%|███████▊  | 1360/1737 [02:45<00:48,  7.83it/s]"
     ]
    },
    {
     "name": "stdout",
     "output_type": "stream",
     "text": [
      "no exact fullname match for Etienne Manuel vs ['arnaud manuel etienne', 'etienne arnaud manuel']\n",
      "no exact fullname match for Etienne Manuel vs ['marie andree manuel etienne', 'manuel etienne marie andree']\n"
     ]
    },
    {
     "name": "stderr",
     "output_type": "stream",
     "text": [
      " 79%|███████▊  | 1367/1737 [02:46<00:37,  9.79it/s]"
     ]
    },
    {
     "name": "stdout",
     "output_type": "stream",
     "text": [
      "no exact fullname match for Etienne Manuel vs ['etienne gougere', 'gougere etienne']\n"
     ]
    },
    {
     "name": "stderr",
     "output_type": "stream",
     "text": [
      " 79%|███████▉  | 1374/1737 [02:46<00:28, 12.68it/s]"
     ]
    },
    {
     "name": "stdout",
     "output_type": "stream",
     "text": [
      "no exact fullname match for Di Pietro Francesca vs ['piero della francesca', 'piero della francesca']\n",
      "no exact fullname match for Carriere Marie vs ['marie j  carriere', 'carriere marie j']\n",
      "no exact fullname match for Carriere Marie vs ['anne marie carriere', 'carriere anne marie']\n",
      "no exact fullname match for Carriere Marie vs ['lucien eugene marie carriere', 'carriere lucien eugene marie']\n",
      "no exact fullname match for Carriere Marie vs ['jean marie carriere', 'carriere jean marie']\n",
      "no exact fullname match for Carriere Marie vs ['marie vigier carriere', 'vigier carriere marie']\n",
      "no exact fullname match for Carriere Marie vs ['martin barthelemy carriere', 'carriere martin barthelemy']\n",
      "no exact fullname match for Carriere Marie vs ['jean marie carriere', 'carriere jean marie']\n",
      "no exact fullname match for Carriere Marie vs ['marie joseph henri carriere', 'carriere marie joseph henri']\n"
     ]
    },
    {
     "name": "stderr",
     "output_type": "stream",
     "text": [
      " 81%|████████  | 1404/1737 [02:49<00:23, 14.39it/s]"
     ]
    },
    {
     "name": "stdout",
     "output_type": "stream",
     "text": [
      "no exact fullname match for Mottet Nicolas vs ['nicolas mottet auselo', 'mottet auselo nicolas']\n"
     ]
    },
    {
     "name": "stderr",
     "output_type": "stream",
     "text": [
      " 82%|████████▏ | 1421/1737 [02:50<00:19, 16.36it/s]"
     ]
    },
    {
     "name": "stdout",
     "output_type": "stream",
     "text": [
      "no exact fullname match for Tourneux Pierre vs ['francois pierre tourneux', 'tourneux francois pierre']\n"
     ]
    },
    {
     "name": "stderr",
     "output_type": "stream",
     "text": [
      " 82%|████████▏ | 1426/1737 [02:50<00:22, 13.80it/s]"
     ]
    },
    {
     "name": "stdout",
     "output_type": "stream",
     "text": [
      "no exact fullname match for Tourneux Pierre vs ['pierre hubert tourneux', 'tourneux pierre hubert']\n",
      "no exact fullname match for Leveque Philippe vs ['jean philippe leveque', 'leveque jean philippe']\n"
     ]
    },
    {
     "name": "stderr",
     "output_type": "stream",
     "text": [
      " 82%|████████▏ | 1428/1737 [02:51<00:43,  7.17it/s]"
     ]
    },
    {
     "name": "stdout",
     "output_type": "stream",
     "text": [
      "no exact fullname match for Leveque Philippe vs ['philippe berenger leveque', 'berenger leveque philippe']\n"
     ]
    },
    {
     "name": "stderr",
     "output_type": "stream",
     "text": [
      " 83%|████████▎ | 1447/1737 [02:53<00:22, 12.70it/s]"
     ]
    },
    {
     "name": "stdout",
     "output_type": "stream",
     "text": [
      "no exact fullname match for Haddad Sami vs ['fuad sami haddad', 'haddad fuad sami']\n",
      "no exact fullname match for Suarez Guillaume vs ['guillaume asuarez', 'asuarez guillaume']\n"
     ]
    },
    {
     "name": "stderr",
     "output_type": "stream",
     "text": [
      " 84%|████████▍ | 1460/1737 [02:54<00:19, 14.17it/s]"
     ]
    },
    {
     "name": "stdout",
     "output_type": "stream",
     "text": [
      "no exact fullname match for Fleury Eric vs ['pierre eric fleury', 'fleury pierre eric']\n"
     ]
    },
    {
     "name": "stderr",
     "output_type": "stream",
     "text": [
      " 84%|████████▍ | 1467/1737 [02:55<00:22, 11.89it/s]"
     ]
    },
    {
     "name": "stdout",
     "output_type": "stream",
     "text": [
      "no exact fullname match for Sacco Paolo vs ['paolo di sacco', 'di sacco paolo']\n"
     ]
    },
    {
     "name": "stderr",
     "output_type": "stream",
     "text": [
      " 85%|████████▌ | 1480/1737 [02:55<00:16, 15.29it/s]"
     ]
    },
    {
     "name": "stdout",
     "output_type": "stream",
     "text": [
      "no exact fullname match for Peters Annette vs ['annette alvarez peters', 'alvarez peters annette']\n"
     ]
    },
    {
     "name": "stderr",
     "output_type": "stream",
     "text": [
      " 86%|████████▌ | 1487/1737 [02:56<00:14, 17.26it/s]"
     ]
    },
    {
     "name": "stdout",
     "output_type": "stream",
     "text": [
      "no exact fullname match for Guichaoua Marie vs ['marie roberte guichaoua', 'guichaoua marie roberte']\n",
      "no exact fullname match for Guichaoua Marie vs ['jean marie guichaoua', 'guichaoua jean marie']\n"
     ]
    },
    {
     "name": "stderr",
     "output_type": "stream",
     "text": [
      " 86%|████████▌ | 1496/1737 [02:56<00:12, 19.06it/s]"
     ]
    },
    {
     "name": "stdout",
     "output_type": "stream",
     "text": [
      "no exact fullname match for Baeza Armelle vs ['armelle baeza squiban', 'baeza squiban armelle']\n"
     ]
    },
    {
     "name": "stderr",
     "output_type": "stream",
     "text": [
      " 87%|████████▋ | 1504/1737 [02:56<00:11, 20.72it/s]"
     ]
    },
    {
     "name": "stdout",
     "output_type": "stream",
     "text": [
      "no exact fullname match for Carrière Marie vs ['marie j  carriere', 'carriere marie j']\n",
      "no exact fullname match for Carrière Marie vs ['anne marie carriere', 'carriere anne marie']\n",
      "no exact fullname match for Carrière Marie vs ['lucien eugene marie carriere', 'carriere lucien eugene marie']\n",
      "no exact fullname match for Carrière Marie vs ['jean marie carriere', 'carriere jean marie']\n",
      "no exact fullname match for Carrière Marie vs ['marie vigier carriere', 'vigier carriere marie']\n",
      "no exact fullname match for Carrière Marie vs ['martin barthelemy carriere', 'carriere martin barthelemy']\n",
      "no exact fullname match for Carrière Marie vs ['jean marie carriere', 'carriere jean marie']\n",
      "no exact fullname match for Carrière Marie vs ['marie joseph henri carriere', 'carriere marie joseph henri']\n"
     ]
    },
    {
     "name": "stderr",
     "output_type": "stream",
     "text": [
      " 87%|████████▋ | 1518/1737 [02:58<00:21, 10.04it/s]"
     ]
    },
    {
     "name": "stdout",
     "output_type": "stream",
     "text": [
      "no exact fullname match for Sylvestre Marie-Pierre vs ['marie pierre hill sylvestre', 'hill sylvestre marie pierre']\n"
     ]
    },
    {
     "name": "stderr",
     "output_type": "stream",
     "text": [
      " 88%|████████▊ | 1530/1737 [03:00<00:22,  9.27it/s]"
     ]
    },
    {
     "name": "stdout",
     "output_type": "stream",
     "text": [
      "no exact fullname match for Hue Sophie vs ['anne sophie hue', 'hue anne sophie']\n",
      "skipping birth date 1815-01-01T00:00:00\n",
      "no exact fullname match for Levêque Philippe vs ['jean philippe leveque', 'leveque jean philippe']\n"
     ]
    },
    {
     "name": "stderr",
     "output_type": "stream",
     "text": [
      " 88%|████████▊ | 1536/1737 [03:01<00:27,  7.26it/s]"
     ]
    },
    {
     "name": "stdout",
     "output_type": "stream",
     "text": [
      "no exact fullname match for Levêque Philippe vs ['philippe berenger leveque', 'berenger leveque philippe']\n"
     ]
    },
    {
     "name": "stderr",
     "output_type": "stream",
     "text": [
      " 89%|████████▉ | 1547/1737 [03:02<00:16, 11.48it/s]"
     ]
    },
    {
     "name": "stdout",
     "output_type": "stream",
     "text": [
      "no exact fullname match for Opatowski Lulla vs ['lulla opatowski mezrahi', 'opatowski mezrahi lulla']\n"
     ]
    },
    {
     "name": "stderr",
     "output_type": "stream",
     "text": [
      " 89%|████████▉ | 1549/1737 [03:02<00:21,  8.57it/s]"
     ]
    },
    {
     "name": "stdout",
     "output_type": "stream",
     "text": [
      "no exact fullname match for Bories Serge vs ['serge charles bories', 'bories serge charles']\n"
     ]
    },
    {
     "name": "stderr",
     "output_type": "stream",
     "text": [
      " 90%|████████▉ | 1559/1737 [03:04<00:30,  5.88it/s]"
     ]
    },
    {
     "name": "stdout",
     "output_type": "stream",
     "text": [
      "no exact fullname match for Dufour Alain vs ['alain paul antoine dufour', 'dufour alain paul antoine']\n",
      "no exact fullname match for Lévêque Philippe vs ['jean philippe leveque', 'leveque jean philippe']\n"
     ]
    },
    {
     "name": "stderr",
     "output_type": "stream",
     "text": [
      " 90%|████████▉ | 1561/1737 [03:05<00:42,  4.12it/s]"
     ]
    },
    {
     "name": "stdout",
     "output_type": "stream",
     "text": [
      "no exact fullname match for Lévêque Philippe vs ['philippe berenger leveque', 'berenger leveque philippe']\n"
     ]
    },
    {
     "name": "stderr",
     "output_type": "stream",
     "text": [
      " 90%|█████████ | 1564/1737 [03:05<00:36,  4.72it/s]"
     ]
    },
    {
     "name": "stdout",
     "output_type": "stream",
     "text": [
      "no exact fullname match for Mandin Corinne vs ['corinne sawka', 'sawka corinne']\n"
     ]
    },
    {
     "name": "stderr",
     "output_type": "stream",
     "text": [
      " 91%|█████████ | 1579/1737 [03:08<00:33,  4.69it/s]"
     ]
    },
    {
     "name": "stdout",
     "output_type": "stream",
     "text": [
      "no exact fullname match for Leveque Philippe vs ['jean philippe leveque', 'leveque jean philippe']\n"
     ]
    },
    {
     "name": "stderr",
     "output_type": "stream",
     "text": [
      " 91%|█████████ | 1582/1737 [03:09<00:42,  3.65it/s]"
     ]
    },
    {
     "name": "stdout",
     "output_type": "stream",
     "text": [
      "no exact fullname match for Leveque Philippe vs ['philippe berenger leveque', 'berenger leveque philippe']\n"
     ]
    },
    {
     "name": "stderr",
     "output_type": "stream",
     "text": [
      " 92%|█████████▏| 1599/1737 [03:10<00:14,  9.55it/s]"
     ]
    },
    {
     "name": "stdout",
     "output_type": "stream",
     "text": [
      "no exact fullname match for Bion François vs ['jean francois bion', 'bion jean francois']\n",
      "no exact fullname match for Bion François vs ['pierre francois bernard bion', 'bion pierre francois bernard']\n",
      "no exact fullname match for Reynaud Stéphanie vs ['stephanie andree reynaud', 'reynaud stephanie andree']\n"
     ]
    },
    {
     "name": "stderr",
     "output_type": "stream",
     "text": [
      " 92%|█████████▏| 1604/1737 [03:11<00:13,  9.75it/s]"
     ]
    },
    {
     "name": "stdout",
     "output_type": "stream",
     "text": [
      "no exact fullname match for Villena Isabelle vs ['isabelle bodart', 'bodart isabelle']\n",
      "no exact fullname match for Villena Isabelle vs ['isabelle coste villena', 'coste villena isabelle']\n"
     ]
    },
    {
     "name": "stderr",
     "output_type": "stream",
     "text": [
      " 93%|█████████▎| 1617/1737 [03:12<00:11, 10.70it/s]"
     ]
    },
    {
     "name": "stdout",
     "output_type": "stream",
     "text": [
      "no exact fullname match for Mercier Thierry vs ['thierry le mercier', 'le mercier thierry']\n"
     ]
    },
    {
     "name": "stderr",
     "output_type": "stream",
     "text": [
      " 93%|█████████▎| 1620/1737 [03:12<00:12,  9.36it/s]"
     ]
    },
    {
     "name": "stdout",
     "output_type": "stream",
     "text": [
      "no exact fullname match for Blanc Marie-Thérèse vs ['marie therese blanc rouquette', 'blanc rouquette marie therese']\n",
      "no exact fullname match for Blanc Marie-Thérèse vs ['therese bentzon', 'bentzon therese']\n"
     ]
    },
    {
     "name": "stderr",
     "output_type": "stream",
     "text": [
      " 94%|█████████▍| 1631/1737 [03:14<00:10,  9.80it/s]"
     ]
    },
    {
     "name": "stdout",
     "output_type": "stream",
     "text": [
      "no exact fullname match for Huet Hélène vs ['marie helene huet', 'huet marie helene']\n"
     ]
    },
    {
     "name": "stderr",
     "output_type": "stream",
     "text": [
      " 94%|█████████▍| 1635/1737 [03:14<00:08, 11.60it/s]"
     ]
    },
    {
     "name": "stdout",
     "output_type": "stream",
     "text": [
      "no exact fullname match for Cazier Francine vs ['francine cazier dennin', 'cazier dennin francine']\n",
      "no exact fullname match for Paris Christophe vs ['jean christophe paris', 'paris jean christophe']\n",
      "no exact fullname match for Paris Christophe vs ['christophe de paris', 'christophe de paris']\n",
      "no exact fullname match for Paris Christophe vs ['jean christophe paris', 'paris jean christophe']\n"
     ]
    },
    {
     "name": "stderr",
     "output_type": "stream",
     "text": [
      " 94%|█████████▍| 1639/1737 [03:15<00:13,  7.52it/s]"
     ]
    },
    {
     "name": "stdout",
     "output_type": "stream",
     "text": [
      "no exact fullname match for Paris Christophe vs ['jean christophe coffin', 'coffin jean christophe']\n",
      "no exact fullname match for Paris Christophe vs ['christophe greffet', 'greffet christophe']\n",
      "no exact fullname match for Paris Christophe vs ['christophe de beaumont du repaire', 'beaumont du repaire christophe de']\n",
      "no exact fullname match for Paris Christophe vs ['jean christophe paris', 'paris jean christophe']\n",
      "no exact fullname match for Paris Christophe vs ['christophe de paris', 'christophe de paris']\n",
      "no exact fullname match for Paris Christophe vs ['jean christophe paris', 'paris jean christophe']\n",
      "no exact fullname match for Paris Christophe vs ['jean christophe coffin', 'coffin jean christophe']\n",
      "no exact fullname match for Paris Christophe vs ['christophe greffet', 'greffet christophe']\n",
      "no exact fullname match for Paris Christophe vs ['christophe de beaumont du repaire', 'beaumont du repaire christophe de']\n"
     ]
    },
    {
     "name": "stderr",
     "output_type": "stream",
     "text": [
      " 95%|█████████▍| 1645/1737 [03:16<00:14,  6.26it/s]"
     ]
    },
    {
     "name": "stdout",
     "output_type": "stream",
     "text": [
      "no exact fullname match for Lambert Pierre vs ['pierre join lambert', 'join lambert pierre']\n",
      "no exact fullname match for Lambert Pierre vs ['pierre jean lambert', 'lambert pierre jean']\n",
      "no exact fullname match for Lambert Pierre vs ['pierre andre lambert', 'lambert pierre andre']\n",
      "no exact fullname match for Lambert Pierre vs ['marie pierre lambert', 'lambert marie pierre']\n",
      "no exact fullname match for Lambert Pierre vs ['jean pierre lambert', 'lambert jean pierre']\n"
     ]
    },
    {
     "name": "stderr",
     "output_type": "stream",
     "text": [
      " 95%|█████████▍| 1650/1737 [03:17<00:18,  4.65it/s]"
     ]
    },
    {
     "name": "stdout",
     "output_type": "stream",
     "text": [
      "no exact fullname match for De Seze René vs ['rene de seze', 'seze rene de']\n",
      "no exact fullname match for Upegui Erika vs ['erika  upegui cardona', 'upegui cardona erika']\n"
     ]
    },
    {
     "name": "stderr",
     "output_type": "stream",
     "text": [
      " 96%|█████████▌| 1669/1737 [03:18<00:05, 13.44it/s]"
     ]
    },
    {
     "name": "stdout",
     "output_type": "stream",
     "text": [
      "no exact fullname match for Villena Isabelle vs ['isabelle bodart', 'bodart isabelle']\n",
      "no exact fullname match for Villena Isabelle vs ['isabelle coste villena', 'coste villena isabelle']\n"
     ]
    },
    {
     "name": "stderr",
     "output_type": "stream",
     "text": [
      " 97%|█████████▋| 1687/1737 [03:20<00:04, 11.49it/s]"
     ]
    },
    {
     "name": "stdout",
     "output_type": "stream",
     "text": [
      "skipping birth date 1715-01-03T00:00:00\n",
      "no exact fullname match for Rousset François vs ['jean francois rousset', 'rousset jean francois']\n",
      "no exact fullname match for Rousset François vs ['charles francois rousset', 'rousset charles francois']\n"
     ]
    },
    {
     "name": "stderr",
     "output_type": "stream",
     "text": [
      " 97%|█████████▋| 1689/1737 [03:21<00:08,  5.65it/s]"
     ]
    },
    {
     "name": "stdout",
     "output_type": "stream",
     "text": [
      "no exact fullname match for Rousset François vs ['henri rousset', 'rousset henri']\n"
     ]
    },
    {
     "name": "stderr",
     "output_type": "stream",
     "text": [
      " 97%|█████████▋| 1692/1737 [03:21<00:06,  6.98it/s]"
     ]
    },
    {
     "name": "stdout",
     "output_type": "stream",
     "text": [
      "no exact fullname match for De Gaudemaris Régis vs ['regis de gaudemaris', 'gaudemaris regis de']\n",
      "no exact fullname match for André Jean-Claude vs ['andre jean claude bichot', 'bichot andre jean claude']\n",
      "no exact fullname match for André Jean-Claude vs ['jean claude lapraz', 'lapraz jean claude']\n",
      "no exact fullname match for André Jean-Claude vs ['jean claude solere', 'solere jean claude']\n",
      "no exact fullname match for André Jean-Claude vs ['jean claude rolland', 'rolland jean claude']\n"
     ]
    },
    {
     "name": "stderr",
     "output_type": "stream",
     "text": [
      " 98%|█████████▊| 1694/1737 [03:22<00:10,  4.23it/s]"
     ]
    },
    {
     "name": "stdout",
     "output_type": "stream",
     "text": [
      "no exact fullname match for André Jean-Claude vs ['anthony jean claude andre turpin', 'turpin anthony jean claude andre']\n",
      "no exact fullname match for André Jean-Claude vs ['jean claude andre gonin', 'gonin jean claude andre']\n",
      "no exact fullname match for André Jean-Claude vs ['andre jean claude benoit gonin', 'benoit gonin andre jean claude']\n"
     ]
    },
    {
     "name": "stderr",
     "output_type": "stream",
     "text": [
      " 98%|█████████▊| 1696/1737 [03:23<00:08,  4.64it/s]"
     ]
    },
    {
     "name": "stdout",
     "output_type": "stream",
     "text": [
      "no exact fullname match for Canu Irina vs ['irina guseva canu', 'guseva canu irina']\n"
     ]
    },
    {
     "name": "stderr",
     "output_type": "stream",
     "text": [
      " 98%|█████████▊| 1698/1737 [03:23<00:07,  5.01it/s]"
     ]
    },
    {
     "name": "stdout",
     "output_type": "stream",
     "text": [
      "no exact fullname match for Mazet Paul vs ['jean paul mazet', 'mazet jean paul']\n",
      "no exact fullname match for Kuhn Pierre vs ['jean pierre kuhn', 'kuhn jean pierre']\n",
      "no exact fullname match for Kuhn Pierre vs ['pierre marie bohl kuhn', 'bohl kuhn pierre marie']\n",
      "no exact fullname match for Kuhn Pierre vs ['pierre mounier kuhn', 'mounier kuhn pierre']\n"
     ]
    },
    {
     "name": "stderr",
     "output_type": "stream",
     "text": [
      " 98%|█████████▊| 1708/1737 [03:24<00:04,  7.21it/s]"
     ]
    },
    {
     "name": "stdout",
     "output_type": "stream",
     "text": [
      "no exact fullname match for Kuhn Pierre vs ['pierre louis edmond mounier kuhn', 'mounier kuhn pierre louis edmond']\n",
      "no exact fullname match for Paris Christophe vs ['jean christophe paris', 'paris jean christophe']\n",
      "no exact fullname match for Paris Christophe vs ['christophe de paris', 'christophe de paris']\n",
      "no exact fullname match for Paris Christophe vs ['jean christophe paris', 'paris jean christophe']\n",
      "no exact fullname match for Paris Christophe vs ['jean christophe coffin', 'coffin jean christophe']\n"
     ]
    },
    {
     "name": "stderr",
     "output_type": "stream",
     "text": [
      " 99%|█████████▊| 1714/1737 [03:25<00:03,  7.01it/s]"
     ]
    },
    {
     "name": "stdout",
     "output_type": "stream",
     "text": [
      "no exact fullname match for Paris Christophe vs ['christophe greffet', 'greffet christophe']\n",
      "no exact fullname match for Paris Christophe vs ['christophe de beaumont du repaire', 'beaumont du repaire christophe de']\n"
     ]
    },
    {
     "name": "stderr",
     "output_type": "stream",
     "text": [
      " 99%|█████████▉| 1716/1737 [03:26<00:04,  4.59it/s]"
     ]
    },
    {
     "name": "stdout",
     "output_type": "stream",
     "text": [
      "no exact fullname match for Morel Christian vs ['christian morel de sarcus', 'morel de sarcus christian']\n",
      "no exact fullname match for Delus Claire vs ['claire lang', 'lang claire']\n"
     ]
    },
    {
     "name": "stderr",
     "output_type": "stream",
     "text": [
      " 99%|█████████▉| 1718/1737 [03:27<00:04,  4.75it/s]"
     ]
    },
    {
     "name": "stdout",
     "output_type": "stream",
     "text": [
      "no exact fullname match for Gascoin Géraldine vs ['geraldine gascoin lachambre', 'gascoin lachambre geraldine']\n",
      "no exact fullname match for Petit Fabienne vs ['fabienne arias petit', 'arias petit fabienne']\n",
      "no exact fullname match for Petit Fabienne vs ['fabienne petit jean', 'petit jean fabienne']\n"
     ]
    },
    {
     "name": "stderr",
     "output_type": "stream",
     "text": [
      "100%|█████████▉| 1731/1737 [03:28<00:00,  7.87it/s]"
     ]
    },
    {
     "name": "stdout",
     "output_type": "stream",
     "text": [
      "no exact fullname match for Ghaleh-Marzban Bijan vs ['bijan ghaleh', 'ghaleh bijan']\n"
     ]
    },
    {
     "name": "stderr",
     "output_type": "stream",
     "text": [
      "100%|██████████| 1737/1737 [03:29<00:00,  8.30it/s]\n"
     ]
    }
   ],
   "source": [
    "df_partenaires['id_personne']=df_partenaires.progress_apply(lambda row: get_person(row, cached_data_persons,sources[source]['nom'],sources[source]['prenom']), axis=1)"
   ]
  },
  {
   "cell_type": "code",
   "execution_count": 32,
   "id": "adc7546d",
   "metadata": {},
   "outputs": [
    {
     "data": {
      "text/plain": [
       "Index(['Code convention', 'code convention homogénéisé', 'Acronyme',\n",
       "       'Nom Responsable Scientifique', 'Prénom Responsable Scientifique',\n",
       "       'Organisme', 'CP ', 'Ville', 'Pays', 'Organisme2',\n",
       "       'id_structure_matcher', 'id_structure_scanr', 'code', 'id_structure',\n",
       "       'id_personne'],\n",
       "      dtype='object')"
      ]
     },
     "execution_count": 32,
     "metadata": {},
     "output_type": "execute_result"
    }
   ],
   "source": [
    "df_partenaires.columns"
   ]
  },
  {
   "cell_type": "code",
   "execution_count": null,
   "id": "c65d4fd7",
   "metadata": {},
   "outputs": [],
   "source": [
    "if sources[source]['id_ORCID'] in list(df_partenaires.columns):\n",
    "    df_partenaires=pd.read_json(f\"./DATA/{source}/df_partners_id_person.json\")\n",
    "    df_partenaires['idref_ORCID']=df_partenaires.progress_apply(lambda row: orcid_to_idref(row,cached_data_orcid,sources[source]['id_ORCID'],Authorization_ORCID), axis=1)\n",
    "    #write_cache(cached_data_orcid,f\"./DATA/{source}/caches/cached_{source.lower()}_data_orcid.pkl\")\n",
    "    #df_partenaires.to_excel(f\"./DATA/{source}/df_partners_id_person_ORCID.xlsx\")\n",
    "    df_partenaires.to_json(f\"./DATA/{source}/df_partners_id_person_ORCID.json\")"
   ]
  },
  {
   "cell_type": "code",
   "execution_count": 35,
   "id": "ac6c3c3a",
   "metadata": {},
   "outputs": [
    {
     "data": {
      "text/plain": [
       "0"
      ]
     },
     "execution_count": 35,
     "metadata": {},
     "output_type": "execute_result"
    }
   ],
   "source": [
    "len(cached_data_orcid)"
   ]
  },
  {
   "cell_type": "markdown",
   "id": "12332b18",
   "metadata": {},
   "source": [
    "# ENVOI DES PROJETS SUR SCANR"
   ]
  },
  {
   "cell_type": "code",
   "execution_count": 39,
   "id": "21cef2ea",
   "metadata": {},
   "outputs": [],
   "source": [
    "if len(sources[source]['identifiants_preferes_personne'])==2:\n",
    "    df_partenaires=pd.read_json(f\"./DATA/{source}/df_partners_id_person_ORCID.json\")\n",
    "elif len(sources[source]['identifiants_preferes_personne'])==1:\n",
    "    df_partenaires=pd.read_json(f\"./DATA/{source}/df_partners_id_person.json\")\n",
    "else:\n",
    "    df_partenaires=pd.read_json(f\"./DATA/{source}/df_partners_id_structures.json\")"
   ]
  },
  {
   "cell_type": "code",
   "execution_count": 40,
   "id": "57413951",
   "metadata": {},
   "outputs": [],
   "source": [
    "df_partenaires.loc[df_partenaires.id_structure.apply(lambda x :isinstance(x,list)),'id_structure']=df_partenaires.loc[df_partenaires.id_structure.apply(lambda x :isinstance(x,list)),'id_structure'].apply(lambda y: y[0])"
   ]
  },
  {
   "cell_type": "code",
   "execution_count": 41,
   "id": "a9ed3582",
   "metadata": {},
   "outputs": [
    {
     "name": "stderr",
     "output_type": "stream",
     "text": [
      "100%|██████████| 1737/1737 [00:00<00:00, 11757.80it/s]\n"
     ]
    }
   ],
   "source": [
    "if len([x for x in ['nom', 'prenom'] if x in list(sources[source].keys())])==2:\n",
    "    df_partenaires['id_person']=df_partenaires.apply(lambda row: get_id(row,sources[source]['identifiants_preferes_personne']), axis=1)\n",
    "    df_partenaires['persons']=df_partenaires.progress_apply(lambda row: persons(row,sources[source]['prenom'],sources[source]['nom']) ,axis=1)\n",
    "else:\n",
    "    df_partenaires['persons']=np.nan"
   ]
  },
  {
   "cell_type": "code",
   "execution_count": 42,
   "id": "9ee1687d",
   "metadata": {},
   "outputs": [],
   "source": [
    "if source != 'SIRANO':\n",
    "    df_partenaires=df_partenaires.groupby([sources[source]['code_projet']]).agg({'persons': lambda x: [ y for y in x.tolist() if pd.isna(y)==False]}, dropna=False).reset_index()\n",
    "else:\n",
    "    df_projets=df_partenaires.groupby([sources[source]['code_projet'], sources[source]['annee'], sources[source]['acronyme'],sources[source]['titre'],sources[source]['budget']], dropna=False).agg({'persons': lambda x: [ y for y in x.tolist() if pd.isna(y)==False]}, dropna=False)"
   ]
  },
  {
   "cell_type": "code",
   "execution_count": 43,
   "id": "e6ff1d0f",
   "metadata": {},
   "outputs": [],
   "source": [
    "# amener les projets depuis le site \n",
    "if source=='ANR':\n",
    "    page_projets_10 = requests.get(sources[source]['url_projects']).json()\n",
    "    colonnes_projets_10 = page_projets_10['columns']\n",
    "    donnees_projets_10 = page_projets_10['data']\n",
    "    df_projets=pd.DataFrame(data=donnees_projets_10,columns=colonnes_projets_10)\n",
    "elif source=='IRESP':\n",
    "    df_projets1=pd.read_csv(sources[source]['url_projects1'] ,sep=\";\", encoding='UTF-8')\n",
    "    df_projets2=pd.read_csv(sources[source]['url_projects2'] ,sep=\";\", encoding='UTF-8')\n",
    "    df_projets=pd.concat([df_projets1,df_projets2])\n",
    "    df_projets.loc[pd.isna(df_projets['Titre_du_projet_FR']),'Titre_du_projet_FR']=df_projets.loc[pd.isna(df_projets['Titre_du_projet_FR']),'Titre_du_projet']\n",
    "elif source!='SIRANO':\n",
    "    df_projets=pd.read_csv(sources[source]['url_projects'] ,sep=\";\", encoding='ISO-8859-1')\n",
    "\n",
    "df_projets=df_projets.reset_index()\n",
    "del df_projets['index']"
   ]
  },
  {
   "cell_type": "code",
   "execution_count": 44,
   "id": "7dd3868b",
   "metadata": {},
   "outputs": [
    {
     "name": "stderr",
     "output_type": "stream",
     "text": [
      "100%|██████████| 592/592 [00:00<00:00, 13384.44it/s]\n",
      "100%|██████████| 592/592 [00:00<00:00, 16489.10it/s]\n"
     ]
    }
   ],
   "source": [
    "if source!='SIRANO':\n",
    "    df_projets=pd.merge(df_projets,df_partenaires,on=sources[source]['code_projet'], how='left')\n",
    "else :\n",
    "    df_projets['id']=df_partenaires.apply(lambda row: f\"{row[sources[source]['code_projet']]}-{row[sources[source]['annee']]}-{row[sources[source]['acronyme']]}\" , axis=1)\n",
    "    del df_projets['code_projet']\n",
    "    sources[source]['code_projet']='id'\n",
    "\n",
    "df_projets['type']=source\n",
    "df_projets['name']=df_projets.progress_apply(lambda row: projects(row,sources[source]['titre_fr'],sources[source]['titre_en']) ,axis=1)\n",
    "df_projets['description']=df_projets.progress_apply(lambda row: projects(row,sources[source]['resume_fr'],sources[source]['resume_en']) ,axis=1)\n",
    "df_projets.loc[:,sources[source]['budget']]=df_projets.loc[:,sources[source]['budget']].apply(lambda x : float(str(x).replace('.0','').replace('.00','').replace(' ','').replace(',','.').replace('€','').replace('\\x80','')))\n",
    "df_projets=df_projets.rename(columns={sources[source]['annee']:'year',sources[source]['acronyme']:'acronym',\n",
    "                                      sources[source]['budget']:'budget_financed',sources[source]['code_projet']:'id'})\n",
    "df_projets=df_projets[['id','type','name','description','acronym','year','budget_financed','persons']]"
   ]
  },
  {
   "cell_type": "code",
   "execution_count": 45,
   "id": "3c620c25",
   "metadata": {},
   "outputs": [
    {
     "data": {
      "text/plain": [
       "{'id': 'ANSES-06-EST-002',\n",
       " 'type': 'ANSES',\n",
       " 'name': {'fr': 'Projet PAISIM : Pollution Atmosphérique, Inégalités Sociales et Infarctus du Myocarde',\n",
       "  'en': 'The PAISIM project: Air Pollution, Social Inequalities & Myocardial Infarction'},\n",
       " 'description': {'fr': 'Depuis une quinzaine d\\x92années, plusieurs équipes se sont intéressées aux liens existant entre le polymorphisme de l\\x92ALAD G177C (acide delta-aminolévulinique déshydratase) (rs1800435) et l\\x92intoxication par le plomb. Les études publiées ne sont pas concordantes quant aux liens existants entre ce polymorphisme et les effets du plomb sur la fonction rénale. L\\x92opportunité nous est donnée d\\x92analyser ces liens sur une cohorte d\\x92ex-salariés d\\x92une fonderie de plomb et de zinc de la Région Nord \\x96 Pas de Calais, qui bénéficient depuis 2003 d\\x92un suivi clinique et biologique post-expositionnel. Ce suivi va être prolongé jusqu\\x92en 2009, dans le cadre d\\x92une étude scientifique visant à étudier les facteurs de variation de la toxicocinétique de décroissance du plomb sanguin, permettant d\\x92associer d\\x92autres recherches plus fondamentales, telle que celle que nous proposons dans le cadre de cet appel d\\x92offre. L\\x92objectif principal de l\\x92étude proposée est d\\x92analyser l\\x92impact du polymorphisme de l\\x92ALAD G177C sur la toxicité rénale du plomb, ainsi que les éventuelles interactions gène - environnement. L\\x92étude que nous envisageons est une étude transversale, s\\x92intéressant à la population d\\x92ex-salariés adhérant au suivi (environ 600 sujets). Chaque ex-salarié volontaire répondra à un questionnaire standardisé permettant le recueil d\\x92informations personnelles et professionnelles. Les prélèvements biologiques permettront la détermination du polymorphisme de l\\x92ALAD G177C, la plombémie, et l\\x92évaluation de la fonction rénale (urée sanguine, créatinine sérique, clairance de la créatinine, rétinol binding protein (RBP) et activité de la N-acétyl-glucosaminidase (NAG). Une base de données sera élaborée, fusionnant l\\x92ensemble des données biologiques de suivi médical des expositions en cours d\\x92activité et les données biologiques recueillies depuis le suivi post-expositionnel. Ceci nous permettra de calculer un index cumulé d\\x92exposition au plomb (CBLI). Les variations des marqueurs de la fonction rénale seront étudiées en fonction des paramètres d\\x92imprégnation au plomb (CBLI) et en fonction du polymorphisme de l\\x92ALAD G177C. Des modèles de régression linéaires multiples seront utilisés pour l\\x92analyse des données. La réalisation de ce projet est prévue sur 3 années (2006-2008). Cette étude va permettre de donner un nouveau point de vue concernant les liens entre polymorphisme de l\\x92ALAD G177C et la toxicité rénale du plomb, permettant d\\x92élargir le débat scientifique. Elle peut avoir des conséquences sur le suivi des salariés exposés au plomb, si la détermination du polymorphisme de l\\x92ALAD G177C peut permettre d\\x92adapter la surveillance de ces sujets. Enfin, cette étude peut aussi avoir des conséquences sur les modalités de surveillance de l\\x92exposition au plomb en population générale, intégrant une éventuelle détermination du polymorphisme de l\\x92ALAD G177C.',\n",
       "  'en': 'Since about fifteen years, several teams have been interesting in the relations existing between polymorphism of ALAD G177C (delta-aminolevulinic acid dehydratase) (rs1800435) and the intoxication by lead. The published studies are not concordant about the links between this polymorphism and the renal effects of lead. The advisability is given to us to analyze these relations among ex-employees of a lead and zinc smelter of the \\x93Région Nord - Pas-de-Calais\\x94. This smelter stopped its production and dismissed all the workers in March 2003. Since this date, the ex-employees benefit of a clinical and biological follow-up. This follow-up will be prolonged until 2009 within the framework of a scientific study, which aim is to study the factors of variation of the toxicocinetic of the blood lead level decrease. We want to associate to this follow-up another fundamental research, such as the study we will explain below. The main objective of our study is to analyze the impact of the polymorphism of ALAD G177C on the renal toxicity of lead, and to explore the potential gene - environment interactions. It is a cross-sectional study, interesting all the population of ex-employees adhering to the follow-up of the blood lead level (about 600 subjects). Each ex-employee voluntary for this study will answer a standardized questionnaire allowing the collection of personal and professional information. The biological sampling will allow the determination of the polymorphism of ALAD G177C, the blood lead level, and the evaluation of the renal function (blood urea nitrogen, serum creatinin, clearance of creatinin, retinol binding protein (RBP) and activity of N-acetyl-glucosaminidase (NAG). A data base will be elaborate, amalgamating whole of the biological data of medical follow-up of the lead exposures during occupational activity and the biological data collected since the follow-up. A cumulative blood lead index (CBLI) will be calculated from the time weighted integration of available data of blood lead. The variations of the renal markers will be studied according to the parameters of impregnation to lead (CBLI) and according to the polymorphism of ALAD G177C. Statistical analysis will be conducted by multiple linear regressions. The realization of this project is scheduled over 3 years (2006-2008). This study will make possible to give a new point of view concerning the relations between polymorphism of ALAD G177C and the renal toxicity of lead, leading to widen the scientific debate. If the determination of the polymorphism of ALAD G177C can make it possible to adapt the monitoring of lead exposed employees, this study can have consequences on the follow-up of these subjects. Lastly, this study can also have consequences on the methods of monitoring of the exposure to lead in general population, integrating a possible determination of the polymorphism of ALAD G177C.'},\n",
       " 'acronym': 'PAISIM',\n",
       " 'year': 2006,\n",
       " 'budget_financed': 9000.0,\n",
       " 'persons': [{'first_name': 'Denis ',\n",
       "   'last_name': 'Bard',\n",
       "   'role': 'scientific-officer###201222588E'},\n",
       "  {'id': 'idref08471591X',\n",
       "   'first_name': 'ARVEILER',\n",
       "   'last_name': 'Dominique',\n",
       "   'role': 'scientific-officer###e1S12'},\n",
       "  {'id': 'idref060829419',\n",
       "   'first_name': 'EILSTEIN',\n",
       "   'last_name': 'Daniel',\n",
       "   'role': 'scientific-officer###X3DyA'}]}"
      ]
     },
     "execution_count": 45,
     "metadata": {},
     "output_type": "execute_result"
    }
   ],
   "source": [
    "dict_row=df_projets.iloc[0,:].to_dict()\n",
    "dict_row2={k:v for k,v in list(dict_row.items()) if ((str(v)!='nan')&(str(v)!='NaN')&(str(v)!='None')&(str(v)!='x')&(str(v)!='[]'))}\n",
    "dict_row2"
   ]
  },
  {
   "cell_type": "code",
   "execution_count": null,
   "id": "3040b95d",
   "metadata": {},
   "outputs": [],
   "source": [
    "#envoi\n",
    "err=[]\n",
    "for i,row in df_projets.iterrows():\n",
    "    dict_row=row.to_dict()\n",
    "    dict_row2={k:v for k,v in list(dict_row.items()) if ((str(v)!='nan')&(str(v)!='NaN')&(str(v)!='None')&(str(v)!='x')&(str(v)!='[]'))}\n",
    "    try:\n",
    "       r=requests.post('http://185.161.45.213/projects/projects', json = dict_row2, headers={\"Authorization\":Authorization})\n",
    "       res= r.json()\n",
    "       if res.get('status')=='ERR':\n",
    "           err.append(res)\n",
    "           if res.get('error').get('code')!=422:\n",
    "               print(err)\n",
    "               pp.pprint(err)\n",
    "    except Exception as e:\n",
    "        pp.pprint(e)"
   ]
  },
  {
   "cell_type": "code",
   "execution_count": null,
   "id": "23a56567",
   "metadata": {},
   "outputs": [],
   "source": [
    "pd.Series([x.get('issues').get('id') for x in err]).drop_duplicates().tolist() "
   ]
  },
  {
   "cell_type": "markdown",
   "id": "ff7e90ab",
   "metadata": {},
   "source": [
    "pour mettre à jour"
   ]
  },
  {
   "cell_type": "code",
   "execution_count": 46,
   "id": "51462f6b",
   "metadata": {},
   "outputs": [
    {
     "name": "stdout",
     "output_type": "stream",
     "text": [
      "page 1\n",
      "k 0\n",
      "k 1\n",
      "k 2\n",
      "k 3\n",
      "k 4\n",
      "k 5\n",
      "k 6\n",
      "k 7\n",
      "k 8\n",
      "k 9\n",
      "k 10\n",
      "k 11\n",
      "k 12\n",
      "k 13\n",
      "k 14\n",
      "k 15\n",
      "k 16\n",
      "k 17\n",
      "k 18\n",
      "k 19\n",
      "k 20\n",
      "k 21\n",
      "k 22\n",
      "k 23\n",
      "k 24\n",
      "k 25\n",
      "k 26\n",
      "k 27\n",
      "k 28\n",
      "k 29\n",
      "k 30\n",
      "k 31\n",
      "k 32\n",
      "k 33\n",
      "k 34\n",
      "k 35\n",
      "k 36\n",
      "k 37\n",
      "k 38\n",
      "k 39\n",
      "k 40\n",
      "k 41\n",
      "k 42\n",
      "k 43\n",
      "k 44\n",
      "k 45\n",
      "k 46\n",
      "k 47\n",
      "k 48\n",
      "k 49\n",
      "k 50\n",
      "k 51\n",
      "k 52\n",
      "k 53\n",
      "k 54\n",
      "k 55\n",
      "k 56\n",
      "k 57\n",
      "k 58\n",
      "k 59\n",
      "k 60\n",
      "k 61\n",
      "k 62\n",
      "k 63\n",
      "k 64\n",
      "k 65\n",
      "k 66\n",
      "k 67\n",
      "k 68\n",
      "k 69\n",
      "k 70\n",
      "k 71\n",
      "k 72\n",
      "k 73\n",
      "k 74\n",
      "k 75\n",
      "k 76\n",
      "k 77\n",
      "k 78\n",
      "k 79\n",
      "k 80\n",
      "k 81\n",
      "k 82\n",
      "k 83\n",
      "k 84\n",
      "k 85\n",
      "k 86\n",
      "k 87\n",
      "k 88\n",
      "k 89\n",
      "k 90\n",
      "k 91\n",
      "k 92\n",
      "k 93\n",
      "k 94\n",
      "k 95\n",
      "k 96\n",
      "k 97\n",
      "k 98\n",
      "k 99\n",
      "k 100\n",
      "k 101\n",
      "k 102\n",
      "k 103\n",
      "k 104\n",
      "k 105\n",
      "k 106\n",
      "k 107\n",
      "k 108\n",
      "k 109\n",
      "k 110\n",
      "k 111\n",
      "k 112\n",
      "k 113\n",
      "k 114\n",
      "k 115\n",
      "k 116\n",
      "k 117\n",
      "k 118\n",
      "k 119\n",
      "k 120\n",
      "k 121\n",
      "k 122\n",
      "k 123\n",
      "k 124\n",
      "k 125\n",
      "k 126\n",
      "k 127\n",
      "k 128\n",
      "k 129\n",
      "k 130\n",
      "k 131\n",
      "k 132\n",
      "k 133\n",
      "k 134\n",
      "k 135\n",
      "k 136\n",
      "k 137\n",
      "k 138\n",
      "k 139\n",
      "k 140\n",
      "k 141\n",
      "k 142\n",
      "k 143\n",
      "k 144\n",
      "k 145\n",
      "k 146\n",
      "k 147\n",
      "k 148\n",
      "k 149\n",
      "k 150\n",
      "k 151\n",
      "k 152\n",
      "k 153\n",
      "k 154\n",
      "k 155\n",
      "k 156\n",
      "k 157\n",
      "k 158\n",
      "k 159\n",
      "k 160\n",
      "k 161\n",
      "k 162\n",
      "k 163\n",
      "k 164\n",
      "k 165\n",
      "k 166\n",
      "k 167\n",
      "k 168\n",
      "k 169\n",
      "k 170\n",
      "k 171\n",
      "k 172\n",
      "k 173\n",
      "k 174\n",
      "k 175\n",
      "k 176\n",
      "k 177\n",
      "k 178\n",
      "k 179\n",
      "k 180\n",
      "k 181\n",
      "k 182\n",
      "k 183\n",
      "k 184\n",
      "k 185\n",
      "k 186\n",
      "k 187\n",
      "k 188\n",
      "k 189\n",
      "k 190\n",
      "k 191\n",
      "k 192\n",
      "k 193\n",
      "k 194\n",
      "k 195\n",
      "k 196\n",
      "k 197\n",
      "k 198\n",
      "k 199\n",
      "k 200\n",
      "k 201\n",
      "k 202\n",
      "k 203\n",
      "k 204\n",
      "k 205\n",
      "k 206\n",
      "k 207\n",
      "k 208\n",
      "k 209\n",
      "k 210\n",
      "k 211\n",
      "k 212\n",
      "k 213\n",
      "k 214\n",
      "k 215\n",
      "k 216\n",
      "k 217\n",
      "k 218\n",
      "k 219\n",
      "k 220\n",
      "k 221\n",
      "k 222\n",
      "k 223\n",
      "k 224\n",
      "k 225\n",
      "k 226\n",
      "k 227\n",
      "k 228\n",
      "k 229\n",
      "k 230\n",
      "k 231\n",
      "k 232\n",
      "k 233\n",
      "k 234\n",
      "k 235\n",
      "k 236\n",
      "k 237\n",
      "k 238\n",
      "k 239\n",
      "k 240\n",
      "k 241\n",
      "k 242\n",
      "k 243\n",
      "k 244\n",
      "k 245\n",
      "k 246\n",
      "k 247\n",
      "k 248\n",
      "k 249\n",
      "k 250\n",
      "k 251\n",
      "k 252\n",
      "k 253\n",
      "k 254\n",
      "k 255\n",
      "k 256\n",
      "k 257\n",
      "k 258\n",
      "k 259\n",
      "k 260\n",
      "k 261\n",
      "k 262\n",
      "k 263\n",
      "k 264\n",
      "k 265\n",
      "k 266\n",
      "k 267\n",
      "k 268\n",
      "k 269\n",
      "k 270\n",
      "k 271\n",
      "k 272\n",
      "k 273\n",
      "k 274\n",
      "k 275\n",
      "k 276\n",
      "k 277\n",
      "k 278\n",
      "k 279\n",
      "k 280\n",
      "k 281\n",
      "k 282\n",
      "k 283\n",
      "k 284\n",
      "k 285\n",
      "k 286\n",
      "k 287\n",
      "k 288\n",
      "k 289\n",
      "k 290\n",
      "k 291\n",
      "k 292\n",
      "k 293\n",
      "k 294\n",
      "k 295\n",
      "k 296\n",
      "k 297\n",
      "k 298\n",
      "k 299\n",
      "k 300\n",
      "k 301\n",
      "k 302\n",
      "k 303\n",
      "k 304\n",
      "k 305\n",
      "k 306\n",
      "k 307\n",
      "k 308\n",
      "k 309\n",
      "k 310\n",
      "k 311\n",
      "k 312\n",
      "k 313\n",
      "k 314\n",
      "k 315\n",
      "k 316\n",
      "k 317\n",
      "k 318\n",
      "k 319\n",
      "k 320\n",
      "k 321\n",
      "k 322\n",
      "k 323\n",
      "k 324\n",
      "k 325\n",
      "k 326\n",
      "k 327\n",
      "k 328\n",
      "k 329\n",
      "k 330\n",
      "k 331\n",
      "k 332\n",
      "k 333\n",
      "k 334\n",
      "k 335\n",
      "k 336\n",
      "k 337\n",
      "k 338\n",
      "k 339\n",
      "k 340\n",
      "k 341\n",
      "k 342\n",
      "k 343\n",
      "k 344\n",
      "k 345\n",
      "k 346\n",
      "k 347\n",
      "k 348\n",
      "k 349\n",
      "k 350\n",
      "k 351\n",
      "k 352\n",
      "k 353\n",
      "k 354\n",
      "k 355\n",
      "k 356\n",
      "k 357\n",
      "k 358\n",
      "k 359\n",
      "k 360\n",
      "k 361\n",
      "k 362\n",
      "k 363\n",
      "k 364\n",
      "k 365\n",
      "k 366\n",
      "k 367\n",
      "k 368\n",
      "k 369\n",
      "k 370\n",
      "k 371\n",
      "k 372\n",
      "k 373\n",
      "k 374\n",
      "k 375\n",
      "k 376\n",
      "k 377\n",
      "k 378\n",
      "k 379\n",
      "k 380\n",
      "k 381\n",
      "k 382\n",
      "k 383\n",
      "k 384\n",
      "k 385\n",
      "k 386\n",
      "k 387\n",
      "k 388\n",
      "k 389\n",
      "k 390\n",
      "k 391\n",
      "k 392\n",
      "k 393\n",
      "k 394\n",
      "k 395\n",
      "k 396\n",
      "k 397\n",
      "k 398\n",
      "k 399\n",
      "k 400\n",
      "k 401\n",
      "k 402\n",
      "k 403\n",
      "k 404\n",
      "k 405\n",
      "k 406\n",
      "k 407\n",
      "k 408\n",
      "k 409\n",
      "k 410\n",
      "k 411\n",
      "k 412\n",
      "k 413\n",
      "k 414\n",
      "k 415\n",
      "k 416\n",
      "k 417\n",
      "k 418\n",
      "k 419\n",
      "k 420\n",
      "k 421\n",
      "k 422\n",
      "k 423\n",
      "k 424\n",
      "k 425\n",
      "k 426\n",
      "k 427\n",
      "k 428\n",
      "k 429\n",
      "k 430\n",
      "k 431\n",
      "k 432\n",
      "k 433\n",
      "k 434\n",
      "k 435\n",
      "k 436\n",
      "k 437\n",
      "k 438\n",
      "k 439\n",
      "k 440\n",
      "k 441\n",
      "k 442\n",
      "k 443\n",
      "k 444\n",
      "k 445\n",
      "k 446\n",
      "k 447\n",
      "k 448\n",
      "k 449\n",
      "k 450\n",
      "k 451\n",
      "k 452\n",
      "k 453\n",
      "k 454\n",
      "k 455\n",
      "k 456\n",
      "k 457\n",
      "k 458\n",
      "k 459\n",
      "k 460\n",
      "k 461\n",
      "k 462\n",
      "k 463\n",
      "k 464\n",
      "k 465\n",
      "k 466\n",
      "k 467\n",
      "k 468\n",
      "k 469\n",
      "k 470\n",
      "k 471\n",
      "k 472\n",
      "k 473\n",
      "k 474\n",
      "k 475\n",
      "k 476\n",
      "k 477\n",
      "k 478\n",
      "k 479\n",
      "k 480\n",
      "k 481\n",
      "k 482\n",
      "k 483\n",
      "k 484\n",
      "k 485\n",
      "k 486\n",
      "k 487\n",
      "k 488\n",
      "k 489\n",
      "k 490\n",
      "k 491\n",
      "k 492\n",
      "k 493\n",
      "k 494\n",
      "k 495\n",
      "k 496\n",
      "k 497\n",
      "k 498\n",
      "k 499\n",
      "page 2\n",
      "k 0\n",
      "k 1\n",
      "k 2\n",
      "k 3\n",
      "k 4\n",
      "k 5\n",
      "k 6\n",
      "k 7\n",
      "k 8\n",
      "k 9\n",
      "k 10\n",
      "k 11\n",
      "k 12\n",
      "k 13\n",
      "k 14\n",
      "k 15\n",
      "k 16\n",
      "k 17\n",
      "k 18\n",
      "k 19\n",
      "k 20\n",
      "k 21\n",
      "k 22\n",
      "k 23\n",
      "k 24\n",
      "k 25\n",
      "k 26\n",
      "k 27\n",
      "k 28\n",
      "k 29\n",
      "k 30\n",
      "k 31\n",
      "k 32\n",
      "k 33\n",
      "k 34\n",
      "k 35\n",
      "k 36\n",
      "k 37\n",
      "k 38\n",
      "k 39\n",
      "k 40\n",
      "k 41\n",
      "k 42\n",
      "k 43\n",
      "k 44\n",
      "k 45\n",
      "k 46\n",
      "k 47\n",
      "k 48\n",
      "k 49\n",
      "k 50\n",
      "k 51\n",
      "k 52\n",
      "k 53\n",
      "k 54\n",
      "k 55\n",
      "k 56\n",
      "k 57\n",
      "k 58\n",
      "k 59\n",
      "k 60\n",
      "k 61\n",
      "k 62\n",
      "k 63\n",
      "k 64\n",
      "k 65\n",
      "k 66\n",
      "k 67\n",
      "k 68\n",
      "k 69\n",
      "k 70\n",
      "k 71\n",
      "k 72\n",
      "k 73\n",
      "k 74\n",
      "k 75\n",
      "k 76\n",
      "k 77\n",
      "k 78\n",
      "k 79\n",
      "k 80\n",
      "k 81\n",
      "k 82\n",
      "k 83\n",
      "k 84\n",
      "k 85\n",
      "k 86\n",
      "k 87\n",
      "k 88\n",
      "k 89\n",
      "k 90\n",
      "k 91\n"
     ]
    }
   ],
   "source": [
    "###AAATTTENTION CHANGER A CHAQUE FOIS LE TYPE\n",
    "nbr_page=int(requests.get('http://185.161.45.213/projects/projects?where={\"type\":\"ANSES\"}&projection={\"id\":1}&max_results=500&page=1', headers={\"Authorization\":Authorization}).json()['hrefs']['last']['href'].split('page=')[1])\n",
    "\n",
    "list_ids=[]\n",
    "for i in range(1,nbr_page+1):\n",
    "    print(\"page\",i)\n",
    "    page=requests.get('http://185.161.45.213/projects/projects?where={\"type\":\"ANSES\"}&projection={\"id\":1}&max_results=500'+f\"&page={i}\", headers={\"Authorization\":Authorization}).json()\n",
    "    for k in range(len(page['data'])):\n",
    "        print(\"k\",k)\n",
    "        list_ids.append(page['data'][k]['id'])\n",
    "    \n",
    "projets_a_ajouter=[x for x in list(df_projets['id']) if x not in list_ids]\n",
    "\n",
    "projets_a_retirer=[x for x in list_ids if x not in list(df_projets['id'])]\n",
    "\n",
    "df_projets = df_projets[df_projets['id'].apply(lambda x: x in projets_a_ajouter)]"
   ]
  },
  {
   "cell_type": "code",
   "execution_count": 47,
   "id": "da0c308a",
   "metadata": {},
   "outputs": [
    {
     "data": {
      "text/plain": [
       "0"
      ]
     },
     "execution_count": 47,
     "metadata": {},
     "output_type": "execute_result"
    }
   ],
   "source": [
    "len(projets_a_ajouter)"
   ]
  },
  {
   "cell_type": "code",
   "execution_count": null,
   "id": "d4747378",
   "metadata": {},
   "outputs": [],
   "source": [
    "len(df_projets[df_projets['id'].apply(lambda x: x in projets_a_ajouter)])"
   ]
  },
  {
   "cell_type": "code",
   "execution_count": null,
   "id": "c88b3589",
   "metadata": {},
   "outputs": [],
   "source": [
    "len(df_projets[df_projets['id'].apply(lambda x: x in projets_a_retirer)])"
   ]
  },
  {
   "cell_type": "code",
   "execution_count": null,
   "id": "8cac5958",
   "metadata": {},
   "outputs": [],
   "source": [
    "dict_row=df_projets.iloc[0,:].to_dict()\n",
    "dict_row2={k:v for k,v in list(dict_row.items()) if ((str(v)!='nan')&(str(v)!='NaN')&(str(v)!='None')&(str(v)!='x')&(str(v)!='[]'))}\n",
    "dict_row2"
   ]
  },
  {
   "cell_type": "code",
   "execution_count": null,
   "id": "611054ce",
   "metadata": {},
   "outputs": [],
   "source": [
    "err=[]\n",
    "for i,row in df_projets.iterrows():\n",
    "    dict_row=row.to_dict()\n",
    "    dict_row2={k:v for k,v in list(dict_row.items()) if ((str(v)!='nan')&(str(v)!='NaN')&(str(v)!='None')&(str(v)!='x')&(str(v)!='[]'))}\n",
    "    try:\n",
    "       r=requests.post('http://185.161.45.213/projects/projects', json = dict_row2, headers={\"Authorization\":Authorization})\n",
    "       res= r.json()\n",
    "       if res.get('status')=='ERR':\n",
    "           err.append(res)\n",
    "           if res.get('error').get('code')!=422:\n",
    "               print(err)\n",
    "               pp.pprint(err)\n",
    "    except Exception as e:\n",
    "        pp.pprint(e)"
   ]
  },
  {
   "cell_type": "code",
   "execution_count": null,
   "id": "d86e1a09",
   "metadata": {},
   "outputs": [],
   "source": [
    "len(projets_a_ajouter)"
   ]
  },
  {
   "cell_type": "markdown",
   "id": "28038ffa",
   "metadata": {},
   "source": [
    "Modifications"
   ]
  },
  {
   "cell_type": "code",
   "execution_count": null,
   "id": "4858669e",
   "metadata": {},
   "outputs": [],
   "source": [
    "nbr_page=int(requests.get('http://185.161.45.213/projects/projects?where={\"type\":\"ANR\"}&projection={\"id\":1,\"year\":1}&max_results=500'+f\"&page={1}\", headers={\"Authorization\":Authorization}).json()['hrefs']['last']['href'].split('page=')[1])\n",
    "nbr_page"
   ]
  },
  {
   "cell_type": "code",
   "execution_count": null,
   "id": "73786090",
   "metadata": {},
   "outputs": [],
   "source": [
    "list_ids=[]\n",
    "for i in range(1,nbr_page+1):\n",
    "    print(\"page\",i)\n",
    "    page=requests.get('http://185.161.45.213/projects/projects?where={%22type%22:%22ANR%22}&projection={%22id%22:1,%22year%22:1}&max_results=500'+f\"&page={i}\", headers={\"Authorization\":Authorization}).json()\n",
    "    for k in range(len(page['data'])):\n",
    "        list_ids.append(page['data'][k]['year'])"
   ]
  },
  {
   "cell_type": "code",
   "execution_count": null,
   "id": "aacd7b75",
   "metadata": {},
   "outputs": [],
   "source": [
    "max(list_ids)"
   ]
  },
  {
   "cell_type": "code",
   "execution_count": null,
   "id": "227532a8",
   "metadata": {},
   "outputs": [],
   "source": [
    "df_projets = df_projets[df_projets['id'].apply(lambda x: x in list_ids)]"
   ]
  },
  {
   "cell_type": "code",
   "execution_count": null,
   "id": "5a0578c8",
   "metadata": {},
   "outputs": [],
   "source": [
    "\"\"\"\n",
    "en principe, il faut que je mette à jour tous les projets \n",
    "qui ne sont pas clos avec les titres résumés et persons, mais \n",
    "peut etre qu'on peut mettre à jour automatiquement les projets\n",
    "des 3 dernières années ? \n",
    "\n",
    "\"\"\"\n",
    "\n",
    "err=[]\n",
    "for id in df_projets.iterrows() :\n",
    "    url = f\"http://185.161.45.213/projects/projects/{id}\"\n",
    "    project=requests.get(url, headers={'Authorization': Authorization}).json()\n",
    "    head = {\"Authorization\": Authorization, \"If-Match\": project['etag'], \"Content-Type\": \"application/json\"}\n",
    "\n",
    "    r = requests.patch(url, json = {\"year\": 2023}, headers=head)\n",
    "    res= r.json()\n",
    "    if res.get('status')=='ERR':\n",
    "        err.append(res)\n",
    "        if res.get('error').get('code')!=422:\n",
    "            print(err)\n",
    "            pp.pprint(err)\n"
   ]
  },
  {
   "cell_type": "markdown",
   "id": "a41e50a5",
   "metadata": {},
   "source": [
    "# ENVOI DES PARTENAIRES SUR SCANR"
   ]
  },
  {
   "cell_type": "code",
   "execution_count": 48,
   "id": "11136681",
   "metadata": {},
   "outputs": [],
   "source": [
    "df_partenaires=pd.read_json(f\"./DATA/{source}/df_partners_id_structures.json\")"
   ]
  },
  {
   "cell_type": "code",
   "execution_count": 49,
   "id": "a42766a2",
   "metadata": {},
   "outputs": [
    {
     "data": {
      "text/plain": [
       "Index(['Code convention', 'code convention homogénéisé', 'Acronyme',\n",
       "       'Nom Responsable Scientifique', 'Prénom Responsable Scientifique',\n",
       "       'Organisme', 'CP ', 'Ville', 'Pays', 'Organisme2',\n",
       "       'id_structure_matcher', 'id_structure_scanr', 'code', 'id_structure'],\n",
       "      dtype='object')"
      ]
     },
     "execution_count": 49,
     "metadata": {},
     "output_type": "execute_result"
    }
   ],
   "source": [
    "df_partenaires.columns"
   ]
  },
  {
   "cell_type": "code",
   "execution_count": 50,
   "id": "c68b4f62",
   "metadata": {},
   "outputs": [],
   "source": [
    "### ATTENTION, vérifier que les projets sirano sont dans des structures françaises\n",
    "if source=='IRESP':\n",
    "    df_partenaires[sources[source]['pays']]=df_partenaires.loc[:,sources[source]['ville']].apply(lambda x: x.split('(')[1].replace(')','') if x.find('(')>=0 else 'France')\n",
    "    df_partenaires.loc[:,sources[source]['ville']]=df_partenaires.loc[:,sources[source]['ville']].apply(lambda x: x.split('(')[0] if x.find('(')>=0 else x)\n",
    "  \n",
    "df_partenaires['address']=df_partenaires.apply(lambda row: address(row,sources[source]['pays'],sources[source]['ville'],source), axis=1)\n",
    "df_partenaires.loc[:,'id_structure']=df_partenaires.loc[:,'id_structure'].apply(lambda x: x[0] if isinstance(x,list) else x )"
   ]
  },
  {
   "cell_type": "code",
   "execution_count": 51,
   "id": "f66425af",
   "metadata": {},
   "outputs": [
    {
     "data": {
      "text/html": [
       "<div>\n",
       "<style scoped>\n",
       "    .dataframe tbody tr th:only-of-type {\n",
       "        vertical-align: middle;\n",
       "    }\n",
       "\n",
       "    .dataframe tbody tr th {\n",
       "        vertical-align: top;\n",
       "    }\n",
       "\n",
       "    .dataframe thead th {\n",
       "        text-align: right;\n",
       "    }\n",
       "</style>\n",
       "<table border=\"1\" class=\"dataframe\">\n",
       "  <thead>\n",
       "    <tr style=\"text-align: right;\">\n",
       "      <th></th>\n",
       "      <th>Code convention</th>\n",
       "      <th>code convention homogénéisé</th>\n",
       "      <th>Acronyme</th>\n",
       "      <th>Nom Responsable Scientifique</th>\n",
       "      <th>Prénom Responsable Scientifique</th>\n",
       "      <th>Organisme</th>\n",
       "      <th>CP</th>\n",
       "      <th>Ville</th>\n",
       "      <th>Pays</th>\n",
       "      <th>Organisme2</th>\n",
       "      <th>id_structure_matcher</th>\n",
       "      <th>id_structure_scanr</th>\n",
       "      <th>code</th>\n",
       "      <th>id_structure</th>\n",
       "      <th>address</th>\n",
       "    </tr>\n",
       "  </thead>\n",
       "  <tbody>\n",
       "    <tr>\n",
       "      <th>0</th>\n",
       "      <td>2006/1/2</td>\n",
       "      <td>ANSES-06-EST-002</td>\n",
       "      <td>PAISIM</td>\n",
       "      <td>Bard</td>\n",
       "      <td>Denis</td>\n",
       "      <td>LERES (Laboratoire d’Étude et de Recherche en ...</td>\n",
       "      <td>35403</td>\n",
       "      <td>Rennes</td>\n",
       "      <td>France</td>\n",
       "      <td>lereboratoireurechercheenvironnementante</td>\n",
       "      <td>None</td>\n",
       "      <td>None</td>\n",
       "      <td>201222588E</td>\n",
       "      <td>201222588E</td>\n",
       "      <td>{'city': 'Rennes', 'country': 'France'}</td>\n",
       "    </tr>\n",
       "    <tr>\n",
       "      <th>1</th>\n",
       "      <td>2006/1/3</td>\n",
       "      <td>ANSES-06-EST-003</td>\n",
       "      <td>None</td>\n",
       "      <td>Droz</td>\n",
       "      <td>Olivier</td>\n",
       "      <td>IST Institut universitaire romand de Santé au ...</td>\n",
       "      <td>None</td>\n",
       "      <td>Lausanne</td>\n",
       "      <td>Suisse</td>\n",
       "      <td>itintitutuniveritaireromandanteautravail</td>\n",
       "      <td>None</td>\n",
       "      <td>None</td>\n",
       "      <td>04mcdza51</td>\n",
       "      <td>04mcdza51</td>\n",
       "      <td>{'city': 'Lausanne', 'country': 'Suisse'}</td>\n",
       "    </tr>\n",
       "    <tr>\n",
       "      <th>2</th>\n",
       "      <td>2006/1/6</td>\n",
       "      <td>ANSES-06-EST-006</td>\n",
       "      <td>None</td>\n",
       "      <td>Frimat</td>\n",
       "      <td>Paul</td>\n",
       "      <td>Faculté de Médecine - Université Lille 2 - Lab...</td>\n",
       "      <td>59037</td>\n",
       "      <td>Lille</td>\n",
       "      <td>France</td>\n",
       "      <td>facultemecineuniveritelle2boratoiremecineantea...</td>\n",
       "      <td>[199814194S]</td>\n",
       "      <td>None</td>\n",
       "      <td>None</td>\n",
       "      <td>199814194S</td>\n",
       "      <td>{'city': 'Lille', 'country': 'France'}</td>\n",
       "    </tr>\n",
       "    <tr>\n",
       "      <th>3</th>\n",
       "      <td>2006/1/7</td>\n",
       "      <td>ANSES-06-EST-007</td>\n",
       "      <td>None</td>\n",
       "      <td>Sauvain</td>\n",
       "      <td>Jean-Jacques</td>\n",
       "      <td>Groupe Particule et santé - Pôle Santé des Tra...</td>\n",
       "      <td>None</td>\n",
       "      <td>Lausanne</td>\n",
       "      <td>Suisse</td>\n",
       "      <td>groupeiculeantepoleantravailleur</td>\n",
       "      <td>None</td>\n",
       "      <td>None</td>\n",
       "      <td>04mcdza51</td>\n",
       "      <td>04mcdza51</td>\n",
       "      <td>{'city': 'Lausanne', 'country': 'Suisse'}</td>\n",
       "    </tr>\n",
       "    <tr>\n",
       "      <th>4</th>\n",
       "      <td>2006/1/8</td>\n",
       "      <td>ANSES-06-EST-008</td>\n",
       "      <td>CATHY</td>\n",
       "      <td>Guénel</td>\n",
       "      <td>Pascal</td>\n",
       "      <td>U754 - Epidémiologie environnementale des cancers</td>\n",
       "      <td>94807</td>\n",
       "      <td>Villejuif</td>\n",
       "      <td>France</td>\n",
       "      <td>u754epimiologieenvironnementalecancer</td>\n",
       "      <td>[200616425G]</td>\n",
       "      <td>None</td>\n",
       "      <td>None</td>\n",
       "      <td>200616425G</td>\n",
       "      <td>{'city': 'Villejuif', 'country': 'France'}</td>\n",
       "    </tr>\n",
       "    <tr>\n",
       "      <th>...</th>\n",
       "      <td>...</td>\n",
       "      <td>...</td>\n",
       "      <td>...</td>\n",
       "      <td>...</td>\n",
       "      <td>...</td>\n",
       "      <td>...</td>\n",
       "      <td>...</td>\n",
       "      <td>...</td>\n",
       "      <td>...</td>\n",
       "      <td>...</td>\n",
       "      <td>...</td>\n",
       "      <td>...</td>\n",
       "      <td>...</td>\n",
       "      <td>...</td>\n",
       "      <td>...</td>\n",
       "    </tr>\n",
       "    <tr>\n",
       "      <th>1732</th>\n",
       "      <td>EST-2009/1/101</td>\n",
       "      <td>ANSES-09-EST-101</td>\n",
       "      <td>MB2PROF</td>\n",
       "      <td>Montagne</td>\n",
       "      <td>Olivier</td>\n",
       "      <td>Centre d'investigation Clinique 006 Créteil</td>\n",
       "      <td>94000</td>\n",
       "      <td>Créteil</td>\n",
       "      <td>France</td>\n",
       "      <td>centrenvigationclinique006creil</td>\n",
       "      <td>None</td>\n",
       "      <td>None</td>\n",
       "      <td>200120111K</td>\n",
       "      <td>200120111K</td>\n",
       "      <td>{'city': 'Créteil', 'country': 'France'}</td>\n",
       "    </tr>\n",
       "    <tr>\n",
       "      <th>1733</th>\n",
       "      <td>2013/01/216</td>\n",
       "      <td>ANSES-13-EST-216</td>\n",
       "      <td>PATER</td>\n",
       "      <td>Malherbe</td>\n",
       "      <td>Laure</td>\n",
       "      <td>Ineris</td>\n",
       "      <td>60550</td>\n",
       "      <td>Verneuil-en-Halatte</td>\n",
       "      <td>France</td>\n",
       "      <td>ineri</td>\n",
       "      <td>None</td>\n",
       "      <td>None</td>\n",
       "      <td>0602098E</td>\n",
       "      <td>0602098E</td>\n",
       "      <td>{'city': 'Verneuil-en-Halatte', 'country': 'Fr...</td>\n",
       "    </tr>\n",
       "    <tr>\n",
       "      <th>1734</th>\n",
       "      <td>EST-2009/1/101</td>\n",
       "      <td>ANSES-09-EST-101</td>\n",
       "      <td>MB2PROF</td>\n",
       "      <td>Paradis</td>\n",
       "      <td>Valérie</td>\n",
       "      <td>None</td>\n",
       "      <td>92110</td>\n",
       "      <td>Clichy</td>\n",
       "      <td>France</td>\n",
       "      <td>nan</td>\n",
       "      <td>None</td>\n",
       "      <td>None</td>\n",
       "      <td>x</td>\n",
       "      <td>x</td>\n",
       "      <td>{'city': 'Clichy', 'country': 'France'}</td>\n",
       "    </tr>\n",
       "    <tr>\n",
       "      <th>1735</th>\n",
       "      <td>EST-2009/1/101</td>\n",
       "      <td>ANSES-09-EST-101</td>\n",
       "      <td>MB2PROF</td>\n",
       "      <td>Boczkowski</td>\n",
       "      <td>Jorge</td>\n",
       "      <td>Université Paris 12 - Faculté de Médecine</td>\n",
       "      <td>94000</td>\n",
       "      <td>Créteil</td>\n",
       "      <td>France</td>\n",
       "      <td>univeritepari12facultemecine</td>\n",
       "      <td>None</td>\n",
       "      <td>None</td>\n",
       "      <td>vb71K</td>\n",
       "      <td>vb71K</td>\n",
       "      <td>{'city': 'Créteil', 'country': 'France'}</td>\n",
       "    </tr>\n",
       "    <tr>\n",
       "      <th>1736</th>\n",
       "      <td>EST-2009/1/101</td>\n",
       "      <td>ANSES-09-EST-101</td>\n",
       "      <td>MB2PROF</td>\n",
       "      <td>Gueant</td>\n",
       "      <td>Jean-Louis</td>\n",
       "      <td>Faculté de Médecine</td>\n",
       "      <td>54505</td>\n",
       "      <td>Vandoeuvre-lès-Nancy</td>\n",
       "      <td>France</td>\n",
       "      <td>facultemecine</td>\n",
       "      <td>None</td>\n",
       "      <td>None</td>\n",
       "      <td>vb71K</td>\n",
       "      <td>vb71K</td>\n",
       "      <td>{'city': 'Vandoeuvre-lès-Nancy', 'country': 'F...</td>\n",
       "    </tr>\n",
       "  </tbody>\n",
       "</table>\n",
       "<p>1737 rows × 15 columns</p>\n",
       "</div>"
      ],
      "text/plain": [
       "     Code convention code convention homogénéisé Acronyme  \\\n",
       "0           2006/1/2            ANSES-06-EST-002   PAISIM   \n",
       "1           2006/1/3            ANSES-06-EST-003     None   \n",
       "2           2006/1/6            ANSES-06-EST-006     None   \n",
       "3           2006/1/7            ANSES-06-EST-007     None   \n",
       "4           2006/1/8            ANSES-06-EST-008    CATHY   \n",
       "...              ...                         ...      ...   \n",
       "1732  EST-2009/1/101            ANSES-09-EST-101  MB2PROF   \n",
       "1733     2013/01/216            ANSES-13-EST-216    PATER   \n",
       "1734  EST-2009/1/101            ANSES-09-EST-101  MB2PROF   \n",
       "1735  EST-2009/1/101            ANSES-09-EST-101  MB2PROF   \n",
       "1736  EST-2009/1/101            ANSES-09-EST-101  MB2PROF   \n",
       "\n",
       "     Nom Responsable Scientifique Prénom Responsable Scientifique  \\\n",
       "0                            Bard                          Denis    \n",
       "1                            Droz                        Olivier    \n",
       "2                          Frimat                           Paul    \n",
       "3                         Sauvain                    Jean-Jacques   \n",
       "4                          Guénel                         Pascal    \n",
       "...                           ...                             ...   \n",
       "1732                     Montagne                         Olivier   \n",
       "1733                     Malherbe                           Laure   \n",
       "1734                      Paradis                         Valérie   \n",
       "1735                   Boczkowski                           Jorge   \n",
       "1736                       Gueant                      Jean-Louis   \n",
       "\n",
       "                                              Organisme    CP   \\\n",
       "0     LERES (Laboratoire d’Étude et de Recherche en ...  35403   \n",
       "1     IST Institut universitaire romand de Santé au ...   None   \n",
       "2     Faculté de Médecine - Université Lille 2 - Lab...  59037   \n",
       "3     Groupe Particule et santé - Pôle Santé des Tra...   None   \n",
       "4     U754 - Epidémiologie environnementale des cancers  94807   \n",
       "...                                                 ...    ...   \n",
       "1732        Centre d'investigation Clinique 006 Créteil  94000   \n",
       "1733                                             Ineris  60550   \n",
       "1734                                               None  92110   \n",
       "1735          Université Paris 12 - Faculté de Médecine  94000   \n",
       "1736                                Faculté de Médecine  54505   \n",
       "\n",
       "                     Ville    Pays  \\\n",
       "0                   Rennes  France   \n",
       "1                 Lausanne  Suisse   \n",
       "2                    Lille  France   \n",
       "3                 Lausanne  Suisse   \n",
       "4                Villejuif  France   \n",
       "...                    ...     ...   \n",
       "1732               Créteil  France   \n",
       "1733   Verneuil-en-Halatte  France   \n",
       "1734                Clichy  France   \n",
       "1735               Créteil  France   \n",
       "1736  Vandoeuvre-lès-Nancy  France   \n",
       "\n",
       "                                             Organisme2 id_structure_matcher  \\\n",
       "0              lereboratoireurechercheenvironnementante                 None   \n",
       "1              itintitutuniveritaireromandanteautravail                 None   \n",
       "2     facultemecineuniveritelle2boratoiremecineantea...         [199814194S]   \n",
       "3                      groupeiculeantepoleantravailleur                 None   \n",
       "4                 u754epimiologieenvironnementalecancer         [200616425G]   \n",
       "...                                                 ...                  ...   \n",
       "1732                    centrenvigationclinique006creil                 None   \n",
       "1733                                              ineri                 None   \n",
       "1734                                                nan                 None   \n",
       "1735                       univeritepari12facultemecine                 None   \n",
       "1736                                      facultemecine                 None   \n",
       "\n",
       "     id_structure_scanr        code id_structure  \\\n",
       "0                  None  201222588E   201222588E   \n",
       "1                  None   04mcdza51    04mcdza51   \n",
       "2                  None        None   199814194S   \n",
       "3                  None   04mcdza51    04mcdza51   \n",
       "4                  None        None   200616425G   \n",
       "...                 ...         ...          ...   \n",
       "1732               None  200120111K   200120111K   \n",
       "1733               None    0602098E     0602098E   \n",
       "1734               None           x            x   \n",
       "1735               None       vb71K        vb71K   \n",
       "1736               None       vb71K        vb71K   \n",
       "\n",
       "                                                address  \n",
       "0               {'city': 'Rennes', 'country': 'France'}  \n",
       "1             {'city': 'Lausanne', 'country': 'Suisse'}  \n",
       "2                {'city': 'Lille', 'country': 'France'}  \n",
       "3             {'city': 'Lausanne', 'country': 'Suisse'}  \n",
       "4            {'city': 'Villejuif', 'country': 'France'}  \n",
       "...                                                 ...  \n",
       "1732           {'city': 'Créteil', 'country': 'France'}  \n",
       "1733  {'city': 'Verneuil-en-Halatte', 'country': 'Fr...  \n",
       "1734            {'city': 'Clichy', 'country': 'France'}  \n",
       "1735           {'city': 'Créteil', 'country': 'France'}  \n",
       "1736  {'city': 'Vandoeuvre-lès-Nancy', 'country': 'F...  \n",
       "\n",
       "[1737 rows x 15 columns]"
      ]
     },
     "execution_count": 51,
     "metadata": {},
     "output_type": "execute_result"
    }
   ],
   "source": [
    "df_partenaires"
   ]
  },
  {
   "cell_type": "code",
   "execution_count": 52,
   "id": "cf09f899",
   "metadata": {},
   "outputs": [
    {
     "data": {
      "text/html": [
       "<div>\n",
       "<style scoped>\n",
       "    .dataframe tbody tr th:only-of-type {\n",
       "        vertical-align: middle;\n",
       "    }\n",
       "\n",
       "    .dataframe tbody tr th {\n",
       "        vertical-align: top;\n",
       "    }\n",
       "\n",
       "    .dataframe thead th {\n",
       "        text-align: right;\n",
       "    }\n",
       "</style>\n",
       "<table border=\"1\" class=\"dataframe\">\n",
       "  <thead>\n",
       "    <tr style=\"text-align: right;\">\n",
       "      <th></th>\n",
       "      <th>id</th>\n",
       "      <th>project_id</th>\n",
       "      <th>project_type</th>\n",
       "      <th>participant_id</th>\n",
       "      <th>name</th>\n",
       "      <th>address</th>\n",
       "    </tr>\n",
       "  </thead>\n",
       "  <tbody>\n",
       "    <tr>\n",
       "      <th>0</th>\n",
       "      <td>ANSES-06-EST-002-lereboratoireurechercheenviro...</td>\n",
       "      <td>ANSES-06-EST-002</td>\n",
       "      <td>ANSES</td>\n",
       "      <td>201222588E</td>\n",
       "      <td>LERES (Laboratoire d’Étude et de Recherche en ...</td>\n",
       "      <td>{'city': 'Rennes', 'country': 'France'}</td>\n",
       "    </tr>\n",
       "    <tr>\n",
       "      <th>1</th>\n",
       "      <td>ANSES-06-EST-003-itintitutuniveritaireromandan...</td>\n",
       "      <td>ANSES-06-EST-003</td>\n",
       "      <td>ANSES</td>\n",
       "      <td>04mcdza51</td>\n",
       "      <td>IST Institut universitaire romand de Santé au ...</td>\n",
       "      <td>{'city': 'Lausanne', 'country': 'Suisse'}</td>\n",
       "    </tr>\n",
       "    <tr>\n",
       "      <th>2</th>\n",
       "      <td>ANSES-06-EST-006-facultemecineuniveritelle2bor...</td>\n",
       "      <td>ANSES-06-EST-006</td>\n",
       "      <td>ANSES</td>\n",
       "      <td>199814194S</td>\n",
       "      <td>Faculté de Médecine - Université Lille 2 - Lab...</td>\n",
       "      <td>{'city': 'Lille', 'country': 'France'}</td>\n",
       "    </tr>\n",
       "    <tr>\n",
       "      <th>3</th>\n",
       "      <td>ANSES-06-EST-007-groupeiculeantepoleantravaill...</td>\n",
       "      <td>ANSES-06-EST-007</td>\n",
       "      <td>ANSES</td>\n",
       "      <td>04mcdza51</td>\n",
       "      <td>Groupe Particule et santé - Pôle Santé des Tra...</td>\n",
       "      <td>{'city': 'Lausanne', 'country': 'Suisse'}</td>\n",
       "    </tr>\n",
       "    <tr>\n",
       "      <th>4</th>\n",
       "      <td>ANSES-06-EST-008-u754epimiologieenvironnementa...</td>\n",
       "      <td>ANSES-06-EST-008</td>\n",
       "      <td>ANSES</td>\n",
       "      <td>200616425G</td>\n",
       "      <td>U754 - Epidémiologie environnementale des cancers</td>\n",
       "      <td>{'city': 'Villejuif', 'country': 'France'}</td>\n",
       "    </tr>\n",
       "    <tr>\n",
       "      <th>...</th>\n",
       "      <td>...</td>\n",
       "      <td>...</td>\n",
       "      <td>...</td>\n",
       "      <td>...</td>\n",
       "      <td>...</td>\n",
       "      <td>...</td>\n",
       "    </tr>\n",
       "    <tr>\n",
       "      <th>1732</th>\n",
       "      <td>ANSES-09-EST-101-centrenvigationclinique006cre...</td>\n",
       "      <td>ANSES-09-EST-101</td>\n",
       "      <td>ANSES</td>\n",
       "      <td>200120111K</td>\n",
       "      <td>Centre d'investigation Clinique 006 Créteil</td>\n",
       "      <td>{'city': 'Créteil', 'country': 'France'}</td>\n",
       "    </tr>\n",
       "    <tr>\n",
       "      <th>1733</th>\n",
       "      <td>ANSES-13-EST-216-ineri-Malherbe-Laure</td>\n",
       "      <td>ANSES-13-EST-216</td>\n",
       "      <td>ANSES</td>\n",
       "      <td>0602098E</td>\n",
       "      <td>Ineris</td>\n",
       "      <td>{'city': 'Verneuil-en-Halatte', 'country': 'Fr...</td>\n",
       "    </tr>\n",
       "    <tr>\n",
       "      <th>1734</th>\n",
       "      <td>ANSES-09-EST-101-nan-Paradis-Valérie</td>\n",
       "      <td>ANSES-09-EST-101</td>\n",
       "      <td>ANSES</td>\n",
       "      <td>x</td>\n",
       "      <td>None</td>\n",
       "      <td>{'city': 'Clichy', 'country': 'France'}</td>\n",
       "    </tr>\n",
       "    <tr>\n",
       "      <th>1735</th>\n",
       "      <td>ANSES-09-EST-101-univeritepari12facultemecine-...</td>\n",
       "      <td>ANSES-09-EST-101</td>\n",
       "      <td>ANSES</td>\n",
       "      <td>vb71K</td>\n",
       "      <td>Université Paris 12 - Faculté de Médecine</td>\n",
       "      <td>{'city': 'Créteil', 'country': 'France'}</td>\n",
       "    </tr>\n",
       "    <tr>\n",
       "      <th>1736</th>\n",
       "      <td>ANSES-09-EST-101-facultemecine-Gueant-Jean-Louis</td>\n",
       "      <td>ANSES-09-EST-101</td>\n",
       "      <td>ANSES</td>\n",
       "      <td>vb71K</td>\n",
       "      <td>Faculté de Médecine</td>\n",
       "      <td>{'city': 'Vandoeuvre-lès-Nancy', 'country': 'F...</td>\n",
       "    </tr>\n",
       "  </tbody>\n",
       "</table>\n",
       "<p>1737 rows × 6 columns</p>\n",
       "</div>"
      ],
      "text/plain": [
       "                                                     id        project_id  \\\n",
       "0     ANSES-06-EST-002-lereboratoireurechercheenviro...  ANSES-06-EST-002   \n",
       "1     ANSES-06-EST-003-itintitutuniveritaireromandan...  ANSES-06-EST-003   \n",
       "2     ANSES-06-EST-006-facultemecineuniveritelle2bor...  ANSES-06-EST-006   \n",
       "3     ANSES-06-EST-007-groupeiculeantepoleantravaill...  ANSES-06-EST-007   \n",
       "4     ANSES-06-EST-008-u754epimiologieenvironnementa...  ANSES-06-EST-008   \n",
       "...                                                 ...               ...   \n",
       "1732  ANSES-09-EST-101-centrenvigationclinique006cre...  ANSES-09-EST-101   \n",
       "1733              ANSES-13-EST-216-ineri-Malherbe-Laure  ANSES-13-EST-216   \n",
       "1734               ANSES-09-EST-101-nan-Paradis-Valérie  ANSES-09-EST-101   \n",
       "1735  ANSES-09-EST-101-univeritepari12facultemecine-...  ANSES-09-EST-101   \n",
       "1736   ANSES-09-EST-101-facultemecine-Gueant-Jean-Louis  ANSES-09-EST-101   \n",
       "\n",
       "     project_type participant_id  \\\n",
       "0           ANSES     201222588E   \n",
       "1           ANSES      04mcdza51   \n",
       "2           ANSES     199814194S   \n",
       "3           ANSES      04mcdza51   \n",
       "4           ANSES     200616425G   \n",
       "...           ...            ...   \n",
       "1732        ANSES     200120111K   \n",
       "1733        ANSES       0602098E   \n",
       "1734        ANSES              x   \n",
       "1735        ANSES          vb71K   \n",
       "1736        ANSES          vb71K   \n",
       "\n",
       "                                                   name  \\\n",
       "0     LERES (Laboratoire d’Étude et de Recherche en ...   \n",
       "1     IST Institut universitaire romand de Santé au ...   \n",
       "2     Faculté de Médecine - Université Lille 2 - Lab...   \n",
       "3     Groupe Particule et santé - Pôle Santé des Tra...   \n",
       "4     U754 - Epidémiologie environnementale des cancers   \n",
       "...                                                 ...   \n",
       "1732        Centre d'investigation Clinique 006 Créteil   \n",
       "1733                                             Ineris   \n",
       "1734                                               None   \n",
       "1735          Université Paris 12 - Faculté de Médecine   \n",
       "1736                                Faculté de Médecine   \n",
       "\n",
       "                                                address  \n",
       "0               {'city': 'Rennes', 'country': 'France'}  \n",
       "1             {'city': 'Lausanne', 'country': 'Suisse'}  \n",
       "2                {'city': 'Lille', 'country': 'France'}  \n",
       "3             {'city': 'Lausanne', 'country': 'Suisse'}  \n",
       "4            {'city': 'Villejuif', 'country': 'France'}  \n",
       "...                                                 ...  \n",
       "1732           {'city': 'Créteil', 'country': 'France'}  \n",
       "1733  {'city': 'Verneuil-en-Halatte', 'country': 'Fr...  \n",
       "1734            {'city': 'Clichy', 'country': 'France'}  \n",
       "1735           {'city': 'Créteil', 'country': 'France'}  \n",
       "1736  {'city': 'Vandoeuvre-lès-Nancy', 'country': 'F...  \n",
       "\n",
       "[1737 rows x 6 columns]"
      ]
     },
     "execution_count": 52,
     "metadata": {},
     "output_type": "execute_result"
    }
   ],
   "source": [
    "if source in ['ANSES','SIRANO']:\n",
    "    df_partenaires['id']=df_partenaires.apply(lambda row: f\"{row[sources[source]['code_projet']]}-{row[str(sources[source]['nom_structure'])+'2']}-{row[sources[source]['nom']]}-{row[sources[source]['prenom']]}\" , axis=1)\n",
    "if source =='REG_IDF':\n",
    "    df_partenaires['id']=df_partenaires.apply(lambda row: f\"{row[sources[source]['code_projet']]}-{row[str(sources[source]['nom_structure'])+'2']}-{row['entite_role']}\" , axis=1)\n",
    "df_partenaires['address']=df_partenaires.apply(lambda row: address(row,sources[source]['pays'],sources[source]['ville'],source), axis=1)\n",
    "df_partenaires=df_partenaires.rename(columns={sources[source]['nom_structure']: 'name', sources[source]['code_projet']: 'project_id', 'id_structure':'participant_id','Projet.Partenaire.Code_Decision_ANR':'id'})\n",
    "df_partenaires=df_partenaires[['name','id','project_id','participant_id','address']]\n",
    "df_partenaires['project_type']=source\n",
    "df_partenaires['participant_id']=df_partenaires.loc[:,'participant_id'].apply(lambda x: str(x[0]).replace('.0','') if isinstance(x,list) else str(x).split(';')[0].replace('.0',''))\n",
    "df_partenaires=df_partenaires[['id','project_id', 'project_type', 'participant_id', 'name','address']]\n",
    "df_partenaires['name'] = df_partenaires['name'].astype(str)\n",
    "df_partenaires"
   ]
  },
  {
   "cell_type": "code",
   "execution_count": 53,
   "id": "d3495663",
   "metadata": {},
   "outputs": [
    {
     "data": {
      "text/html": [
       "<div>\n",
       "<style scoped>\n",
       "    .dataframe tbody tr th:only-of-type {\n",
       "        vertical-align: middle;\n",
       "    }\n",
       "\n",
       "    .dataframe tbody tr th {\n",
       "        vertical-align: top;\n",
       "    }\n",
       "\n",
       "    .dataframe thead th {\n",
       "        text-align: right;\n",
       "    }\n",
       "</style>\n",
       "<table border=\"1\" class=\"dataframe\">\n",
       "  <thead>\n",
       "    <tr style=\"text-align: right;\">\n",
       "      <th></th>\n",
       "      <th>id</th>\n",
       "      <th>project_id</th>\n",
       "      <th>project_type</th>\n",
       "      <th>participant_id</th>\n",
       "      <th>name</th>\n",
       "      <th>address</th>\n",
       "    </tr>\n",
       "  </thead>\n",
       "  <tbody>\n",
       "  </tbody>\n",
       "</table>\n",
       "</div>"
      ],
      "text/plain": [
       "Empty DataFrame\n",
       "Columns: [id, project_id, project_type, participant_id, name, address]\n",
       "Index: []"
      ]
     },
     "execution_count": 53,
     "metadata": {},
     "output_type": "execute_result"
    }
   ],
   "source": [
    "df_partenaires[df_partenaires.duplicated(subset=['id'])]"
   ]
  },
  {
   "cell_type": "code",
   "execution_count": null,
   "id": "dae2cc5b",
   "metadata": {},
   "outputs": [],
   "source": [
    "dict_row=df_partenaires.iloc[1,:].to_dict()\n",
    "dict_row2={k:v for k,v in list(dict_row.items()) if ((str(v)!='nan')&(str(v)!='NaN')&(str(v)!='None')&(str(v)!='x'))}\n",
    "dict_row2"
   ]
  },
  {
   "cell_type": "code",
   "execution_count": null,
   "id": "e2f8d3b1",
   "metadata": {},
   "outputs": [],
   "source": [
    "len(df_partenaires)"
   ]
  },
  {
   "cell_type": "code",
   "execution_count": null,
   "id": "9b489768",
   "metadata": {},
   "outputs": [],
   "source": [
    "err=[]\n",
    "for i,row in df_partenaires.iterrows():\n",
    "    dict_row=row.to_dict()\n",
    "    dict_row2={k:v for k,v in list(dict_row.items()) if ((str(v)!='nan')&(str(v)!='NaN')&(str(v)!='None')&(str(v)!='x'))}\n",
    "    try:\n",
    "       r=requests.post('http://185.161.45.213/projects/participations', json = dict_row2, headers={\"Authorization\":Authorization})\n",
    "       res= r.json()\n",
    "       if res.get('status')=='ERR':\n",
    "           print(i)\n",
    "           err.append(res)\n",
    "           if res.get('error').get('code')!=422:\n",
    "               print(err)\n",
    "               pp.pprint(err)\n",
    "    except Exception as e:\n",
    "        pp.pprint(e)"
   ]
  },
  {
   "cell_type": "markdown",
   "id": "e2ea3fe3",
   "metadata": {},
   "source": [
    "Mise à jour"
   ]
  },
  {
   "cell_type": "code",
   "execution_count": 54,
   "id": "137c389e",
   "metadata": {},
   "outputs": [
    {
     "name": "stdout",
     "output_type": "stream",
     "text": [
      "page 1\n",
      "k 0\n",
      "k 1\n",
      "k 2\n",
      "k 3\n",
      "k 4\n",
      "k 5\n",
      "k 6\n",
      "k 7\n",
      "k 8\n",
      "k 9\n",
      "k 10\n",
      "k 11\n",
      "k 12\n",
      "k 13\n",
      "k 14\n",
      "k 15\n",
      "k 16\n",
      "k 17\n",
      "k 18\n",
      "k 19\n",
      "k 20\n",
      "k 21\n",
      "k 22\n",
      "k 23\n",
      "k 24\n",
      "k 25\n",
      "k 26\n",
      "k 27\n",
      "k 28\n",
      "k 29\n",
      "k 30\n",
      "k 31\n",
      "k 32\n",
      "k 33\n",
      "k 34\n",
      "k 35\n",
      "k 36\n",
      "k 37\n",
      "k 38\n",
      "k 39\n",
      "k 40\n",
      "k 41\n",
      "k 42\n",
      "k 43\n",
      "k 44\n",
      "k 45\n",
      "k 46\n",
      "k 47\n",
      "k 48\n",
      "k 49\n",
      "k 50\n",
      "k 51\n",
      "k 52\n",
      "k 53\n",
      "k 54\n",
      "k 55\n",
      "k 56\n",
      "k 57\n",
      "k 58\n",
      "k 59\n",
      "k 60\n",
      "k 61\n",
      "k 62\n",
      "k 63\n",
      "k 64\n",
      "k 65\n",
      "k 66\n",
      "k 67\n",
      "k 68\n",
      "k 69\n",
      "k 70\n",
      "k 71\n",
      "k 72\n",
      "k 73\n",
      "k 74\n",
      "k 75\n",
      "k 76\n",
      "k 77\n",
      "k 78\n",
      "k 79\n",
      "k 80\n",
      "k 81\n",
      "k 82\n",
      "k 83\n",
      "k 84\n",
      "k 85\n",
      "k 86\n",
      "k 87\n",
      "k 88\n",
      "k 89\n",
      "k 90\n",
      "k 91\n",
      "k 92\n",
      "k 93\n",
      "k 94\n",
      "k 95\n",
      "k 96\n",
      "k 97\n",
      "k 98\n",
      "k 99\n",
      "k 100\n",
      "k 101\n",
      "k 102\n",
      "k 103\n",
      "k 104\n",
      "k 105\n",
      "k 106\n",
      "k 107\n",
      "k 108\n",
      "k 109\n",
      "k 110\n",
      "k 111\n",
      "k 112\n",
      "k 113\n",
      "k 114\n",
      "k 115\n",
      "k 116\n",
      "k 117\n",
      "k 118\n",
      "k 119\n",
      "k 120\n",
      "k 121\n",
      "k 122\n",
      "k 123\n",
      "k 124\n",
      "k 125\n",
      "k 126\n",
      "k 127\n",
      "k 128\n",
      "k 129\n",
      "k 130\n",
      "k 131\n",
      "k 132\n",
      "k 133\n",
      "k 134\n",
      "k 135\n",
      "k 136\n",
      "k 137\n",
      "k 138\n",
      "k 139\n",
      "k 140\n",
      "k 141\n",
      "k 142\n",
      "k 143\n",
      "k 144\n",
      "k 145\n",
      "k 146\n",
      "k 147\n",
      "k 148\n",
      "k 149\n",
      "k 150\n",
      "k 151\n",
      "k 152\n",
      "k 153\n",
      "k 154\n",
      "k 155\n",
      "k 156\n",
      "k 157\n",
      "k 158\n",
      "k 159\n",
      "k 160\n",
      "k 161\n",
      "k 162\n",
      "k 163\n",
      "k 164\n",
      "k 165\n",
      "k 166\n",
      "k 167\n",
      "k 168\n",
      "k 169\n",
      "k 170\n",
      "k 171\n",
      "k 172\n",
      "k 173\n",
      "k 174\n",
      "k 175\n",
      "k 176\n",
      "k 177\n",
      "k 178\n",
      "k 179\n",
      "k 180\n",
      "k 181\n",
      "k 182\n",
      "k 183\n",
      "k 184\n",
      "k 185\n",
      "k 186\n",
      "k 187\n",
      "k 188\n",
      "k 189\n",
      "k 190\n",
      "k 191\n",
      "k 192\n",
      "k 193\n",
      "k 194\n",
      "k 195\n",
      "k 196\n",
      "k 197\n",
      "k 198\n",
      "k 199\n",
      "k 200\n",
      "k 201\n",
      "k 202\n",
      "k 203\n",
      "k 204\n",
      "k 205\n",
      "k 206\n",
      "k 207\n",
      "k 208\n",
      "k 209\n",
      "k 210\n",
      "k 211\n",
      "k 212\n",
      "k 213\n",
      "k 214\n",
      "k 215\n",
      "k 216\n",
      "k 217\n",
      "k 218\n",
      "k 219\n",
      "k 220\n",
      "k 221\n",
      "k 222\n",
      "k 223\n",
      "k 224\n",
      "k 225\n",
      "k 226\n",
      "k 227\n",
      "k 228\n",
      "k 229\n",
      "k 230\n",
      "k 231\n",
      "k 232\n",
      "k 233\n",
      "k 234\n",
      "k 235\n",
      "k 236\n",
      "k 237\n",
      "k 238\n",
      "k 239\n",
      "k 240\n",
      "k 241\n",
      "k 242\n",
      "k 243\n",
      "k 244\n",
      "k 245\n",
      "k 246\n",
      "k 247\n",
      "k 248\n",
      "k 249\n",
      "k 250\n",
      "k 251\n",
      "k 252\n",
      "k 253\n",
      "k 254\n",
      "k 255\n",
      "k 256\n",
      "k 257\n",
      "k 258\n",
      "k 259\n",
      "k 260\n",
      "k 261\n",
      "k 262\n",
      "k 263\n",
      "k 264\n",
      "k 265\n",
      "k 266\n",
      "k 267\n",
      "k 268\n",
      "k 269\n",
      "k 270\n",
      "k 271\n",
      "k 272\n",
      "k 273\n",
      "k 274\n",
      "k 275\n",
      "k 276\n",
      "k 277\n",
      "k 278\n",
      "k 279\n",
      "k 280\n",
      "k 281\n",
      "k 282\n",
      "k 283\n",
      "k 284\n",
      "k 285\n",
      "k 286\n",
      "k 287\n",
      "k 288\n",
      "k 289\n",
      "k 290\n",
      "k 291\n",
      "k 292\n",
      "k 293\n",
      "k 294\n",
      "k 295\n",
      "k 296\n",
      "k 297\n",
      "k 298\n",
      "k 299\n",
      "k 300\n",
      "k 301\n",
      "k 302\n",
      "k 303\n",
      "k 304\n",
      "k 305\n",
      "k 306\n",
      "k 307\n",
      "k 308\n",
      "k 309\n",
      "k 310\n",
      "k 311\n",
      "k 312\n",
      "k 313\n",
      "k 314\n",
      "k 315\n",
      "k 316\n",
      "k 317\n",
      "k 318\n",
      "k 319\n",
      "k 320\n",
      "k 321\n",
      "k 322\n",
      "k 323\n",
      "k 324\n",
      "k 325\n",
      "k 326\n",
      "k 327\n",
      "k 328\n",
      "k 329\n",
      "k 330\n",
      "k 331\n",
      "k 332\n",
      "k 333\n",
      "k 334\n",
      "k 335\n",
      "k 336\n",
      "k 337\n",
      "k 338\n",
      "k 339\n",
      "k 340\n",
      "k 341\n",
      "k 342\n",
      "k 343\n",
      "k 344\n",
      "k 345\n",
      "k 346\n",
      "k 347\n",
      "k 348\n",
      "k 349\n",
      "k 350\n",
      "k 351\n",
      "k 352\n",
      "k 353\n",
      "k 354\n",
      "k 355\n",
      "k 356\n",
      "k 357\n",
      "k 358\n",
      "k 359\n",
      "k 360\n",
      "k 361\n",
      "k 362\n",
      "k 363\n",
      "k 364\n",
      "k 365\n",
      "k 366\n",
      "k 367\n",
      "k 368\n",
      "k 369\n",
      "k 370\n",
      "k 371\n",
      "k 372\n",
      "k 373\n",
      "k 374\n",
      "k 375\n",
      "k 376\n",
      "k 377\n",
      "k 378\n",
      "k 379\n",
      "k 380\n",
      "k 381\n",
      "k 382\n",
      "k 383\n",
      "k 384\n",
      "k 385\n",
      "k 386\n",
      "k 387\n",
      "k 388\n",
      "k 389\n",
      "k 390\n",
      "k 391\n",
      "k 392\n",
      "k 393\n",
      "k 394\n",
      "k 395\n",
      "k 396\n",
      "k 397\n",
      "k 398\n",
      "k 399\n",
      "k 400\n",
      "k 401\n",
      "k 402\n",
      "k 403\n",
      "k 404\n",
      "k 405\n",
      "k 406\n",
      "k 407\n",
      "k 408\n",
      "k 409\n",
      "k 410\n",
      "k 411\n",
      "k 412\n",
      "k 413\n",
      "k 414\n",
      "k 415\n",
      "k 416\n",
      "k 417\n",
      "k 418\n",
      "k 419\n",
      "k 420\n",
      "k 421\n",
      "k 422\n",
      "k 423\n",
      "k 424\n",
      "k 425\n",
      "k 426\n",
      "k 427\n",
      "k 428\n",
      "k 429\n",
      "k 430\n",
      "k 431\n",
      "k 432\n",
      "k 433\n",
      "k 434\n",
      "k 435\n",
      "k 436\n",
      "k 437\n",
      "k 438\n",
      "k 439\n",
      "k 440\n",
      "k 441\n",
      "k 442\n",
      "k 443\n",
      "k 444\n",
      "k 445\n",
      "k 446\n",
      "k 447\n",
      "k 448\n",
      "k 449\n",
      "k 450\n",
      "k 451\n",
      "k 452\n",
      "k 453\n",
      "k 454\n",
      "k 455\n",
      "k 456\n",
      "k 457\n",
      "k 458\n",
      "k 459\n",
      "k 460\n",
      "k 461\n",
      "k 462\n",
      "k 463\n",
      "k 464\n",
      "k 465\n",
      "k 466\n",
      "k 467\n",
      "k 468\n",
      "k 469\n",
      "k 470\n",
      "k 471\n",
      "k 472\n",
      "k 473\n",
      "k 474\n",
      "k 475\n",
      "k 476\n",
      "k 477\n",
      "k 478\n",
      "k 479\n",
      "k 480\n",
      "k 481\n",
      "k 482\n",
      "k 483\n",
      "k 484\n",
      "k 485\n",
      "k 486\n",
      "k 487\n",
      "k 488\n",
      "k 489\n",
      "k 490\n",
      "k 491\n",
      "k 492\n",
      "k 493\n",
      "k 494\n",
      "k 495\n",
      "k 496\n",
      "k 497\n",
      "k 498\n",
      "k 499\n",
      "page 2\n",
      "k 0\n",
      "k 1\n",
      "k 2\n",
      "k 3\n",
      "k 4\n",
      "k 5\n",
      "k 6\n",
      "k 7\n",
      "k 8\n",
      "k 9\n",
      "k 10\n",
      "k 11\n",
      "k 12\n",
      "k 13\n",
      "k 14\n",
      "k 15\n",
      "k 16\n",
      "k 17\n",
      "k 18\n",
      "k 19\n",
      "k 20\n",
      "k 21\n",
      "k 22\n",
      "k 23\n",
      "k 24\n",
      "k 25\n",
      "k 26\n",
      "k 27\n",
      "k 28\n",
      "k 29\n",
      "k 30\n",
      "k 31\n",
      "k 32\n",
      "k 33\n",
      "k 34\n",
      "k 35\n",
      "k 36\n",
      "k 37\n",
      "k 38\n",
      "k 39\n",
      "k 40\n",
      "k 41\n",
      "k 42\n",
      "k 43\n",
      "k 44\n",
      "k 45\n",
      "k 46\n",
      "k 47\n",
      "k 48\n",
      "k 49\n",
      "k 50\n",
      "k 51\n",
      "k 52\n",
      "k 53\n",
      "k 54\n",
      "k 55\n",
      "k 56\n",
      "k 57\n",
      "k 58\n",
      "k 59\n",
      "k 60\n",
      "k 61\n",
      "k 62\n",
      "k 63\n",
      "k 64\n",
      "k 65\n",
      "k 66\n",
      "k 67\n",
      "k 68\n",
      "k 69\n",
      "k 70\n",
      "k 71\n",
      "k 72\n",
      "k 73\n",
      "k 74\n",
      "k 75\n",
      "k 76\n",
      "k 77\n",
      "k 78\n",
      "k 79\n",
      "k 80\n",
      "k 81\n",
      "k 82\n",
      "k 83\n",
      "k 84\n",
      "k 85\n",
      "k 86\n",
      "k 87\n",
      "k 88\n",
      "k 89\n",
      "k 90\n",
      "k 91\n",
      "k 92\n",
      "k 93\n",
      "k 94\n",
      "k 95\n",
      "k 96\n",
      "k 97\n",
      "k 98\n",
      "k 99\n",
      "k 100\n",
      "k 101\n",
      "k 102\n",
      "k 103\n",
      "k 104\n",
      "k 105\n",
      "k 106\n",
      "k 107\n",
      "k 108\n",
      "k 109\n",
      "k 110\n",
      "k 111\n",
      "k 112\n",
      "k 113\n",
      "k 114\n",
      "k 115\n",
      "k 116\n",
      "k 117\n",
      "k 118\n",
      "k 119\n",
      "k 120\n",
      "k 121\n",
      "k 122\n",
      "k 123\n",
      "k 124\n",
      "k 125\n",
      "k 126\n",
      "k 127\n",
      "k 128\n",
      "k 129\n",
      "k 130\n",
      "k 131\n",
      "k 132\n",
      "k 133\n",
      "k 134\n",
      "k 135\n",
      "k 136\n",
      "k 137\n",
      "k 138\n",
      "k 139\n",
      "k 140\n",
      "k 141\n",
      "k 142\n",
      "k 143\n",
      "k 144\n",
      "k 145\n",
      "k 146\n",
      "k 147\n",
      "k 148\n",
      "k 149\n",
      "k 150\n",
      "k 151\n",
      "k 152\n",
      "k 153\n",
      "k 154\n",
      "k 155\n",
      "k 156\n",
      "k 157\n",
      "k 158\n",
      "k 159\n",
      "k 160\n",
      "k 161\n",
      "k 162\n",
      "k 163\n",
      "k 164\n",
      "k 165\n",
      "k 166\n",
      "k 167\n",
      "k 168\n",
      "k 169\n",
      "k 170\n",
      "k 171\n",
      "k 172\n",
      "k 173\n",
      "k 174\n",
      "k 175\n",
      "k 176\n",
      "k 177\n",
      "k 178\n",
      "k 179\n",
      "k 180\n",
      "k 181\n",
      "k 182\n",
      "k 183\n",
      "k 184\n",
      "k 185\n",
      "k 186\n",
      "k 187\n",
      "k 188\n",
      "k 189\n",
      "k 190\n",
      "k 191\n",
      "k 192\n",
      "k 193\n",
      "k 194\n",
      "k 195\n",
      "k 196\n",
      "k 197\n",
      "k 198\n",
      "k 199\n",
      "k 200\n",
      "k 201\n",
      "k 202\n",
      "k 203\n",
      "k 204\n",
      "k 205\n",
      "k 206\n",
      "k 207\n",
      "k 208\n",
      "k 209\n",
      "k 210\n",
      "k 211\n",
      "k 212\n",
      "k 213\n",
      "k 214\n",
      "k 215\n",
      "k 216\n",
      "k 217\n",
      "k 218\n",
      "k 219\n",
      "k 220\n",
      "k 221\n",
      "k 222\n",
      "k 223\n",
      "k 224\n",
      "k 225\n",
      "k 226\n",
      "k 227\n",
      "k 228\n",
      "k 229\n",
      "k 230\n",
      "k 231\n",
      "k 232\n",
      "k 233\n",
      "k 234\n",
      "k 235\n",
      "k 236\n",
      "k 237\n",
      "k 238\n",
      "k 239\n",
      "k 240\n",
      "k 241\n",
      "k 242\n",
      "k 243\n",
      "k 244\n",
      "k 245\n",
      "k 246\n",
      "k 247\n",
      "k 248\n",
      "k 249\n",
      "k 250\n",
      "k 251\n",
      "k 252\n",
      "k 253\n",
      "k 254\n",
      "k 255\n",
      "k 256\n",
      "k 257\n",
      "k 258\n",
      "k 259\n",
      "k 260\n",
      "k 261\n",
      "k 262\n",
      "k 263\n",
      "k 264\n",
      "k 265\n",
      "k 266\n",
      "k 267\n",
      "k 268\n",
      "k 269\n",
      "k 270\n",
      "k 271\n",
      "k 272\n",
      "k 273\n",
      "k 274\n",
      "k 275\n",
      "k 276\n",
      "k 277\n",
      "k 278\n",
      "k 279\n",
      "k 280\n",
      "k 281\n",
      "k 282\n",
      "k 283\n",
      "k 284\n",
      "k 285\n",
      "k 286\n",
      "k 287\n",
      "k 288\n",
      "k 289\n",
      "k 290\n",
      "k 291\n",
      "k 292\n",
      "k 293\n",
      "k 294\n",
      "k 295\n",
      "k 296\n",
      "k 297\n",
      "k 298\n",
      "k 299\n",
      "k 300\n",
      "k 301\n",
      "k 302\n",
      "k 303\n",
      "k 304\n",
      "k 305\n",
      "k 306\n",
      "k 307\n",
      "k 308\n",
      "k 309\n",
      "k 310\n",
      "k 311\n",
      "k 312\n",
      "k 313\n",
      "k 314\n",
      "k 315\n",
      "k 316\n",
      "k 317\n",
      "k 318\n",
      "k 319\n",
      "k 320\n",
      "k 321\n",
      "k 322\n",
      "k 323\n",
      "k 324\n",
      "k 325\n",
      "k 326\n",
      "k 327\n",
      "k 328\n",
      "k 329\n",
      "k 330\n",
      "k 331\n",
      "k 332\n",
      "k 333\n",
      "k 334\n",
      "k 335\n",
      "k 336\n",
      "k 337\n",
      "k 338\n",
      "k 339\n",
      "k 340\n",
      "k 341\n",
      "k 342\n",
      "k 343\n",
      "k 344\n",
      "k 345\n",
      "k 346\n",
      "k 347\n",
      "k 348\n",
      "k 349\n",
      "k 350\n",
      "k 351\n",
      "k 352\n",
      "k 353\n",
      "k 354\n",
      "k 355\n",
      "k 356\n",
      "k 357\n",
      "k 358\n",
      "k 359\n",
      "k 360\n",
      "k 361\n",
      "k 362\n",
      "k 363\n",
      "k 364\n",
      "k 365\n",
      "k 366\n",
      "k 367\n",
      "k 368\n",
      "k 369\n",
      "k 370\n",
      "k 371\n",
      "k 372\n",
      "k 373\n",
      "k 374\n",
      "k 375\n",
      "k 376\n",
      "k 377\n",
      "k 378\n",
      "k 379\n",
      "k 380\n",
      "k 381\n",
      "k 382\n",
      "k 383\n",
      "k 384\n",
      "k 385\n",
      "k 386\n",
      "k 387\n",
      "k 388\n",
      "k 389\n",
      "k 390\n",
      "k 391\n",
      "k 392\n",
      "k 393\n",
      "k 394\n",
      "k 395\n",
      "k 396\n",
      "k 397\n",
      "k 398\n",
      "k 399\n",
      "k 400\n",
      "k 401\n",
      "k 402\n",
      "k 403\n",
      "k 404\n",
      "k 405\n",
      "k 406\n",
      "k 407\n",
      "k 408\n",
      "k 409\n",
      "k 410\n",
      "k 411\n",
      "k 412\n",
      "k 413\n",
      "k 414\n",
      "k 415\n",
      "k 416\n",
      "k 417\n",
      "k 418\n",
      "k 419\n",
      "k 420\n",
      "k 421\n",
      "k 422\n",
      "k 423\n",
      "k 424\n",
      "k 425\n",
      "k 426\n",
      "k 427\n",
      "k 428\n",
      "k 429\n",
      "k 430\n",
      "k 431\n",
      "k 432\n",
      "k 433\n",
      "k 434\n",
      "k 435\n",
      "k 436\n",
      "k 437\n",
      "k 438\n",
      "k 439\n",
      "k 440\n",
      "k 441\n",
      "k 442\n",
      "k 443\n",
      "k 444\n",
      "k 445\n",
      "k 446\n",
      "k 447\n",
      "k 448\n",
      "k 449\n",
      "k 450\n",
      "k 451\n",
      "k 452\n",
      "k 453\n",
      "k 454\n",
      "k 455\n",
      "k 456\n",
      "k 457\n",
      "k 458\n",
      "k 459\n",
      "k 460\n",
      "k 461\n",
      "k 462\n",
      "k 463\n",
      "k 464\n",
      "k 465\n",
      "k 466\n",
      "k 467\n",
      "k 468\n",
      "k 469\n",
      "k 470\n",
      "k 471\n",
      "k 472\n",
      "k 473\n",
      "k 474\n",
      "k 475\n",
      "k 476\n",
      "k 477\n",
      "k 478\n",
      "k 479\n",
      "k 480\n",
      "k 481\n",
      "k 482\n",
      "k 483\n",
      "k 484\n",
      "k 485\n",
      "k 486\n",
      "k 487\n",
      "k 488\n",
      "k 489\n",
      "k 490\n",
      "k 491\n",
      "k 492\n",
      "k 493\n",
      "k 494\n",
      "k 495\n",
      "k 496\n",
      "k 497\n",
      "k 498\n",
      "k 499\n",
      "page 3\n",
      "k 0\n",
      "k 1\n",
      "k 2\n",
      "k 3\n",
      "k 4\n",
      "k 5\n",
      "k 6\n",
      "k 7\n",
      "k 8\n",
      "k 9\n",
      "k 10\n",
      "k 11\n",
      "k 12\n",
      "k 13\n",
      "k 14\n",
      "k 15\n",
      "k 16\n",
      "k 17\n",
      "k 18\n",
      "k 19\n",
      "k 20\n",
      "k 21\n",
      "k 22\n",
      "k 23\n",
      "k 24\n",
      "k 25\n",
      "k 26\n",
      "k 27\n",
      "k 28\n",
      "k 29\n",
      "k 30\n",
      "k 31\n",
      "k 32\n",
      "k 33\n",
      "k 34\n",
      "k 35\n",
      "k 36\n",
      "k 37\n",
      "k 38\n",
      "k 39\n",
      "k 40\n",
      "k 41\n",
      "k 42\n",
      "k 43\n",
      "k 44\n",
      "k 45\n",
      "k 46\n",
      "k 47\n",
      "k 48\n",
      "k 49\n",
      "k 50\n",
      "k 51\n",
      "k 52\n",
      "k 53\n",
      "k 54\n",
      "k 55\n",
      "k 56\n",
      "k 57\n",
      "k 58\n",
      "k 59\n",
      "k 60\n",
      "k 61\n",
      "k 62\n",
      "k 63\n",
      "k 64\n",
      "k 65\n",
      "k 66\n",
      "k 67\n",
      "k 68\n",
      "k 69\n",
      "k 70\n",
      "k 71\n",
      "k 72\n",
      "k 73\n",
      "k 74\n",
      "k 75\n",
      "k 76\n",
      "k 77\n",
      "k 78\n",
      "k 79\n",
      "k 80\n",
      "k 81\n",
      "k 82\n",
      "k 83\n",
      "k 84\n",
      "k 85\n",
      "k 86\n",
      "k 87\n",
      "k 88\n",
      "k 89\n",
      "k 90\n",
      "k 91\n",
      "k 92\n",
      "k 93\n",
      "k 94\n",
      "k 95\n",
      "k 96\n",
      "k 97\n",
      "k 98\n",
      "k 99\n",
      "k 100\n",
      "k 101\n",
      "k 102\n",
      "k 103\n",
      "k 104\n",
      "k 105\n",
      "k 106\n",
      "k 107\n",
      "k 108\n",
      "k 109\n",
      "k 110\n",
      "k 111\n",
      "k 112\n",
      "k 113\n",
      "k 114\n",
      "k 115\n",
      "k 116\n",
      "k 117\n",
      "k 118\n",
      "k 119\n",
      "k 120\n",
      "k 121\n",
      "k 122\n",
      "k 123\n",
      "k 124\n",
      "k 125\n",
      "k 126\n",
      "k 127\n",
      "k 128\n",
      "k 129\n",
      "k 130\n",
      "k 131\n",
      "k 132\n",
      "k 133\n",
      "k 134\n",
      "k 135\n",
      "k 136\n",
      "k 137\n",
      "k 138\n",
      "k 139\n",
      "k 140\n",
      "k 141\n",
      "k 142\n",
      "k 143\n",
      "k 144\n",
      "k 145\n",
      "k 146\n",
      "k 147\n",
      "k 148\n",
      "k 149\n",
      "k 150\n",
      "k 151\n",
      "k 152\n",
      "k 153\n",
      "k 154\n",
      "k 155\n",
      "k 156\n",
      "k 157\n",
      "k 158\n",
      "k 159\n",
      "k 160\n",
      "k 161\n",
      "k 162\n",
      "k 163\n",
      "k 164\n",
      "k 165\n",
      "k 166\n",
      "k 167\n",
      "k 168\n",
      "k 169\n",
      "k 170\n",
      "k 171\n",
      "k 172\n",
      "k 173\n",
      "k 174\n",
      "k 175\n",
      "k 176\n",
      "k 177\n",
      "k 178\n",
      "k 179\n",
      "k 180\n",
      "k 181\n",
      "k 182\n",
      "k 183\n",
      "k 184\n",
      "k 185\n",
      "k 186\n",
      "k 187\n",
      "k 188\n",
      "k 189\n",
      "k 190\n",
      "k 191\n",
      "k 192\n",
      "k 193\n",
      "k 194\n",
      "k 195\n",
      "k 196\n",
      "k 197\n",
      "k 198\n",
      "k 199\n",
      "k 200\n",
      "k 201\n",
      "k 202\n",
      "k 203\n",
      "k 204\n",
      "k 205\n",
      "k 206\n",
      "k 207\n",
      "k 208\n",
      "k 209\n",
      "k 210\n",
      "k 211\n",
      "k 212\n",
      "k 213\n",
      "k 214\n",
      "k 215\n",
      "k 216\n",
      "k 217\n",
      "k 218\n",
      "k 219\n",
      "k 220\n",
      "k 221\n",
      "k 222\n",
      "k 223\n",
      "k 224\n",
      "k 225\n",
      "k 226\n",
      "k 227\n",
      "k 228\n",
      "k 229\n",
      "k 230\n",
      "k 231\n",
      "k 232\n",
      "k 233\n",
      "k 234\n",
      "k 235\n",
      "k 236\n",
      "k 237\n",
      "k 238\n",
      "k 239\n",
      "k 240\n",
      "k 241\n",
      "k 242\n",
      "k 243\n",
      "k 244\n",
      "k 245\n",
      "k 246\n",
      "k 247\n",
      "k 248\n",
      "k 249\n",
      "k 250\n",
      "k 251\n",
      "k 252\n",
      "k 253\n",
      "k 254\n",
      "k 255\n",
      "k 256\n",
      "k 257\n",
      "k 258\n",
      "k 259\n",
      "k 260\n",
      "k 261\n",
      "k 262\n",
      "k 263\n",
      "k 264\n",
      "k 265\n",
      "k 266\n",
      "k 267\n",
      "k 268\n",
      "k 269\n",
      "k 270\n",
      "k 271\n",
      "k 272\n",
      "k 273\n",
      "k 274\n",
      "k 275\n",
      "k 276\n",
      "k 277\n",
      "k 278\n",
      "k 279\n",
      "k 280\n",
      "k 281\n",
      "k 282\n",
      "k 283\n",
      "k 284\n",
      "k 285\n",
      "k 286\n",
      "k 287\n",
      "k 288\n",
      "k 289\n",
      "k 290\n",
      "k 291\n",
      "k 292\n",
      "k 293\n",
      "k 294\n",
      "k 295\n",
      "k 296\n",
      "k 297\n",
      "k 298\n",
      "k 299\n",
      "k 300\n",
      "k 301\n",
      "k 302\n",
      "k 303\n",
      "k 304\n",
      "k 305\n",
      "k 306\n",
      "k 307\n",
      "k 308\n",
      "k 309\n",
      "k 310\n",
      "k 311\n",
      "k 312\n",
      "k 313\n",
      "k 314\n",
      "k 315\n",
      "k 316\n",
      "k 317\n",
      "k 318\n",
      "k 319\n",
      "k 320\n",
      "k 321\n",
      "k 322\n",
      "k 323\n",
      "k 324\n",
      "k 325\n",
      "k 326\n",
      "k 327\n",
      "k 328\n",
      "k 329\n",
      "k 330\n",
      "k 331\n",
      "k 332\n",
      "k 333\n",
      "k 334\n",
      "k 335\n",
      "k 336\n",
      "k 337\n",
      "k 338\n",
      "k 339\n",
      "k 340\n",
      "k 341\n",
      "k 342\n",
      "k 343\n",
      "k 344\n",
      "k 345\n",
      "k 346\n",
      "k 347\n",
      "k 348\n",
      "k 349\n",
      "k 350\n",
      "k 351\n",
      "k 352\n",
      "k 353\n",
      "k 354\n",
      "k 355\n",
      "k 356\n",
      "k 357\n",
      "k 358\n",
      "k 359\n",
      "k 360\n",
      "k 361\n",
      "k 362\n",
      "k 363\n",
      "k 364\n",
      "k 365\n",
      "k 366\n",
      "k 367\n",
      "k 368\n",
      "k 369\n",
      "k 370\n",
      "k 371\n",
      "k 372\n",
      "k 373\n",
      "k 374\n",
      "k 375\n",
      "k 376\n",
      "k 377\n",
      "k 378\n",
      "k 379\n",
      "k 380\n",
      "k 381\n",
      "k 382\n",
      "k 383\n",
      "k 384\n",
      "k 385\n",
      "k 386\n",
      "k 387\n",
      "k 388\n",
      "k 389\n",
      "k 390\n",
      "k 391\n",
      "k 392\n",
      "k 393\n",
      "k 394\n",
      "k 395\n",
      "k 396\n",
      "k 397\n",
      "k 398\n",
      "k 399\n",
      "k 400\n",
      "k 401\n",
      "k 402\n",
      "k 403\n",
      "k 404\n",
      "k 405\n",
      "k 406\n",
      "k 407\n",
      "k 408\n",
      "k 409\n",
      "k 410\n",
      "k 411\n",
      "k 412\n",
      "k 413\n",
      "k 414\n",
      "k 415\n",
      "k 416\n",
      "k 417\n",
      "k 418\n",
      "k 419\n",
      "k 420\n",
      "k 421\n",
      "k 422\n",
      "k 423\n",
      "k 424\n",
      "k 425\n",
      "k 426\n",
      "k 427\n",
      "k 428\n",
      "k 429\n",
      "k 430\n",
      "k 431\n",
      "k 432\n",
      "k 433\n",
      "k 434\n",
      "k 435\n",
      "k 436\n",
      "k 437\n",
      "k 438\n",
      "k 439\n",
      "k 440\n",
      "k 441\n",
      "k 442\n",
      "k 443\n",
      "k 444\n",
      "k 445\n",
      "k 446\n",
      "k 447\n",
      "k 448\n",
      "k 449\n",
      "k 450\n",
      "k 451\n",
      "k 452\n",
      "k 453\n",
      "k 454\n",
      "k 455\n",
      "k 456\n",
      "k 457\n",
      "k 458\n",
      "k 459\n",
      "k 460\n",
      "k 461\n",
      "k 462\n",
      "k 463\n",
      "k 464\n",
      "k 465\n",
      "k 466\n",
      "k 467\n",
      "k 468\n",
      "k 469\n",
      "k 470\n",
      "k 471\n",
      "k 472\n",
      "k 473\n",
      "k 474\n",
      "k 475\n",
      "k 476\n",
      "k 477\n",
      "k 478\n",
      "k 479\n",
      "k 480\n",
      "k 481\n",
      "k 482\n",
      "k 483\n",
      "k 484\n",
      "k 485\n",
      "k 486\n",
      "k 487\n",
      "k 488\n",
      "k 489\n",
      "k 490\n",
      "k 491\n",
      "k 492\n",
      "k 493\n",
      "k 494\n",
      "k 495\n",
      "k 496\n",
      "k 497\n",
      "k 498\n",
      "k 499\n",
      "page 4\n",
      "k 0\n",
      "k 1\n",
      "k 2\n",
      "k 3\n",
      "k 4\n",
      "k 5\n",
      "k 6\n",
      "k 7\n",
      "k 8\n",
      "k 9\n",
      "k 10\n",
      "k 11\n",
      "k 12\n",
      "k 13\n",
      "k 14\n",
      "k 15\n",
      "k 16\n",
      "k 17\n",
      "k 18\n",
      "k 19\n",
      "k 20\n",
      "k 21\n",
      "k 22\n",
      "k 23\n",
      "k 24\n",
      "k 25\n",
      "k 26\n",
      "k 27\n",
      "k 28\n",
      "k 29\n",
      "k 30\n",
      "k 31\n",
      "k 32\n",
      "k 33\n",
      "k 34\n",
      "k 35\n",
      "k 36\n",
      "k 37\n",
      "k 38\n",
      "k 39\n",
      "k 40\n",
      "k 41\n",
      "k 42\n",
      "k 43\n",
      "k 44\n",
      "k 45\n",
      "k 46\n",
      "k 47\n",
      "k 48\n",
      "k 49\n",
      "k 50\n",
      "k 51\n",
      "k 52\n",
      "k 53\n",
      "k 54\n",
      "k 55\n",
      "k 56\n",
      "k 57\n",
      "k 58\n",
      "k 59\n",
      "k 60\n",
      "k 61\n",
      "k 62\n",
      "k 63\n",
      "k 64\n",
      "k 65\n",
      "k 66\n",
      "k 67\n",
      "k 68\n",
      "k 69\n",
      "k 70\n",
      "k 71\n",
      "k 72\n",
      "k 73\n",
      "k 74\n",
      "k 75\n",
      "k 76\n",
      "k 77\n",
      "k 78\n",
      "k 79\n",
      "k 80\n",
      "k 81\n",
      "k 82\n",
      "k 83\n",
      "k 84\n",
      "k 85\n",
      "k 86\n",
      "k 87\n",
      "k 88\n",
      "k 89\n",
      "k 90\n",
      "k 91\n",
      "k 92\n",
      "k 93\n",
      "k 94\n",
      "k 95\n",
      "k 96\n",
      "k 97\n",
      "k 98\n",
      "k 99\n",
      "k 100\n",
      "k 101\n",
      "k 102\n",
      "k 103\n",
      "k 104\n",
      "k 105\n",
      "k 106\n",
      "k 107\n",
      "k 108\n",
      "k 109\n",
      "k 110\n",
      "k 111\n",
      "k 112\n",
      "k 113\n",
      "k 114\n",
      "k 115\n",
      "k 116\n",
      "k 117\n",
      "k 118\n",
      "k 119\n",
      "k 120\n",
      "k 121\n",
      "k 122\n",
      "k 123\n",
      "k 124\n",
      "k 125\n",
      "k 126\n",
      "k 127\n",
      "k 128\n",
      "k 129\n",
      "k 130\n",
      "k 131\n",
      "k 132\n",
      "k 133\n",
      "k 134\n",
      "k 135\n",
      "k 136\n",
      "k 137\n",
      "k 138\n",
      "k 139\n",
      "k 140\n",
      "k 141\n",
      "k 142\n",
      "k 143\n",
      "k 144\n",
      "k 145\n",
      "k 146\n",
      "k 147\n",
      "k 148\n",
      "k 149\n",
      "k 150\n",
      "k 151\n",
      "k 152\n",
      "k 153\n",
      "k 154\n",
      "k 155\n",
      "k 156\n",
      "k 157\n",
      "k 158\n",
      "k 159\n",
      "k 160\n",
      "k 161\n",
      "k 162\n",
      "k 163\n",
      "k 164\n",
      "k 165\n",
      "k 166\n",
      "k 167\n",
      "k 168\n",
      "k 169\n",
      "k 170\n",
      "k 171\n",
      "k 172\n",
      "k 173\n",
      "k 174\n",
      "k 175\n",
      "k 176\n",
      "k 177\n",
      "k 178\n",
      "k 179\n",
      "k 180\n",
      "k 181\n",
      "k 182\n",
      "k 183\n",
      "k 184\n",
      "k 185\n",
      "k 186\n",
      "k 187\n",
      "k 188\n",
      "k 189\n",
      "k 190\n",
      "k 191\n",
      "k 192\n",
      "k 193\n",
      "k 194\n",
      "k 195\n",
      "k 196\n",
      "k 197\n",
      "k 198\n",
      "k 199\n",
      "k 200\n",
      "k 201\n",
      "k 202\n",
      "k 203\n",
      "k 204\n",
      "k 205\n",
      "k 206\n",
      "k 207\n",
      "k 208\n",
      "k 209\n",
      "k 210\n",
      "k 211\n",
      "k 212\n",
      "k 213\n",
      "k 214\n",
      "k 215\n",
      "k 216\n",
      "k 217\n",
      "k 218\n",
      "k 219\n",
      "k 220\n",
      "k 221\n",
      "k 222\n",
      "k 223\n",
      "k 224\n",
      "k 225\n",
      "k 226\n",
      "k 227\n",
      "k 228\n",
      "k 229\n",
      "k 230\n",
      "k 231\n",
      "k 232\n",
      "k 233\n",
      "k 234\n",
      "k 235\n",
      "k 236\n"
     ]
    }
   ],
   "source": [
    "nbr_page=int(requests.get('http://185.161.45.213/projects/participations?where={\"project_type\":\"ANSES\"}&projection={\"id\":1}&max_results=500&page=1', headers={\"Authorization\":Authorization}).json()['hrefs']['last']['href'].split('page=')[1])\n",
    "\n",
    "list_ids=[]\n",
    "for i in range(1,nbr_page+1):\n",
    "    print(\"page\",i)\n",
    "    page=requests.get('http://185.161.45.213/projects/participations?where={\"project_type\":\"ANSES\"}&projection={\"id\":1}&max_results=500'+f\"&page={i}\", headers={\"Authorization\":Authorization}).json()\n",
    "    for k in range(len(page['data'])):\n",
    "        print(\"k\",k)\n",
    "        list_ids.append(page['data'][k]['id'])\n",
    "    \n",
    "projets_a_ajouter=[x for x in list(df_partenaires['id'].drop_duplicates()) if x not in list(pd.Series(list_ids).drop_duplicates())]\n",
    "\n",
    "projets_a_retirer=[x for x in list_ids if x not in list(df_partenaires['id'])]\n",
    "\n",
    "df_partenaires = df_partenaires[df_partenaires['id'].apply(lambda x: x in projets_a_ajouter)]\n"
   ]
  },
  {
   "cell_type": "code",
   "execution_count": 55,
   "id": "c0a930be",
   "metadata": {},
   "outputs": [
    {
     "data": {
      "text/plain": [
       "0"
      ]
     },
     "execution_count": 55,
     "metadata": {},
     "output_type": "execute_result"
    }
   ],
   "source": [
    "len(projets_a_ajouter)"
   ]
  },
  {
   "cell_type": "code",
   "execution_count": null,
   "id": "9b351c2e",
   "metadata": {},
   "outputs": [],
   "source": [
    "print(df_partenaires)"
   ]
  },
  {
   "cell_type": "code",
   "execution_count": null,
   "id": "defef4ee",
   "metadata": {},
   "outputs": [],
   "source": [
    "len(df_partenaires)"
   ]
  },
  {
   "cell_type": "code",
   "execution_count": null,
   "id": "a8b50023",
   "metadata": {},
   "outputs": [],
   "source": [
    "err=[]\n",
    "for i,row in df_partenaires.iterrows():\n",
    "    dict_row=row.to_dict()\n",
    "    dict_row2={k:v for k,v in list(dict_row.items()) if ((str(v)!='nan')&(str(v)!='NaN')&(str(v)!='None')&(str(v)!='x'))}\n",
    "    try:\n",
    "       r=requests.post('http://185.161.45.213/projects/participations', json = dict_row2, headers={\"Authorization\":Authorization})\n",
    "       res= r.json()\n",
    "       if res.get('status')=='ERR':\n",
    "           print(i)\n",
    "           err.append(res)\n",
    "           if res.get('error').get('code')!=422:\n",
    "               print(err)\n",
    "               pp.pprint(err)\n",
    "    except Exception as e:\n",
    "        pp.pprint(e)"
   ]
  },
  {
   "cell_type": "markdown",
   "id": "b66d0830",
   "metadata": {},
   "source": [
    "Modifications"
   ]
  },
  {
   "cell_type": "code",
   "execution_count": null,
   "id": "041def3a",
   "metadata": {},
   "outputs": [],
   "source": [
    "nbr_page=int(requests.get('http://185.161.45.213/projects/participations?where={\"project_type\":\"ANR\",\"participant_id\":{\"$exists\":false}}&projection={\"id\":1}&max_results=500'+f\"&page={1}\", headers={\"Authorization\":Authorization}).json()['hrefs']['last']['href'].split('page=')[1])\n",
    "\n",
    "list_ids=[]\n",
    "for i in range(1,nbr_page+1):\n",
    "    print(\"page\",i)\n",
    "    page=requests.get('http://185.161.45.213/projects/participations?where={\"project_type\":\"ANR\",\"participant_id\":{\"$exists\":false}}&projection={\"id\":1}&max_results=500'+f\"&page={i}\", headers={\"Authorization\":Authorization}).json()\n",
    "    for k in range(len(page['data'])):\n",
    "        print(\"k\",k)\n",
    "        list_ids.append(page['data'][k]['id'])\n",
    "\n",
    "df_partenaires = df_partenaires[df_partenaires['id'].apply(lambda x: x in list_ids)]"
   ]
  },
  {
   "cell_type": "code",
   "execution_count": null,
   "id": "ae447f6e",
   "metadata": {},
   "outputs": [],
   "source": [
    "len(list_ids)"
   ]
  },
  {
   "cell_type": "code",
   "execution_count": null,
   "id": "8c3dd659",
   "metadata": {},
   "outputs": [],
   "source": [
    "df_partenaires=df_partenaires[(df_partenaires.participant_id!='x') & (df_partenaires.participant_id!='None')]"
   ]
  },
  {
   "cell_type": "code",
   "execution_count": null,
   "id": "e8a62be8",
   "metadata": {},
   "outputs": [],
   "source": [
    "df_partenaires"
   ]
  },
  {
   "cell_type": "code",
   "execution_count": null,
   "id": "0eef494c",
   "metadata": {},
   "outputs": [],
   "source": [
    "err=[]\n",
    "for i,row in df_partenaires.iterrows() :\n",
    "    print(i)\n",
    "    id=row['id']\n",
    "    url = f\"http://185.161.45.213/projects/participations/{id}\"\n",
    "    project=requests.get(url, headers={'Authorization': Authorization}).json()\n",
    "    head = {\"Authorization\": Authorization, \"If-Match\": project['etag'], \"Content-Type\": \"application/json\"}\n",
    "\n",
    "    r = requests.patch(url, json = {\"participant_id\": row['participant_id']}, headers=head)\n",
    "    res= r.json()\n",
    "    if res.get('status')=='ERR':\n",
    "        err.append(res)\n",
    "        if res.get('error').get('code')!=422:\n",
    "            print(err)\n",
    "            pp.pprint(err)"
   ]
  },
  {
   "cell_type": "code",
   "execution_count": null,
   "id": "3ab8add7",
   "metadata": {},
   "outputs": [],
   "source": [
    "pd.Series([x.get('issues').get('id')[25:] for x in err]).drop_duplicates().tolist()"
   ]
  },
  {
   "cell_type": "markdown",
   "id": "14b25fb0",
   "metadata": {},
   "source": [
    "Faire un nouveau fichier avec toutes les structures manquantes"
   ]
  },
  {
   "cell_type": "code",
   "execution_count": null,
   "id": "41dd26a6",
   "metadata": {},
   "outputs": [],
   "source": []
  },
  {
   "cell_type": "code",
   "execution_count": null,
   "id": "73cf7e77",
   "metadata": {},
   "outputs": [],
   "source": []
  },
  {
   "cell_type": "code",
   "execution_count": null,
   "id": "7a22e4ca",
   "metadata": {},
   "outputs": [],
   "source": []
  },
  {
   "cell_type": "code",
   "execution_count": null,
   "id": "0a973ce1",
   "metadata": {},
   "outputs": [],
   "source": [
    "struct_manq=pd.read_excel('scanr_partenaires_non_identifies.xlsx')"
   ]
  },
  {
   "cell_type": "code",
   "execution_count": null,
   "id": "ae5cf822",
   "metadata": {},
   "outputs": [],
   "source": [
    "nom1=struct_manq[struct_manq.New=='IRESP'].drop_duplicates(subset='Nom').Nom"
   ]
  },
  {
   "cell_type": "code",
   "execution_count": null,
   "id": "eab48e23",
   "metadata": {},
   "outputs": [],
   "source": [
    "iresp_actuel=pd.read_excel('./missing_ids_structures/partenaires_non_identifies_IRESP.xlsx')"
   ]
  },
  {
   "cell_type": "code",
   "execution_count": null,
   "id": "72f4933c",
   "metadata": {},
   "outputs": [],
   "source": [
    "nom2=iresp_actuel['Nom_equipe']"
   ]
  },
  {
   "cell_type": "code",
   "execution_count": null,
   "id": "a2a772bf",
   "metadata": {},
   "outputs": [],
   "source": [
    "pd.Series(list(nom1)+list(nom2))"
   ]
  },
  {
   "cell_type": "code",
   "execution_count": null,
   "id": "c28cc4ac",
   "metadata": {},
   "outputs": [],
   "source": [
    "pd.Series(list(nom1)+list(nom2)).drop_duplicates()"
   ]
  }
 ],
 "metadata": {
  "kernelspec": {
   "display_name": "base",
   "language": "python",
   "name": "python3"
  },
  "language_info": {
   "codemirror_mode": {
    "name": "ipython",
    "version": 3
   },
   "file_extension": ".py",
   "mimetype": "text/x-python",
   "name": "python",
   "nbconvert_exporter": "python",
   "pygments_lexer": "ipython3",
   "version": "3.9.12"
  }
 },
 "nbformat": 4,
 "nbformat_minor": 5
}
