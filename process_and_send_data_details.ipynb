{
 "cells": [
  {
   "cell_type": "markdown",
   "id": "02598747",
   "metadata": {},
   "source": [
    "# Traitement des données de financements "
   ]
  },
  {
   "cell_type": "code",
   "execution_count": 1,
   "id": "a59f7608",
   "metadata": {},
   "outputs": [],
   "source": [
    "#importer les packages\n",
    "import pandas as pd\n",
    "import numpy as np\n",
    "from code_utils.utils import extract_first_name,replace_all,get_scanR_structure\n",
    "from code_utils.cached_data_handler import get_structure, get_person\n",
    "from code_utils.features_into_dictionnary import persons, projects, address\n",
    "from tqdm import tqdm\n",
    "import pprint as pp\n",
    "tqdm.pandas()\n",
    "from code_utils.pickle import load_cache,write_cache\n",
    "import os\n",
    "from dotenv import load_dotenv\n",
    "import requests\n",
    "\n",
    "load_dotenv()\n",
    "\n",
    "Authorization = os.getenv('Authorization_access_185')\n",
    "Authorization_ORCID = os.getenv('Authorization_cluster_BSO_ORCID')\n",
    "url_cluster = os.getenv('url_cluster')"
   ]
  },
  {
   "cell_type": "code",
   "execution_count": 2,
   "id": "b60621a0",
   "metadata": {},
   "outputs": [],
   "source": [
    "sources=pd.read_json('sources.json')"
   ]
  },
  {
   "cell_type": "code",
   "execution_count": 4,
   "id": "95e2a545",
   "metadata": {},
   "outputs": [
    {
     "data": {
      "text/plain": [
       "'SIRANO'"
      ]
     },
     "execution_count": 4,
     "metadata": {},
     "output_type": "execute_result"
    }
   ],
   "source": [
    "source=list(sources.keys())[3]\n",
    "source"
   ]
  },
  {
   "cell_type": "code",
   "execution_count": 5,
   "id": "7fad3e27",
   "metadata": {},
   "outputs": [],
   "source": [
    "#cache structures, personnes et orcid avec differentes sources de donnees\n",
    "cached_data = {}\n",
    "try:\n",
    "    cached_data = load_cache(cached_data,f\"./DATA/{source}/caches/cached_{source.lower()}_data.pkl\")\n",
    "except:\n",
    "    write_cache(cached_data,f\"./DATA/{source}/caches/cached_{source.lower()}_data.pkl\")\n",
    "    \n",
    "cached_data_persons = {}\n",
    "try:\n",
    "    cached_data_persons = load_cache(cached_data_persons,f\"./DATA/{source}/caches/cached_{source.lower()}_data_persons.pkl\")\n",
    "except:\n",
    "    write_cache(cached_data_persons,f\"./DATA/{source}/caches/cached_{source.lower()}_data_persons.pkl\")\n",
    "    \n",
    "cached_data_orcid = {}\n",
    "try:\n",
    "    cached_data_orcid = load_cache(cached_data_orcid,f\"./DATA/{source}/caches/cached_{source.lower()}_data_orcid.pkl\")\n",
    "except:\n",
    "    write_cache(cached_data_orcid,f\"./DATA/{source}/caches/cached_{source.lower()}_data_orcid.pkl\")"
   ]
  },
  {
   "cell_type": "markdown",
   "id": "6bcfb200",
   "metadata": {},
   "source": [
    "# Données partenaires"
   ]
  },
  {
   "cell_type": "code",
   "execution_count": 6,
   "id": "3c82fbd0",
   "metadata": {},
   "outputs": [],
   "source": [
    "# amener les partenaires depuis le site \n",
    "if source=='ANR':\n",
    "    page_partenaires_10 = requests.get(sources[source]['url_partenaires']).json()\n",
    "    colonnes_partenaires_10 = page_partenaires_10['columns']\n",
    "    donnees_partenaires_10 = page_partenaires_10['data']\n",
    "    df_partenaires=pd.DataFrame(data=donnees_partenaires_10,columns=colonnes_partenaires_10)\n",
    "elif source=='ANSES':\n",
    "    df_from_anses=pd.read_excel(sources[source]['url_partenaires'])\n",
    "    df=df_from_anses.iloc[1:,:]\n",
    "    df.columns=list(df_from_anses.iloc[0,:])\n",
    "    dict_equipe={list(df_from_anses.columns)[k].replace('Équipe 10 ','Équipe 10').replace('Équipe13','Équipe 13'):k for k in range (len(list(df_from_anses.columns))) if list(df_from_anses.columns)[k].find('Équipe')>=0}\n",
    "    list_df=[]\n",
    "    number=3\n",
    "    for n in range(1,len(dict_equipe)+1):\n",
    "        equipe_n=pd.concat([df.iloc[:,0:3],df.iloc[:,number:number+6]], axis=1)\n",
    "        list_df.append(equipe_n)\n",
    "        number+=6\n",
    "    df_partenaires=pd.concat([list_df[k].dropna(subset=[sources[source]['nom'], sources[source]['prenom'],sources[source]['nom_structure'], sources[source]['nom'], 'Pays'], how='all') for k in range(len(list_df))])\n",
    "    \n",
    "elif source=='IRESP':\n",
    "    df_partenaires1=pd.read_csv(sources[source]['url_partenaires1'] ,sep=\";\", encoding='UTF-8')\n",
    "    df_partenaires2=pd.read_csv(sources[source]['url_partenaires2'] ,sep=\";\", encoding='UTF-8')\n",
    "    df_partenaires=pd.concat([df_partenaires1,df_partenaires2])\n",
    "elif source=='ADEME':\n",
    "    df_partenaires=pd.read_csv(sources[source]['url_partenaires'] ,sep=\",\", encoding='ISO-8859-1', on_bad_lines='skip')\n",
    "else:    \n",
    "    df_partenaires=pd.read_csv(sources[source]['url_partenaires'] ,sep=\";\", encoding='ISO-8859-1')\n",
    "\n",
    "df_partenaires=df_partenaires.reset_index()\n",
    "del df_partenaires['index']"
   ]
  },
  {
   "cell_type": "markdown",
   "id": "230e93cc",
   "metadata": {},
   "source": [
    "# Matcher établissement"
   ]
  },
  {
   "cell_type": "code",
   "execution_count": 6,
   "id": "eca75cf4",
   "metadata": {},
   "outputs": [],
   "source": [
    "id_struct=df_partenaires\n",
    "id_struct[f\"{sources[source]['nom_structure']}2\"]=id_struct.loc[:,sources[source]['nom_structure']].apply(lambda x: replace_all(str(x).lower().replace(\" d e\",\" d'e\").replace(\" d a\",\" d'a\").replace(\" d i\",\" d'i\").replace(\" d o\",\" d'o\").replace(\" d u\",\" d'u\").replace(\" d y\",\" d'y\").replace(\" d h\",\" d'h\").replace(\" l e\",\" l'e\").replace(\" l a\",\" l'a\").replace(\" l i\",\" l'i\").replace(\" l o\",\" l'o\").replace(\" l u\",\" l'u\").replace(\" l y\",\" l'y\").replace(\" l h\",\" l'h\")))\n",
    "id_struct=id_struct.drop_duplicates(subset=[f\"{sources[source]['nom_structure']}2\"])"
   ]
  },
  {
   "cell_type": "code",
   "execution_count": null,
   "id": "cc0b7e40",
   "metadata": {},
   "outputs": [],
   "source": [
    "id_struct.progress_apply(lambda row: get_structure(row,source,cached_data,sources[source]['nom_structure'],sources[source]['ville'],sources[source]['pays'],sources[source]['code_projet'],False), axis=1) \n",
    "write_cache(cached_data,f\"./DATA/{source}/caches/cached_{source}_data.pkl\")"
   ]
  },
  {
   "cell_type": "code",
   "execution_count": null,
   "id": "84ae48b2",
   "metadata": {},
   "outputs": [],
   "source": [
    "len(cached_data)"
   ]
  },
  {
   "cell_type": "code",
   "execution_count": null,
   "id": "feeebfff",
   "metadata": {},
   "outputs": [],
   "source": [
    "id_struct['id_structure_matcher']=id_struct.loc[:,sources[source]['nom_structure']].apply(lambda x: cached_data[x])"
   ]
  },
  {
   "cell_type": "code",
   "execution_count": null,
   "id": "0a6033b7",
   "metadata": {},
   "outputs": [],
   "source": [
    "id_struct"
   ]
  },
  {
   "cell_type": "code",
   "execution_count": 11,
   "id": "d968cf8c",
   "metadata": {},
   "outputs": [],
   "source": [
    "id_struct=id_struct.reset_index()\n",
    "del id_struct['index']\n",
    "id_struct.to_excel(f\"./DATA/{source}/df_partenaires.xlsx\")\n",
    "id_struct.to_json(f\"./DATA/{source}/df_partenaires.json\")"
   ]
  },
  {
   "cell_type": "code",
   "execution_count": null,
   "id": "5f3afeca",
   "metadata": {},
   "outputs": [],
   "source": [
    "id_struct=pd.read_json(f\"./DATA/{source}/df_partenaires.json\")\n",
    "id_struct=id_struct[[sources[source]['nom_structure'],'id_structure_matcher']]\n",
    "id_struct[f\"{sources[source]['nom_structure']}2\"]=id_struct.loc[:,sources[source]['nom_structure']].apply(lambda x: replace_all(str(x).lower().replace(\" d e\",\" d'e\").replace(\" d a\",\" d'a\").replace(\" d i\",\" d'i\").replace(\" d o\",\" d'o\").replace(\" d u\",\" d'u\").replace(\" d y\",\" d'y\").replace(\" d h\",\" d'h\").replace(\" l e\",\" l'e\").replace(\" l a\",\" l'a\").replace(\" l i\",\" l'i\").replace(\" l o\",\" l'o\").replace(\" l u\",\" l'u\").replace(\" l y\",\" l'y\").replace(\" l h\",\" l'h\")))\n",
    "\n",
    "df_partenaires[f\"{sources[source]['nom_structure']}2\"]=df_partenaires.loc[:,sources[source]['nom_structure']].apply(lambda x: replace_all(str(x).lower().replace(\" d e\",\" d'e\").replace(\" d a\",\" d'a\").replace(\" d i\",\" d'i\").replace(\" d o\",\" d'o\").replace(\" d u\",\" d'u\").replace(\" d y\",\" d'y\").replace(\" d h\",\" d'h\").replace(\" l e\",\" l'e\").replace(\" l a\",\" l'a\").replace(\" l i\",\" l'i\").replace(\" l o\",\" l'o\").replace(\" l u\",\" l'u\").replace(\" l y\",\" l'y\").replace(\" l h\",\" l'h\")))\n",
    "df_partenaires_struct=pd.merge(df_partenaires,id_struct[[f\"{sources[source]['nom_structure']}2\",'id_structure_matcher']], on=f\"{sources[source]['nom_structure']}2\", how='left')\n",
    "df_partenaires_struct"
   ]
  },
  {
   "cell_type": "code",
   "execution_count": null,
   "id": "d5f9b64f",
   "metadata": {},
   "outputs": [],
   "source": [
    "#compléter les données avec scanR\n",
    "url_scanr='https://storage.gra.cloud.ovh.net/v1/AUTH_32c5d10cb0fe4519b957064a111717e3/scanR/projects.json'\n",
    "requete_scanR = requests.get(url_scanr)\n",
    "page_scanR= requete_scanR.json()\n",
    "df_scanR=pd.DataFrame(page_scanR)\n",
    "scanR=df_scanR.explode('participants').loc[:,['id','participants']]\n",
    "scanR=scanR.rename(columns={'id':'id_anr'})\n",
    "scanR['index']=[x for x in range(len(scanR))]\n",
    "scanR=scanR.set_index('index')\n",
    "scanR['id_structure_scanr']=scanR['participants'].apply(lambda x: x.get(str('structure')) if isinstance(x, dict) else None )\n",
    "scanR['nom_struct']=scanR['participants'].apply(lambda x: get_scanR_structure(x))\n",
    "del scanR['participants']\n",
    "scanR_nettoye=scanR.drop_duplicates(subset='nom_struct')\n",
    "scanR_nettoye[f\"{sources[source]['nom_structure']}2\"]=scanR_nettoye.loc[:,'nom_struct'].apply(lambda x: replace_all(str(x).lower()))\n",
    "scanR_nettoye=scanR_nettoye[['id_structure_scanr',f\"{sources[source]['nom_structure']}2\"]]\n",
    "scanR_nettoye=scanR_nettoye.drop_duplicates(subset=f\"{sources[source]['nom_structure']}2\")"
   ]
  },
  {
   "cell_type": "code",
   "execution_count": null,
   "id": "ed71b425",
   "metadata": {},
   "outputs": [],
   "source": [
    "df_partenaires_struct=pd.merge(df_partenaires_struct,scanR_nettoye, on=f\"{sources[source]['nom_structure']}2\", how='left')\n",
    "df_partenaires_struct"
   ]
  },
  {
   "cell_type": "code",
   "execution_count": null,
   "id": "89dbba33",
   "metadata": {},
   "outputs": [],
   "source": [
    "#######fichier avec les identifiants structures rettrouvés à la main par Emmanuel ==> 'code'\n",
    "scanr_structures=pd.read_excel('scanr_partenaires_non_identifies.xlsx')\n",
    "scanr_structures[f\"{sources[source]['nom_structure']}2\"]=scanr_structures.loc[:,'Nom'].apply(lambda x: replace_all(str(x).lower().replace(\" d e\",\" d'e\").replace(\" d a\",\" d'a\").replace(\" d i\",\" d'i\").replace(\" d o\",\" d'o\").replace(\" d u\",\" d'u\").replace(\" d y\",\" d'y\").replace(\" d h\",\" d'h\").replace(\" l e\",\" l'e\").replace(\" l a\",\" l'a\").replace(\" l i\",\" l'i\").replace(\" l o\",\" l'o\").replace(\" l u\",\" l'u\").replace(\" l y\",\" l'y\").replace(\" l h\",\" l'h\")))\n",
    "scanr_structures=scanr_structures[[f\"{sources[source]['nom_structure']}2\",'code']]\n",
    "scanr_structures=scanr_structures.dropna().drop_duplicates(subset=f\"{sources[source]['nom_structure']}2\")\n",
    "df_partenaires_complet=pd.merge(df_partenaires_struct,scanr_structures, on=f\"{sources[source]['nom_structure']}2\", how='left')\n",
    "df_partenaires_complet"
   ]
  },
  {
   "cell_type": "code",
   "execution_count": 21,
   "id": "03c18c20",
   "metadata": {},
   "outputs": [],
   "source": [
    "if 'finess' in list(df_partenaires.columns):\n",
    "    finess_siret=pd.read_json(\"finess_siret-siege.json\")\n",
    "    df_partenaires_complet=pd.merge(df_partenaires_complet,finess_siret,how='left', on='finess')"
   ]
  },
  {
   "cell_type": "code",
   "execution_count": null,
   "id": "f8c8d110",
   "metadata": {},
   "outputs": [],
   "source": [
    "df_partenaires_complet[sources[source]['identifiants_preferes_structure']]"
   ]
  },
  {
   "cell_type": "code",
   "execution_count": null,
   "id": "a67832c4",
   "metadata": {},
   "outputs": [],
   "source": [
    "df_partenaires_complet.columns"
   ]
  },
  {
   "cell_type": "code",
   "execution_count": null,
   "id": "744c95bb",
   "metadata": {},
   "outputs": [],
   "source": [
    "df_partenaires_complet['id_structure']=df_partenaires_complet.apply(lambda row: identifiant_prefere(row,sources[source]['identifiants_preferes_structure']), axis=1)\n",
    "df_partenaires_complet"
   ]
  },
  {
   "cell_type": "code",
   "execution_count": null,
   "id": "18b49f3a",
   "metadata": {},
   "outputs": [],
   "source": [
    "#df_partenaires_complet[pd.isna(df_partenaires_complet.id_structure)]\n",
    "df_partenaires_complet.loc[(pd.isna(df_partenaires_complet['id_structure']))|(str(df_partenaires_complet['id_structure'])=='None')|(str(df_partenaires_complet['id_structure'])=='nan')]"
   ]
  },
  {
   "cell_type": "code",
   "execution_count": 21,
   "id": "42cb300a",
   "metadata": {},
   "outputs": [],
   "source": [
    "df_partenaires_complet.to_excel(f\"./DATA/{source}/df_partenaires_id_structures.xlsx\")\n",
    "df_partenaires_complet.to_json(f\"./DATA/{source}/df_partenaires_id_structures.json\")"
   ]
  },
  {
   "cell_type": "code",
   "execution_count": 22,
   "id": "1c690f9a",
   "metadata": {},
   "outputs": [],
   "source": [
    "df_partenaires_complet=pd.read_json(f\"./DATA/{source}/df_partenaires_id_structures.json\")"
   ]
  },
  {
   "cell_type": "code",
   "execution_count": 23,
   "id": "ec322580",
   "metadata": {},
   "outputs": [],
   "source": [
    "########récupération des structures sans identifiants pour les donner à Emmanuel\n",
    "identifiants_a_remplir=df_partenaires_complet.loc[(pd.isna(df_partenaires_complet['id_structure']))|(str(df_partenaires_complet['id_structure'])=='None')|(str(df_partenaires_complet['id_structure'])=='nan')]\n",
    "identifiants_a_remplir\n",
    "identifiants_a_remplir=identifiants_a_remplir.drop_duplicates(subset=f\"{sources[source]['nom_structure']}2\")\n",
    "identifiants_a_remplir=identifiants_a_remplir.reset_index()\n",
    "del identifiants_a_remplir['index']"
   ]
  },
  {
   "cell_type": "code",
   "execution_count": 24,
   "id": "e7af8b07",
   "metadata": {},
   "outputs": [],
   "source": [
    "###récupérer les structures avec les noms de chercheurs \n",
    "if source=='ADEME':\n",
    "    identifiants_a_remplir['nom']=identifiants_a_remplir['Organisme du porteur'].apply(lambda x: str(x).split(' ')[0].capitalize())\n",
    "    identifiants_a_remplir['prenom']=identifiants_a_remplir['Organisme du porteur'].apply(lambda x: extract_first_name(x))\n",
    "    nom=[]\n",
    "    prenom=[]\n",
    "    id_structure=[]\n",
    "    nom_structure=[]\n",
    "    annees=[]\n",
    "    annees_projet=[]\n",
    "    idref=[]\n",
    "    for i in range(len(identifiants_a_remplir)):\n",
    "        r=get_data_from_elastic(url_cluster,f\"{identifiants_a_remplir.iloc[i,:].prenom} {identifiants_a_remplir.iloc[i,:].nom}\")\n",
    "        if len(r['hits']['hits'])==1:\n",
    "            if 'affiliations' in list(r['hits']['hits'][0]['_source'].keys()):\n",
    "                for j in range(len(r['hits']['hits'][0]['_source']['affiliations'])):\n",
    "                    annee_proj=[str(y) for y in range(int(identifiants_a_remplir.iloc[i,:]['Date de dÃ©but du projet'][:4]),int(identifiants_a_remplir.iloc[i,:]['Date de fin du projet'][:4])+1,1)]\n",
    "                    if len([z for z in annee_proj if z in sorted(list(pd.Series([x['year'] for x in r['hits']['hits'][0]['_source']['affiliations'][j]['sources']]).drop_duplicates()))])>0:\n",
    "                        nom.append(identifiants_a_remplir.iloc[i,:].nom)\n",
    "                        prenom.append(identifiants_a_remplir.iloc[i,:].prenom)\n",
    "                        idref.append(r['hits']['hits'][0]['_source']['id'])\n",
    "                        annees_projet.append(annee_proj)\n",
    "                        id_structure.append(r['hits']['hits'][0]['_source']['affiliations'][j]['structure']['id'])\n",
    "                        nom_structure.append(r['hits']['hits'][0]['_source']['affiliations'][j]['structure']['label']['default'])\n",
    "                        annees.append(sorted(list(pd.Series([x['year'] for x in r['hits']['hits'][0]['_source']['affiliations'][j]['sources']]).drop_duplicates())))\n",
    "    df=pd.DataFrame(data={'nom':nom,'prenom':prenom,'idref':idref,'id_structure':id_structure,'nom_structure':nom_structure,'annees':annees,'annees_projet':annees_projet})\n",
    "    df['structures_potentielles']=df.apply(lambda row: {\"id\" : row['id_structure'], \"nom_structure\": row['nom_structure']},axis=1)\n",
    "    df=df.groupby(['nom','prenom','idref']).agg({'structures_potentielles':lambda x: list(x)}).reset_index()\n",
    "    df2=pd.merge(identifiants_a_remplir,df, on=['nom','prenom'],how='left')\n",
    "    df2.columns=['index', 'CatÃ©gorie', 'RÃ©fÃ©rence du projet', 'Acronyme du projet',\n",
    "        'Titre du projet', \"RÃ©fÃ©rence de l'appel Ã  projet\",\n",
    "        \"Titre de l'appel Ã  projet\", \"Acronyme de l'appel Ã  projet\",\n",
    "        \"AnnÃ©e de l'appel\", 'Organisme du porteur', 'SIRET du porteur',\n",
    "        'Identifiant ROR (Research Organization Registry) de lâorganisme ou RNSR',\n",
    "        'Date de dÃ©but du projet', 'Date de fin du projet',\n",
    "        'Organisme du porteur2', 'id_structure_matcher', 'id_structure_scanr',\n",
    "        'code', 'id_structure', 'nom', 'prenom', 'idref','structures_potentielles']\n",
    "    df2[['CatÃ©gorie', 'RÃ©fÃ©rence du projet', 'Acronyme du projet',\n",
    "        'Titre du projet', \"RÃ©fÃ©rence de l'appel Ã  projet\",\n",
    "        'Organisme du porteur',\n",
    "        'Date de dÃ©but du projet', 'Date de fin du projet',\n",
    "        'nom', 'prenom','idref','structures_potentielles']].to_excel(f\"./structures_manquantes/partenaires_non_identifies_{source}.xlsx\", index=False)"
   ]
  },
  {
   "cell_type": "code",
   "execution_count": 25,
   "id": "51ae89d6",
   "metadata": {},
   "outputs": [],
   "source": [
    "if source !='ADEME':   \n",
    "    if sources[source]['ville'] in list(identifiants_a_remplir.columns) and sources[source]['pays'] in list(identifiants_a_remplir.columns) and sources[source]['adresse'] not in list(identifiants_a_remplir.columns):\n",
    "        identifiants_a_remplir=identifiants_a_remplir[[sources[source]['nom_structure'],sources[source]['ville'],sources[source]['pays']]]\n",
    "    elif sources[source]['ville'] in list(identifiants_a_remplir.columns) and sources[source]['pays'] in list(identifiants_a_remplir.columns) and sources[source]['adresse'] in list(identifiants_a_remplir.columns):\n",
    "        identifiants_a_remplir=identifiants_a_remplir[[sources[source]['nom_structure'],sources[source]['adresse'],sources[source]['ville'],sources[source]['pays']]]\n",
    "    elif sources[source]['region'] in list(identifiants_a_remplir.columns):\n",
    "        identifiants_a_remplir=identifiants_a_remplir[[sources[source]['nom_structure'],sources[source]['region']]]\n",
    "    elif sources[source]['ville'] in list(identifiants_a_remplir.columns) and sources[source]['pays'] not in list(identifiants_a_remplir.columns):\n",
    "        identifiants_a_remplir=identifiants_a_remplir[[sources[source]['nom_structure'],sources[source]['ville']]]\n",
    "    identifiants_a_remplir"
   ]
  },
  {
   "cell_type": "code",
   "execution_count": 26,
   "id": "90b660db",
   "metadata": {},
   "outputs": [],
   "source": [
    "if source != 'ADEME':\n",
    "    identifiants_a_remplir.to_excel(f\"./structures_manquantes/partenaires_non_identifies_{source}.xlsx\", index=False)"
   ]
  },
  {
   "cell_type": "markdown",
   "id": "55b3e1da",
   "metadata": {},
   "source": [
    "# Matcher des chercheurs"
   ]
  },
  {
   "cell_type": "code",
   "execution_count": 29,
   "id": "89e9d1dd",
   "metadata": {},
   "outputs": [],
   "source": [
    "df_partenaires=pd.read_json(f\"./DATA/{source}/df_partners_id_structures.json\")"
   ]
  },
  {
   "cell_type": "code",
   "execution_count": null,
   "id": "ba8ba43e",
   "metadata": {},
   "outputs": [],
   "source": [
    "if len([x for x in ['nom', 'prenom'] if x in list(sources[source].keys())])==2:\n",
    "    df_partenaires['id_personne']=df_partenaires.progress_apply(lambda row: get_person(row, cached_data_persons,sources[source]['nom'],sources[source]['prenom']), axis=1)\n",
    "    write_cache(cached_data_persons,f\"./DATA/{source}/caches/cached_data_persons.pkl\")\n",
    "    df_partenaires.to_excel(f\"./DATA/{source}/df_partenaires_id_personne.xlsx\")\n",
    "    df_partenaires.to_json(f\"./DATA/{source}/df_partenaires_id_personne.json\")"
   ]
  },
  {
   "cell_type": "code",
   "execution_count": 30,
   "id": "14039fb3",
   "metadata": {},
   "outputs": [
    {
     "name": "stderr",
     "output_type": "stream",
     "text": [
      "  0%|          | 5/1737 [00:00<02:11, 13.18it/s]c:\\Users\\haallat\\AppData\\Local\\Programs\\Python\\Python39\\lib\\site-packages\\bs4\\builder\\__init__.py:545: XMLParsedAsHTMLWarning: It looks like you're parsing an XML document using an HTML parser. If this really is an HTML document (maybe it's XHTML?), you can ignore or filter this warning. If it's XML, you should know that using an XML parser will be more reliable. To parse this document as XML, make sure you have the lxml package installed, and pass the keyword argument `features=\"xml\"` into the BeautifulSoup constructor.\n",
      "  warnings.warn(\n",
      "  1%|          | 21/1737 [00:04<11:56,  2.40it/s]"
     ]
    },
    {
     "name": "stdout",
     "output_type": "stream",
     "text": [
      "no exact fullname match for Morin Jean-Paul vs ['trevanian', 'trevanian']\n"
     ]
    },
    {
     "name": "stderr",
     "output_type": "stream",
     "text": [
      "  1%|▏         | 26/1737 [00:05<09:17,  3.07it/s]"
     ]
    },
    {
     "name": "stdout",
     "output_type": "stream",
     "text": [
      "no exact fullname match for Clavel Jacqueline vs ['jacqueline clavel marinacce', 'clavel marinacce jacqueline']\n"
     ]
    },
    {
     "name": "stderr",
     "output_type": "stream",
     "text": [
      "  2%|▏         | 27/1737 [00:06<08:29,  3.35it/s]"
     ]
    },
    {
     "name": "stdout",
     "output_type": "stream",
     "text": [
      "no exact fullname match for Gilot-Fromont Emmanuelle vs ['emmanuelle fromont', 'fromont emmanuelle']\n"
     ]
    },
    {
     "name": "stderr",
     "output_type": "stream",
     "text": [
      "  2%|▏         | 30/1737 [00:06<06:55,  4.11it/s]"
     ]
    },
    {
     "name": "stdout",
     "output_type": "stream",
     "text": [
      "no exact fullname match for Schneider Dominique vs ['dominique jung schneider', 'jung schneider dominique']\n"
     ]
    },
    {
     "name": "stderr",
     "output_type": "stream",
     "text": [
      "  2%|▏         | 35/1737 [00:08<07:55,  3.58it/s]"
     ]
    },
    {
     "name": "stdout",
     "output_type": "stream",
     "text": [
      "no exact fullname match for Forestier Christiane vs ['christiane nativel forestier', 'nativel forestier christiane']\n"
     ]
    },
    {
     "name": "stderr",
     "output_type": "stream",
     "text": [
      "  2%|▏         | 37/1737 [00:09<06:45,  4.19it/s]"
     ]
    },
    {
     "name": "stdout",
     "output_type": "stream",
     "text": [
      "no exact fullname match for Paris Christophe vs ['jean christophe paris', 'paris jean christophe']\n",
      "no exact fullname match for Paris Christophe vs ['jean christophe paris', 'paris jean christophe']\n",
      "no exact fullname match for Paris Christophe vs ['christophe de paris', 'christophe de paris']\n",
      "no exact fullname match for Paris Christophe vs ['jean christophe coffin', 'coffin jean christophe']\n"
     ]
    },
    {
     "name": "stderr",
     "output_type": "stream",
     "text": [
      "  2%|▏         | 38/1737 [00:10<13:27,  2.10it/s]"
     ]
    },
    {
     "name": "stdout",
     "output_type": "stream",
     "text": [
      "no exact fullname match for Paris Christophe vs ['christophe greffet', 'greffet christophe']\n",
      "no exact fullname match for Paris Christophe vs ['christophe de beaumont du repaire', 'beaumont du repaire christophe de']\n"
     ]
    },
    {
     "name": "stderr",
     "output_type": "stream",
     "text": [
      "  2%|▏         | 40/1737 [00:10<09:24,  3.01it/s]"
     ]
    },
    {
     "name": "stdout",
     "output_type": "stream",
     "text": [
      "no exact fullname match for Bénédetti Marc vs ['jean marc benedetti', 'benedetti jean marc']\n",
      "no exact fullname match for Bénédetti Marc vs ['jean marc benedetti', 'benedetti jean marc']\n"
     ]
    },
    {
     "name": "stderr",
     "output_type": "stream",
     "text": [
      "  3%|▎         | 57/1737 [00:14<07:02,  3.98it/s]"
     ]
    },
    {
     "name": "stdout",
     "output_type": "stream",
     "text": [
      "no exact fullname match for Fenet Hélène vs ['helene buisson fenet', 'buisson fenet helene']\n"
     ]
    },
    {
     "name": "stderr",
     "output_type": "stream",
     "text": [
      "  3%|▎         | 59/1737 [00:15<07:25,  3.76it/s]"
     ]
    },
    {
     "name": "stdout",
     "output_type": "stream",
     "text": [
      "no exact fullname match for Baeza Armelle vs ['armelle baeza squiban', 'baeza squiban armelle']\n"
     ]
    },
    {
     "name": "stderr",
     "output_type": "stream",
     "text": [
      "  4%|▍         | 68/1737 [00:16<04:58,  5.60it/s]"
     ]
    },
    {
     "name": "stdout",
     "output_type": "stream",
     "text": [
      "Error in getting notice 091300940\n",
      "skipping birth date 1817-01-01T00:00:00\n"
     ]
    },
    {
     "name": "stderr",
     "output_type": "stream",
     "text": [
      "  4%|▍         | 70/1737 [00:17<05:12,  5.34it/s]"
     ]
    },
    {
     "name": "stdout",
     "output_type": "stream",
     "text": [
      "no exact fullname match for Krishnan Kannan vs ['kannan m  krishnan', 'krishnan kannan m']\n",
      "no exact fullname match for Carrière Marie vs ['marie j  carriere', 'carriere marie j']\n",
      "no exact fullname match for Carrière Marie vs ['anne marie carriere', 'carriere anne marie']\n",
      "no exact fullname match for Carrière Marie vs ['lucien eugene marie carriere', 'carriere lucien eugene marie']\n",
      "no exact fullname match for Carrière Marie vs ['jean marie carriere', 'carriere jean marie']\n",
      "no exact fullname match for Carrière Marie vs ['martin barthelemy carriere', 'carriere martin barthelemy']\n",
      "no exact fullname match for Carrière Marie vs ['jean marie carriere', 'carriere jean marie']\n",
      "no exact fullname match for Carrière Marie vs ['marie joseph henri carriere', 'carriere marie joseph henri']\n"
     ]
    },
    {
     "name": "stderr",
     "output_type": "stream",
     "text": [
      "  4%|▍         | 72/1737 [00:18<09:00,  3.08it/s]"
     ]
    },
    {
     "name": "stdout",
     "output_type": "stream",
     "text": [
      "no exact fullname match for Carrière Marie vs ['marie paule carriere hervagault', 'carriere hervagault marie paule']\n"
     ]
    },
    {
     "name": "stderr",
     "output_type": "stream",
     "text": [
      "  4%|▍         | 73/1737 [00:18<08:17,  3.34it/s]"
     ]
    },
    {
     "name": "stdout",
     "output_type": "stream",
     "text": [
      "no exact fullname match for Zmirou Denis vs ['denis zmirou navier', 'zmirou navier denis']\n"
     ]
    },
    {
     "name": "stderr",
     "output_type": "stream",
     "text": [
      "  6%|▌         | 103/1737 [00:24<04:29,  6.07it/s]"
     ]
    },
    {
     "name": "stdout",
     "output_type": "stream",
     "text": [
      "no exact fullname match for Le Moual Nicole vs ['nicole lincot le moual', 'lincot le moual nicole']\n"
     ]
    },
    {
     "name": "stderr",
     "output_type": "stream",
     "text": [
      "  6%|▌         | 108/1737 [00:25<05:35,  4.86it/s]"
     ]
    },
    {
     "name": "stdout",
     "output_type": "stream",
     "text": [
      "no exact fullname match for Raherison Chantal vs ['chantal raherison semjen', 'raherison semjen chantal']\n",
      "no exact fullname match for Pons Françoise vs ['francoise pons lebeau', 'pons lebeau francoise']\n",
      "no exact fullname match for Pons Françoise vs ['francoise bernard pons', 'bernard pons francoise']\n",
      "no exact fullname match for Pons Françoise vs ['anne francoise pons', 'pons anne francoise']\n"
     ]
    },
    {
     "name": "stderr",
     "output_type": "stream",
     "text": [
      "  6%|▋         | 110/1737 [00:26<09:54,  2.74it/s]"
     ]
    },
    {
     "name": "stdout",
     "output_type": "stream",
     "text": [
      "no exact fullname match for Calvez Marcel vs ['marcel le calvez', 'le calvez marcel']\n"
     ]
    },
    {
     "name": "stderr",
     "output_type": "stream",
     "text": [
      "  7%|▋         | 117/1737 [00:28<06:42,  4.02it/s]"
     ]
    },
    {
     "name": "stdout",
     "output_type": "stream",
     "text": [
      "no exact fullname match for Paris Christophe vs ['jean christophe paris', 'paris jean christophe']\n",
      "no exact fullname match for Paris Christophe vs ['jean christophe paris', 'paris jean christophe']\n",
      "no exact fullname match for Paris Christophe vs ['christophe de paris', 'christophe de paris']\n",
      "no exact fullname match for Paris Christophe vs ['jean christophe coffin', 'coffin jean christophe']\n"
     ]
    },
    {
     "name": "stderr",
     "output_type": "stream",
     "text": [
      "  7%|▋         | 118/1737 [00:29<13:13,  2.04it/s]"
     ]
    },
    {
     "name": "stdout",
     "output_type": "stream",
     "text": [
      "no exact fullname match for Paris Christophe vs ['christophe greffet', 'greffet christophe']\n",
      "no exact fullname match for Paris Christophe vs ['christophe de beaumont du repaire', 'beaumont du repaire christophe de']\n"
     ]
    },
    {
     "name": "stderr",
     "output_type": "stream",
     "text": [
      "  7%|▋         | 127/1737 [00:31<05:08,  5.22it/s]"
     ]
    },
    {
     "name": "stdout",
     "output_type": "stream",
     "text": [
      "no exact fullname match for Bernard Louis vs ['bernard thobois', 'thobois bernard']\n",
      "no exact fullname match for Bernard Louis vs ['louis bernard robitaille', 'robitaille louis bernard']\n",
      "no exact fullname match for Bernard Louis vs ['bernard louis dumont', 'dumont bernard louis']\n",
      "no exact fullname match for Bernard Louis vs ['bernard louis roques', 'roques bernard louis']\n"
     ]
    },
    {
     "name": "stderr",
     "output_type": "stream",
     "text": [
      "  8%|▊         | 133/1737 [00:32<06:06,  4.38it/s]"
     ]
    },
    {
     "name": "stdout",
     "output_type": "stream",
     "text": [
      "no exact fullname match for Garric Jeanne vs ['marie jeanne garric', 'garric marie jeanne']\n"
     ]
    },
    {
     "name": "stderr",
     "output_type": "stream",
     "text": [
      "  8%|▊         | 134/1737 [00:33<07:01,  3.80it/s]"
     ]
    },
    {
     "name": "stdout",
     "output_type": "stream",
     "text": [
      "no exact fullname match for Rose Jerome vs ['jerome c  rose', 'rose jerome c']\n",
      "no exact fullname match for Rose Jerome vs ['jerome g  rose', 'rose jerome g']\n"
     ]
    },
    {
     "name": "stderr",
     "output_type": "stream",
     "text": [
      "  9%|▊         | 150/1737 [00:36<05:53,  4.49it/s]"
     ]
    },
    {
     "name": "stdout",
     "output_type": "stream",
     "text": [
      "skipping birth date 1890-01-01T00:00:00\n"
     ]
    },
    {
     "name": "stderr",
     "output_type": "stream",
     "text": [
      "  9%|▊         | 151/1737 [00:36<06:04,  4.35it/s]"
     ]
    },
    {
     "name": "stdout",
     "output_type": "stream",
     "text": [
      "no exact fullname match for Lepage Nadege vs ['nadege lepage druetto', 'lepage druetto nadege']\n"
     ]
    },
    {
     "name": "stderr",
     "output_type": "stream",
     "text": [
      "  9%|▉         | 154/1737 [00:37<08:34,  3.08it/s]"
     ]
    },
    {
     "name": "stdout",
     "output_type": "stream",
     "text": [
      "no exact fullname match for Allemand Isabelle vs ['isabelle meutelet allemand', 'meutelet allemand isabelle']\n",
      "no exact fullname match for Allemand Isabelle vs ['isabelle martine', 'martine isabelle']\n"
     ]
    },
    {
     "name": "stderr",
     "output_type": "stream",
     "text": [
      "  9%|▉         | 157/1737 [00:38<06:36,  3.99it/s]"
     ]
    },
    {
     "name": "stdout",
     "output_type": "stream",
     "text": [
      "no exact fullname match for Thomas Olivier vs ['olivier paul thomas', 'thomas olivier paul']\n"
     ]
    },
    {
     "name": "stderr",
     "output_type": "stream",
     "text": [
      "  9%|▉         | 162/1737 [00:40<06:34,  3.99it/s]"
     ]
    },
    {
     "name": "stdout",
     "output_type": "stream",
     "text": [
      "no exact fullname match for Bertrand Xavier vs ['bertrand xavier soret', 'soret bertrand xavier']\n",
      "no exact fullname match for Bertrand Xavier vs ['bertrand delafosse', 'delafosse bertrand']\n",
      "no exact fullname match for Bertrand Xavier vs ['francois xavier bernard bertrand lesage', 'lesage francois xavier bernard bertrand']\n"
     ]
    },
    {
     "name": "stderr",
     "output_type": "stream",
     "text": [
      "  9%|▉         | 163/1737 [00:41<11:17,  2.32it/s]"
     ]
    },
    {
     "name": "stdout",
     "output_type": "stream",
     "text": [
      "no exact fullname match for Bertrand Xavier vs ['etienne bertaud du chazaud', 'bertaud du chazaud etienne']\n"
     ]
    },
    {
     "name": "stderr",
     "output_type": "stream",
     "text": [
      " 10%|█         | 174/1737 [00:44<11:25,  2.28it/s]"
     ]
    },
    {
     "name": "stdout",
     "output_type": "stream",
     "text": [
      "no exact fullname match for Morin Jean-Paul vs ['trevanian', 'trevanian']\n"
     ]
    },
    {
     "name": "stderr",
     "output_type": "stream",
     "text": [
      " 11%|█         | 186/1737 [00:46<04:13,  6.13it/s]"
     ]
    },
    {
     "name": "stdout",
     "output_type": "stream",
     "text": [
      "no exact fullname match for Langouet Sophie vs ['sophie langouet prigent', 'langouet prigent sophie']\n"
     ]
    },
    {
     "name": "stderr",
     "output_type": "stream",
     "text": [
      " 11%|█         | 194/1737 [00:48<04:22,  5.88it/s]"
     ]
    },
    {
     "name": "stdout",
     "output_type": "stream",
     "text": [
      "no exact fullname match for Petit Audrey vs ['audrey petit trigg', 'petit trigg audrey']\n",
      "no exact fullname match for Petit Audrey vs ['audrey francoise petit', 'petit audrey francoise']\n",
      "no exact fullname match for Petit Audrey vs ['audrey petit bessy', 'petit bessy audrey']\n",
      "no exact fullname match for Petit Audrey vs ['marie audrey barrat petit', 'barrat petit marie audrey']\n"
     ]
    },
    {
     "name": "stderr",
     "output_type": "stream",
     "text": [
      " 11%|█▏        | 197/1737 [00:50<10:37,  2.42it/s]"
     ]
    },
    {
     "name": "stdout",
     "output_type": "stream",
     "text": [
      "no exact fullname match for Hamel Jean-François vs ['jean francois hamel broza', 'hamel broza jean francois']\n"
     ]
    },
    {
     "name": "stderr",
     "output_type": "stream",
     "text": [
      " 12%|█▏        | 200/1737 [00:51<10:35,  2.42it/s]"
     ]
    },
    {
     "name": "stdout",
     "output_type": "stream",
     "text": [
      "no exact fullname match for Schmich Isabelle vs ['isabelle schmich yamane', 'schmich yamane isabelle']\n"
     ]
    },
    {
     "name": "stderr",
     "output_type": "stream",
     "text": [
      " 12%|█▏        | 207/1737 [00:53<07:25,  3.43it/s]"
     ]
    },
    {
     "name": "stdout",
     "output_type": "stream",
     "text": [
      "no exact fullname match for Legrand Emilie vs ['emilie legrand collin', 'legrand collin emilie']\n",
      "no exact fullname match for Legrand Emilie vs ['emilie legrand pluquet', 'legrand pluquet emilie']\n"
     ]
    },
    {
     "name": "stderr",
     "output_type": "stream",
     "text": [
      " 12%|█▏        | 216/1737 [00:55<07:15,  3.49it/s]"
     ]
    },
    {
     "name": "stdout",
     "output_type": "stream",
     "text": [
      "no exact fullname match for Bouvier Ghislaine vs ['ghislaine briot', 'briot ghislaine']\n"
     ]
    },
    {
     "name": "stderr",
     "output_type": "stream",
     "text": [
      " 13%|█▎        | 218/1737 [00:56<07:10,  3.53it/s]"
     ]
    },
    {
     "name": "stdout",
     "output_type": "stream",
     "text": [
      "no exact fullname match for Mir Luis vs ['luis jerez mir', 'jerez mir luis']\n"
     ]
    },
    {
     "name": "stderr",
     "output_type": "stream",
     "text": [
      " 13%|█▎        | 220/1737 [00:56<08:01,  3.15it/s]"
     ]
    },
    {
     "name": "stdout",
     "output_type": "stream",
     "text": [
      "no exact fullname match for Mir Luis vs ['luis m  mir', 'm  mir luis']\n"
     ]
    },
    {
     "name": "stderr",
     "output_type": "stream",
     "text": [
      " 13%|█▎        | 227/1737 [00:58<06:15,  4.02it/s]"
     ]
    },
    {
     "name": "stdout",
     "output_type": "stream",
     "text": [
      "no exact fullname match for Poinsignon Anne vs ['anne chantal mazingue desailly', 'mazingue desailly anne chantal']\n"
     ]
    },
    {
     "name": "stderr",
     "output_type": "stream",
     "text": [
      " 13%|█▎        | 230/1737 [00:59<06:19,  3.97it/s]"
     ]
    },
    {
     "name": "stdout",
     "output_type": "stream",
     "text": [
      "no exact fullname match for Luce Danièle vs ['daniele luce alet', 'alet daniele luce']\n"
     ]
    },
    {
     "name": "stderr",
     "output_type": "stream",
     "text": [
      " 13%|█▎        | 231/1737 [01:00<09:48,  2.56it/s]"
     ]
    },
    {
     "name": "stdout",
     "output_type": "stream",
     "text": [
      "no exact fullname match for Morin Didier vs ['gilles andre didier morin', 'morin gilles andre didier']\n"
     ]
    },
    {
     "name": "stderr",
     "output_type": "stream",
     "text": [
      " 13%|█▎        | 233/1737 [01:00<06:26,  3.90it/s]"
     ]
    },
    {
     "name": "stdout",
     "output_type": "stream",
     "text": [
      "no exact fullname match for Langouet Sophie vs ['sophie langouet prigent', 'langouet prigent sophie']\n"
     ]
    },
    {
     "name": "stderr",
     "output_type": "stream",
     "text": [
      " 14%|█▎        | 236/1737 [01:01<07:56,  3.15it/s]"
     ]
    },
    {
     "name": "stdout",
     "output_type": "stream",
     "text": [
      "skipping Animateur à Radio-Canada, docteur en sémiologie, journaliste (en 2003)\n"
     ]
    },
    {
     "name": "stderr",
     "output_type": "stream",
     "text": [
      " 14%|█▎        | 237/1737 [01:02<10:54,  2.29it/s]"
     ]
    },
    {
     "name": "stdout",
     "output_type": "stream",
     "text": [
      "no exact fullname match for Auger Jacques vs ['jean jacques  auger', 'auger jean jacques']\n"
     ]
    },
    {
     "name": "stderr",
     "output_type": "stream",
     "text": [
      " 14%|█▎        | 238/1737 [01:02<10:56,  2.28it/s]"
     ]
    },
    {
     "name": "stdout",
     "output_type": "stream",
     "text": [
      "skipping birth date 1890-01-01T00:00:00\n"
     ]
    },
    {
     "name": "stderr",
     "output_type": "stream",
     "text": [
      " 14%|█▍        | 239/1737 [01:02<11:15,  2.22it/s]"
     ]
    },
    {
     "name": "stdout",
     "output_type": "stream",
     "text": [
      "no exact fullname match for Riviere Emmanuel vs ['marie emmanuel riviere', 'riviere marie emmanuel']\n"
     ]
    },
    {
     "name": "stderr",
     "output_type": "stream",
     "text": [
      " 14%|█▍        | 248/1737 [01:04<04:27,  5.56it/s]"
     ]
    },
    {
     "name": "stdout",
     "output_type": "stream",
     "text": [
      "no exact fullname match for Lacour Brigitte vs ['brigitte lacour schillig', 'lacour schillig brigitte']\n"
     ]
    },
    {
     "name": "stderr",
     "output_type": "stream",
     "text": [
      " 14%|█▍        | 250/1737 [01:04<04:22,  5.67it/s]"
     ]
    },
    {
     "name": "stdout",
     "output_type": "stream",
     "text": [
      "no exact fullname match for De Sèze René vs ['rene de seze', 'seze rene de']\n"
     ]
    },
    {
     "name": "stderr",
     "output_type": "stream",
     "text": [
      " 15%|█▍        | 259/1737 [01:06<04:23,  5.60it/s]"
     ]
    },
    {
     "name": "stdout",
     "output_type": "stream",
     "text": [
      "no exact fullname match for Fournier Thierry vs ['thierry fournier', 'fournier  thierry']\n"
     ]
    },
    {
     "name": "stderr",
     "output_type": "stream",
     "text": [
      " 15%|█▌        | 266/1737 [01:08<06:12,  3.95it/s]"
     ]
    },
    {
     "name": "stdout",
     "output_type": "stream",
     "text": [
      "no exact fullname match for Garrigou Alain vs ['alain garrigou torchy', 'garrigou torchy alain']\n"
     ]
    },
    {
     "name": "stderr",
     "output_type": "stream",
     "text": [
      " 15%|█▌        | 267/1737 [01:09<07:22,  3.32it/s]"
     ]
    },
    {
     "name": "stdout",
     "output_type": "stream",
     "text": [
      "no exact fullname match for Maître Anne vs ['anne le maitre', 'le maitre anne']\n",
      "no exact fullname match for Maître Anne vs ['anne le maitre', 'le maitre anne']\n",
      "no exact fullname match for Maître Anne vs ['marie anne prioux maitre', 'prioux maitre marie anne']\n",
      "no exact fullname match for Maître Anne vs ['anne marie peau', 'peau anne marie']\n",
      "no exact fullname match for Maître Anne vs ['anne laure bourdel', 'bourdel anne laure']\n",
      "no exact fullname match for Maître Anne vs ['anne waugh', 'waugh anne']\n",
      "no exact fullname match for Maître Anne vs ['anne claire prince', 'prince anne claire']\n"
     ]
    },
    {
     "name": "stderr",
     "output_type": "stream",
     "text": [
      " 15%|█▌        | 269/1737 [01:10<11:25,  2.14it/s]"
     ]
    },
    {
     "name": "stdout",
     "output_type": "stream",
     "text": [
      "no exact fullname match for Maître Anne vs ['anne sophie ledonne', 'ledonne anne sophie']\n"
     ]
    },
    {
     "name": "stderr",
     "output_type": "stream",
     "text": [
      " 16%|█▌        | 271/1737 [01:11<08:54,  2.74it/s]"
     ]
    },
    {
     "name": "stdout",
     "output_type": "stream",
     "text": [
      "no exact fullname match for Schroeder Henri vs ['henri christian schroeder', 'schroeder henri christian']\n"
     ]
    },
    {
     "name": "stderr",
     "output_type": "stream",
     "text": [
      " 16%|█▌        | 275/1737 [01:12<06:52,  3.54it/s]"
     ]
    },
    {
     "name": "stdout",
     "output_type": "stream",
     "text": [
      "no exact fullname match for Perrin Anne vs ['anne perrin khelissa', 'perrin khelissa anne']\n",
      "no exact fullname match for Perrin Anne vs ['anne marie perrin', 'perrin anne marie']\n"
     ]
    },
    {
     "name": "stderr",
     "output_type": "stream",
     "text": [
      " 16%|█▌        | 277/1737 [01:13<10:54,  2.23it/s]"
     ]
    },
    {
     "name": "stdout",
     "output_type": "stream",
     "text": [
      "no exact fullname match for Perrin Anne vs ['anne gaelle perrin', 'perrin anne gaelle']\n"
     ]
    },
    {
     "name": "stderr",
     "output_type": "stream",
     "text": [
      " 16%|█▌        | 280/1737 [01:14<08:53,  2.73it/s]"
     ]
    },
    {
     "name": "stdout",
     "output_type": "stream",
     "text": [
      "no exact fullname match for Bories Serge vs ['serge charles bories', 'bories serge charles']\n",
      "no exact fullname match for Pons Françoise vs ['francoise pons lebeau', 'pons lebeau francoise']\n",
      "no exact fullname match for Pons Françoise vs ['francoise bernard pons', 'bernard pons francoise']\n",
      "no exact fullname match for Pons Françoise vs ['anne francoise pons', 'pons anne francoise']\n"
     ]
    },
    {
     "name": "stderr",
     "output_type": "stream",
     "text": [
      " 16%|█▌        | 282/1737 [01:15<10:37,  2.28it/s]"
     ]
    },
    {
     "name": "stdout",
     "output_type": "stream",
     "text": [
      "no exact fullname match for Guzylack Laurence vs ['laurence piriou guzylack', 'piriou guzylack laurence']\n",
      "no exact fullname match for Martin Perrine vs ['perrine j  martin', 'martin perrine j']\n"
     ]
    },
    {
     "name": "stderr",
     "output_type": "stream",
     "text": [
      " 16%|█▋        | 285/1737 [01:16<07:51,  3.08it/s]"
     ]
    },
    {
     "name": "stdout",
     "output_type": "stream",
     "text": [
      "no exact fullname match for Martin Perrine vs ['perrine saint martin', 'saint martin perrine']\n",
      "no exact fullname match for Barthélémy Philippe vs ['charles philippe barthelemy', 'barthelemy charles philippe']\n"
     ]
    },
    {
     "name": "stderr",
     "output_type": "stream",
     "text": [
      " 17%|█▋        | 287/1737 [01:18<12:01,  2.01it/s]"
     ]
    },
    {
     "name": "stdout",
     "output_type": "stream",
     "text": [
      "no exact fullname match for Gomez Elena vs ['elena lopez gomez', 'lopez gomez elena']\n",
      "no exact fullname match for Gomez Elena vs ['elena gomez ugarte', 'gomez ugarte elena']\n",
      "no exact fullname match for Gomez Elena vs ['elena gomez perez', 'gomez perez elena']\n",
      "no exact fullname match for Gomez Elena vs ['elena merino gomez', 'merino gomez elena']\n",
      "no exact fullname match for Gomez Elena vs ['elena vasquez gomez', 'vasquez gomez elena']\n",
      "no exact fullname match for Gomez Elena vs ['elena gomez diaz', 'gomez diaz elena']\n",
      "no exact fullname match for Gomez Elena vs ['maria elena gomez moreno', 'gomez moreno maria elena']\n",
      "no exact fullname match for Gomez Elena vs ['maria elena gomez hernandez', 'gomez hernandez maria elena']\n",
      "no exact fullname match for Gomez Elena vs ['elena gomez villalba ballesteros', 'gomez villalba ballesteros elena']\n",
      "no exact fullname match for Gomez Elena vs ['maria elena gomez miranda', 'gomez miranda maria elena']\n"
     ]
    },
    {
     "name": "stderr",
     "output_type": "stream",
     "text": [
      " 17%|█▋        | 295/1737 [01:20<05:11,  4.63it/s]"
     ]
    },
    {
     "name": "stdout",
     "output_type": "stream",
     "text": [
      "no exact fullname match for Etienne Manuel vs ['arnaud manuel etienne', 'etienne arnaud manuel']\n",
      "no exact fullname match for Etienne Manuel vs ['marie andree manuel etienne', 'manuel etienne marie andree']\n"
     ]
    },
    {
     "name": "stderr",
     "output_type": "stream",
     "text": [
      " 17%|█▋        | 298/1737 [01:21<05:25,  4.42it/s]"
     ]
    },
    {
     "name": "stdout",
     "output_type": "stream",
     "text": [
      "no exact fullname match for Etienne Manuel vs ['etienne gougere', 'gougere etienne']\n",
      "no exact fullname match for Suarez Guillaume vs ['guillaume asuarez', 'asuarez guillaume']\n"
     ]
    },
    {
     "name": "stderr",
     "output_type": "stream",
     "text": [
      " 17%|█▋        | 300/1737 [01:21<05:04,  4.72it/s]"
     ]
    },
    {
     "name": "stdout",
     "output_type": "stream",
     "text": [
      "no exact fullname match for Lecomte Catherine vs ['catherine lecomte lapp', 'lecomte lapp catherine']\n",
      "no exact fullname match for Lecomte Catherine vs ['anne catherine lecomte', 'lecomte anne catherine']\n"
     ]
    },
    {
     "name": "stderr",
     "output_type": "stream",
     "text": [
      " 17%|█▋        | 302/1737 [01:22<07:42,  3.10it/s]"
     ]
    },
    {
     "name": "stdout",
     "output_type": "stream",
     "text": [
      "no exact fullname match for Lecomte Catherine vs ['catherine deslandes', 'deslandes catherine']\n",
      "no exact fullname match for Lecomte Catherine vs ['catherine lecomte pradines', 'lecomte pradines catherine']\n"
     ]
    },
    {
     "name": "stderr",
     "output_type": "stream",
     "text": [
      " 18%|█▊        | 313/1737 [01:24<05:06,  4.65it/s]"
     ]
    },
    {
     "name": "stdout",
     "output_type": "stream",
     "text": [
      "no exact fullname match for Tarrade Anne vs ['anne couturier tarrade', 'couturier tarrade anne']\n"
     ]
    },
    {
     "name": "stderr",
     "output_type": "stream",
     "text": [
      " 18%|█▊        | 318/1737 [01:26<08:10,  2.90it/s]"
     ]
    },
    {
     "name": "stdout",
     "output_type": "stream",
     "text": [
      "no exact fullname match for Moreau Christophe vs ['jean christophe moreau', 'moreau jean christophe']\n",
      "no exact fullname match for Moreau Christophe vs ['jean christophe moreau', 'moreau jean christophe']\n",
      "no exact fullname match for Moreau Christophe vs ['louis mathurin moreau christophe', 'moreau christophe louis mathurin']\n"
     ]
    },
    {
     "name": "stderr",
     "output_type": "stream",
     "text": [
      " 18%|█▊        | 319/1737 [01:27<13:12,  1.79it/s]"
     ]
    },
    {
     "name": "stdout",
     "output_type": "stream",
     "text": [
      "no exact fullname match for Moreau Christophe vs ['jean christophe moreau', 'moreau jean christophe']\n"
     ]
    },
    {
     "name": "stderr",
     "output_type": "stream",
     "text": [
      " 19%|█▊        | 322/1737 [01:28<08:59,  2.62it/s]"
     ]
    },
    {
     "name": "stdout",
     "output_type": "stream",
     "text": [
      "skipping birth date 0001-01-01T00:00:00\n"
     ]
    },
    {
     "name": "stderr",
     "output_type": "stream",
     "text": [
      " 20%|█▉        | 345/1737 [01:31<03:35,  6.45it/s]"
     ]
    },
    {
     "name": "stdout",
     "output_type": "stream",
     "text": [
      "no exact fullname match for Chevalier Nicolas vs ['nicolas r  chevalier', 'chevalier nicolas r']\n"
     ]
    },
    {
     "name": "stderr",
     "output_type": "stream",
     "text": [
      " 20%|█▉        | 346/1737 [01:32<08:51,  2.61it/s]"
     ]
    },
    {
     "name": "stdout",
     "output_type": "stream",
     "text": [
      "no exact fullname match for Chevalier Nicolas vs ['nicolas chevalier roch', 'chevalier roch nicolas']\n"
     ]
    },
    {
     "name": "stderr",
     "output_type": "stream",
     "text": [
      " 20%|██        | 356/1737 [01:34<05:30,  4.17it/s]"
     ]
    },
    {
     "name": "stdout",
     "output_type": "stream",
     "text": [
      "no exact fullname match for Paris Christophe vs ['jean christophe paris', 'paris jean christophe']\n",
      "no exact fullname match for Paris Christophe vs ['jean christophe paris', 'paris jean christophe']\n",
      "no exact fullname match for Paris Christophe vs ['christophe de paris', 'christophe de paris']\n",
      "no exact fullname match for Paris Christophe vs ['jean christophe coffin', 'coffin jean christophe']\n"
     ]
    },
    {
     "name": "stderr",
     "output_type": "stream",
     "text": [
      " 21%|██        | 357/1737 [01:36<11:46,  1.95it/s]"
     ]
    },
    {
     "name": "stdout",
     "output_type": "stream",
     "text": [
      "no exact fullname match for Paris Christophe vs ['christophe greffet', 'greffet christophe']\n",
      "no exact fullname match for Paris Christophe vs ['christophe de beaumont du repaire', 'beaumont du repaire christophe de']\n"
     ]
    },
    {
     "name": "stderr",
     "output_type": "stream",
     "text": [
      " 21%|██        | 361/1737 [01:37<07:03,  3.25it/s]"
     ]
    },
    {
     "name": "stdout",
     "output_type": "stream",
     "text": [
      "no exact fullname match for Petit Fabienne vs ['fabienne arias petit', 'arias petit fabienne']\n",
      "no exact fullname match for Petit Fabienne vs ['fabienne petit jean', 'petit jean fabienne']\n"
     ]
    },
    {
     "name": "stderr",
     "output_type": "stream",
     "text": [
      " 21%|██        | 369/1737 [01:39<06:10,  3.70it/s]"
     ]
    },
    {
     "name": "stdout",
     "output_type": "stream",
     "text": [
      "no exact fullname match for Bories Serge vs ['serge charles bories', 'bories serge charles']\n"
     ]
    },
    {
     "name": "stderr",
     "output_type": "stream",
     "text": [
      " 21%|██▏       | 372/1737 [01:40<06:37,  3.44it/s]"
     ]
    },
    {
     "name": "stdout",
     "output_type": "stream",
     "text": [
      "no exact fullname match for Chatel Amélie vs ['marie louise amelie chatel', 'chatel marie louise amelie']\n"
     ]
    },
    {
     "name": "stderr",
     "output_type": "stream",
     "text": [
      " 21%|██▏       | 373/1737 [01:40<06:16,  3.62it/s]"
     ]
    },
    {
     "name": "stdout",
     "output_type": "stream",
     "text": [
      "no exact fullname match for Merlin Christophe vs ['antoine merlin', 'merlin antoine']\n"
     ]
    },
    {
     "name": "stderr",
     "output_type": "stream",
     "text": [
      " 22%|██▏       | 374/1737 [01:41<09:18,  2.44it/s]"
     ]
    },
    {
     "name": "stdout",
     "output_type": "stream",
     "text": [
      "no exact fullname match for Merlin Christophe vs ['paul christophe elisabeth merlin', 'merlin paul christophe elisabeth']\n"
     ]
    },
    {
     "name": "stderr",
     "output_type": "stream",
     "text": [
      " 22%|██▏       | 380/1737 [01:42<04:34,  4.94it/s]"
     ]
    },
    {
     "name": "stdout",
     "output_type": "stream",
     "text": [
      "no exact fullname match for Reynaud Stéphane vs ['stephane denis reynaud', 'reynaud stephane denis']\n"
     ]
    },
    {
     "name": "stderr",
     "output_type": "stream",
     "text": [
      " 22%|██▏       | 384/1737 [01:43<06:08,  3.67it/s]"
     ]
    },
    {
     "name": "stdout",
     "output_type": "stream",
     "text": [
      "no exact fullname match for Lecureur Valérie vs ['valerie lecureur rolland', 'lecureur rolland valerie']\n"
     ]
    },
    {
     "name": "stderr",
     "output_type": "stream",
     "text": [
      " 23%|██▎       | 401/1737 [01:46<03:00,  7.42it/s]"
     ]
    },
    {
     "name": "stdout",
     "output_type": "stream",
     "text": [
      "no exact fullname match for Arnaud-Cormos Delia vs ['liliana delia arnaud cormos', 'arnaud cormos liliana delia']\n"
     ]
    },
    {
     "name": "stderr",
     "output_type": "stream",
     "text": [
      " 23%|██▎       | 407/1737 [01:47<04:31,  4.90it/s]"
     ]
    },
    {
     "name": "stdout",
     "output_type": "stream",
     "text": [
      "no exact fullname match for Bontempi Bruno vs ['bruno bontempi junior', 'bontempi junior bruno']\n"
     ]
    },
    {
     "name": "stderr",
     "output_type": "stream",
     "text": [
      " 24%|██▍       | 417/1737 [01:49<03:10,  6.95it/s]"
     ]
    },
    {
     "name": "stdout",
     "output_type": "stream",
     "text": [
      "no exact fullname match for Villanueva Cristina vs ['cristina ferreiro villanueva', 'ferreiro villanueva cristina']\n",
      "no exact fullname match for Villanueva Cristina vs ['cristina lopez villanueva', 'lopez villanueva cristina']\n",
      "no exact fullname match for Hicks David vs ['david hicks lillard', 'lillard david hicks']\n",
      "no exact fullname match for Hicks David vs ['david l  hicks', 'hicks david l']\n",
      "no exact fullname match for Hicks David vs ['s  david hicks', 'hicks s  david']\n",
      "no exact fullname match for Hicks David vs ['david w  hicks', 'hicks david w']\n",
      "no exact fullname match for Hicks David vs ['david m  hicks', 'hicks david m']\n"
     ]
    },
    {
     "name": "stderr",
     "output_type": "stream",
     "text": [
      " 24%|██▍       | 418/1737 [01:50<07:35,  2.89it/s]"
     ]
    },
    {
     "name": "stdout",
     "output_type": "stream",
     "text": [
      "no exact fullname match for Hicks David vs ['david trevor hicks', 'hicks david trevor']\n"
     ]
    },
    {
     "name": "stderr",
     "output_type": "stream",
     "text": [
      " 24%|██▍       | 419/1737 [01:51<09:12,  2.39it/s]"
     ]
    },
    {
     "name": "stdout",
     "output_type": "stream",
     "text": [
      "no exact fullname match for David Jean-Philippe vs ['jean philippe tricoit', 'tricoit jean philippe']\n"
     ]
    },
    {
     "name": "stderr",
     "output_type": "stream",
     "text": [
      " 25%|██▍       | 434/1737 [01:54<06:12,  3.50it/s]"
     ]
    },
    {
     "name": "stdout",
     "output_type": "stream",
     "text": [
      "no exact fullname match for Deniaud Aurélien vs ['aurelien patrick sylvain deniaud', 'deniaud aurelien patrick sylvain']\n"
     ]
    },
    {
     "name": "stderr",
     "output_type": "stream",
     "text": [
      " 25%|██▌       | 435/1737 [01:54<05:52,  3.70it/s]"
     ]
    },
    {
     "name": "stdout",
     "output_type": "stream",
     "text": [
      "no exact fullname match for Boyer Laurent vs ['lisette laurent boyer', 'laurent boyer lisette']\n"
     ]
    },
    {
     "name": "stderr",
     "output_type": "stream",
     "text": [
      " 25%|██▌       | 436/1737 [01:56<12:04,  1.80it/s]"
     ]
    },
    {
     "name": "stdout",
     "output_type": "stream",
     "text": [
      "skipping death date 1994-01-01T00:00:00\n"
     ]
    },
    {
     "name": "stderr",
     "output_type": "stream",
     "text": [
      " 26%|██▌       | 448/1737 [01:58<03:44,  5.75it/s]"
     ]
    },
    {
     "name": "stdout",
     "output_type": "stream",
     "text": [
      "no exact fullname match for Boizet-Bonhoure Brigitte vs ['brigitte boizet', 'boizet brigitte']\n"
     ]
    },
    {
     "name": "stderr",
     "output_type": "stream",
     "text": [
      " 26%|██▌       | 453/1737 [01:59<04:11,  5.10it/s]"
     ]
    },
    {
     "name": "stdout",
     "output_type": "stream",
     "text": [
      "no exact fullname match for Dumas Orianne vs ['orianne dumas milne edwards', 'dumas milne edwards orianne']\n"
     ]
    },
    {
     "name": "stderr",
     "output_type": "stream",
     "text": [
      " 27%|██▋       | 466/1737 [02:02<04:14,  5.00it/s]"
     ]
    },
    {
     "name": "stdout",
     "output_type": "stream",
     "text": [
      "no exact fullname match for Cuvillier Virginie vs ['virginie cuvillier hot', 'cuvillier hot virginie']\n"
     ]
    },
    {
     "name": "stderr",
     "output_type": "stream",
     "text": [
      " 27%|██▋       | 468/1737 [02:03<09:40,  2.19it/s]"
     ]
    },
    {
     "name": "stdout",
     "output_type": "stream",
     "text": [
      "no exact fullname match for Gautier Mathieu vs ['mathieu gauthier', 'gauthier mathieu']\n",
      "no exact fullname match for Gautier Mathieu vs ['matthieu gaultier', 'gaultier matthieu']\n"
     ]
    },
    {
     "name": "stderr",
     "output_type": "stream",
     "text": [
      " 27%|██▋       | 472/1737 [02:04<05:56,  3.55it/s]"
     ]
    },
    {
     "name": "stdout",
     "output_type": "stream",
     "text": [
      "no exact fullname match for Thany Steeve vs ['steeve herve thany', 'thany steeve herve']\n"
     ]
    },
    {
     "name": "stderr",
     "output_type": "stream",
     "text": [
      " 28%|██▊       | 480/1737 [02:05<02:31,  8.28it/s]"
     ]
    },
    {
     "name": "stdout",
     "output_type": "stream",
     "text": [
      "no exact fullname match for De Seze René vs ['rene de seze', 'seze rene de']\n"
     ]
    },
    {
     "name": "stderr",
     "output_type": "stream",
     "text": [
      " 28%|██▊       | 493/1737 [02:06<02:20,  8.83it/s]"
     ]
    },
    {
     "name": "stdout",
     "output_type": "stream",
     "text": [
      "no exact fullname match for Jean Didier vs ['didier jean nenert', 'nenert didier jean']\n",
      "no exact fullname match for Jean Didier vs ['jean didier blanchet', 'blanchet jean didier']\n",
      "no exact fullname match for Jean Didier vs ['jean didier pinguet', 'pinguet jean didier']\n",
      "no exact fullname match for Jean Didier vs ['jean didier bagot', 'bagot jean didier']\n",
      "no exact fullname match for Jean Didier vs ['jean didier chastelain', 'chastelain jean didier']\n",
      "no exact fullname match for Jean Didier vs ['jean didier boukongou', 'boukongou jean didier']\n"
     ]
    },
    {
     "name": "stderr",
     "output_type": "stream",
     "text": [
      " 28%|██▊       | 495/1737 [02:08<06:33,  3.16it/s]"
     ]
    },
    {
     "name": "stdout",
     "output_type": "stream",
     "text": [
      "no exact fullname match for Jean Didier vs ['jean sauveur didier', 'didier jean sauveur']\n"
     ]
    },
    {
     "name": "stderr",
     "output_type": "stream",
     "text": [
      " 30%|██▉       | 517/1737 [02:11<04:11,  4.84it/s]"
     ]
    },
    {
     "name": "stdout",
     "output_type": "stream",
     "text": [
      "no exact fullname match for Marchi Nicola vs ['nicola de marchi', 'de marchi nicola']\n"
     ]
    },
    {
     "name": "stderr",
     "output_type": "stream",
     "text": [
      " 31%|███       | 532/1737 [02:13<03:42,  5.42it/s]"
     ]
    },
    {
     "name": "stdout",
     "output_type": "stream",
     "text": [
      "no exact fullname match for Bellanger Anne vs ['anne wassila bellanger', 'bellanger anne wassila']\n",
      "no exact fullname match for Bellanger Anne vs ['anne pauline bellanger', 'bellanger anne pauline']\n"
     ]
    },
    {
     "name": "stderr",
     "output_type": "stream",
     "text": [
      " 31%|███       | 533/1737 [02:14<05:34,  3.60it/s]"
     ]
    },
    {
     "name": "stdout",
     "output_type": "stream",
     "text": [
      "no exact fullname match for Bellanger Anne vs ['anne sophie bellanger dujardin', 'bellanger dujardin anne sophie']\n"
     ]
    },
    {
     "name": "stderr",
     "output_type": "stream",
     "text": [
      " 31%|███       | 538/1737 [02:15<03:33,  5.61it/s]"
     ]
    },
    {
     "name": "stdout",
     "output_type": "stream",
     "text": [
      "no exact fullname match for Clerget-Froidevaux Marie vs ['marie stephanie clerget froidevaux', 'clerget froidevaux marie stephanie']\n"
     ]
    },
    {
     "name": "stderr",
     "output_type": "stream",
     "text": [
      " 31%|███▏      | 547/1737 [02:16<02:39,  7.48it/s]"
     ]
    },
    {
     "name": "stdout",
     "output_type": "stream",
     "text": [
      "no exact fullname match for Radoi Loredana vs ['loredana radoi pervilhac', 'radoi pervilhac loredana']\n"
     ]
    },
    {
     "name": "stderr",
     "output_type": "stream",
     "text": [
      " 32%|███▏      | 551/1737 [02:16<02:21,  8.38it/s]"
     ]
    },
    {
     "name": "stdout",
     "output_type": "stream",
     "text": [
      "no exact fullname match for Merlin Christophe vs ['antoine merlin', 'merlin antoine']\n"
     ]
    },
    {
     "name": "stderr",
     "output_type": "stream",
     "text": [
      " 32%|███▏      | 552/1737 [02:17<05:36,  3.52it/s]"
     ]
    },
    {
     "name": "stdout",
     "output_type": "stream",
     "text": [
      "no exact fullname match for Merlin Christophe vs ['paul christophe elisabeth merlin', 'merlin paul christophe elisabeth']\n"
     ]
    },
    {
     "name": "stderr",
     "output_type": "stream",
     "text": [
      " 32%|███▏      | 553/1737 [02:18<09:20,  2.11it/s]"
     ]
    },
    {
     "name": "stdout",
     "output_type": "stream",
     "text": [
      "no exact fullname match for Bonnet Sarah vs ['sarah lesage bonnet', 'lesage bonnet sarah']\n",
      "no exact fullname match for Bonnet Sarah vs ['sarah ducrot bonnet', 'ducrot bonnet sarah']\n",
      "no exact fullname match for Bonnet Sarah vs ['sarah ariey bonnet', 'ariey bonnet sarah']\n"
     ]
    },
    {
     "name": "stderr",
     "output_type": "stream",
     "text": [
      " 32%|███▏      | 563/1737 [02:20<03:09,  6.19it/s]"
     ]
    },
    {
     "name": "stdout",
     "output_type": "stream",
     "text": [
      "no exact fullname match for Degli Esposti Davide Davide vs ['davide degli esposti', 'degli esposti davide']\n"
     ]
    },
    {
     "name": "stderr",
     "output_type": "stream",
     "text": [
      " 34%|███▍      | 593/1737 [02:23<03:38,  5.24it/s]"
     ]
    },
    {
     "name": "stdout",
     "output_type": "stream",
     "text": [
      "no exact fullname match for Galy Edith vs ['edith galy marie', 'galy marie edith']\n"
     ]
    },
    {
     "name": "stderr",
     "output_type": "stream",
     "text": [
      " 34%|███▍      | 597/1737 [02:25<05:35,  3.39it/s]"
     ]
    },
    {
     "name": "stdout",
     "output_type": "stream",
     "text": [
      "no exact fullname match for Juillerat Lucienne vs ['lucienne juillerat jeanneret gris', 'juillerat jeanneret gris lucienne']\n"
     ]
    },
    {
     "name": "stderr",
     "output_type": "stream",
     "text": [
      " 35%|███▍      | 601/1737 [02:26<03:46,  5.02it/s]"
     ]
    },
    {
     "name": "stdout",
     "output_type": "stream",
     "text": [
      "no exact fullname match for Gratacap-Cavallier Bénédicte vs ['benedicte gratacap', 'gratacap benedicte']\n"
     ]
    },
    {
     "name": "stderr",
     "output_type": "stream",
     "text": [
      " 35%|███▌      | 609/1737 [02:28<04:44,  3.96it/s]"
     ]
    },
    {
     "name": "stdout",
     "output_type": "stream",
     "text": [
      "no exact fullname match for SCHNEIDER Dominique vs ['dominique jung schneider', 'jung schneider dominique']\n"
     ]
    },
    {
     "name": "stderr",
     "output_type": "stream",
     "text": [
      " 35%|███▌      | 610/1737 [02:29<09:27,  1.99it/s]"
     ]
    },
    {
     "name": "stdout",
     "output_type": "stream",
     "text": [
      "no exact fullname match for HEINRICH Joachim vs ['heinrich joachim jaeck', 'jaeck heinrich joachim']\n",
      "no exact fullname match for HEINRICH Joachim vs ['heinrich joachim robe', 'robe heinrich joachim']\n",
      "no exact fullname match for HEINRICH Joachim vs ['joachim heinrich knoll', 'knoll joachim heinrich']\n",
      "no exact fullname match for HEINRICH Joachim vs ['joachim heinrich von ledebur', 'ledebur joachim heinrich von']\n",
      "no exact fullname match for HEINRICH Joachim vs ['joachim thies', 'thies joachim']\n",
      "no exact fullname match for HEINRICH Joachim vs ['joachim brinck', 'brinck joachim']\n",
      "skipping birth date 1860-01-30T00:00:00\n"
     ]
    },
    {
     "name": "stderr",
     "output_type": "stream",
     "text": [
      " 35%|███▌      | 611/1737 [02:31<13:28,  1.39it/s]"
     ]
    },
    {
     "name": "stdout",
     "output_type": "stream",
     "text": [
      "no exact fullname match for HEINRICH Joachim vs ['joachim heinrich schmidt', 'schmidt joachim heinrich']\n",
      "no exact fullname match for HEINRICH Joachim vs ['joachim heinrich jaeck', 'jaeck joachim heinrich']\n"
     ]
    },
    {
     "name": "stderr",
     "output_type": "stream",
     "text": [
      " 35%|███▌      | 612/1737 [02:31<10:03,  1.86it/s]"
     ]
    },
    {
     "name": "stdout",
     "output_type": "stream",
     "text": [
      "no exact fullname match for PINEAU Charles vs ['charles henri pineau', 'pineau charles henri']\n",
      "skipping birth date 1877-01-01T00:00:00\n"
     ]
    },
    {
     "name": "stderr",
     "output_type": "stream",
     "text": [
      " 36%|███▌      | 623/1737 [02:34<08:24,  2.21it/s]"
     ]
    },
    {
     "name": "stdout",
     "output_type": "stream",
     "text": [
      "skipping death date 1628-05-21T00:00:00\n"
     ]
    },
    {
     "name": "stderr",
     "output_type": "stream",
     "text": [
      " 36%|███▌      | 624/1737 [02:35<08:11,  2.26it/s]"
     ]
    },
    {
     "name": "stdout",
     "output_type": "stream",
     "text": [
      "no exact fullname match for Bretin Philippe vs ['jean philippe bretin', 'bretin jean philippe']\n",
      "no exact fullname match for Bretin Philippe vs ['philippe marie bretin', 'bretin philippe marie']\n"
     ]
    },
    {
     "name": "stderr",
     "output_type": "stream",
     "text": [
      " 36%|███▌      | 627/1737 [02:35<06:00,  3.08it/s]"
     ]
    },
    {
     "name": "stdout",
     "output_type": "stream",
     "text": [
      "no exact fullname match for Bouvet Elisabeth vs ['elisabeth bouvet cador', 'bouvet cador elisabeth']\n",
      "no exact fullname match for Guillot Jacques vs ['jacques michel guillot', 'guillot jacques michel']\n"
     ]
    },
    {
     "name": "stderr",
     "output_type": "stream",
     "text": [
      " 36%|███▌      | 628/1737 [02:36<07:38,  2.42it/s]"
     ]
    },
    {
     "name": "stdout",
     "output_type": "stream",
     "text": [
      "no exact fullname match for Guillot Jacques vs ['jacques guillot de blancheville', 'guillot de blancheville jacques']\n"
     ]
    },
    {
     "name": "stderr",
     "output_type": "stream",
     "text": [
      " 36%|███▋      | 632/1737 [02:37<05:23,  3.42it/s]"
     ]
    },
    {
     "name": "stdout",
     "output_type": "stream",
     "text": [
      "no exact fullname match for Pean Michel vs ['rene michel  pean', 'pean rene michel']\n",
      "skipping birth date 1913-10-01T00:00:00\n"
     ]
    },
    {
     "name": "stderr",
     "output_type": "stream",
     "text": [
      " 36%|███▋      | 634/1737 [02:38<05:10,  3.55it/s]"
     ]
    },
    {
     "name": "stdout",
     "output_type": "stream",
     "text": [
      "no exact fullname match for Pean Michel vs ['jean michel pean', 'pean jean michel']\n"
     ]
    },
    {
     "name": "stderr",
     "output_type": "stream",
     "text": [
      " 37%|███▋      | 643/1737 [02:39<03:01,  6.04it/s]"
     ]
    },
    {
     "name": "stdout",
     "output_type": "stream",
     "text": [
      "no exact fullname match for Weber Christiane vs ['christiane weber klein', 'weber klein christiane']\n"
     ]
    },
    {
     "name": "stderr",
     "output_type": "stream",
     "text": [
      " 38%|███▊      | 663/1737 [02:44<03:16,  5.45it/s]"
     ]
    },
    {
     "name": "stdout",
     "output_type": "stream",
     "text": [
      "no exact fullname match for Dolez Patricia vs ['patricia i  dolez', 'dolez patricia i']\n"
     ]
    },
    {
     "name": "stderr",
     "output_type": "stream",
     "text": [
      " 39%|███▊      | 669/1737 [02:45<03:39,  4.87it/s]"
     ]
    },
    {
     "name": "stdout",
     "output_type": "stream",
     "text": [
      "no exact fullname match for Bernard Cécile vs ['cecile bernard calvet', 'bernard calvet cecile']\n"
     ]
    },
    {
     "name": "stderr",
     "output_type": "stream",
     "text": [
      " 39%|███▊      | 670/1737 [02:46<09:02,  1.97it/s]"
     ]
    },
    {
     "name": "stdout",
     "output_type": "stream",
     "text": [
      "no exact fullname match for Bernard Cécile vs ['cecile ollitraut bernard', 'ollitraut bernard cecile']\n"
     ]
    },
    {
     "name": "stderr",
     "output_type": "stream",
     "text": [
      " 39%|███▉      | 679/1737 [02:48<04:09,  4.25it/s]"
     ]
    },
    {
     "name": "stdout",
     "output_type": "stream",
     "text": [
      "no exact fullname match for Marquis Nathalie vs ['nathalie le marquis', 'le marquis nathalie']\n"
     ]
    },
    {
     "name": "stderr",
     "output_type": "stream",
     "text": [
      " 39%|███▉      | 682/1737 [02:49<03:45,  4.67it/s]"
     ]
    },
    {
     "name": "stdout",
     "output_type": "stream",
     "text": [
      "no exact fullname match for Andre Véronique vs ['veronique andre bochaton', 'andre bochaton veronique']\n",
      "no exact fullname match for Andre Véronique vs ['veronique andre elisabeth', 'andre elisabeth veronique']\n",
      "no exact fullname match for Andre Véronique vs ['veronique andre durupt', 'andre durupt veronique']\n"
     ]
    },
    {
     "name": "stderr",
     "output_type": "stream",
     "text": [
      " 39%|███▉      | 684/1737 [02:50<07:10,  2.45it/s]"
     ]
    },
    {
     "name": "stdout",
     "output_type": "stream",
     "text": [
      "no exact fullname match for Bousquet Philippe vs ['philippe jean bousquet', 'bousquet philippe jean']\n"
     ]
    },
    {
     "name": "stderr",
     "output_type": "stream",
     "text": [
      " 40%|███▉      | 688/1737 [02:52<05:28,  3.19it/s]"
     ]
    },
    {
     "name": "stdout",
     "output_type": "stream",
     "text": [
      "no exact fullname match for Durand Philippe vs ['claude philippe durand', 'durand claude philippe']\n"
     ]
    },
    {
     "name": "stderr",
     "output_type": "stream",
     "text": [
      " 40%|███▉      | 690/1737 [02:53<08:07,  2.15it/s]"
     ]
    },
    {
     "name": "stdout",
     "output_type": "stream",
     "text": [
      "no exact fullname match for Garrigou Alain vs ['alain garrigou torchy', 'garrigou torchy alain']\n"
     ]
    },
    {
     "name": "stderr",
     "output_type": "stream",
     "text": [
      " 40%|████      | 696/1737 [02:54<03:38,  4.75it/s]"
     ]
    },
    {
     "name": "stdout",
     "output_type": "stream",
     "text": [
      "no exact fullname match for Riviere Emmanuel vs ['marie emmanuel riviere', 'riviere marie emmanuel']\n"
     ]
    },
    {
     "name": "stderr",
     "output_type": "stream",
     "text": [
      " 40%|████      | 703/1737 [02:56<03:06,  5.53it/s]"
     ]
    },
    {
     "name": "stdout",
     "output_type": "stream",
     "text": [
      "skipping birth date 0001-01-01T00:00:00\n",
      "no exact fullname match for Henry Emmanuel vs ['henry emmanuel delbousquet', 'emmanuel delbousquet henry']\n",
      "no exact fullname match for Henry Emmanuel vs ['henry emmanuel weiss', 'weiss henry emmanuel']\n",
      "no exact fullname match for Henry Emmanuel vs ['henry emmanuel thyebault', 'thyebault henry emmanuel']\n",
      "no exact fullname match for Henry Emmanuel vs ['emmanuel ossian henry', 'henry emmanuel ossian']\n",
      "no exact fullname match for Henry Emmanuel vs ['henry emmanuel marie aubin', 'aubin henry emmanuel marie']\n"
     ]
    },
    {
     "name": "stderr",
     "output_type": "stream",
     "text": [
      " 41%|████      | 704/1737 [02:57<07:13,  2.38it/s]"
     ]
    },
    {
     "name": "stdout",
     "output_type": "stream",
     "text": [
      "no exact fullname match for Henry Emmanuel vs ['daniel joseph henry emmanuel aubry', 'aubry daniel joseph henry emmanuel']\n"
     ]
    },
    {
     "name": "stderr",
     "output_type": "stream",
     "text": [
      " 41%|████      | 715/1737 [02:59<03:08,  5.42it/s]"
     ]
    },
    {
     "name": "stdout",
     "output_type": "stream",
     "text": [
      "skipping birth date 1910-05-21T00:00:00\n",
      "no exact fullname match for Martin Michèle vs ['michele guignard martin', 'guignard martin michele']\n"
     ]
    },
    {
     "name": "stderr",
     "output_type": "stream",
     "text": [
      " 42%|████▏     | 725/1737 [03:02<03:26,  4.91it/s]"
     ]
    },
    {
     "name": "stdout",
     "output_type": "stream",
     "text": [
      "no exact fullname match for De Barbeyrac Bertille vs ['bertille de barbeyrac', 'barbeyrac bertille de']\n"
     ]
    },
    {
     "name": "stderr",
     "output_type": "stream",
     "text": [
      " 42%|████▏     | 729/1737 [03:03<03:25,  4.92it/s]"
     ]
    },
    {
     "name": "stdout",
     "output_type": "stream",
     "text": [
      "no exact fullname match for Roques Christine vs ['daniele roques georget', 'roques georget daniele']\n"
     ]
    },
    {
     "name": "stderr",
     "output_type": "stream",
     "text": [
      " 42%|████▏     | 736/1737 [03:03<02:37,  6.34it/s]"
     ]
    },
    {
     "name": "stdout",
     "output_type": "stream",
     "text": [
      "no exact fullname match for Forget-Leray Joëlle vs ['joelle leray forget', 'leray forget joelle']\n",
      "no exact fullname match for Lacour Stéphanie vs ['stephanie p  lacour', 'lacour stephanie p']\n"
     ]
    },
    {
     "name": "stderr",
     "output_type": "stream",
     "text": [
      " 43%|████▎     | 740/1737 [03:05<03:42,  4.47it/s]"
     ]
    },
    {
     "name": "stdout",
     "output_type": "stream",
     "text": [
      "no exact fullname match for Bloch Isabelle vs ['isabelle baladier bloch', 'baladier bloch isabelle']\n",
      "no exact fullname match for Bloch Isabelle vs ['isabelle sebban', 'sebban isabelle']\n",
      "no exact fullname match for Bloch Isabelle vs ['chantal cohen bacri', 'cohen bacri chantal']\n"
     ]
    },
    {
     "name": "stderr",
     "output_type": "stream",
     "text": [
      " 43%|████▎     | 747/1737 [03:06<04:02,  4.08it/s]"
     ]
    },
    {
     "name": "stdout",
     "output_type": "stream",
     "text": [
      "no exact fullname match for Krebs Tobias vs ['johann tobias krebs', 'krebs johann tobias']\n"
     ]
    },
    {
     "name": "stderr",
     "output_type": "stream",
     "text": [
      " 43%|████▎     | 749/1737 [03:07<04:28,  3.68it/s]"
     ]
    },
    {
     "name": "stdout",
     "output_type": "stream",
     "text": [
      "no exact fullname match for Garrigou Alain vs ['alain garrigou torchy', 'garrigou torchy alain']\n"
     ]
    },
    {
     "name": "stderr",
     "output_type": "stream",
     "text": [
      " 43%|████▎     | 754/1737 [03:08<03:41,  4.43it/s]"
     ]
    },
    {
     "name": "stdout",
     "output_type": "stream",
     "text": [
      "no exact fullname match for Bouchez Agnès vs ['marie agnes bouchez', 'bouchez marie agnes']\n"
     ]
    },
    {
     "name": "stderr",
     "output_type": "stream",
     "text": [
      " 44%|████▎     | 758/1737 [03:09<02:34,  6.35it/s]"
     ]
    },
    {
     "name": "stdout",
     "output_type": "stream",
     "text": [
      "no exact fullname match for De Sèze René vs ['rene de seze', 'seze rene de']\n"
     ]
    },
    {
     "name": "stderr",
     "output_type": "stream",
     "text": [
      " 44%|████▍     | 762/1737 [03:09<02:50,  5.73it/s]"
     ]
    },
    {
     "name": "stdout",
     "output_type": "stream",
     "text": [
      "no exact fullname match for Pierre Fabrice vs ['pierre fabrice lopez', 'lopez pierre fabrice']\n",
      "no exact fullname match for Pierre Fabrice vs ['fabrice pierre koebelin', 'koebelin fabrice pierre']\n",
      "no exact fullname match for Pierre Fabrice vs ['fabrice woittequand', 'woittequand fabrice']\n",
      "no exact fullname match for Pierre Fabrice vs ['fabrice detrez', 'detrez fabrice']\n",
      "no exact fullname match for Pierre Fabrice vs ['fabrice pinard saint pierre', 'pinard saint pierre fabrice']\n"
     ]
    },
    {
     "name": "stderr",
     "output_type": "stream",
     "text": [
      " 44%|████▍     | 763/1737 [03:10<06:43,  2.41it/s]"
     ]
    },
    {
     "name": "stdout",
     "output_type": "stream",
     "text": [
      "no exact fullname match for Pierre Fabrice vs ['fabrice pierre sabatier', 'sabatier fabrice pierre']\n"
     ]
    },
    {
     "name": "stderr",
     "output_type": "stream",
     "text": [
      " 45%|████▍     | 773/1737 [03:12<03:02,  5.28it/s]"
     ]
    },
    {
     "name": "stdout",
     "output_type": "stream",
     "text": [
      "no exact fullname match for Leveque Philippe vs ['jean philippe leveque', 'leveque jean philippe']\n"
     ]
    },
    {
     "name": "stderr",
     "output_type": "stream",
     "text": [
      " 45%|████▍     | 775/1737 [03:14<05:38,  2.84it/s]"
     ]
    },
    {
     "name": "stdout",
     "output_type": "stream",
     "text": [
      "no exact fullname match for Leveque Philippe vs ['philippe berenger leveque', 'berenger leveque philippe']\n"
     ]
    },
    {
     "name": "stderr",
     "output_type": "stream",
     "text": [
      " 45%|████▍     | 777/1737 [03:14<04:20,  3.68it/s]"
     ]
    },
    {
     "name": "stdout",
     "output_type": "stream",
     "text": [
      "no exact fullname match for Bourchis Déborah vs ['deborah bourc his', 'bourc his deborah']\n",
      "no exact fullname match for Laborie Anne vs ['anne laure laborie', 'laborie anne laure']\n"
     ]
    },
    {
     "name": "stderr",
     "output_type": "stream",
     "text": [
      " 45%|████▌     | 782/1737 [03:15<04:44,  3.35it/s]"
     ]
    },
    {
     "name": "stdout",
     "output_type": "stream",
     "text": [
      "no exact fullname match for Jay Thérese vs ['therese jay nowaczyk', 'jay nowaczyk therese']\n",
      "no exact fullname match for Jay Thérese vs ['marie therese jay', 'jay marie therese']\n"
     ]
    },
    {
     "name": "stderr",
     "output_type": "stream",
     "text": [
      " 45%|████▌     | 785/1737 [03:16<02:44,  5.78it/s]"
     ]
    },
    {
     "name": "stdout",
     "output_type": "stream",
     "text": [
      "no exact fullname match for De Sèze René vs ['rene de seze', 'seze rene de']\n",
      "no exact fullname match for De Sèze René vs ['rene de seze', 'seze rene de']\n"
     ]
    },
    {
     "name": "stderr",
     "output_type": "stream",
     "text": [
      " 45%|████▌     | 787/1737 [03:16<02:58,  5.32it/s]"
     ]
    },
    {
     "name": "stdout",
     "output_type": "stream",
     "text": [
      "no exact fullname match for David Jean Philippe vs ['jean philippe tricoit', 'tricoit jean philippe']\n",
      "no exact fullname match for David Jean Philippe vs ['jean cheri david philippe caubet', 'caubet jean cheri david philippe']\n"
     ]
    },
    {
     "name": "stderr",
     "output_type": "stream",
     "text": [
      " 45%|████▌     | 790/1737 [03:17<04:26,  3.56it/s]"
     ]
    },
    {
     "name": "stdout",
     "output_type": "stream",
     "text": [
      "no exact fullname match for Villena Isabelle vs ['isabelle bodart', 'bodart isabelle']\n",
      "no exact fullname match for Villena Isabelle vs ['isabelle coste villena', 'coste villena isabelle']\n",
      "no exact fullname match for Comte Gilles vs ['gilles francois graimberg de belleau', 'graimberg de belleau gilles francois']\n",
      "no exact fullname match for Comte Gilles vs ['louis gilles de maupeou d ableiges', 'maupeou d ableiges louis gilles de']\n"
     ]
    },
    {
     "name": "stderr",
     "output_type": "stream",
     "text": [
      " 46%|████▌     | 791/1737 [03:18<05:37,  2.81it/s]"
     ]
    },
    {
     "name": "stdout",
     "output_type": "stream",
     "text": [
      "no exact fullname match for Comte Gilles vs ['gilles charles porcher de lissonay', 'porcher de lissonay gilles charles']\n"
     ]
    },
    {
     "name": "stderr",
     "output_type": "stream",
     "text": [
      " 46%|████▌     | 793/1737 [03:18<04:04,  3.86it/s]"
     ]
    },
    {
     "name": "stdout",
     "output_type": "stream",
     "text": [
      "no exact fullname match for Boutet Elisa vs ['elisa boutet robinet', 'boutet robinet elisa']\n"
     ]
    },
    {
     "name": "stderr",
     "output_type": "stream",
     "text": [
      " 46%|████▌     | 796/1737 [03:19<04:20,  3.61it/s]"
     ]
    },
    {
     "name": "stdout",
     "output_type": "stream",
     "text": [
      "no exact fullname match for Leger Damien vs ['clement leger', 'leger clement']\n"
     ]
    },
    {
     "name": "stderr",
     "output_type": "stream",
     "text": [
      " 46%|████▋     | 805/1737 [03:21<03:10,  4.89it/s]"
     ]
    },
    {
     "name": "stdout",
     "output_type": "stream",
     "text": [
      "Error in getting notice 204604125\n"
     ]
    },
    {
     "name": "stderr",
     "output_type": "stream",
     "text": [
      " 47%|████▋     | 821/1737 [03:22<01:30, 10.12it/s]"
     ]
    },
    {
     "name": "stdout",
     "output_type": "stream",
     "text": [
      "Error in getting notice 199264295\n"
     ]
    },
    {
     "name": "stderr",
     "output_type": "stream",
     "text": [
      " 49%|████▉     | 848/1737 [03:29<05:46,  2.57it/s]"
     ]
    },
    {
     "name": "stdout",
     "output_type": "stream",
     "text": [
      "no exact fullname match for Dumont Laurent vs ['aristide dumont', 'dumont aristide']\n",
      "no exact fullname match for Dumont Laurent vs ['laurent angliviel de la beaumelle', 'la beaumelle laurent angliviel de']\n"
     ]
    },
    {
     "name": "stderr",
     "output_type": "stream",
     "text": [
      " 49%|████▉     | 852/1737 [03:29<02:50,  5.18it/s]"
     ]
    },
    {
     "name": "stdout",
     "output_type": "stream",
     "text": [
      "no exact fullname match for Sanz Guenhaël vs ['guenhael sanz', 'sanz  guenhael']\n"
     ]
    },
    {
     "name": "stderr",
     "output_type": "stream",
     "text": [
      " 49%|████▉     | 854/1737 [03:29<02:31,  5.83it/s]"
     ]
    },
    {
     "name": "stdout",
     "output_type": "stream",
     "text": [
      "no exact fullname match for Moret Leila vs ['leila moret majoube', 'moret majoube leila']\n"
     ]
    },
    {
     "name": "stderr",
     "output_type": "stream",
     "text": [
      " 50%|████▉     | 866/1737 [03:32<03:21,  4.32it/s]"
     ]
    },
    {
     "name": "stdout",
     "output_type": "stream",
     "text": [
      "no exact fullname match for Chanel Olivier vs ['olivier de crouy chanel', 'crouy chanel olivier de']\n"
     ]
    },
    {
     "name": "stderr",
     "output_type": "stream",
     "text": [
      " 51%|█████     | 879/1737 [03:33<01:43,  8.33it/s]"
     ]
    },
    {
     "name": "stdout",
     "output_type": "stream",
     "text": [
      "no exact fullname match for Walter Scott vs ['walter scott peterson', 'peterson walter scott']\n",
      "no exact fullname match for Walter Scott vs ['walter giorgio scott', 'scott walter giorgio']\n",
      "no exact fullname match for Walter Scott vs ['walter g  scott', 'scott walter g']\n",
      "no exact fullname match for Walter Scott vs ['walter scott polland', 'polland walter scott']\n",
      "no exact fullname match for Walter Scott vs ['walter n  scott', 'scott walter n']\n"
     ]
    },
    {
     "name": "stderr",
     "output_type": "stream",
     "text": [
      " 51%|█████     | 880/1737 [03:34<03:56,  3.63it/s]"
     ]
    },
    {
     "name": "stdout",
     "output_type": "stream",
     "text": [
      "no exact fullname match for Walter Scott vs ['walter scott huxford', 'huxford walter scott']\n",
      "no exact fullname match for Walter Scott vs ['walter scott dalgleish', 'dalgleish walter scott']\n"
     ]
    },
    {
     "name": "stderr",
     "output_type": "stream",
     "text": [
      " 51%|█████     | 888/1737 [03:36<02:31,  5.60it/s]"
     ]
    },
    {
     "name": "stdout",
     "output_type": "stream",
     "text": [
      "no exact fullname match for Petit Fabienne vs ['fabienne arias petit', 'arias petit fabienne']\n",
      "no exact fullname match for Petit Fabienne vs ['fabienne petit jean', 'petit jean fabienne']\n"
     ]
    },
    {
     "name": "stderr",
     "output_type": "stream",
     "text": [
      " 51%|█████▏    | 894/1737 [03:37<02:30,  5.58it/s]"
     ]
    },
    {
     "name": "stdout",
     "output_type": "stream",
     "text": [
      "no exact fullname match for Léké Lokombe André vs ['andre leke', 'leke andre']\n"
     ]
    },
    {
     "name": "stderr",
     "output_type": "stream",
     "text": [
      " 52%|█████▏    | 905/1737 [03:39<02:27,  5.64it/s]"
     ]
    },
    {
     "name": "stdout",
     "output_type": "stream",
     "text": [
      "no exact fullname match for Ciocca Dominique vs ['dominique sage ciocca', 'sage ciocca dominique']\n"
     ]
    },
    {
     "name": "stderr",
     "output_type": "stream",
     "text": [
      " 52%|█████▏    | 906/1737 [03:39<02:51,  4.85it/s]"
     ]
    },
    {
     "name": "stdout",
     "output_type": "stream",
     "text": [
      "skipping death date 1561-09-05T00:00:00\n"
     ]
    },
    {
     "name": "stderr",
     "output_type": "stream",
     "text": [
      " 53%|█████▎    | 917/1737 [03:41<02:34,  5.30it/s]"
     ]
    },
    {
     "name": "stdout",
     "output_type": "stream",
     "text": [
      "no exact fullname match for Boulard Yves vs ['pierre yves boulard', 'boulard pierre yves']\n"
     ]
    },
    {
     "name": "stderr",
     "output_type": "stream",
     "text": [
      " 53%|█████▎    | 922/1737 [03:42<03:07,  4.34it/s]"
     ]
    },
    {
     "name": "stdout",
     "output_type": "stream",
     "text": [
      "no exact fullname match for Haddad Sami vs ['fuad sami haddad', 'haddad fuad sami']\n"
     ]
    },
    {
     "name": "stderr",
     "output_type": "stream",
     "text": [
      " 53%|█████▎    | 927/1737 [03:43<02:58,  4.53it/s]"
     ]
    },
    {
     "name": "stdout",
     "output_type": "stream",
     "text": [
      "no exact fullname match for Le Moual Nicole vs ['nicole lincot le moual', 'lincot le moual nicole']\n"
     ]
    },
    {
     "name": "stderr",
     "output_type": "stream",
     "text": [
      " 54%|█████▎    | 932/1737 [03:44<01:51,  7.25it/s]"
     ]
    },
    {
     "name": "stdout",
     "output_type": "stream",
     "text": [
      "no exact fullname match for Lévêque Philippe vs ['jean philippe leveque', 'leveque jean philippe']\n"
     ]
    },
    {
     "name": "stderr",
     "output_type": "stream",
     "text": [
      " 54%|█████▍    | 935/1737 [03:45<03:24,  3.92it/s]"
     ]
    },
    {
     "name": "stdout",
     "output_type": "stream",
     "text": [
      "no exact fullname match for Lévêque Philippe vs ['philippe berenger leveque', 'berenger leveque philippe']\n",
      "no exact fullname match for Maître Anne vs ['anne le maitre', 'le maitre anne']\n",
      "no exact fullname match for Maître Anne vs ['anne le maitre', 'le maitre anne']\n",
      "no exact fullname match for Maître Anne vs ['marie anne prioux maitre', 'prioux maitre marie anne']\n",
      "no exact fullname match for Maître Anne vs ['anne marie peau', 'peau anne marie']\n",
      "no exact fullname match for Maître Anne vs ['anne laure bourdel', 'bourdel anne laure']\n",
      "no exact fullname match for Maître Anne vs ['anne waugh', 'waugh anne']\n",
      "no exact fullname match for Maître Anne vs ['anne claire prince', 'prince anne claire']\n"
     ]
    },
    {
     "name": "stderr",
     "output_type": "stream",
     "text": [
      " 54%|█████▍    | 938/1737 [03:47<04:20,  3.07it/s]"
     ]
    },
    {
     "name": "stdout",
     "output_type": "stream",
     "text": [
      "no exact fullname match for Maître Anne vs ['anne sophie ledonne', 'ledonne anne sophie']\n"
     ]
    },
    {
     "name": "stderr",
     "output_type": "stream",
     "text": [
      " 54%|█████▍    | 942/1737 [03:47<02:18,  5.74it/s]"
     ]
    },
    {
     "name": "stdout",
     "output_type": "stream",
     "text": [
      "no exact fullname match for Sunyer Jordi vs ['jordi sunyer monfort', 'sunyer monfort jordi']\n"
     ]
    },
    {
     "name": "stderr",
     "output_type": "stream",
     "text": [
      " 55%|█████▍    | 948/1737 [03:48<02:41,  4.90it/s]"
     ]
    },
    {
     "name": "stdout",
     "output_type": "stream",
     "text": [
      "no exact fullname match for Chamel Véronique vs ['veronique mossuz', 'mossuz veronique']\n"
     ]
    },
    {
     "name": "stderr",
     "output_type": "stream",
     "text": [
      " 55%|█████▍    | 951/1737 [03:49<02:28,  5.31it/s]"
     ]
    },
    {
     "name": "stdout",
     "output_type": "stream",
     "text": [
      "no exact fullname match for Dumas Orianne vs ['orianne dumas milne edwards', 'dumas milne edwards orianne']\n"
     ]
    },
    {
     "name": "stderr",
     "output_type": "stream",
     "text": [
      " 55%|█████▍    | 952/1737 [03:49<02:34,  5.08it/s]"
     ]
    },
    {
     "name": "stdout",
     "output_type": "stream",
     "text": [
      "no exact fullname match for Santos Miguel vs ['miguel angel santos', 'santos miguel angel']\n",
      "no exact fullname match for Santos Miguel vs ['miguel dias santos', 'santos miguel dias']\n",
      "no exact fullname match for Santos Miguel vs ['miguel santos neves', 'neves miguel santos']\n",
      "no exact fullname match for Santos Miguel vs ['miguel de los santos', 'santos miguel de los']\n",
      "no exact fullname match for Santos Miguel vs ['miguel vidal santos', 'vidal santos miguel']\n",
      "no exact fullname match for Santos Miguel vs ['amandio miguel dos santos', 'santos amandio miguel dos']\n",
      "no exact fullname match for Santos Miguel vs ['miguel calvo santos', 'calvo santos miguel']\n"
     ]
    },
    {
     "name": "stderr",
     "output_type": "stream",
     "text": [
      " 55%|█████▌    | 957/1737 [03:51<04:24,  2.95it/s]"
     ]
    },
    {
     "name": "stdout",
     "output_type": "stream",
     "text": [
      "no exact fullname match for Hubert Gilles vs ['gilles denoix', 'denoix gilles']\n",
      "no exact fullname match for Hubert Gilles vs ['albert clement gilles hubert de scoville', 'scoville albert clement gilles hubert de']\n"
     ]
    },
    {
     "name": "stderr",
     "output_type": "stream",
     "text": [
      " 56%|█████▌    | 968/1737 [03:54<02:44,  4.69it/s]"
     ]
    },
    {
     "name": "stdout",
     "output_type": "stream",
     "text": [
      "no exact fullname match for Maesano Isabella Annesi vs ['isabella annesi maesano', 'annesi maesano isabella']\n",
      "no exact fullname match for Leveque Philippe vs ['jean philippe leveque', 'leveque jean philippe']\n"
     ]
    },
    {
     "name": "stderr",
     "output_type": "stream",
     "text": [
      " 56%|█████▌    | 971/1737 [03:55<03:48,  3.35it/s]"
     ]
    },
    {
     "name": "stdout",
     "output_type": "stream",
     "text": [
      "no exact fullname match for Leveque Philippe vs ['philippe berenger leveque', 'berenger leveque philippe']\n"
     ]
    },
    {
     "name": "stderr",
     "output_type": "stream",
     "text": [
      " 57%|█████▋    | 990/1737 [03:58<01:29,  8.37it/s]"
     ]
    },
    {
     "name": "stdout",
     "output_type": "stream",
     "text": [
      "Error in getting notice 236950320\n"
     ]
    },
    {
     "name": "stderr",
     "output_type": "stream",
     "text": [
      " 57%|█████▋    | 991/1737 [03:59<03:01,  4.12it/s]"
     ]
    },
    {
     "name": "stdout",
     "output_type": "stream",
     "text": [
      "no exact fullname match for Humbert Bernard vs ['bernard gaspard', 'gaspard bernard']\n",
      "no exact fullname match for Humbert Bernard vs ['colette humbert', 'humbert colette']\n"
     ]
    },
    {
     "name": "stderr",
     "output_type": "stream",
     "text": [
      " 57%|█████▋    | 992/1737 [03:59<02:53,  4.30it/s]"
     ]
    },
    {
     "ename": "",
     "evalue": "",
     "output_type": "error",
     "traceback": [
      "\u001b[1;31mCannot execute code, session has been disposed. Please try restarting the Kernel."
     ]
    },
    {
     "ename": "",
     "evalue": "",
     "output_type": "error",
     "traceback": [
      "\u001b[1;31mCannot execute code, session has been disposed. Please try restarting the Kernel. \n",
      "\u001b[1;31mView Jupyter <a href='command:jupyter.viewOutput'>log</a> for further details."
     ]
    }
   ],
   "source": [
    "df_partenaires['id_personne']=df_partenaires.progress_apply(lambda row: get_person(row, cached_data_persons,sources[source]['nom'],sources[source]['prenom']), axis=1)"
   ]
  },
  {
   "cell_type": "code",
   "execution_count": null,
   "id": "adc7546d",
   "metadata": {},
   "outputs": [],
   "source": [
    "df_partenaires.columns"
   ]
  },
  {
   "cell_type": "code",
   "execution_count": null,
   "id": "c65d4fd7",
   "metadata": {},
   "outputs": [],
   "source": [
    "if sources[source]['id_ORCID'] in list(df_partenaires.columns):\n",
    "    df_partenaires=pd.read_json(f\"./DATA/{source}/df_partenaires_id_personne.json\")\n",
    "    df_partenaires['idref_ORCID']=df_partenaires.progress_apply(lambda row: orcid_to_idref(row,cached_data_orcid,sources[source]['id_ORCID'],Authorization_ORCID), axis=1)\n",
    "    write_cache(cached_data_orcid,f\"./DATA/{source}/caches/cached_data_orcid.pkl\")\n",
    "    df_partenaires.to_excel(f\"./DATA/{source}/df_partenaires_id_personne_ORCID.xlsx\")\n",
    "    df_partenaires.to_json(f\"./DATA/{source}/df_partenaires_id_personne_ORCID.json\")"
   ]
  },
  {
   "cell_type": "markdown",
   "id": "12332b18",
   "metadata": {},
   "source": [
    "# ENVOI DES PROJETS SUR SCANR"
   ]
  },
  {
   "cell_type": "code",
   "execution_count": 30,
   "id": "21cef2ea",
   "metadata": {},
   "outputs": [],
   "source": [
    "if len(sources[source]['identifiants_preferes_personne'])==2:\n",
    "    df_partenaires=pd.read_json(f\"./DATA/{source}/df_partenaires_id_personne_ORCID.json\")\n",
    "elif len(sources[source]['identifiants_preferes_personne'])==1:\n",
    "    df_partenaires=pd.read_json(f\"./DATA/{source}/df_partenaires_id_personne.json\")\n",
    "else:\n",
    "    df_partenaires=pd.read_json(f\"./DATA/{source}/df_partenaires_id_structures.json\")"
   ]
  },
  {
   "cell_type": "code",
   "execution_count": 65,
   "id": "57413951",
   "metadata": {},
   "outputs": [],
   "source": [
    "df_partenaires.loc[df_partenaires.id_structure.apply(lambda x :isinstance(x,list)),'id_structure']=df_partenaires.loc[df_partenaires.id_structure.apply(lambda x :isinstance(x,list)),'id_structure'].apply(lambda y: y[0])"
   ]
  },
  {
   "cell_type": "code",
   "execution_count": null,
   "id": "a9ed3582",
   "metadata": {},
   "outputs": [],
   "source": [
    "if len([x for x in ['nom', 'prenom'] if x in list(sources[source].keys())])==2:\n",
    "    df_partenaires['id_person']=df_partenaires.apply(lambda row: identifiant_prefere(row,sources[source]['identifiants_preferes_personne']), axis=1)\n",
    "    df_partenaires['persons']=df_partenaires.progress_apply(lambda row: persons(row,sources[source]['prenom'],sources[source]['nom']) ,axis=1)\n",
    "else:\n",
    "    df_partenaires['persons']=np.nan"
   ]
  },
  {
   "cell_type": "code",
   "execution_count": 70,
   "id": "9ee1687d",
   "metadata": {},
   "outputs": [],
   "source": [
    "if source != 'SIRANO':\n",
    "    df_partenaires=df_partenaires.groupby([sources[source]['code_projet']]).agg({'persons': lambda x: [ y for y in x.tolist() if pd.isna(y)==False]}, dropna=False).reset_index()\n",
    "else:\n",
    "    df_projets=df_partenaires.groupby([sources[source]['code_projet'], sources[source]['annee'], sources[source]['acronyme'],sources[source]['titre'],sources[source]['budget']], dropna=False).agg({'persons': lambda x: [ y for y in x.tolist() if pd.isna(y)==False]}, dropna=False)"
   ]
  },
  {
   "cell_type": "code",
   "execution_count": 25,
   "id": "e6ff1d0f",
   "metadata": {},
   "outputs": [],
   "source": [
    "# amener les projets depuis le site \n",
    "if source=='ANR':\n",
    "    page_projets_10 = requests.get(sources[source]['url_projets']).json()\n",
    "    colonnes_projets_10 = page_projets_10['columns']\n",
    "    donnees_projets_10 = page_projets_10['data']\n",
    "    df_projets=pd.DataFrame(data=donnees_projets_10,columns=colonnes_projets_10)\n",
    "elif source=='IRESP':\n",
    "    df_projets1=pd.read_csv(sources[source]['url_projets1'] ,sep=\";\", encoding='UTF-8')\n",
    "    df_projets2=pd.read_csv(sources[source]['url_projets2'] ,sep=\";\", encoding='UTF-8')\n",
    "    df_projets=pd.concat([df_projets1,df_projets2])\n",
    "    df_projets.loc[pd.isna(df_projets['Titre_du_projet_FR']),'Titre_du_projet_FR']=df_projets.loc[pd.isna(df_projets['Titre_du_projet_FR']),'Titre_du_projet']\n",
    "elif source!='SIRANO':\n",
    "    df_projets=pd.read_csv(sources[source]['url_projets'] ,sep=\";\", encoding='ISO-8859-1')\n",
    "\n",
    "df_projets=df_projets.reset_index()\n",
    "del df_projets['index']"
   ]
  },
  {
   "cell_type": "code",
   "execution_count": 26,
   "id": "9ae38301",
   "metadata": {},
   "outputs": [
    {
     "data": {
      "text/plain": [
       "Index(['code convention initiale', 'code convention homogénéisé', 'Programme',\n",
       "       'Année', 'Acronyme', 'Titre FR', 'Titre EN', 'Date de début',\n",
       "       'Subvention ', 'Résumé FR', 'Résumé EN'],\n",
       "      dtype='object')"
      ]
     },
     "execution_count": 26,
     "metadata": {},
     "output_type": "execute_result"
    }
   ],
   "source": [
    "df_projets.columns"
   ]
  },
  {
   "cell_type": "code",
   "execution_count": null,
   "id": "7dd3868b",
   "metadata": {},
   "outputs": [],
   "source": [
    "if source!='SIRANO':\n",
    "    df_projets=pd.merge(df_projets,df_partenaires,on=sources[source]['code_projet'], how='left')\n",
    "else :\n",
    "    df_projets['id']=df_partenaires.apply(lambda row: f\"{row[sources[source]['code_projet']]}-{row[sources[source]['annee']]}-{row[sources[source]['acronyme']]}\" , axis=1)\n",
    "    del df_projets['code_projet']\n",
    "    sources[source]['code_projet']='id'\n",
    "\n",
    "df_projets['type']=source\n",
    "df_projets['name']=df_projets.progress_apply(lambda row: projects(row,sources[source]['titre_fr'],sources[source]['titre_en']) ,axis=1)\n",
    "df_projets['description']=df_projets.progress_apply(lambda row: projects(row,sources[source]['resume_fr'],sources[source]['resume_en']) ,axis=1)\n",
    "df_projets.loc[:,sources[source]['budget']]=df_projets.loc[:,sources[source]['budget']].apply(lambda x : float(str(x).replace('.0','').replace('.00','').replace(' ','').replace(',','.').replace('€','')))\n",
    "df_projets=df_projets.rename(columns={sources[source]['annee']:'year',sources[source]['acronyme']:'acronym',\n",
    "                                      sources[source]['budget']:'budget_financed',sources[source]['code_projet']:'id'})\n",
    "df_projets=df_projets[['id','type','name','description','acronym','year','budget_financed','persons']]"
   ]
  },
  {
   "cell_type": "code",
   "execution_count": null,
   "id": "6e574a7f",
   "metadata": {},
   "outputs": [],
   "source": [
    "df_projets"
   ]
  },
  {
   "cell_type": "code",
   "execution_count": null,
   "id": "3c620c25",
   "metadata": {},
   "outputs": [],
   "source": [
    "dict_row=df_projets.iloc[0,:].to_dict()\n",
    "dict_row2={k:v for k,v in list(dict_row.items()) if ((str(v)!='nan')&(str(v)!='NaN')&(str(v)!='None')&(str(v)!='x')&(str(v)!='[]'))}\n",
    "dict_row2"
   ]
  },
  {
   "cell_type": "code",
   "execution_count": null,
   "id": "2fc5d7ed",
   "metadata": {},
   "outputs": [],
   "source": [
    "#envoi\n",
    "err=[]\n",
    "for i,row in df_projets.iterrows():\n",
    "    dict_row=row.to_dict()\n",
    "    dict_row2={k:v for k,v in list(dict_row.items()) if ((str(v)!='nan')&(str(v)!='NaN')&(str(v)!='None')&(str(v)!='x')&(str(v)!='[]'))}\n",
    "    try:\n",
    "       r=requests.post('http://185.161.45.213/projects/projects', json = dict_row2, headers={\"Authorization\":Authorization})\n",
    "       res= r.json()\n",
    "       if res.get('status')=='ERR':\n",
    "           err.append(res)\n",
    "           if res.get('error').get('code')!=422:\n",
    "               print(err)\n",
    "               pp.pprint(err)\n",
    "    except Exception as e:\n",
    "        pp.pprint(e)"
   ]
  },
  {
   "cell_type": "code",
   "execution_count": null,
   "id": "23a56567",
   "metadata": {},
   "outputs": [],
   "source": [
    "pd.Series([x.get('issues').get('id') for x in err]).drop_duplicates().tolist() "
   ]
  },
  {
   "cell_type": "markdown",
   "id": "ff7e90ab",
   "metadata": {},
   "source": [
    "pour mettre à jour"
   ]
  },
  {
   "cell_type": "code",
   "execution_count": null,
   "id": "51462f6b",
   "metadata": {},
   "outputs": [],
   "source": [
    "nbr_page=int(requests.get('http://185.161.45.213/projects/projects?where={\"type\":\"ANR\"}&projection={\"id\":1}&max_results=500&page=1', headers={\"Authorization\":Authorization}).json()['hrefs']['last']['href'].split('page=')[1])\n",
    "\n",
    "list_ids=[]\n",
    "for i in range(1,nbr_page+1):\n",
    "    print(\"page\",i)\n",
    "    page=requests.get('http://185.161.45.213/projects/projects?where={\"type\":\"ANR\"}&projection={\"id\":1}&max_results=500'+f\"&page={i}\", headers={\"Authorization\":Authorization}).json()\n",
    "    for k in range(len(page['data'])):\n",
    "        print(\"k\",k)\n",
    "        list_ids.append(page['data'][k]['id'])\n",
    "    \n",
    "projets_a_ajouter=[x for x in list(df_projets['id']) if x not in list_ids]\n",
    "\n",
    "projets_a_retirer=[x for x in list_ids if x not in list(df_projets['id'])]\n",
    "\n",
    "df_projets = df_projets[df_projets['id'].apply(lambda x: x in projets_a_ajouter)]"
   ]
  },
  {
   "cell_type": "code",
   "execution_count": null,
   "id": "8cac5958",
   "metadata": {},
   "outputs": [],
   "source": [
    "dict_row=df_projets.iloc[0,:].to_dict()\n",
    "dict_row2={k:v for k,v in list(dict_row.items()) if ((str(v)!='nan')&(str(v)!='NaN')&(str(v)!='None')&(str(v)!='x')&(str(v)!='[]'))}\n",
    "dict_row2"
   ]
  },
  {
   "cell_type": "code",
   "execution_count": 81,
   "id": "611054ce",
   "metadata": {},
   "outputs": [],
   "source": [
    "err=[]\n",
    "for i,row in df_projets.iterrows():\n",
    "    dict_row=row.to_dict()\n",
    "    dict_row2={k:v for k,v in list(dict_row.items()) if ((str(v)!='nan')&(str(v)!='NaN')&(str(v)!='None')&(str(v)!='x')&(str(v)!='[]'))}\n",
    "    try:\n",
    "       r=requests.post('http://185.161.45.213/projects/projects', json = dict_row2, headers={\"Authorization\":Authorization})\n",
    "       res= r.json()\n",
    "       if res.get('status')=='ERR':\n",
    "           err.append(res)\n",
    "           if res.get('error').get('code')!=422:\n",
    "               print(err)\n",
    "               pp.pprint(err)\n",
    "    except Exception as e:\n",
    "        pp.pprint(e)"
   ]
  },
  {
   "cell_type": "code",
   "execution_count": null,
   "id": "d86e1a09",
   "metadata": {},
   "outputs": [],
   "source": [
    "len(projets_a_ajouter)"
   ]
  },
  {
   "cell_type": "markdown",
   "id": "28038ffa",
   "metadata": {},
   "source": [
    "Modifications"
   ]
  },
  {
   "cell_type": "code",
   "execution_count": null,
   "id": "4858669e",
   "metadata": {},
   "outputs": [],
   "source": [
    "nbr_page=int(requests.get('http://185.161.45.213/projects/projects?where={\"type\":\"ANR\"}&projection={\"id\":1,\"year\":1}&max_results=500'+f\"&page={1}\", headers={\"Authorization\":Authorization}).json()['hrefs']['last']['href'].split('page=')[1])\n",
    "nbr_page"
   ]
  },
  {
   "cell_type": "code",
   "execution_count": null,
   "id": "73786090",
   "metadata": {},
   "outputs": [],
   "source": [
    "list_ids=[]\n",
    "for i in range(1,nbr_page+1):\n",
    "    print(\"page\",i)\n",
    "    page=requests.get('http://185.161.45.213/projects/projects?where={%22type%22:%22ANR%22}&projection={%22id%22:1,%22year%22:1}&max_results=500'+f\"&page={i}\", headers={\"Authorization\":Authorization}).json()\n",
    "    for k in range(len(page['data'])):\n",
    "        list_ids.append(page['data'][k]['year'])"
   ]
  },
  {
   "cell_type": "code",
   "execution_count": null,
   "id": "aacd7b75",
   "metadata": {},
   "outputs": [],
   "source": [
    "max(list_ids)"
   ]
  },
  {
   "cell_type": "code",
   "execution_count": null,
   "id": "227532a8",
   "metadata": {},
   "outputs": [],
   "source": [
    "df_projets = df_projets[df_projets['id'].apply(lambda x: x in list_ids)]"
   ]
  },
  {
   "cell_type": "code",
   "execution_count": null,
   "id": "5a0578c8",
   "metadata": {},
   "outputs": [],
   "source": [
    "\"\"\"\n",
    "en principe, il faut que je mette à jour tous les projets \n",
    "qui ne sont pas clos avec les titres résumés et persons, mais \n",
    "peut etre qu'on peut mettre à jour automatiquement les projets\n",
    "des 3 dernières années ? \n",
    "\n",
    "\"\"\"\n",
    "\n",
    "err=[]\n",
    "for id in df_projets.iterrows() :\n",
    "    url = f\"http://185.161.45.213/projects/projects/{id}\"\n",
    "    project=requests.get(url, headers={'Authorization': Authorization}).json()\n",
    "    head = {\"Authorization\": Authorization, \"If-Match\": project['etag'], \"Content-Type\": \"application/json\"}\n",
    "\n",
    "    r = requests.patch(url, json = {\"year\": 2023}, headers=head)\n",
    "    res= r.json()\n",
    "    if res.get('status')=='ERR':\n",
    "        err.append(res)\n",
    "        if res.get('error').get('code')!=422:\n",
    "            print(err)\n",
    "            pp.pprint(err)\n"
   ]
  },
  {
   "cell_type": "markdown",
   "id": "a41e50a5",
   "metadata": {},
   "source": [
    "# ENVOI DES PARTENAIRES SUR SCANR"
   ]
  },
  {
   "cell_type": "code",
   "execution_count": 111,
   "id": "11136681",
   "metadata": {},
   "outputs": [],
   "source": [
    "df_partenaires=pd.read_json(f\"./DATA/{source}/df_partenaires_id_structures.json\")"
   ]
  },
  {
   "cell_type": "code",
   "execution_count": null,
   "id": "a42766a2",
   "metadata": {},
   "outputs": [],
   "source": [
    "df_partenaires.columns"
   ]
  },
  {
   "cell_type": "code",
   "execution_count": 113,
   "id": "c68b4f62",
   "metadata": {},
   "outputs": [],
   "source": [
    "### ATTENTION, vérifier que les projets sirano sont dans des structures françaises\n",
    "if source=='IRESP':\n",
    "    df_partenaires[sources[source]['pays']]=df_partenaires.loc[:,sources[source]['ville']].apply(lambda x: x.split('(')[1].replace(')','') if x.find('(')>=0 else 'France')\n",
    "    df_partenaires.loc[:,sources[source]['ville']]=df_partenaires.loc[:,sources[source]['ville']].apply(lambda x: x.split('(')[0] if x.find('(')>=0 else x)\n",
    "  \n",
    "df_partenaires['address']=df_partenaires.apply(lambda row: address(row,sources[source]['pays'],sources[source]['ville'],source), axis=1)\n",
    "df_partenaires.loc[:,'id_structure']=df_partenaires.loc[:,'id_structure'].apply(lambda x: x[0] if isinstance(x,list) else x )"
   ]
  },
  {
   "cell_type": "code",
   "execution_count": null,
   "id": "cf09f899",
   "metadata": {},
   "outputs": [],
   "source": [
    "if source in ['ANSES','SIRANO']:\n",
    "    df_partenaires['id']=df_partenaires.apply(lambda row: f\"{row[sources[source]['code_projet']]}-{row[{sources[source]['nom_structure']}+'2']}-{row[sources[source]['nom']]}-{row[sources[source]['prenom']]}\" , axis=1)\n",
    "if source =='REG_IDF':\n",
    "    df_partenaires['id']=df_partenaires.apply(lambda row: f\"{row[sources[source]['code_projet']]}-{row[str(sources[source]['nom_structure'])+'2']}-{row['entite_role']}\" , axis=1)\n",
    "df_partenaires['address']=df_partenaires.apply(lambda row: address(row,sources[source]['pays'],sources[source]['ville'],source), axis=1)\n",
    "df_partenaires=df_partenaires.rename(columns={sources[source]['nom_structure']: 'name', sources[source]['code_projet']: 'project_id', 'id_structure':'participant_id','Projet.Partenaire.Code_Decision_ANR':'id'})\n",
    "df_partenaires=df_partenaires[['name','id','project_id','participant_id','address']]\n",
    "df_partenaires['project_type']=source\n",
    "df_partenaires['participant_id']=df_partenaires.loc[:,'participant_id'].apply(lambda x: str(x[0]).replace('.0','') if isinstance(x,list) else str(x).split(';')[0].replace('.0',''))\n",
    "df_partenaires=df_partenaires[['id','project_id', 'project_type', 'participant_id', 'name','address']]\n",
    "df_partenaires['name'] = df_partenaires['name'].astype(str)\n",
    "df_partenaires"
   ]
  },
  {
   "cell_type": "code",
   "execution_count": null,
   "id": "d3495663",
   "metadata": {},
   "outputs": [],
   "source": [
    "df_partenaires[df_partenaires.duplicated(subset=['id'])]"
   ]
  },
  {
   "cell_type": "code",
   "execution_count": null,
   "id": "dae2cc5b",
   "metadata": {},
   "outputs": [],
   "source": [
    "dict_row=df_partenaires.iloc[1,:].to_dict()\n",
    "dict_row2={k:v for k,v in list(dict_row.items()) if ((str(v)!='nan')&(str(v)!='NaN')&(str(v)!='None')&(str(v)!='x'))}\n",
    "dict_row2"
   ]
  },
  {
   "cell_type": "code",
   "execution_count": null,
   "id": "e2f8d3b1",
   "metadata": {},
   "outputs": [],
   "source": [
    "len(df_partenaires)"
   ]
  },
  {
   "cell_type": "code",
   "execution_count": null,
   "id": "9b489768",
   "metadata": {},
   "outputs": [],
   "source": [
    "err=[]\n",
    "for i,row in df_partenaires.iterrows():\n",
    "    dict_row=row.to_dict()\n",
    "    dict_row2={k:v for k,v in list(dict_row.items()) if ((str(v)!='nan')&(str(v)!='NaN')&(str(v)!='None')&(str(v)!='x'))}\n",
    "    try:\n",
    "       r=requests.post('http://185.161.45.213/projects/participations', json = dict_row2, headers={\"Authorization\":Authorization})\n",
    "       res= r.json()\n",
    "       if res.get('status')=='ERR':\n",
    "           print(i)\n",
    "           err.append(res)\n",
    "           if res.get('error').get('code')!=422:\n",
    "               print(err)\n",
    "               pp.pprint(err)\n",
    "    except Exception as e:\n",
    "        pp.pprint(e)"
   ]
  },
  {
   "cell_type": "markdown",
   "id": "e2ea3fe3",
   "metadata": {},
   "source": [
    "Mise à jour"
   ]
  },
  {
   "cell_type": "code",
   "execution_count": null,
   "id": "137c389e",
   "metadata": {},
   "outputs": [],
   "source": [
    "nbr_page=int(requests.get('http://185.161.45.213/projects/participations?where={\"project_type\":\"ANR\"}&projection={\"id\":1}&max_results=500&page=1', headers={\"Authorization\":Authorization}).json()['hrefs']['last']['href'].split('page=')[1])\n",
    "\n",
    "list_ids=[]\n",
    "for i in range(1,nbr_page+1):\n",
    "    print(\"page\",i)\n",
    "    page=requests.get('http://185.161.45.213/projects/participations?where={\"project_type\":\"ANR\"}&projection={\"id\":1}&max_results=500'+f\"&page={i}\", headers={\"Authorization\":Authorization}).json()\n",
    "    for k in range(len(page['data'])):\n",
    "        print(\"k\",k)\n",
    "        list_ids.append(page['data'][k]['id'])\n",
    "    \n",
    "projets_a_ajouter=[x for x in list(df_partenaires['id'].drop_duplicates()) if x not in list(pd.Series(list_ids).drop_duplicates())]\n",
    "\n",
    "projets_a_retirer=[x for x in list_ids if x not in list(df_partenaires['id'])]\n",
    "\n",
    "df_partenaires = df_partenaires[df_partenaires['id'].apply(lambda x: x in projets_a_ajouter)]\n"
   ]
  },
  {
   "cell_type": "code",
   "execution_count": null,
   "id": "c0a930be",
   "metadata": {},
   "outputs": [],
   "source": [
    "len(projets_a_ajouter)"
   ]
  },
  {
   "cell_type": "code",
   "execution_count": 108,
   "id": "a8b50023",
   "metadata": {},
   "outputs": [],
   "source": [
    "err=[]\n",
    "for i,row in df_partenaires.iterrows():\n",
    "    dict_row=row.to_dict()\n",
    "    dict_row2={k:v for k,v in list(dict_row.items()) if ((str(v)!='nan')&(str(v)!='NaN')&(str(v)!='None')&(str(v)!='x'))}\n",
    "    try:\n",
    "       r=requests.post('http://185.161.45.213/projects/participations', json = dict_row2, headers={\"Authorization\":Authorization})\n",
    "       res= r.json()\n",
    "       if res.get('status')=='ERR':\n",
    "           print(i)\n",
    "           err.append(res)\n",
    "           if res.get('error').get('code')!=422:\n",
    "               print(err)\n",
    "               pp.pprint(err)\n",
    "    except Exception as e:\n",
    "        pp.pprint(e)"
   ]
  },
  {
   "cell_type": "markdown",
   "id": "b66d0830",
   "metadata": {},
   "source": [
    "Modifications"
   ]
  },
  {
   "cell_type": "code",
   "execution_count": null,
   "id": "041def3a",
   "metadata": {},
   "outputs": [],
   "source": [
    "nbr_page=int(requests.get('http://185.161.45.213/projects/participations?where={\"project_type\":\"ANR\",\"participant_id\":{\"$exists\":false}}&projection={\"id\":1}&max_results=500'+f\"&page={1}\", headers={\"Authorization\":Authorization}).json()['hrefs']['last']['href'].split('page=')[1])\n",
    "\n",
    "list_ids=[]\n",
    "for i in range(1,nbr_page+1):\n",
    "    print(\"page\",i)\n",
    "    page=requests.get('http://185.161.45.213/projects/participations?where={\"project_type\":\"ANR\",\"participant_id\":{\"$exists\":false}}&projection={\"id\":1}&max_results=500'+f\"&page={i}\", headers={\"Authorization\":Authorization}).json()\n",
    "    for k in range(len(page['data'])):\n",
    "        print(\"k\",k)\n",
    "        list_ids.append(page['data'][k]['id'])\n",
    "\n",
    "df_partenaires = df_partenaires[df_partenaires['id'].apply(lambda x: x in list_ids)]"
   ]
  },
  {
   "cell_type": "code",
   "execution_count": null,
   "id": "ae447f6e",
   "metadata": {},
   "outputs": [],
   "source": [
    "len(list_ids)"
   ]
  },
  {
   "cell_type": "code",
   "execution_count": 127,
   "id": "8c3dd659",
   "metadata": {},
   "outputs": [],
   "source": [
    "df_partenaires=df_partenaires[(df_partenaires.participant_id!='x') & (df_partenaires.participant_id!='None')]"
   ]
  },
  {
   "cell_type": "code",
   "execution_count": null,
   "id": "e8a62be8",
   "metadata": {},
   "outputs": [],
   "source": [
    "df_partenaires"
   ]
  },
  {
   "cell_type": "code",
   "execution_count": null,
   "id": "0eef494c",
   "metadata": {},
   "outputs": [],
   "source": [
    "err=[]\n",
    "for i,row in df_partenaires.iterrows() :\n",
    "    print(i)\n",
    "    id=row['id']\n",
    "    url = f\"http://185.161.45.213/projects/participations/{id}\"\n",
    "    project=requests.get(url, headers={'Authorization': Authorization}).json()\n",
    "    head = {\"Authorization\": Authorization, \"If-Match\": project['etag'], \"Content-Type\": \"application/json\"}\n",
    "\n",
    "    r = requests.patch(url, json = {\"participant_id\": row['participant_id']}, headers=head)\n",
    "    res= r.json()\n",
    "    if res.get('status')=='ERR':\n",
    "        err.append(res)\n",
    "        if res.get('error').get('code')!=422:\n",
    "            print(err)\n",
    "            pp.pprint(err)"
   ]
  },
  {
   "cell_type": "code",
   "execution_count": null,
   "id": "3ab8add7",
   "metadata": {},
   "outputs": [],
   "source": [
    "pd.Series([x.get('issues').get('id')[25:] for x in err]).drop_duplicates().tolist()"
   ]
  },
  {
   "cell_type": "markdown",
   "id": "14b25fb0",
   "metadata": {},
   "source": [
    "Faire un nouveau fichier avec toutes les structures manquantes"
   ]
  },
  {
   "cell_type": "code",
   "execution_count": null,
   "id": "41dd26a6",
   "metadata": {},
   "outputs": [],
   "source": []
  },
  {
   "cell_type": "code",
   "execution_count": null,
   "id": "73cf7e77",
   "metadata": {},
   "outputs": [],
   "source": []
  },
  {
   "cell_type": "code",
   "execution_count": null,
   "id": "7a22e4ca",
   "metadata": {},
   "outputs": [],
   "source": []
  },
  {
   "cell_type": "code",
   "execution_count": 11,
   "id": "0a973ce1",
   "metadata": {},
   "outputs": [
    {
     "name": "stderr",
     "output_type": "stream",
     "text": [
      "c:\\Users\\haallat\\AppData\\Local\\Programs\\Python\\Python39\\lib\\site-packages\\openpyxl\\worksheet\\_reader.py:329: UserWarning: Unknown extension is not supported and will be removed\n",
      "  warn(msg)\n"
     ]
    }
   ],
   "source": [
    "struct_manq=pd.read_excel('scanr_partenaires_non_identifies.xlsx')"
   ]
  },
  {
   "cell_type": "code",
   "execution_count": 19,
   "id": "ae5cf822",
   "metadata": {},
   "outputs": [],
   "source": [
    "nom1=struct_manq[struct_manq.New=='IRESP'].drop_duplicates(subset='Nom').Nom"
   ]
  },
  {
   "cell_type": "code",
   "execution_count": 15,
   "id": "eab48e23",
   "metadata": {},
   "outputs": [],
   "source": [
    "iresp_actuel=pd.read_excel('./missing_ids_structures/partenaires_non_identifies_IRESP.xlsx')"
   ]
  },
  {
   "cell_type": "code",
   "execution_count": 20,
   "id": "72f4933c",
   "metadata": {},
   "outputs": [],
   "source": [
    "nom2=iresp_actuel['Nom_equipe']"
   ]
  },
  {
   "cell_type": "code",
   "execution_count": 21,
   "id": "a2a772bf",
   "metadata": {},
   "outputs": [
    {
     "data": {
      "text/plain": [
       "0      Association SPP-IR (Soins Primaires Pluriprofe...\n",
       "1                                Campus LyonTech la DOUA\n",
       "2            Centre d’AddictoVigilance de Paris (CEIP-A)\n",
       "3        CIUS - Centre d'innovation et d'Usages en Sante\n",
       "4                     Ecole santé social Sud-Est (ESSSE)\n",
       "                             ...                        \n",
       "486    AP-HP, Hôpital Saint Louis, Office de Recherch...\n",
       "487         Inserm ERI-20 Nutrition, hormones et cancers\n",
       "488                                          Inserm U909\n",
       "489                                             GIS ELFE\n",
       "490    LABORATOIRE D'ÉCONOMIE ET DE GESTION DES ORGAN...\n",
       "Length: 491, dtype: object"
      ]
     },
     "execution_count": 21,
     "metadata": {},
     "output_type": "execute_result"
    }
   ],
   "source": [
    "pd.Series(list(nom1)+list(nom2))"
   ]
  },
  {
   "cell_type": "code",
   "execution_count": 22,
   "id": "c28cc4ac",
   "metadata": {},
   "outputs": [
    {
     "data": {
      "text/plain": [
       "0      Association SPP-IR (Soins Primaires Pluriprofe...\n",
       "1                                Campus LyonTech la DOUA\n",
       "2            Centre d’AddictoVigilance de Paris (CEIP-A)\n",
       "3        CIUS - Centre d'innovation et d'Usages en Sante\n",
       "4                     Ecole santé social Sud-Est (ESSSE)\n",
       "                             ...                        \n",
       "486    AP-HP, Hôpital Saint Louis, Office de Recherch...\n",
       "487         Inserm ERI-20 Nutrition, hormones et cancers\n",
       "488                                          Inserm U909\n",
       "489                                             GIS ELFE\n",
       "490    LABORATOIRE D'ÉCONOMIE ET DE GESTION DES ORGAN...\n",
       "Length: 491, dtype: object"
      ]
     },
     "execution_count": 22,
     "metadata": {},
     "output_type": "execute_result"
    }
   ],
   "source": [
    "pd.Series(list(nom1)+list(nom2)).drop_duplicates()"
   ]
  }
 ],
 "metadata": {
  "kernelspec": {
   "display_name": "Python 3",
   "language": "python",
   "name": "python3"
  },
  "language_info": {
   "codemirror_mode": {
    "name": "ipython",
    "version": 3
   },
   "file_extension": ".py",
   "mimetype": "text/x-python",
   "name": "python",
   "nbconvert_exporter": "python",
   "pygments_lexer": "ipython3",
   "version": "3.9.10"
  }
 },
 "nbformat": 4,
 "nbformat_minor": 5
}
